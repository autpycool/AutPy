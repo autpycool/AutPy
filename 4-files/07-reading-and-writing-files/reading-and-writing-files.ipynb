{
 "cells": [
  {
   "cell_type": "markdown",
   "id": "cda3104e",
   "metadata": {
    "editable": false
   },
   "source": [
    "# Reading and Writing Files\n",
    "## Introduction\n",
    "\n",
    "This chapter is about reading files from the file system and writing to them. After finishing this lab, you can finally store data and reuse it!\n",
    "\n",
    "*[Chapter 7](https://automatetheboringstuff.com/2e/chapter7/) in the book is about [regular expressions](https://realpython.com/regex-python/), which are a \"mini-language\" to search or match strings based on a pattern like `[a-z]{1,5}` (a character between a and z, between 1 and 5 times). You will learn more about regular expressions in other modules such as [Automaten und Sprachen](https://studien.rj.ost.ch/allModules/24404_M_AutoSpr.html), so we are skipping the topic in this course.*\n",
    "\n",
    "**Instead, his notebook covers the [ninth chapter](https://automatetheboringstuff.com/2e/chapter9/) of the book.**\n",
    "\n",
    "**Warning:** This lab will diverge from the book in a couple of important ways:\n",
    "\n",
    "- The book describes Windows paths in most examples, while the Jupyter environment is based on Linux. Thus, paths will look like `/usr/lib` rather than e.g. `C:\\\\Windows\\\\System32`.\n",
    "- In the *\"Opening Files with the open() Function\"* section, as well as the following sections after that: If you open a file, you will need to close it again. Otherwise, you could risk issues like **data not being fully written** to the file. Contrary to what the book shows, *don't use* `f = open(...)`. Instead, use a `with` block, which leads to Python automatically closing the file once the block is finished:\n",
    "\n",
    "```python\n",
    "with open(...) as f:\n",
    "    # code that does something with 'f'\n",
    "```\n",
    "\n",
    "- Starting with the *\"Saving Variables with the shelve Module\"* section (including that section), we recommend you **ignore the rest of the book chapter** entirely. There are some good ways to store Python data in a file which we'll look at in later labs - unfortunately, the ways shown by the book (`shelve` and `pprint`) have various flaws. **Don't use them.**\n",
    "- In addition, we go over some other good practices below. Please review them as well.\n",
    "- Because of those issues in the book, we suggest that you only use the book chapter to get a rough overview of the topic, but then focus on the summary and/or optional resources below.\n",
    "\n",
    "### Optional resources\n",
    "\n",
    "You can find more information about reading and writing files in the Python documentation:\n",
    "\n",
    "- [Tutorial: 7. Input and Output](https://docs.python.org/3/tutorial/inputoutput.html#tut-files)\n",
    "- [Built-in Functions: `open`](https://docs.python.org/3/library/functions.html#open)\n",
    "- [`pathlib` — Object-oriented filesystem paths](https://docs.python.org/3/library/pathlib.html)\n",
    "\n",
    "Additional examples by PyMOTW (Python Module of the week):\n",
    "\n",
    "- [pathlib — Filesystem Paths as Objects](https://pymotw.com/3/pathlib/index.html)\n",
    "\n",
    "Relevant Real Python tutorials:\n",
    "\n",
    "- [Reading and Writing Files in Python (Guide)](https://realpython.com/read-write-files-python/)\n",
    "- [Working With Files in Python](https://realpython.com/working-with-files-in-python/) (covers some material from the next lab)\n",
    "- [Python 3's pathlib Module: Taming the File System](https://realpython.com/python-pathlib/)\n",
    "\n",
    "## Good practices\n",
    "\n",
    "When working with files, **keep a couple of \"rules\" in mind**:\n",
    "\n",
    "- Treating file paths as strings is usually a bad idea. You will need to take special care that your code works on both Windows and Linux/macOS as they use different characters to separate parts of the path. Python provides the (older) `os.path` library to do so. However, always prefer **using the `pathlib` library** which lets you handle paths in a much nicer way.\n",
    "- **Be careful when deleting** files. You won't need to do so in this lab, but you will in the next lab.\n",
    "- Be careful when **changing the current working directory** (e.g. via `os.chdir`). Doing so could have unintended side-effects, so it's best avoided.\n",
    "- Use the provided **separate cells** to try out your code, only define the function in the first cell, without calling it. This is to avoid interfering with the tests running those cells."
   ]
  },
  {
   "cell_type": "markdown",
   "id": "16a47670",
   "metadata": {
    "editable": false
   },
   "source": [
    "## Summary\n",
    "\n",
    "### Path Management\n",
    "\n",
    "* Root-Folder (Anchor)\n",
    "  * Folder-1 (Parent is the Root-Folder)\n",
    "    * Folder-2 (Parent is Folder-1)\n",
    "      * Folder-3 (Parent is Folder-2)\n",
    "        * Filename.Extension\n",
    "        \n",
    "From the point of view of the file, all folders above it are the _parent_. The filename is also called _stem_ and the extension is the _suffix_.\n",
    "\n",
    "#### Windows\n",
    "In Windows, _backslashes_ are used to separate paths of a path: `Drive:\\Root-Folder\\Folder-1\\Folder-2\\Folder-3\\Filename.Extension`. An example would be `C:\\Users\\harry\\school\\potions.xlsx`. The `C:` points to the drive, for example a hard disk or a USB stick. `.xlsx` is the file extension.\n",
    "\n",
    "**Note that backslashes also have a special meaning in Python strings:** They are used for escape characters such as `\\n`. Thus, to store a Windows path in a string, you will need to double the backslashes (`\"C:\\\\Users\"`) or use a raw string (`r\"C:\\Users\")`. However, most of the time you should use `pathlib` instead - see below.\n",
    "\n",
    "#### Unix-based Systems\n",
    "On Linux and MacOS, _slashes_ are used to separate paths of a path: `/Folder-1/Folder-2/Folder-3/Filename.Extension`. The path starts with a slash because the first slash indicates the root folder. An example would be `/home/harry/school/potions.xlsx`.\n",
    "\n",
    "#### Paths in Python\n",
    "Thankfully, Python provides a nice abstraction over different path notations - you don't have to worry about the OS your Python app is running on. If you work with paths, use the `Path` class from the `pathlib` module:"
   ]
  },
  {
   "cell_type": "code",
   "execution_count": 2,
   "id": "c22d32e8",
   "metadata": {},
   "outputs": [],
   "source": [
    "from pathlib import Path\n",
    "\n",
    "path = Path.home() / \"school\" / \"potions\"\n",
    "filepath = path / \"polyjuice.xlsx\""
   ]
  },
  {
   "cell_type": "markdown",
   "id": "aad63c83",
   "metadata": {
    "editable": false
   },
   "source": [
    "Depending on the operating system the code is run on, you'll either get a `WindowsPath` or a `PosixPath` object. Since this lab environment runs on Linux, **when we say e.g. \"Return a `Path` object\", you will see a `PosixPath` in the output**. \n",
    "\n",
    "You can join paths with a slash, thanks to slash-overloading (see the code snippet above). This method automatically applies the correct separators between the folder names. Note that the first or the second operator must be a Path-object when you use the slash to join paths.\n",
    "\n",
    "To get the different parts of a filepath, make use of the following attributes:"
   ]
  },
  {
   "cell_type": "code",
   "execution_count": 3,
   "id": "1a582c6b",
   "metadata": {},
   "outputs": [
    {
     "data": {
      "text/plain": [
       "''"
      ]
     },
     "execution_count": 3,
     "metadata": {},
     "output_type": "execute_result"
    }
   ],
   "source": [
    "filepath.anchor  # '/', under Windows this could be `C:\\`\n",
    "filepath.parts  # ('/', 'home', 'harry', 'school', 'potions', 'polyjuice.xlsx')\n",
    "filepath.parent  # PosixPath('/home/harry/school/potions')\n",
    "filepath.parents  # [PosixPath('/home/harry/school/potions'), PosixPath('/home/harry/school'), PosixPath('/home/harry'), PosixPath('/home'), PosixPath('/')]\n",
    "filepath.name  # 'polyjuice.xlsx'\n",
    "filepath.stem  # 'polyjuice'\n",
    "filepath.suffix  # '.xlsx'\n",
    "filepath.drive  # '', under Windows this could be 'C:'"
   ]
  },
  {
   "cell_type": "markdown",
   "id": "79541619",
   "metadata": {
    "editable": false
   },
   "source": [
    "You can retrieve the home directory path with `Path.home()`, and a `Path` object representing the current working directory with `Path.cwd()`."
   ]
  },
  {
   "cell_type": "markdown",
   "id": "b62d65a5",
   "metadata": {
    "editable": false
   },
   "source": [
    "#### Absolute and Relative Paths\n",
    "\n",
    "Absolute and relative paths work the same as they do in a terminal. If you started Python in the `/home/harry/school/potions` directory, you can switch to any other directory with"
   ]
  },
  {
   "cell_type": "code",
   "execution_count": null,
   "id": "d403c739",
   "metadata": {},
   "outputs": [],
   "source": [
    "os.chdir(\"../../quidditch/players\")"
   ]
  },
  {
   "cell_type": "markdown",
   "id": "53d55427",
   "metadata": {
    "editable": false
   },
   "source": [
    "This means up two directory hierarchies and then change into the `quidditch` directory and finally into the `players` folder. This example uses a _relative path_. `..` is just a shorthand for the parent directory and the single dot `.` is a shorthand for the current directory. It also works by passing the _absolute path_:"
   ]
  },
  {
   "cell_type": "code",
   "execution_count": null,
   "id": "2360ce49",
   "metadata": {},
   "outputs": [],
   "source": [
    "os.chdir(\"/home/harry/quidditch/players\")  # (Absolute Path)"
   ]
  },
  {
   "cell_type": "markdown",
   "id": "710f188a",
   "metadata": {
    "editable": false
   },
   "source": [
    "An *absolute path* like `/home/harry/quidditch/players` starts with the root directory, meaning with `/` on Unix platforms and with the drive letter on Windows platforms. The same absolute path always refers to the same directory.\n",
    "\n",
    "In contrary, a *relative path* like `../../quidditch/players` or `quidditch/players` is based on the *current working directory* (`Path.cwd()` or `os.getcwd()`). This is usually the directory the script was started in (not necessarily the same as the directory the script is saved in). Relative paths can be useful when showing file paths to the user, but internally, it's often better to use absolute paths.\n",
    "\n",
    "**Note:** While changing paths interactively (e.g. in a shell with `cd`) is done often, as outlined in the \"rules\" above you should avoid changing the current working directory in a script.\n",
    "\n",
    "You can check if a path is absolute or not with the `.is_absolute()`-method on the path object:"
   ]
  },
  {
   "cell_type": "code",
   "execution_count": 4,
   "id": "cd0d6d48",
   "metadata": {},
   "outputs": [
    {
     "data": {
      "text/html": [
       "<pre style=\"white-space:pre;overflow-x:auto;line-height:normal;font-family:Menlo,'DejaVu Sans Mono',consolas,'Courier New',monospace\"><span style=\"color: #ff0000; text-decoration-color: #ff0000; font-style: italic\">False</span>\n",
       "</pre>\n"
      ],
      "text/plain": [
       "\u001b[3;91mFalse\u001b[0m\n"
      ]
     },
     "metadata": {},
     "output_type": "display_data"
    }
   ],
   "source": [
    "relative_path = Path(\"quidditch\", \"players\")\n",
    "absolute_path = Path.home() / \"quidditch\" / \"players\"\n",
    "\n",
    "relative_path.is_absolute()"
   ]
  },
  {
   "cell_type": "code",
   "execution_count": 5,
   "id": "f9184c08",
   "metadata": {},
   "outputs": [
    {
     "data": {
      "text/html": [
       "<pre style=\"white-space:pre;overflow-x:auto;line-height:normal;font-family:Menlo,'DejaVu Sans Mono',consolas,'Courier New',monospace\"><span style=\"color: #00ff00; text-decoration-color: #00ff00; font-style: italic\">True</span>\n",
       "</pre>\n"
      ],
      "text/plain": [
       "\u001b[3;92mTrue\u001b[0m\n"
      ]
     },
     "metadata": {},
     "output_type": "display_data"
    }
   ],
   "source": [
    "absolute_path.is_absolute()"
   ]
  },
  {
   "cell_type": "markdown",
   "id": "7ac3ccb9",
   "metadata": {
    "editable": false
   },
   "source": [
    "By using `.resolve()` on a relative path, you can turn it into an absolute one, based on the current working directory:"
   ]
  },
  {
   "cell_type": "code",
   "execution_count": 7,
   "id": "3de3ae91",
   "metadata": {},
   "outputs": [
    {
     "data": {
      "text/html": [
       "<pre style=\"white-space:pre;overflow-x:auto;line-height:normal;font-family:Menlo,'DejaVu Sans Mono',consolas,'Courier New',monospace\"><span style=\"color: #800080; text-decoration-color: #800080; font-weight: bold\">PosixPath</span><span style=\"font-weight: bold\">(</span><span style=\"color: #008000; text-decoration-color: #008000\">'quidditch/players'</span><span style=\"font-weight: bold\">)</span>\n",
       "</pre>\n"
      ],
      "text/plain": [
       "\u001b[1;35mPosixPath\u001b[0m\u001b[1m(\u001b[0m\u001b[32m'quidditch/players'\u001b[0m\u001b[1m)\u001b[0m\n"
      ]
     },
     "metadata": {},
     "output_type": "display_data"
    }
   ],
   "source": [
    "relative_path"
   ]
  },
  {
   "cell_type": "code",
   "execution_count": 8,
   "id": "4f23257d",
   "metadata": {},
   "outputs": [
    {
     "data": {
      "text/html": [
       "<pre style=\"white-space:pre;overflow-x:auto;line-height:normal;font-family:Menlo,'DejaVu Sans Mono',consolas,'Courier New',monospace\"><span style=\"color: #800080; text-decoration-color: #800080; font-weight: bold\">PosixPath</span><span style=\"font-weight: bold\">(</span><span style=\"color: #008000; text-decoration-color: #008000\">'/home/harry/school/AutPy/4-automation-basics/09-reading-and-writing-files/quidditch/players'</span><span style=\"font-weight: bold\">)</span>\n",
       "</pre>\n"
      ],
      "text/plain": [
       "\u001b[1;35mPosixPath\u001b[0m\u001b[1m(\u001b[0m\u001b[32m'/home/harry/school/AutPy/4-automation-basics/09-reading-and-writing-files/quidditch/players'\u001b[0m\u001b[1m)\u001b[0m\n"
      ]
     },
     "metadata": {},
     "output_type": "display_data"
    }
   ],
   "source": [
    "relative_path.resolve()"
   ]
  },
  {
   "cell_type": "markdown",
   "id": "3122045f",
   "metadata": {
    "editable": false
   },
   "source": [
    "Or you can join it to an absolute path instead:"
   ]
  },
  {
   "cell_type": "code",
   "execution_count": 9,
   "id": "fcbb1c4a",
   "metadata": {},
   "outputs": [
    {
     "data": {
      "text/html": [
       "<pre style=\"white-space:pre;overflow-x:auto;line-height:normal;font-family:Menlo,'DejaVu Sans Mono',consolas,'Courier New',monospace\"><span style=\"color: #800080; text-decoration-color: #800080; font-weight: bold\">PosixPath</span><span style=\"font-weight: bold\">(</span><span style=\"color: #008000; text-decoration-color: #008000\">'/home/harry/quidditch/players'</span><span style=\"font-weight: bold\">)</span>\n",
       "</pre>\n"
      ],
      "text/plain": [
       "\u001b[1;35mPosixPath\u001b[0m\u001b[1m(\u001b[0m\u001b[32m'/home/harry/quidditch/players'\u001b[0m\u001b[1m)\u001b[0m\n"
      ]
     },
     "metadata": {},
     "output_type": "display_data"
    }
   ],
   "source": [
    "Path.home() / relative_path"
   ]
  },
  {
   "cell_type": "markdown",
   "id": "10e02658",
   "metadata": {
    "editable": false
   },
   "source": [
    "Finally, by using `relative_to()`, you can get a relative path based on an absolute one:"
   ]
  },
  {
   "cell_type": "code",
   "execution_count": 11,
   "id": "c782536b",
   "metadata": {},
   "outputs": [
    {
     "data": {
      "text/html": [
       "<pre style=\"white-space:pre;overflow-x:auto;line-height:normal;font-family:Menlo,'DejaVu Sans Mono',consolas,'Courier New',monospace\"><span style=\"color: #800080; text-decoration-color: #800080; font-weight: bold\">PosixPath</span><span style=\"font-weight: bold\">(</span><span style=\"color: #008000; text-decoration-color: #008000\">'/home/harry/quidditch/players'</span><span style=\"font-weight: bold\">)</span>\n",
       "</pre>\n"
      ],
      "text/plain": [
       "\u001b[1;35mPosixPath\u001b[0m\u001b[1m(\u001b[0m\u001b[32m'/home/harry/quidditch/players'\u001b[0m\u001b[1m)\u001b[0m\n"
      ]
     },
     "metadata": {},
     "output_type": "display_data"
    }
   ],
   "source": [
    "absolute_path"
   ]
  },
  {
   "cell_type": "code",
   "execution_count": 12,
   "id": "68507757",
   "metadata": {},
   "outputs": [
    {
     "data": {
      "text/html": [
       "<pre style=\"white-space:pre;overflow-x:auto;line-height:normal;font-family:Menlo,'DejaVu Sans Mono',consolas,'Courier New',monospace\"><span style=\"color: #800080; text-decoration-color: #800080; font-weight: bold\">PosixPath</span><span style=\"font-weight: bold\">(</span><span style=\"color: #008000; text-decoration-color: #008000\">'quidditch/players'</span><span style=\"font-weight: bold\">)</span>\n",
       "</pre>\n"
      ],
      "text/plain": [
       "\u001b[1;35mPosixPath\u001b[0m\u001b[1m(\u001b[0m\u001b[32m'quidditch/players'\u001b[0m\u001b[1m)\u001b[0m\n"
      ]
     },
     "metadata": {},
     "output_type": "display_data"
    }
   ],
   "source": [
    "absolute_path.relative_to(Path.home())"
   ]
  },
  {
   "cell_type": "markdown",
   "id": "277a8540",
   "metadata": {
    "editable": false
   },
   "source": [
    "#### Create Folders\n",
    "\n",
    "To create a directory in Python, you can use `os.makedirs` with the path as a string, as shown in the book. However, it's usually preferrable to use the `.mkdir()` method on a `Path` object instead:"
   ]
  },
  {
   "cell_type": "code",
   "execution_count": null,
   "id": "9b25f6db",
   "metadata": {},
   "outputs": [],
   "source": [
    "from pathlib import Path\n",
    "\n",
    "school_path = Path.home() / \"school\"\n",
    "transformation_path = school_path / \"transformation\"\n",
    "november_essays_path = school_path / \"divination\" / \"essays\" / \"november\"\n",
    "\n",
    "# Create a `transformation` folder in the (already existing) `school` folder\n",
    "transformation_path.mkdir()\n",
    "\n",
    "# Create a `divination` folder with an `essays` folder with a `november` folder in it\n",
    "november_essays_path.mkdir(parents=True)"
   ]
  },
  {
   "cell_type": "markdown",
   "id": "470be115",
   "metadata": {
    "editable": false
   },
   "source": [
    "#### Gathering Information\n",
    "The book shows how to use `os.path.getsize` to get the size of a file - again, we recommend using the pathlib methods instead.\n",
    "\n",
    "The `.stat()` method of a `Path` object gives you [various kinds of information](https://docs.python.org/3/library/os.html#os.stat_result) about a file, including its size:\n",
    "\n",
    "```python\n",
    "potions_path = Path.home() / \"school\" / \"potions\"\n",
    "polyjuice_path = potions_path / \"polyjuice.xlsx\"\n",
    "\n",
    "polyjuice_path.stat().st_size\n",
    "# 653364 (bytes)\n",
    "```\n",
    "\n",
    "To get the list of files in a directory, you can use `os.listdir` like shown in the book - but that gets you paths as strings again; using `.iterdir()` on the pathlib object gives you `Path` objects instead:\n",
    "\n",
    "```python\n",
    "potions_path.iterdir()\n",
    "# [PosixPath('felix-felicis.xlsx'), PosixPath('love-potion.xlsx'), PosixPath('polyjuice.pptx'), PosixPath('polyjuice.xlsx')]\n",
    "```\n",
    "\n",
    "(Note the actual return value isn't a list, but an *iterable* you can e.g. use it in a `for` loop directly, or turn it into a list via `list(path.iterdir())`)"
   ]
  },
  {
   "cell_type": "markdown",
   "id": "0330e0e8",
   "metadata": {
    "editable": false
   },
   "source": [
    "#### Path Validity\n",
    "If you are working with paths on a system, you'll always have to make sure that the path actually exists. Otherwise, you'll run into errors. The following methods on the path object can help you with that:"
   ]
  },
  {
   "cell_type": "code",
   "execution_count": null,
   "id": "daadf9f9",
   "metadata": {},
   "outputs": [],
   "source": [
    "filepath.exists()  # Checks whether the path exists or not\n",
    "filepath.is_file()  # Checks if the filepath points to a file or not\n",
    "filepath.is_dir()  # Checks whether the path points to a directory or not"
   ]
  },
  {
   "cell_type": "markdown",
   "id": "5d5c5383",
   "metadata": {
    "editable": false
   },
   "source": [
    "### Reading and Writing Files\n",
    "To read from or write to a file, you'll first need to *open* it. You will need to specify a *mode* (e.g. \"open for reading\" or \"open for writing\"), and you will get a *file object* (sometimes called *file handler*) which lets you read/write data from the underlying file.\n",
    "\n",
    "Depending on the operating system, there are certain constraints - for example, two different processes likely won't be able to both write to the file at the same time, as this would lead to a mix up of different data. Additionally, data is sometimes not written to the file immediately - thus, it's very important that you **take care of closing files properly**.\n",
    "\n",
    "When you create, modify or read a file, you have to indicate in which mode you want to open it. The modes we're looking at in this chapter are the following:\n",
    "\n",
    "  * _r_ read\n",
    "  * _w_ write\n",
    "  * _a_ append\n",
    "  \n",
    "To open a file, use the `open(...)` function. It returns a file handler. Here's a simple example on how to use `open` directly - however, this is something you should **usually not do** as you will need to close the file manually in this case:"
   ]
  },
  {
   "cell_type": "code",
   "execution_count": null,
   "id": "1198cebe",
   "metadata": {},
   "outputs": [],
   "source": [
    "path = Path.home() / \"todo.txt\"\n",
    "\n",
    "# The second argument indicates that you want to read the file. If you write to it, you'll get an error.\n",
    "file = open(path, \"r\")\n",
    "# do something with the file\n",
    "file.close()"
   ]
  },
  {
   "cell_type": "markdown",
   "id": "36f47f20",
   "metadata": {
    "editable": false
   },
   "source": [
    "The `.open()` method on a `Path` object is equivalent:"
   ]
  },
  {
   "cell_type": "code",
   "execution_count": null,
   "id": "c230d222",
   "metadata": {},
   "outputs": [],
   "source": [
    "file = path.open(\"r\")"
   ]
  },
  {
   "cell_type": "markdown",
   "id": "f67df4fc",
   "metadata": {
    "editable": false
   },
   "source": [
    "It's **strongly recommended** to use the `with`-block when opening files. If you do that, you don't need any close-call, because that will then be done automatically. It is unfortunately not mentioned in the book, but it is best practice to use the with-block!"
   ]
  },
  {
   "cell_type": "code",
   "execution_count": null,
   "id": "837ac60a",
   "metadata": {},
   "outputs": [],
   "source": [
    "with path.open(\"r\") as file:\n",
    "    data = file.read()\n",
    "\n",
    "# file.close() gets called automatically"
   ]
  },
  {
   "cell_type": "markdown",
   "id": "a0d3c82e",
   "metadata": {
    "editable": false
   },
   "source": [
    "As an aside: Such a `with`-block is called a \"context manager\". If you want to know more about it, there's an in-depth [Real Python article](https://realpython.com/python-with-statement/) on the topic."
   ]
  },
  {
   "cell_type": "markdown",
   "id": "3e66d5e3",
   "metadata": {
    "editable": false
   },
   "source": [
    "#### Read a File\n",
    "With the `r` mode, a file handler initially points to the very beginning of the file. To read the contents of the file, use the `read()` method on the file handler."
   ]
  },
  {
   "cell_type": "code",
   "execution_count": null,
   "id": "17c2cb75",
   "metadata": {},
   "outputs": [],
   "source": [
    "file.read()\n",
    "# 'Homework\\n\\n- Essay on mandrakes\\n- Divination chart\\n- Train cup transfiguration\\n'"
   ]
  },
  {
   "cell_type": "markdown",
   "id": "93c16ddd",
   "metadata": {
    "editable": false
   },
   "source": [
    "You can see the `\\n` newline-characters which are invisible in the original file:\n",
    "```\n",
    "Homework\n",
    "\n",
    "- Essay on mandrakes\n",
    "- Divination chart\n",
    "- Train cup transfiguration\n",
    "```\n",
    "\n",
    "Based on these newlines, you can also read the file line-by-line as a list:"
   ]
  },
  {
   "cell_type": "code",
   "execution_count": null,
   "id": "d74d327a",
   "metadata": {},
   "outputs": [],
   "source": [
    "file.seek(0)  # Resets the file handler to the beginning again\n",
    "\n",
    "file.readlines()\n",
    "# ['Homework\\n', '\\n', '- Essay on mandrakes\\n', '- Divination chart\\n', '- Train cup transfiguration\\n']"
   ]
  },
  {
   "cell_type": "markdown",
   "id": "9a1c6402",
   "metadata": {
    "editable": false
   },
   "source": [
    "However, often you don't need `.readlines()` at all, since simply iterating over a file handle will also produce individual lines:"
   ]
  },
  {
   "cell_type": "code",
   "execution_count": null,
   "id": "943f0d90",
   "metadata": {},
   "outputs": [],
   "source": [
    "file.seek(0)  # Resets the file handle to the beginning again\n",
    "\n",
    "for line in file:\n",
    "    # ..."
   ]
  },
  {
   "cell_type": "markdown",
   "id": "a9414556",
   "metadata": {
    "editable": false
   },
   "source": [
    "#### Write to a File\n",
    "In order to write to a file, you have two possibilities. First, lets add a todo by opening the file in the _append_ mode:"
   ]
  },
  {
   "cell_type": "code",
   "execution_count": null,
   "id": "e3de704b",
   "metadata": {},
   "outputs": [],
   "source": [
    "todo_path = Path.home() / \"todo.txt\"\n",
    "\n",
    "with todo_path.open(\"a\") as file:\n",
    "    file.write(\"- Study hippogriffs\")"
   ]
  },
  {
   "cell_type": "markdown",
   "id": "0e2266ff",
   "metadata": {
    "editable": false
   },
   "source": [
    "With the `file.write()` call, you write a string to the file. This will just append it to the already existing content because you opened the file in the append-mode. But you can also overwrite a file by opening it in _w_-mode. A more common reason to open a file in the write-mode is to create one. This works the same as appending to a file, but the file does not need to exist yet:"
   ]
  },
  {
   "cell_type": "code",
   "execution_count": null,
   "id": "01518572",
   "metadata": {},
   "outputs": [],
   "source": [
    "newfile_path = Path.home() / \"newfile.txt\"\n",
    "newfile_path.exists()  # False\n",
    "\n",
    "with newfile_path.open(\"w\") as file:\n",
    "    file.write(\"content of the new file\")\n",
    "\n",
    "newfile_path.exists()  # True"
   ]
  },
  {
   "cell_type": "markdown",
   "id": "10c86456",
   "metadata": {
    "editable": false
   },
   "source": [
    "![The Newly Created File](images/newfile.png)"
   ]
  },
  {
   "cell_type": "markdown",
   "id": "5b5fddac",
   "metadata": {
    "editable": false
   },
   "source": [
    "#### Quick Read/Write of Text\n",
    "The `pathlib` module has two neat functions that allow you to write text to a file more quickly: `write_text()` and `read_text()`. Here's an example how it works:"
   ]
  },
  {
   "cell_type": "code",
   "execution_count": 6,
   "id": "bf1753fa",
   "metadata": {},
   "outputs": [
    {
     "name": "stdout",
     "output_type": "stream",
     "text": [
      "Be a nyan cat, feel great about it, \n",
      "be annoying 24/7 poop rainbows in litter box \n",
      "all day hiss at vacuum cleaner yet \n",
      "leave fur on owners clothes but catasstrophe stare out the window.\n"
     ]
    }
   ],
   "source": [
    "from pathlib import Path\n",
    "\n",
    "sample_text = \"\"\"Be a nyan cat, feel great about it, \n",
    "be annoying 24/7 poop rainbows in litter box \n",
    "all day hiss at vacuum cleaner yet \n",
    "leave fur on owners clothes but catasstrophe stare out the window.\"\"\"\n",
    "\n",
    "filepath = Path(\"cat_ipsum.txt\")\n",
    "\n",
    "filepath.write_text(sample_text)\n",
    "\n",
    "text = filepath.read_text()\n",
    "\n",
    "print(text)"
   ]
  },
  {
   "cell_type": "markdown",
   "id": "ac837b18",
   "metadata": {
    "editable": false
   },
   "source": [
    "#### Persisting Application Data\n",
    "\n",
    "Sometimes you want to store some data from your application in order to load it again on the next run. The book proposes two ways of doing so. Unfortunately, both ways presented in the book **have serious issues** in real-world applications, and are thus **not recommended**:\n",
    "\n",
    "- The [shelve](https://docs.python.org/3/library/shelve.html) module (in the section *Saving Variables with the shelve Module*)\n",
    "- Using [pprint.pformat](https://docs.python.org/3/library/pprint.html) (in the section *Saving Variables with the pprint.pformat() Function*)\n",
    "\n",
    "The `shelve` module is based on [pickle](https://docs.python.org/3/library/pickle.html) - it looks like a very simple way to store/load any kind of Python objects, but don't be fooled by its simplicity - be aware of [Pickle's nine flaws](https://nedbatchelder.com/blog/202006/pickles_nine_flaws.html) before using it.\n",
    "\n",
    "The `pprint.pformat` function is shown as another approach at data serialization in the book, which is not what this module is intended for at all - it works for most primitive data types, but this is a bad \"hack\" with much better solutions available.\n",
    "\n",
    "With both approaches, among other issues, **loading stored data can run arbitrary Python code**, and thus they are unsuitable for content from an untrusted source. Imagine someone sends you data and you load it with `shelve` - it could contain malicious code that can harm your computer and you would not even notice when loading it!\n",
    "\n",
    "Because of all those issues with the approaches presented in the book, we do not show them here, there is also no exercise using `shelve` or `pprint.pformat`. There are several better ways to persist application data, such as [JSON](https://docs.python.org/3/library/json.html). We will look at it in a later lab."
   ]
  },
  {
   "cell_type": "markdown",
   "id": "b2b3d131",
   "metadata": {
    "editable": false
   },
   "source": [
    "## Exercises"
   ]
  },
  {
   "cell_type": "markdown",
   "id": "9ff3f7bd",
   "metadata": {
    "editable": false
   },
   "source": [
    "### Exercise 1: List Files\n",
    "Implement a function called `name_and_size(directory)`: \n",
    "* `directory`: The path to a directory as a string.\n",
    "* Return the files in `directory` with their corresponding file size (in Bytes) as dictionary. Only consider the files in the given directory, don't recursively go down into all subfolders.\n",
    "* Do not include the file extension in the file name - check the documentation to find an elegant way how to do so.\n",
    "\n",
    "Expected sample output (pretty-printed for readability, your function should return a dict):\n",
    "\n",
    "```python\n",
    ">>> name_and_size(\"exampledir\")\n",
    "{\n",
    "    'somefile52': 871669,\n",
    "    'somefile39': 4443478,\n",
    "    'somefile2': 4433174,\n",
    "    'somefile4104': 1533924,\n",
    "}\n",
    "```"
   ]
  },
  {
   "cell_type": "code",
   "execution_count": 14,
   "id": "09aa5e85",
   "metadata": {
    "deletable": false,
    "tags": [
     "list-files"
    ]
   },
   "outputs": [],
   "source": [
    "# todo: imports\n",
    "from pathlib import Path\n",
    "import os\n",
    "\n",
    "def name_and_size(directory):\n",
    "    returndict = {}\n",
    "    for file in Path(directory).iterdir():\n",
    "        if file.is_file():\n",
    "            returndict[Path(file).stem] = os.stat(file).st_size\n",
    "    return returndict\n"
   ]
  },
  {
   "cell_type": "markdown",
   "id": "d669608e-e3e1-481c-a46a-c2d0007a8a60",
   "metadata": {},
   "source": [
    "Use this separate cell to try out your code.\n",
    "Your code should work with the example below, but you're free to change it."
   ]
  },
  {
   "cell_type": "code",
   "execution_count": 15,
   "id": "33b9592c",
   "metadata": {},
   "outputs": [
    {
     "name": "stdout",
     "output_type": "stream",
     "text": [
      "{'reading-and-writing-files': 57242}\n"
     ]
    }
   ],
   "source": [
    "print(name_and_size(\".\"))"
   ]
  },
  {
   "cell_type": "markdown",
   "id": "0269c380",
   "metadata": {
    "editable": false
   },
   "source": [
    "### Exercise 2: Grocery List\n",
    "Automate your grocery shopping with Python! Write a function called `write_list(path, to_buy)` with the following properties (see the example output below):\n",
    "\n",
    "* `to_buy`: A dictionary with items to buy (keys) and their amount each.\n",
    "* Write the items to a file given in the `path` argument, which is a `Path` object\n",
    "* Each line is one dictionary entry: a dash, the amount, then the item name.\n",
    "* Don't worry if plural/singular don't match, e.g. `- 1 apples`; or if measure words don't match up (measure words are expressions such as \"100 gram meat\", \"1 box of chocolate\", \"2 pieces of ham\").\n",
    "* You also don't need to worry about error handling: You can assume that the path you get is always valid and writable. Of course, for a real application, you'd need to consider scenarios such as an user passing a path to a directory which doesn't exist.\n",
    "* If the file already exists, it should be overwritten.\n",
    "\n",
    "Expected behaviour:\n",
    "\n",
    "```python\n",
    ">>> import pathlib\n",
    ">>> groceries = {\n",
    "    \"apples\": 4,\n",
    "    \"yoghurt\": 1,\n",
    "    \"chocolate\": 100,\n",
    "    \"bread\": 1,\n",
    "    \"ham\": 200,\n",
    "    \"eggs\": 6\n",
    "}\n",
    ">>> out_path = pathlib.Path.cwd() / \"groceries.txt\"\n",
    ">>> write_list(out_path, groceries)\n",
    "```\n",
    "\n",
    "This should result in a `groceries.txt` file like this:\n",
    "\n",
    "```\n",
    "- 4 apples\n",
    "- 1 yoghurt\n",
    "- 100 chocolate\n",
    "- 1 bread\n",
    "- 200 ham\n",
    "- 6 eggs\n",
    "```"
   ]
  },
  {
   "cell_type": "code",
   "execution_count": 43,
   "id": "cfd26c88",
   "metadata": {
    "deletable": false,
    "tags": [
     "grocery-list"
    ]
   },
   "outputs": [],
   "source": [
    "import pathlib\n",
    "\n",
    "def write_list(path, to_buy):\n",
    "    file = open(path, \"w\")\n",
    "    for key, value in to_buy.items():\n",
    "        strtowrite = \"- {} {}\\n\".format(value, key)\n",
    "        file.write(strtowrite)"
   ]
  },
  {
   "cell_type": "markdown",
   "id": "8c13e89c",
   "metadata": {
    "editable": false
   },
   "source": [
    "Use this separate cell to try out your code.\n",
    "Your code should work with the example below, but you're free to change it."
   ]
  },
  {
   "cell_type": "code",
   "execution_count": 44,
   "id": "43df5d0a",
   "metadata": {},
   "outputs": [
    {
     "name": "stdout",
     "output_type": "stream",
     "text": [
      "- 4 apples\n",
      "- 1 yoghurt\n",
      "- 100 chocolate\n",
      "- 1 bread\n",
      "- 200 ham\n",
      "- 6 eggs\n",
      "\n"
     ]
    }
   ],
   "source": [
    "groceries = {\n",
    "    \"apples\": 4,\n",
    "    \"yoghurt\": 1,\n",
    "    \"chocolate\": 100,\n",
    "    \"bread\": 1,\n",
    "    \"ham\": 200,\n",
    "    \"eggs\": 6\n",
    "}\n",
    "\n",
    "\n",
    "out_path = pathlib.Path.cwd() / \"groceries.txt\"\n",
    "write_list(out_path, groceries)\n",
    "print(out_path.read_text())"
   ]
  },
  {
   "cell_type": "markdown",
   "id": "b4f53114",
   "metadata": {
    "editable": false
   },
   "source": [
    "### Exercise 3: Create Folders and Files\n",
    "This exercise aims to provide you with a sample directory structure to test your own code of the next exercise. Write a function called `create_files_and_folders(location)`. When executed, it should create the following folders, subfolders and files at the provided `location`:\n",
    "\n",
    "```\n",
    "iamroot\n",
    "├── imgs\n",
    "│   ├── cat.png\n",
    "│   └── duck.png\n",
    "└── montypython\n",
    "    ├── lumberjack.txt\n",
    "    └── spam.md\n",
    "```\n",
    "\n",
    "Other requirements:\n",
    "\n",
    "* `location` is a `Path` object, representing an existing directory.\n",
    "* The image files are empty.\n",
    "* `spam.md` contains an excerpt from [Monty Python's spam sketch](https://en.wikipedia.org/wiki/Spam_(Monty_Python)) ([text source](http://montypython.50webs.com/scripts/Series_2/105.htm)), see below.\n",
    "* `lumberjack.txt` contains an excerpt from [Monty Python's lumberjack song](https://en.wikipedia.org/wiki/The_Lumberjack_Song) ([text source](http://montypython.50webs.com/scripts/Series_1/60.htm)), see below.\n",
    "\n",
    "Thus, if `Path(\"/home/lumberjack\")` is given as `location`, your function should create:\n",
    "\n",
    "- `/home/lumberjack/iamroot` (directory)\n",
    "- `/home/lumberjack/iamroot/imgs` (directory)\n",
    "- `/home/lumberjack/iamroot/imgs/cat.png` (empty file)\n",
    "- etc.\n",
    "\n",
    "Here are the text excerpts for you to use:"
   ]
  },
  {
   "cell_type": "code",
   "execution_count": 65,
   "id": "b74fa70b",
   "metadata": {},
   "outputs": [],
   "source": [
    "spam = \"\"\"Scene: A cafe. One table is occupied by a group of Vikings with horned helmets on. A man and his wife enter.\n",
    "Man: You sit here, dear.\n",
    "Wife: All right.\n",
    "Man: (to Waitress) Morning!\n",
    "Waitress: Morning!\n",
    "Man: Well, what've you got?\n",
    "Waitress: Well, there's egg and bacon; egg sausage and bacon; egg and spam; egg bacon and spam; egg bacon sausage and spam; spam bacon sausage and spam; spam egg spam spam bacon and spam; spam sausage spam spam bacon spam tomato and spam;\n",
    "Vikings: (starting to chant) Spam spam spam spam...\n",
    "Waitress: ...spam spam spam egg and spam; spam spam spam spam spam spam baked beans spam spam spam...\n",
    "Vikings: (singing) Spam! Lovely spam! Lovely spam!\n",
    "Waitress: ...or Lobster Thermidor au Crevettes with a mornay sauce served in a Provencale manner with shallots and aubergines garnished with truffle pate, brandy and with a fried egg on top and spam.\n",
    "Wife: Have you got anything without spam?\n",
    "Waitress: Well, there's spam egg sausage and spam, that's not got much spam in it.\n",
    "Wife: I don't want ANY spam!\n",
    "Man: Why can't she have egg bacon spam and sausage?\n",
    "Wife: THAT'S got spam in it!\n",
    "Man: Hasn't got as much spam in it as spam egg sausage and spam, has it?\n",
    "Vikings: Spam spam spam spam (crescendo through next few lines)\n",
    "Wife: Could you do the egg bacon spam and sausage without the spam then?\n",
    "Waitress: Urgghh!\n",
    "Wife: What do you mean 'Urgghh'? I don't like spam!\n",
    "Vikings: Lovely spam! Wonderful spam!\n",
    "Waitress: Shut up!\n",
    "\"\"\"\n",
    "\n",
    "lumberjack = \"\"\"BARBER: I'm a lumberjack, and I'm okay.\n",
    "I sleep all night. I work all day.\n",
    "MOUNTIES: He's a lumberjack, and he's okay.\n",
    "He sleeps all night and he works all day.\n",
    "BARBER: I cut down trees. I eat my lunch.\n",
    "I go to the lavatory.\n",
    "On Wednesdays I go shoppin'\n",
    "And have buttered scones for tea.\n",
    "MOUNTIES: He cuts down trees. He eats his lunch.\n",
    "He goes to the lavatory.\n",
    "On Wednesdays he goes shopping.\n",
    "And has buttered scones for tea.\n",
    "He's a lumberjack, and he's okay.\n",
    "He sleeps all night and he works all day.\n",
    "BARBER: I cut down trees. I skip and jump.\n",
    "I like to press wild flowers.\n",
    "I put on women's clothing,\n",
    "And hang around in bars.\n",
    "MOUNTIES: He cuts down trees. He skips and jumps.\n",
    "He likes to press wild flowers.\n",
    "He puts on women's clothing\n",
    "And hangs around in bars?!\n",
    "He's a lumberjack, and he's okay.\n",
    "He sleeps all night and he works all day.\n",
    "BARBER: I cut down trees. I wear high heels,\n",
    "Suspendies, and a bra.\n",
    "I wish I'd been a girlie,\n",
    "Just like my dear Mama.\n",
    "BARBER and MOUNTIES: I (He) cut(s) down trees. I (He) wear(s) high heels,\n",
    "Suspendies, and a bra?!\n",
    "BARBER: I wish I'd been a girlie,\n",
    "Just like my dear Mama!\n",
    "\"\"\""
   ]
  },
  {
   "cell_type": "code",
   "execution_count": 99,
   "id": "691bb2ec",
   "metadata": {
    "deletable": false,
    "tags": [
     "create-folders-files"
    ]
   },
   "outputs": [],
   "source": [
    "from pathlib import Path, PurePath\n",
    "\n",
    "def create_files_and_folders(location):\n",
    "    root_d = location / \"iamroot\"\n",
    "    imgs_d = root_d / \"imgs\"\n",
    "    monty_d = root_d / \"montypython\"\n",
    "    cat_f = imgs_d / \"cat.png\"\n",
    "    duck_f = imgs_d / \"duck.png\"\n",
    "    lumber_f = monty_d / \"lumberjack.txt\"\n",
    "    spam_f = monty_d / \"spam.md\"\n",
    " \n",
    "    root_d.mkdir()\n",
    "    imgs_d.mkdir()\n",
    "    monty_d.mkdir()\n",
    "    cat_f.open(\"w\")\n",
    "    duck_f.open(\"w\")\n",
    "    with lumber_f.open(\"w\") as file:\n",
    "        file.write(lumberjack)\n",
    "    with spam_f.open(\"w\") as file:\n",
    "        file.write(spam)\n",
    "    "
   ]
  },
  {
   "cell_type": "markdown",
   "id": "84009f28",
   "metadata": {
    "editable": false
   },
   "source": [
    "After writing your code, double-check that it doesn't create any files or folders outside of the given `location` - if it does, you'll need to clean up the mess yourself.\n",
    "\n",
    "Afterwards, you can run this cell to test your code - please **don't modify it** unless you know what you're doing, as it deals with deleting data:"
   ]
  },
  {
   "cell_type": "code",
   "execution_count": 100,
   "id": "49529e39",
   "metadata": {},
   "outputs": [
    {
     "name": "stdout",
     "output_type": "stream",
     "text": [
      "data/iamroot\n"
     ]
    }
   ],
   "source": [
    "from pathlib import Path\n",
    "import shutil\n",
    "\n",
    "# Prepare a clean \"data\" directory in the current folder for easy testing\n",
    "data_path = Path(\"data\")\n",
    "if data_path.exists():\n",
    "    shutil.rmtree(data_path)\n",
    "data_path.mkdir()\n",
    "\n",
    "create_files_and_folders(data_path)\n",
    "for child in data_path.iterdir():\n",
    "    print(child)"
   ]
  },
  {
   "cell_type": "markdown",
   "id": "be4d7133",
   "metadata": {
    "editable": false,
    "tags": []
   },
   "source": [
    "### Exercise 4: Find Files\n",
    "To conclude this lab, you are going to write a small tool that may even help you in your daily work! People familiar with Linux might recognise this tool as an imitation of `grep`; it works as follows: The function `find_files(rootdir, extension, keyword)` takes a directory, a file extension and a keyword. It recursively searches all subfolders from the directory and checks all files of a given extension to find a specific keyword.\n",
    "\n",
    "Note that tools such as `grep` typically accept a pattern (a [\"regular expression\"](https://realpython.com/regex-python/)). Since we've skipped that topic in the book, your `find_files` is much simpler: It just checks whether the given string is contained in a line, without any support for patterns.\n",
    "\n",
    "You can use the `create_files_and_folders` function and the text excerpts from the previous exercise to check if `find_files` works the way it should.\n",
    "\n",
    "Requirements:\n",
    "\n",
    "* `rootdir`: A `Path` object. The path to the directory to start your search from. When `rootdir` is a non-existing directory or a file, make sure your function returns an empty list instead. Hint: You shouldn't need to check for those cases manually.\n",
    "* `extension`: A string. The file extension to search for, e.g. `txt` or `png` (*without* leading dot).\n",
    "* `keyword`: A string. The keyword that should be searched for in the files matching the file extension.\n",
    "* The function returns a list of strings with the elements found. Format: `some/subfolder/filename.txt:linenumber:line`.\n",
    "  - The path should be **relative to the given `rootdir`**\n",
    "  - Lines are counted **starting at 1**\n",
    "  - The trailing `\\n` in lines is **stripped off**\n",
    "* If binary data is read, the program should not crash, the file should just **be ignored**. You can create a file that contains binary data like so: \n",
    "`pathlib.Path(\"data\", \"program.bin\").write_bytes(b\"\\xC0\\xFF\\xEE\")`\n",
    "\n",
    "Expected output (pretty-printed for readability, your function should return a list of strings):\n",
    "\n",
    "```python\n",
    ">>> find_files(Path(\"data\", \"iamroot\"), \"txt\", \"lumberjack\")\n",
    "[\n",
    "    \"montypython/lumberjack.txt:1:BARBER: I'm a lumberjack, and I'm okay.\",\n",
    "    \"montypython/lumberjack.txt:3:MOUNTIES: He's a lumberjack, and he's okay.\",\n",
    "    \"montypython/lumberjack.txt:13:He's a lumberjack, and he's okay.\",\n",
    "    \"montypython/lumberjack.txt:23:He's a lumberjack, and he's okay.\",\n",
    "]\n",
    "```"
   ]
  },
  {
   "cell_type": "code",
   "execution_count": 138,
   "id": "11fb7d88",
   "metadata": {
    "deletable": false,
    "tags": [
     "find-files"
    ]
   },
   "outputs": [],
   "source": [
    "from pathlib import Path\n",
    " \n",
    "def find_files(rootdir, extension, keyword):\n",
    "    if(rootdir.exists()):\n",
    "        return helper(rootdir, extension, keyword, rootdir)\n",
    "    else:\n",
    "        return []\n",
    "\n",
    "def helper(rootdir, extension, keyword, acc_dir):\n",
    "    occurances = []\n",
    "    try:\n",
    "        for item in rootdir.iterdir():\n",
    "            if item.is_dir():\n",
    "                occurances.extend( helper(item, extension, keyword, acc_dir) )\n",
    "            elif item.is_file() and item.suffix.replace(\".\", \"\") == extension:\n",
    "                with item.open(\"r\") as file:\n",
    "                    for i, line in enumerate(file.readlines()):\n",
    "                        if keyword in line:\n",
    "                            new_line = line.replace('\\n', '')\n",
    "                            occurances.append(f\"{item.relative_to(acc_dir)}:{i + 1}:{new_line}\")\n",
    "        return occurances\n",
    "    except UnicodeDecodeError:\n",
    "        return []"
   ]
  },
  {
   "cell_type": "markdown",
   "id": "8d6626c6",
   "metadata": {
    "editable": false
   },
   "source": [
    "Use this separate cell to try out your code.\n",
    "Your code should work with the example below, but you're free to change it."
   ]
  },
  {
   "cell_type": "code",
   "execution_count": 139,
   "id": "bb5707bc",
   "metadata": {},
   "outputs": [
    {
     "name": "stdout",
     "output_type": "stream",
     "text": [
      "[\"montypython/lumberjack.txt:1:BARBER: I'm a lumberjack, and I'm okay.\", \"montypython/lumberjack.txt:3:MOUNTIES: He's a lumberjack, and he's okay.\", \"montypython/lumberjack.txt:13:He's a lumberjack, and he's okay.\", \"montypython/lumberjack.txt:23:He's a lumberjack, and he's okay.\"]\n"
     ]
    }
   ],
   "source": [
    "print(find_files(Path(\"data\", \"iamroot\"), \"txt\", \"lumberjack\"))"
   ]
  },
  {
   "cell_type": "markdown",
   "id": "2155c2fc",
   "metadata": {
    "editable": false
   },
   "source": [
    "# Feedback form\n",
    "\n",
    "We'd like to get some feedback for this lab! To give us feedback, double-click the cells below and edit it in the appropriate places:\n",
    "\n",
    "- Replace `[ ]` by `[x]` to cross checkboxes, they should look like this once you finish editing:\n",
    "  * [ ] uncrossed\n",
    "  * [x] crossed\n",
    "- Add additional text where indicated (optional)"
   ]
  },
  {
   "cell_type": "markdown",
   "id": "b973e5eb",
   "metadata": {
    "deletable": false,
    "tags": [
     "feedback-difficulty"
    ]
   },
   "source": [
    "**Difficulty:**\n",
    "\n",
    "The difficulty of the materials in this lab was:\n",
    "\n",
    "- [ ] Much too difficult\n",
    "- [ ] A little too difficult\n",
    "- [ ] Just right\n",
    "- [ ] A little too easy\n",
    "- [ ] Much too easy"
   ]
  },
  {
   "cell_type": "markdown",
   "id": "dcdeb289",
   "metadata": {
    "deletable": false,
    "tags": [
     "feedback-time"
    ]
   },
   "source": [
    "**Time:**\n",
    "\n",
    "For one block (usually multiple labs), you should spend around 4h at home and 4h in the course. There are two labs in this block, so we'd expect you to spend a total of **around 4h on this one (both reading and solving)**.\n",
    "\n",
    "For the materials in *this lab*, do you think you spent:\n",
    "\n",
    "- [ ] Much more time\n",
    "- [ ] A little more time\n",
    "- [ ] About the scheduled amount of time\n",
    "- [ ] A little less time\n",
    "- [ ] Much less time"
   ]
  },
  {
   "cell_type": "markdown",
   "id": "f8f154de",
   "metadata": {
    "deletable": false,
    "tags": [
     "feedback-text-topics"
    ]
   },
   "source": [
    "**Any topics you found especially enjoyable or difficult in this lab?**\n",
    "\n",
    "<!-- Write below this line -->"
   ]
  },
  {
   "cell_type": "markdown",
   "id": "0e0e5f10",
   "metadata": {
    "deletable": false,
    "tags": [
     "feedback-text-free"
    ]
   },
   "source": [
    "**Anything else you'd like to tell us?**\n",
    "\n",
    "<!-- Write below this line -->"
   ]
  },
  {
   "cell_type": "markdown",
   "id": "31ce9266",
   "metadata": {
    "editable": false
   },
   "source": [
    "# Submit\n",
    "\n",
    "First, **save this file** (no grey dot should be visible in the tab above). Then, run the cell below to submit your work and see the results. You can submit as often as you like.\n",
    "\n",
    "In case of problems:\n",
    "- *Don't panic!*\n",
    "- If you're in a course, show the error to your instructor.\n",
    "- If the **tests failed** and you suspect an issue in the tests:\n",
    "    * Mail your instructor, Cc `florian.bruhin@ost.ch` (if instructor != florian)\n",
    "    * **No attachments** necessary.\n",
    "- If the **submission failed** (error message, etc.):\n",
    "    * Mail your instructor, Cc `florian.bruhin@ost.ch` (if instructor != florian)\n",
    "    * Attach a screenshot of the issue\n",
    "    * Attach the notebook (File > Download)."
   ]
  },
  {
   "cell_type": "code",
   "execution_count": 141,
   "id": "1b49a044",
   "metadata": {},
   "outputs": [
    {
     "name": "stdout",
     "output_type": "stream",
     "text": [
      "Last change: \u001b[1;36m3\u001b[0m seconds ago\n",
      "\n",
      "\u001b[2K\u001b[32m⠏\u001b[0m \u001b[1;32mTesting...\u001b[0m0m\n",
      "\u001b[1A\u001b[2K╭──────────────────────────── create folders files ────────────────────────────╮\n",
      "│ \u001b[32m100% passed\u001b[0m                                                                  │\n",
      "╰──────────────────────────────────────────────────────────────────────────────╯\n",
      "╭───────────────────────────────── find files ─────────────────────────────────╮\n",
      "│ \u001b[32m100% passed\u001b[0m                                                                  │\n",
      "╰──────────────────────────────────────────────────────────────────────────────╯\n",
      "╭──────────────────────────────── grocery list ────────────────────────────────╮\n",
      "│ \u001b[32m100% passed\u001b[0m                                                                  │\n",
      "╰──────────────────────────────────────────────────────────────────────────────╯\n",
      "╭───────────────────────────────── list files ─────────────────────────────────╮\n",
      "│ \u001b[32m100% passed\u001b[0m                                                                  │\n",
      "╰──────────────────────────────────────────────────────────────────────────────╯\n",
      "\n",
      "┏━━━━━━━━━━━━━━━━━━━━━━━━━━━━━━━━━━━ Total ━━━━━━━━━━━━━━━━━━━━━━━━━━━━━━━━━━━━┓\n",
      "┃ \u001b[32m100% passed\u001b[0m                                                                  ┃\n",
      "┗━━━━━━━━━━━━━━━━━━━━━━━━━━━━━━━━━━━━━━━━━━━━━━━━━━━━━━━━━━━━━━━━━━━━━━━━━━━━━━┛\n",
      "📫 ✔ \u001b[1mSubmission successful!\u001b[0m \u001b[1;37m(\u001b[0m\u001b[1;37m2023\u001b[0m\u001b[37m-\u001b[0m\u001b[1;37m10\u001b[0m\u001b[37m-\u001b[0m\u001b[1;37m30\u001b[0m\u001b[37m \u001b[0m\u001b[1;37m17:24:46\u001b[0m\u001b[37m, a8ac8f90\u001b[0m\u001b[1;37m)\u001b[0m\n"
     ]
    }
   ],
   "source": [
    "!submit reading-and-writing-files.ipynb"
   ]
  }
 ],
 "metadata": {
  "kernelspec": {
   "display_name": "Python 3 (ipykernel)",
   "language": "python",
   "name": "python3"
  },
  "language_info": {
   "codemirror_mode": {
    "name": "ipython",
    "version": 3
   },
   "file_extension": ".py",
   "mimetype": "text/x-python",
   "name": "python",
   "nbconvert_exporter": "python",
   "pygments_lexer": "ipython3",
   "version": "3.11.6"
  },
  "vscode": {
   "interpreter": {
    "hash": "0651c627c3b64d1ada904a564819abcba4b8231b6784e7fb386e86e8dc20be09"
   }
  }
 },
 "nbformat": 4,
 "nbformat_minor": 5
}
