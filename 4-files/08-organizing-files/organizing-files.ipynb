{
 "cells": [
  {
   "cell_type": "markdown",
   "id": "75b532c9",
   "metadata": {
    "editable": false
   },
   "source": [
    "# Organizing Files\n",
    "\n",
    "## Introduction\n",
    "\n",
    "This notebook is about organizing files and folders - you will learn how to copy and rename and delete files, as well as how to create and extract ZIP archives.\n",
    "\n",
    "*[Chapter 8](https://automatetheboringstuff.com/2e/chapter8) in the book is about input validation, but it's heavily based on the [PyInputPlus](https://pyinputplus.readthedocs.io/en/latest/) library, which was written by the book author and [isn't used widely](https://github.com/asweigart/pyinputplus/network/dependents?dependent_type=PACKAGE) outside of the book. Thus, we are skipping the topic in this course.*\n",
    "\n",
    "**Instead, this lab covers [chapter 10](https://automatetheboringstuff.com/2e/chapter10/) from the book.**\n",
    "\n",
    "### Optional resources\n",
    "\n",
    "You can find more information about the modules used in this lab in the Python documentation:\n",
    "\n",
    "- [`shutil` — High-level file operations](https://docs.python.org/3/library/shutil.html)\n",
    "- [`os` — Miscellaneous operating system interfaces](https://docs.python.org/3/library/os.html)\n",
    "- [`zipfile` — Work with ZIP archives](https://docs.python.org/3/library/zipfile.html)\n",
    "\n",
    "For additional in-depth coverage on those modules, see PyMOTW (Python Module of the week):\n",
    "\n",
    "- [`shutil` — High-level File Operations](https://pymotw.com/3/shutil/index.html)\n",
    "- [`os` — Portable access to operating system specific features](https://pymotw.com/3/os/index.html)\n",
    "- [`zipfile` — ZIP Archive Access](https://pymotw.com/3/zipfile/index.html)\n",
    "\n",
    "We are also going to use the third-party `send2trash` library - check [its README file](https://github.com/arsenetar/send2trash) for more information.\n",
    "\n",
    "Relevant Real Python tutorials:\n",
    "\n",
    "- [Working With Files in Python](https://realpython.com/working-with-files-in-python/) (also contains some material on the prior lab)\n",
    "\n",
    "You might also find the `pathlib`-related material from the last lab useful:\n",
    "\n",
    "- [Python docs: `pathlib` — Object-oriented filesystem paths](https://docs.python.org/3/library/pathlib.html)\n",
    "- [Real Python: Python 3's pathlib Module: Taming the File System](https://realpython.com/python-pathlib/)\n",
    "- [PyMOTW: pathlib — Filesystem Paths as Objects](https://pymotw.com/3/pathlib/index.html)\n",
    "\n",
    "## Warnings\n",
    "\n",
    "**Please read this**, so you don't end up like here:\n",
    "\n",
    "![XKCD 293: RTFM](https://imgs.xkcd.com/comics/rtfm.png)\n",
    "\n",
    "*([XKCD 293: RTFM](https://xkcd.com/293/); a [man page](https://en.wikipedia.org/wiki/Man_page) is the usual way to get a command's documentation on Linux/Unix systems)*\n",
    "\n",
    "\n",
    "**In this lab, you are going to delete files permanently.** Please be careful *before* running your code, to avoid accidentally deleting e.g. this file or other labs. If in doubt, consider running the `!submit` command first, or downloading the file via the right-click menu in the file explorer at the left.\n",
    "\n",
    "If something goes wrong, and you did run `!submit` or download the lab beforehand, it will be easy to restore things: Either upload the files via the upload arrow in the file browser; or contact us if you need a backup from the submission repository. If you didn't do so and something goes wrong, there's likely **nothing we can do**.\n",
    "\n",
    "Some additional hints to avoid interefering with the tests and submission process:\n",
    "\n",
    "- **Do not use `os.chdir()`** in your solutions, as this will break the `!submit` command and is generally seen as bad practice.\n",
    "- If you want to try out your functions by calling them, do so **in a separate cell**, not in the cell you're implementing your function in. In previous labs, we provided such sample calls - this time, it's your job to \"play\" with your code to ensure it works.\n",
    "- Use the provided **separate cells** to try out your code, only define the function in the first cell, without calling it. This is to avoid interfering with the tests running those cells.\n",
    "\n",
    "## Summary\n",
    "\n",
    "### Libraries used\n",
    "\n",
    "```python\n",
    "# import the shutil module to copy, move, rename and delete folders and its contents\n",
    "import shutil\n",
    "\n",
    "# import the os module to permanently delete a single file or a single empty folder and to walk a directory tree.\n",
    "import os\n",
    "\n",
    "# import the zipfile module to read, create, extract from and add to zip files\n",
    "import zipfile\n",
    "\n",
    "# import the class \"Path\" to simplify path declarations. Path.home() represents the user's home directory.\n",
    "from pathlib import Path\n",
    "home = Path.home()\n",
    "\n",
    "# import the third-party module send2trash to send files and folders to your computer's trash or recycle bin.\n",
    "import send2trash\n",
    "```\n",
    "\n",
    "If a function (e.g. in `os` or `shutil`) requires a path as a parameter, it usually accepts:\n",
    "\n",
    "- Either a `Path` object (e.g. `home / \"test.txt\"`, where `home = Path.home()`)\n",
    "  - Keep in mind `from pathlib import Path` will be necessary\n",
    "- Or a string (`\"/home/harry/test.txt\"`)\n",
    "  - On Windows, keep in mind you'd have to use double backslashes: `\"C:\\\\Users\\\\Username\\\\test.txt\"`\n",
    "  - ...or use a raw string: `r\"C:\\Users\\Username\\test_folder\"`\n",
    "\n",
    "### Copying, Moving and Renaming Files and Folders\n",
    "\n",
    "#### Copying Files and Folders\n",
    "\n",
    "`shutil.copy(source, destination)` will copy the file at the source path to the folder at the destination path. If the destination path is a filename, it will be used as the new name of the copied file. This returns the path of the copied file.\n",
    "\n",
    "`shutil.copytree(source, destination)` will copy an entire folder and all of its contents to the destination path. This function returns the path of the copied folder.\n",
    "\n",
    "**Attention:** If the destination folder already contains a file with the same name as `source`, it will be overwritten. <br>\n",
    "**Note:** There is no distinction between non-existant folders and filenames - thus, if you e.g. want to copy a `plants.txt` file to `/home/harry/notes` but no such folder exists, the `plants.txt` file will end up as a file `notes` in `/home/harry`.\n",
    "\n",
    "#### Moving and Renaming Files\n",
    "\n",
    "`shutil.move(source, destination)` will move the file at the source path to the destination path, renamed to the specified filename. This is also used to simply rename files in the same folder.\n",
    "\n",
    "**Attention:** If the destination folder already contains a file with the same name as `source`, it will be overwritten. <br>\n",
    "**Note:** There is no distinction between non-existant folders and filenames - thus, if you e.g. want to move a `plants.txt` file to `/home/harry/notes` but no such folder exists, the `plants.txt` file will end up as a file `notes` in `/home/harry`.\n",
    "\n",
    "### Deleting Files and Folders\n",
    "\n",
    "#### Permanently Deleting Files and Folders\n",
    "\n",
    "`os.unlink(path)`/ `Path.unlink()` will permanently delete a single file specified in the path. \n",
    "\n",
    "`os.rmdir(path)` / `Path.rmdir()` will permanently delete a single empty folder specified in the path.\n",
    "\n",
    "`shutil.rmtree(path)` will permanently delete the folder and all its contents specified in the path.\n",
    "\n",
    "These functions can be used for single files and folders or within a for-loop to mass delete files.\n",
    "\n",
    "**Attention:** To avoid accidental deletions, comment out the functions first and test with ```print()``` lines. Uncomment if the result is as expected.\n",
    "\n",
    "#### Safely Deleting Files and Folders\n",
    "\n",
    "`send2trash.send2trash(path)` will send the file or folder specified in path to your computer's trash or recycle bin.\n",
    "\n",
    "**Note:** As the file is still in the recycle bin, this operation doesn't free up disk space.\n",
    "\n",
    "If working locally, send2trash needs to be installed, e.g. by running `pip install send2trash` in a terminal. The [pip command](https://pip.pypa.io/en/latest/) is the usual way to install third-party packages from [PyPI](https://pypi.org/), the \"Python Package Index\".\n",
    "\n",
    "### Walking a Directory Tree\n",
    "\n",
    "In the last lab, you've already seen how to iterate through the files in a directory using `Path.iterdir()`. But sometimes you need to access the entire content of a folder, including all subfolders.\n",
    "\n",
    "To do this, Python provides the `os.walk(path)` function. Note, however, that it's usage is a bit confusing, as it produces three values for each folder (foldername, subfolders and filenames). When using `Path` objects, consider using [Path.rglob()](https://docs.python.org/3/library/pathlib.html#pathlib.Path.rglob) with `*` as pattern instead, e.g. `for path in Path.home().rglob('*'):`.\n",
    "\n",
    "### Working with the Zipfile Module \n",
    "\n",
    "A zip file contains compressed files and folders to minimize its size and allows us to package several folders into one file, making it easier to send it over the internet.\n",
    "\n",
    "#### Creating a Zip File\n",
    "\n",
    "`with zipfile.ZipFile('path_of_new.zip', 'w', compression=zipfile.ZIP_DEFLATED) as new_zip:` opens a zipfile object in write mode. Similar to when using `open` for normal files, use a `with` statement to automatically finish and close the zip file after utilizing `write()`.\n",
    "\n",
    "Using `compression`, we can set the compression mode to [deflate](https://en.wikipedia.org/wiki/DEFLATE) for all files, so that we don't need to specify `compress_type` for each individual file (like shown in the book). The default `compression` is \"store\", which means that files aren't compressed at all. Compression typically makes the ZIP files smaller than the data stored in them, by storing repeated data in clever ways.\n",
    "\n",
    "`new_zip.write(file, arcname)` creates a new file in the zip, with the data from the given `file`. Using `arcname`, we can control how the file will be organized inside the zip archive. For example, if we would add `Path.home() / \"school\" / \"potions\" / \"polyjuice.xlsx\"` to the archive without specifying `arcname`, unzipping the zip would create this folder structure:\n",
    "\n",
    "```\n",
    "home\n",
    "└── harry\n",
    "    └── school\n",
    "        └── potions\n",
    "            └── polyjuice.xlsx\n",
    "```\n",
    "\n",
    "which is usually not what we want. Normally, we might only want to have e.g. the `potions` folder inside the zip - to do so, we'd do something like:\n",
    "\n",
    "```python\n",
    "zip_root_path = Path.home() / \"school\"   # All paths in the zip should be relative to this directory\n",
    "polyjuice_path = zip_root_path / \"potions\" / \"polyjuice.xlsx\"\n",
    "\n",
    "with zipfile.ZipFile(\"files_for_hermione.zip\", \"w\", compression=zipfile.ZIP_DEFLATED) as hermione_zip:\n",
    "   hermione_zip.write(polyjuice_path, arcname=polyjuice_path.relative_to(zip_root_path))\n",
    "```\n",
    "\n",
    "**Attention:** Setting the mode to `w` will erase the contents of the specified zip file, if it already exists. If you want to add files to an existing zip file, use `zipfile.ZipFile('path_of_existing.zip', 'a')`.\n",
    "\n",
    "#### Reading a Zip File\n",
    "\n",
    "Using the default `'r'` file mode for `ZipFile`, we can get information about files inside an existing zip:\n",
    "\n",
    "```python\n",
    "import zipfile\n",
    "from pathlib import Path\n",
    "\n",
    "zip_path = Path.home() / \"existing.zip\"\n",
    "\n",
    "# create a ZipFile object using the path of an existing zip file\n",
    "with zipfile.ZipFile(zip_path) as zip_example:\n",
    "    # List the strings of all files and folders contained in 'existing.zip'\n",
    "    print(zip_example.namelist())\n",
    "\n",
    "    # With .getinfo(), we can get a ZipInfo object, which holds information about a single file in the zip file\n",
    "    # (e.g. file_size or compress_size)\n",
    "    info = zip_example.getinfo(\"file.txt\")\n",
    "    print(f\"file.txt got compressed from {info.file_size} to {info.compress_size}\")\n",
    "```\n",
    "\n",
    "#### Extracting a Zip File\n",
    "\n",
    "```python\n",
    "import zipfile\n",
    "from pathlib import Path\n",
    "\n",
    "zip_path = Path.home() / \"existing.zip\"\n",
    "output_path = Path.home() / \"extracted\"\n",
    "output_path.mkdir()\n",
    "    \n",
    "# Opening the zip and creating a ZipFile object\n",
    "with zipfile.ZipFile(zip_path) as zip_example:\n",
    "\n",
    "    # extract all the contents of the specified zip file into the home directory.\n",
    "    zip_example.extractall()\n",
    "    \n",
    "    # to extract to an existing folder, specify the path of the folder as an argument.\n",
    "    zip_example.extractall(output_path)\n",
    "\n",
    "    # extract a single file from the zip.\n",
    "    zip_example.extract(\"test.txt\")\n",
    "\n",
    "    # extract a single file from the zip and put it in the specified folder.\n",
    "    zip_example.extract(\"test.txt\", output_path)\n",
    "```"
   ]
  },
  {
   "cell_type": "markdown",
   "id": "99533384",
   "metadata": {
    "editable": false
   },
   "source": [
    "## Exercises"
   ]
  },
  {
   "cell_type": "markdown",
   "id": "c9ff092d",
   "metadata": {
    "editable": false
   },
   "source": [
    "### Exercise 1: Preparation\n",
    "\n",
    "Create the following folder structure, to check later if your functions work the way they should.\n",
    "\n",
    "Your function will get the root path (`exercises`) as an argument, and should create the following tree of files:\n",
    "\n",
    "```bash\n",
    "exercises\n",
    "├── images\n",
    "│   ├── img_0.png\n",
    "│   ├── img_1.png\n",
    "│   ├── img_2.png\n",
    "│   ├── ...etc...\n",
    "│   ├── img_8.png\n",
    "│   └── img_9.png\n",
    "└── notes\n",
    "    ├── empty_folder_1\n",
    "    ├── empty_folder_2\n",
    "    ├── folder_3\n",
    "    │   └── text_file.txt\n",
    "    ├── text_file_1.txt\n",
    "    ├── text_file_2.txt\n",
    "    ├── text_file_3.txt\n",
    "    └── text_file_4.txt\n",
    "```"
   ]
  },
  {
   "cell_type": "code",
   "execution_count": 6,
   "id": "68f649ce",
   "metadata": {
    "deletable": false,
    "tags": [
     "creating-files"
    ]
   },
   "outputs": [],
   "source": [
    "import pathlib\n",
    "import shutil\n",
    "\n",
    "\n",
    "def create_files(dest_path):\n",
    "    if dest_path.exists():\n",
    "        shutil.rmtree(dest_path)\n",
    "    dest_path.mkdir()\n",
    "\n",
    "    # Create images folder and add image files\n",
    "    images_path = dest_path / 'images'\n",
    "    images_path.mkdir(parents=True, exist_ok=True)\n",
    "    for i in range(10):\n",
    "        open(images_path / f'img_{i}.png', 'w')\n",
    "    \n",
    "    # Create notes folder and add files and folders\n",
    "    notes_path = dest_path / 'notes'\n",
    "    notes_path.mkdir(parents=True, exist_ok=True)\n",
    "    (notes_path / 'empty_folder_1').mkdir(parents=True, exist_ok=True)\n",
    "    (notes_path / 'empty_folder_2').mkdir(parents=True, exist_ok=True)\n",
    "    folder_3_path = notes_path / 'folder_3'\n",
    "    folder_3_path.mkdir(parents=True, exist_ok=True)\n",
    "    open(folder_3_path / 'text_file.txt', 'w')\n",
    "    for i in range(1, 5):\n",
    "        open(notes_path / f'text_file_{i}.txt', 'w')"
   ]
  },
  {
   "cell_type": "markdown",
   "id": "987acdba",
   "metadata": {
    "editable": false
   },
   "source": [
    "Use this separate cell to run your code.\n",
    "You **shouldn't change it** (as the given folder is deleted!), but your code needs to work with other folders too.\n",
    "\n",
    "We pass the `exercises` path to it, which will be created next to this notebooks path (since it's a relative path, it's based on the current working directory). In later exercises, you will re-use the `exercises_path` variable defined in this cell."
   ]
  },
  {
   "cell_type": "code",
   "execution_count": 8,
   "id": "87994e06",
   "metadata": {},
   "outputs": [],
   "source": [
    "exercises_path = pathlib.Path(\"exercises\")\n",
    "create_files(exercises_path)"
   ]
  },
  {
   "cell_type": "markdown",
   "id": "79dfa357",
   "metadata": {
    "editable": false,
    "tags": []
   },
   "source": [
    "### Exercise 2: Zipping Files\n",
    "\n",
    "Write a function called `create_archive(destination_zip, source_files, append)` that zips all the files and subfolders of a given directory. The function has the following arguments:\n",
    "\n",
    "* `destination_zip`: path (including zip filename) to the destination zip.\n",
    "* `source_files`: path to the folder whose contents should be zipped.\n",
    "* `append`: A boolean. If `True`, appends the provided `source_files` to the given zip. If `False`, an existing .zip file is overwritten. Default value is `False`.\n",
    "\n",
    "Additional requirements:\n",
    "\n",
    "* The zip should *not* contain the full paths to the files, but the relative path to `source_files` (see example)\n",
    "* Return value: A list of all the files and folders in the zip, as strings, with the path as stored in the zip file. Hint: Check the documentation on zipping.\n",
    "\n",
    "You can use the files and folder structure used in the previous exercise to test the expected behavior of your function.\n",
    "\n",
    "Expected behavior (the exact order of the files can change, which is why we use `sorted(...)`):\n",
    "\n",
    "```python\n",
    "# dest: path to the zip file to create\n",
    "# notes_source, images_source: paths to the source, e.g. exercises/notes\n",
    "\n",
    ">>> sorted(create_archive(dest, notes_source))\n",
    "[\n",
    "    'empty_folder_1/',\n",
    "    'empty_folder_2/',\n",
    "    'folder_3/',\n",
    "    'folder_3/text_file.txt',\n",
    "    'text_file_1.txt',\n",
    "    'text_file_2.txt',\n",
    "    'text_file_3.txt',\n",
    "    'text_file_4.txt'\n",
    "]\n",
    "\n",
    ">>> sorted(create_archive(dest, images_source, append=True))\n",
    "[\n",
    "    'empty_folder_1/',\n",
    "    'empty_folder_2/',\n",
    "    'folder_3/',\n",
    "    'folder_3/text_file.txt',\n",
    "    'img_0.png',\n",
    "    'img_1.png',\n",
    "    'img_2.png',\n",
    "    'img_3.png',\n",
    "    'img_4.png',\n",
    "    'img_5.png',\n",
    "    'img_6.png',\n",
    "    'img_7.png',\n",
    "    'img_8.png',\n",
    "    'img_9.png',\n",
    "    'text_file_1.txt',\n",
    "    'text_file_2.txt',\n",
    "    'text_file_3.txt',\n",
    "    'text_file_4.txt'\n",
    "]\n",
    "```"
   ]
  },
  {
   "cell_type": "code",
   "execution_count": 1,
   "id": "37595837",
   "metadata": {
    "deletable": false,
    "tags": [
     "zipping-files"
    ]
   },
   "outputs": [],
   "source": [
    "import zipfile\n",
    " \n",
    "def create_archive(destination_zip, source_files, append=False):\n",
    "    try:\n",
    "        if append:\n",
    "            with zipfile.ZipFile(destination_zip, 'a', compression=zipfile.ZIP_DEFLATED) as appendZip:\n",
    "                addFilesToZip(appendZip, source_files, source_files) \n",
    "            return [str(file_info.filename) for file_info in appendZip.infolist()]\n",
    "        else:\n",
    "            with zipfile.ZipFile(destination_zip, 'w', compression=zipfile.ZIP_DEFLATED) as newZip:\n",
    "                addFilesToZip(newZip, source_files, source_files) \n",
    "            return [str(file_info.filename) for file_info in newZip.infolist()]\n",
    "    except Exception:\n",
    "        return []\n",
    " \n",
    "def addFilesToZip(zip, directory, base_path):\n",
    "    for item in directory.iterdir():\n",
    "        if item.is_dir():\n",
    "            zip.write(item, str(item.relative_to(base_path)))\n",
    "            addFilesToZip(zip, item, base_path)\n",
    "        elif item.is_file():\n",
    "            zip.write(item, str(item.relative_to(base_path)))"
   ]
  },
  {
   "cell_type": "markdown",
   "id": "f72f3dd4",
   "metadata": {
    "editable": false
   },
   "source": [
    "Use these separate cells to try out your code.\n",
    "Your code should work with the example below, but you're free to change it."
   ]
  },
  {
   "cell_type": "code",
   "execution_count": 9,
   "id": "51f6aee6",
   "metadata": {},
   "outputs": [
    {
     "data": {
      "text/plain": [
       "['empty_folder_1/',\n",
       " 'empty_folder_2/',\n",
       " 'folder_3/',\n",
       " 'folder_3/text_file.txt',\n",
       " 'text_file_1.txt',\n",
       " 'text_file_2.txt',\n",
       " 'text_file_3.txt',\n",
       " 'text_file_4.txt']"
      ]
     },
     "execution_count": 9,
     "metadata": {},
     "output_type": "execute_result"
    }
   ],
   "source": [
    "dest_path = exercises_path / \"ex2.zip\"\n",
    "notes_source = exercises_path / \"notes\"\n",
    "\n",
    "sorted(create_archive(dest_path, notes_source))"
   ]
  },
  {
   "cell_type": "code",
   "execution_count": 10,
   "id": "f006885f",
   "metadata": {},
   "outputs": [
    {
     "data": {
      "text/plain": [
       "['empty_folder_1/',\n",
       " 'empty_folder_2/',\n",
       " 'folder_3/',\n",
       " 'folder_3/text_file.txt',\n",
       " 'img_0.png',\n",
       " 'img_1.png',\n",
       " 'img_2.png',\n",
       " 'img_3.png',\n",
       " 'img_4.png',\n",
       " 'img_5.png',\n",
       " 'img_6.png',\n",
       " 'img_7.png',\n",
       " 'img_8.png',\n",
       " 'img_9.png',\n",
       " 'text_file_1.txt',\n",
       " 'text_file_2.txt',\n",
       " 'text_file_3.txt',\n",
       " 'text_file_4.txt']"
      ]
     },
     "execution_count": 10,
     "metadata": {},
     "output_type": "execute_result"
    }
   ],
   "source": [
    "images_source = exercises_path / \"images\"\n",
    "\n",
    "sorted(create_archive(dest_path, images_source, append=True))"
   ]
  },
  {
   "cell_type": "markdown",
   "id": "44026b73",
   "metadata": {
    "editable": false
   },
   "source": [
    "### Exercise 3: Selected Extraction\n",
    "\n",
    "Write a function called `extract_selected(archive_path, dest_path, file_extension)` that does the following:\n",
    "* Extracts only selected items from a zipped archive to a given destination.\n",
    "* Takes the following arguments:\n",
    "    - `archive_path`: Filepath to the zip.\n",
    "    - `dest_path`: Filepath to where the contents should be extracted.\n",
    "    - `file_extension`: A string. The type of files that should be extracted, for example `txt` or `png`.\n",
    "    - You can assume that `archive_path` and `dest_path` already exist, and that `file_extension` will not be an empty string.\n",
    "* Returns a list of all the extracted files, as strings, including the folder given in `dest_path` (see example).\n",
    "    - Hint: The return value of `.extract(...)` will be in the proper format.\n",
    "\n",
    "Expected output (the exact order of the files is not relevant):\n",
    "\n",
    "```python\n",
    "# archive_path: A Path object like exercises/ex2.zip\n",
    "# dest_path: A Path object like exercises/ex3/\n",
    ">>> extract_selected(archive_path, dest_path, \"png\")\n",
    "[\n",
    "    'exercises/ex3/img_0.png',\n",
    "    'exercises/ex3/img_1.png',\n",
    "    'exercises/ex3/img_2.png',\n",
    "    'exercises/ex3/img_3.png',\n",
    "    'exercises/ex3/img_4.png',\n",
    "    'exercises/ex3/img_5.png',\n",
    "    'exercises/ex3/img_6.png',\n",
    "    'exercises/ex3/img_7.png',\n",
    "    'exercises/ex3/img_8.png',\n",
    "    'exercises/ex3/img_9.png',\n",
    "]\n",
    "# The dest_path folder now contains the png-files\n",
    "```"
   ]
  },
  {
   "cell_type": "code",
   "execution_count": 3,
   "id": "1fee22b8",
   "metadata": {
    "deletable": false,
    "tags": [
     "selected-extraction"
    ]
   },
   "outputs": [],
   "source": [
    "import zipfile\n",
    "import os\n",
    " \n",
    "def extract_selected(archive_path, dest_path, file_extension):\n",
    "    try:\n",
    "        files = []\n",
    "        with zipfile.ZipFile(archive_path, 'r') as zip:\n",
    "            for file in zip.infolist():\n",
    "                if file.filename.lower().split(\".\")[-1] == file_extension.lower():\n",
    "                    zip.extract(file, dest_path)\n",
    "                    files.append(str(os.path.join(dest_path, file.filename)))\n",
    "        return files\n",
    "    except Exception:\n",
    "        return []"
   ]
  },
  {
   "cell_type": "markdown",
   "id": "daf525fa",
   "metadata": {
    "editable": false
   },
   "source": [
    "Use this separate cell to try out your code.\n",
    "Your code should work with the example below, but you're free to change it."
   ]
  },
  {
   "cell_type": "code",
   "execution_count": 11,
   "id": "d6f8eba1",
   "metadata": {},
   "outputs": [
    {
     "data": {
      "text/plain": [
       "['exercises/ex3/img_2.png',\n",
       " 'exercises/ex3/img_1.png',\n",
       " 'exercises/ex3/img_3.png',\n",
       " 'exercises/ex3/img_7.png',\n",
       " 'exercises/ex3/img_0.png',\n",
       " 'exercises/ex3/img_9.png',\n",
       " 'exercises/ex3/img_6.png',\n",
       " 'exercises/ex3/img_8.png',\n",
       " 'exercises/ex3/img_4.png',\n",
       " 'exercises/ex3/img_5.png']"
      ]
     },
     "execution_count": 11,
     "metadata": {},
     "output_type": "execute_result"
    }
   ],
   "source": [
    "archive_path = exercises_path / \"ex2.zip\"  # reusing the file we created above\n",
    "dest_path = exercises_path / \"ex3\"\n",
    "dest_path.mkdir(exist_ok=True)\n",
    "\n",
    "extract_selected(archive_path, dest_path, \"png\")"
   ]
  },
  {
   "cell_type": "markdown",
   "id": "eb62df8a",
   "metadata": {
    "editable": false,
    "tags": []
   },
   "source": [
    "### Exercise 4: Deleting Files\n",
    "\n",
    "Implement these two functions:\n",
    "\n",
    "First function: `delete_files(rootdir, extension)`\n",
    "* Sends all files of a given extension to the computer's recycle bin.\n",
    "* `rootdir` is a `Path` object and the base directory to start from.\n",
    "* `extension` is a string, for example `txt`.\n",
    "* Return value:\n",
    "    - A list of the files that were moved to the recycle bin, an empty list if nothing was moved.\n",
    "    - Every file is a string, with the file path **relative to the given `rootdir`** (see example)\n",
    "\n",
    "\n",
    "Second function: `delete_empty_folders(rootdir)`\n",
    "* Permanently deletes all empty folders.\n",
    "* `rootdir` is a `Path` object and the base directory to start from.\n",
    "* Return value:\n",
    "    - A list of the deleted folders, an empty list if nothing was deleted.\n",
    "    - Every folder is a string, with its path **relative to the given `rootdir`** (see example)\n",
    "* No need to implement a logic that deletes folders recursively, i.e. you do not have to consider the case `rootdir/subfolder/emptyfolder`.\n",
    "\n",
    "\n",
    "If you execute the functions on the sample folder structure, only the following files should be left:\n",
    "\n",
    "* `ex2.zip`\n",
    "* The `notes` folder, with three empty folders in it\n",
    "\n",
    "Expected output (the exact order of the files is not relevant):\n",
    "\n",
    "```python\n",
    ">>> delete_files(exercises_path, \"txt\")\n",
    "[\n",
    "    'notes/text_file_4.txt',\n",
    "    'notes/text_file_2.txt',\n",
    "    'notes/text_file_3.txt',\n",
    "    'notes/text_file_1.txt',\n",
    "    'notes/folder_3/text_file.txt',\n",
    "]\n",
    "\n",
    ">>> delete_files(exercises_path, \"png\")\n",
    "[\n",
    "    'images/img_2.png',\n",
    "    'images/img_4.png',\n",
    "    'images/img_5.png',\n",
    "    'images/img_0.png',\n",
    "    'images/img_8.png',\n",
    "    'images/img_9.png',\n",
    "    'images/img_3.png',\n",
    "    'images/img_7.png',\n",
    "    'images/img_6.png',\n",
    "    'images/img_1.png',\n",
    "    'ex3/img_2.png',\n",
    "    'ex3/img_4.png',\n",
    "    'ex3/img_5.png',\n",
    "    'ex3/img_0.png',\n",
    "    'ex3/img_8.png',\n",
    "    'ex3/img_9.png',\n",
    "    'ex3/img_3.png',\n",
    "    'ex3/img_7.png',\n",
    "    'ex3/img_6.png',\n",
    "    'ex3/img_1.png',\n",
    "]\n",
    "\n",
    ">>> delete_empty_folders(exercises_path)\n",
    "['images', 'ex3']\n",
    "```"
   ]
  },
  {
   "cell_type": "code",
   "execution_count": 12,
   "id": "6095f02f",
   "metadata": {
    "deletable": false,
    "tags": [
     "deleting-files"
    ]
   },
   "outputs": [],
   "source": [
    "import send2trash\n",
    " \n",
    " \n",
    "def delete_files(rootdir, extension):\n",
    "    returnList = []\n",
    " \n",
    "    for root, asd, files in os.walk(rootdir):\n",
    "        for file in files:\n",
    "            if file.endswith(\".\" + extension):\n",
    "                folderpath = os.path.join(root, file)\n",
    "                send2trash.send2trash(folderpath)\n",
    "                returnList.append(os.path.relpath(folderpath, rootdir))\n",
    " \n",
    "    return returnList\n",
    " \n",
    "def delete_empty_folders(rootdir):\n",
    "    returnList = []\n",
    "    for root, dirs, asd in os.walk(rootdir, topdown=False):\n",
    "        for directory in dirs:\n",
    "            folderpath = os.path.join(root, directory)\n",
    "            if not os.listdir(folderpath):\n",
    "                os.rmdir(folderpath)\n",
    "                returnList.append(os.path.relpath(folderpath, rootdir))\n",
    " \n",
    "    return returnList"
   ]
  },
  {
   "cell_type": "markdown",
   "id": "cd4b9a63",
   "metadata": {
    "editable": false
   },
   "source": [
    "Use these separate cells to try out your code.\n",
    "Your code should work with the example below, but you're free to change it."
   ]
  },
  {
   "cell_type": "code",
   "execution_count": null,
   "id": "d65b4e4d",
   "metadata": {},
   "outputs": [],
   "source": [
    "delete_files(exercises_path, \"txt\")"
   ]
  },
  {
   "cell_type": "code",
   "execution_count": null,
   "id": "383f038e",
   "metadata": {},
   "outputs": [],
   "source": [
    "delete_files(exercises_path, \"png\")"
   ]
  },
  {
   "cell_type": "code",
   "execution_count": null,
   "id": "25b7253a",
   "metadata": {},
   "outputs": [],
   "source": [
    "delete_empty_folders(exercises_path)"
   ]
  },
  {
   "cell_type": "markdown",
   "id": "ab38350e",
   "metadata": {
    "editable": false
   },
   "source": [
    "# Feedback form\n",
    "\n",
    "We'd like to get some feedback for this lab! To give us feedback, double-click the cells below and edit it in the appropriate places:\n",
    "\n",
    "- Replace `[ ]` by `[x]` to cross checkboxes, they should look like this once you finish editing:\n",
    "  * [ ] uncrossed\n",
    "  * [x] crossed\n",
    "- Add additional text where indicated (optional)"
   ]
  },
  {
   "cell_type": "markdown",
   "id": "c1977632",
   "metadata": {
    "deletable": false,
    "tags": [
     "feedback-difficulty"
    ]
   },
   "source": [
    "**Difficulty:**\n",
    "\n",
    "The difficulty of the materials in this lab was:\n",
    "\n",
    "- [ ] Much too difficult\n",
    "- [ ] A little too difficult\n",
    "- [ ] Just right\n",
    "- [ ] A little too easy\n",
    "- [ ] Much too easy"
   ]
  },
  {
   "cell_type": "markdown",
   "id": "2e4c1f5f",
   "metadata": {
    "deletable": false,
    "tags": [
     "feedback-time"
    ]
   },
   "source": [
    "**Time:**\n",
    "\n",
    "For one block (usually multiple labs), you should spend around 4h at home and 4h in the course. There are two labs in this block, so we'd expect you to spend a total of **around 4h on this one (both reading and solving)**.\n",
    "\n",
    "For the materials in *this lab*, do you think you spent:\n",
    "\n",
    "- [ ] Much more time\n",
    "- [ ] A little more time\n",
    "- [ ] About the scheduled amount of time\n",
    "- [ ] A little less time\n",
    "- [ ] Much less time"
   ]
  },
  {
   "cell_type": "markdown",
   "id": "f8a81b83",
   "metadata": {
    "deletable": false,
    "tags": [
     "feedback-text-topics"
    ]
   },
   "source": [
    "**Any topics you found especially enjoyable or difficult in this lab?**\n",
    "\n",
    "<!-- Write below this line -->"
   ]
  },
  {
   "cell_type": "markdown",
   "id": "dd631568",
   "metadata": {
    "deletable": false,
    "tags": [
     "feedback-text-free"
    ]
   },
   "source": [
    "**Anything else you'd like to tell us?**\n",
    "\n",
    "<!-- Write below this line -->"
   ]
  },
  {
   "cell_type": "markdown",
   "id": "e70aef39",
   "metadata": {
    "editable": false
   },
   "source": [
    "# Submit\n",
    "\n",
    "First, **save this file** (no grey dot should be visible in the tab above). Then, run the cell below to submit your work and see the results. You can submit as often as you like.\n",
    "\n",
    "In case of problems:\n",
    "- *Don't panic!*\n",
    "- If you're in a course, show the error to your instructor.\n",
    "- If the **tests failed** and you suspect an issue in the tests:\n",
    "    * Mail your instructor, Cc `florian.bruhin@ost.ch` (if instructor != florian)\n",
    "    * **No attachments** necessary.\n",
    "- If the **submission failed** (error message, etc.):\n",
    "    * Mail your instructor, Cc `florian.bruhin@ost.ch` (if instructor != florian)\n",
    "    * Attach a screenshot of the issue\n",
    "    * Attach the notebook (File > Download)."
   ]
  },
  {
   "cell_type": "code",
   "execution_count": 14,
   "id": "e9079a12",
   "metadata": {},
   "outputs": [
    {
     "name": "stdout",
     "output_type": "stream",
     "text": [
      "Last change: \u001b[1;36m2\u001b[0m seconds ago\n",
      "\n",
      "\u001b[2K\u001b[32m⠇\u001b[0m \u001b[1;32mTesting...\u001b[0m0m\n",
      "\u001b[1A\u001b[2K╭─────────────────────────────── creating files ───────────────────────────────╮\n",
      "│ \u001b[32m100% passed\u001b[0m                                                                  │\n",
      "╰──────────────────────────────────────────────────────────────────────────────╯\n",
      "╭─────────────────────────────── deleting files ───────────────────────────────╮\n",
      "│ \u001b[32m100% passed\u001b[0m                                                                  │\n",
      "╰──────────────────────────────────────────────────────────────────────────────╯\n",
      "╭──────────────────────────── selected extraction ─────────────────────────────╮\n",
      "│ \u001b[32m100% passed\u001b[0m                                                                  │\n",
      "╰──────────────────────────────────────────────────────────────────────────────╯\n",
      "╭─────────────────────────────── zipping files ────────────────────────────────╮\n",
      "│ \u001b[32m100% passed\u001b[0m                                                                  │\n",
      "╰──────────────────────────────────────────────────────────────────────────────╯\n",
      "\n",
      "┏━━━━━━━━━━━━━━━━━━━━━━━━━━━━━━━━━━━ Total ━━━━━━━━━━━━━━━━━━━━━━━━━━━━━━━━━━━━┓\n",
      "┃ \u001b[32m100% passed\u001b[0m                                                                  ┃\n",
      "┗━━━━━━━━━━━━━━━━━━━━━━━━━━━━━━━━━━━━━━━━━━━━━━━━━━━━━━━━━━━━━━━━━━━━━━━━━━━━━━┛\n",
      "📫 ✔ \u001b[1mSubmission successful!\u001b[0m \u001b[1;37m(\u001b[0m\u001b[1;37m2023\u001b[0m\u001b[37m-\u001b[0m\u001b[1;37m11\u001b[0m\u001b[37m-\u001b[0m\u001b[1;37m13\u001b[0m\u001b[37m \u001b[0m\u001b[1;37m13:33:30\u001b[0m\u001b[37m, 7056754cd\u001b[0m\u001b[1;37m)\u001b[0m\n"
     ]
    }
   ],
   "source": [
    "!submit organizing-files.ipynb"
   ]
  }
 ],
 "metadata": {
  "kernelspec": {
   "display_name": "Python 3 (ipykernel)",
   "language": "python",
   "name": "python3"
  },
  "language_info": {
   "codemirror_mode": {
    "name": "ipython",
    "version": 3
   },
   "file_extension": ".py",
   "mimetype": "text/x-python",
   "name": "python",
   "nbconvert_exporter": "python",
   "pygments_lexer": "ipython3",
   "version": "3.11.6"
  },
  "vscode": {
   "interpreter": {
    "hash": "0651c627c3b64d1ada904a564819abcba4b8231b6784e7fb386e86e8dc20be09"
   }
  }
 },
 "nbformat": 4,
 "nbformat_minor": 5
}
