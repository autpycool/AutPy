{
 "cells": [
  {
   "cell_type": "markdown",
   "id": "c3cdea78",
   "metadata": {
    "editable": false,
    "tags": []
   },
   "source": [
    "# Flow Control and the Import System\n",
    "\n",
    "## Introduction\n",
    "\n",
    "This notebook is about executing code conditionally and importing modules.\n",
    "\n",
    "**This notebook covers the [second chapter](https://automatetheboringstuff.com/2e/chapter2/) of the book.**\n",
    "\n",
    "### Optional resources\n",
    "\n",
    "You can find more information about flow control and modules in the Python documentation:\n",
    "\n",
    "- [Python Tutorial: Control Flow](https://docs.python.org/3/tutorial/controlflow.html)\n",
    "- [Python Tutorial: Modules](https://docs.python.org/3/tutorial/modules.html)\n",
    "\n",
    "Relevant Real Python tutorials:\n",
    "\n",
    "- [Conditional Statements in Python](https://realpython.com/python-conditional-statements/)\n",
    "- [Python \"while\" Loops (Indefinite Iteration)](https://realpython.com/python-while-loop/)\n",
    "- [Python \"for\" Loops (Definite Iteration)](https://realpython.com/python-for-loop/)\n",
    "- [Python Modules and Packages – An Introduction](https://realpython.com/python-modules-packages/)\n",
    "- [Python import: Advanced Techniques and Tips](https://realpython.com/python-import/)"
   ]
  },
  {
   "cell_type": "markdown",
   "id": "6890932c",
   "metadata": {
    "editable": false
   },
   "source": [
    "## Summary\n",
    "\n",
    "### Flow Control\n",
    "\n",
    "Flow control allows you to execute parts of code based on conditions. Flow control structures consist of a keyword (`if`, `while` and `for`), an expression (usually a condition), a `:` and a block of indented code. For example:\n",
    "\n",
    "```python\n",
    "while condition:\n",
    "    print(\"Part of the while-block\")\n",
    "    print(\"While-block continues\")\n",
    "print(\"This line is not of the block anymore!\")\n",
    "```\n",
    "\n",
    "If you're familiar with other programming languages such as Java, those typically use braces (`{` and `}`) to delimit blocks. In those languages, blocks are still typically indented (\"eingerückt\") to aid with readability. Python instead bases those blocks on the indentation, so there is no need to have braces as additional delimiters.\n",
    "\n",
    "Forgetting the colon (`:`) is a common mistake, even among experienced Python programmers. If you get a `SyntaxError` at the end of the expression line, this is most likely why.\n",
    "\n",
    "If you need to \"fill\" a block of code but don't want to do anything (or want to write code for that block later), use the `pass` keyword which does exactly this: nothing.\n",
    "\n",
    "#### if\n",
    "\n",
    "Blocks inside `if` structures are executed if the condition is `True` (or \"truthy\"). Checking additional conditions is possible using one or more `elif` statements. Running a block of code if no condition matches is done using the `else` statement.\n",
    "\n",
    "```python\n",
    "if condition:\n",
    "    pass\n",
    "elif condition:\n",
    "    pass\n",
    "elif condition:\n",
    "    pass\n",
    "else:\n",
    "    pass\n",
    "```\n",
    "\n",
    "#### while\n",
    "\n",
    "Blocks inside `while` structures are executed / repeated as long as the condition is `True` (or \"truthy\"). It's possible to leave a while block using the `break` keyword or to skip to the start of the next repetition using the `continue` statement. Some examples:\n",
    "\n",
    "```python\n",
    "while condition:\n",
    "    pass\n",
    "```\n",
    "\n",
    "```python\n",
    "while True:  # endless looping\n",
    "    ...\n",
    "    if some_other_condition:\n",
    "        break  # stop the loop\n",
    "```\n",
    "\n",
    "```python\n",
    "while condition:\n",
    "    ...\n",
    "    if condition:\n",
    "        continue  # jump to the next step of the loop\n",
    "\n",
    "    # code here isn't executed if the \"continue\" was run\n",
    "    ...\n",
    "```\n",
    "\n",
    "#### for\n",
    "\n",
    "Blocks inside `for` structures are executed / repeated a specific number of times. In the book, `for` was only used together with `range(...)`, but in a later lab, you will also learn how to use `for` to iterate over a list of items (like `foreach` in other languages).\n",
    "\n",
    "You can use `break` and `continue` in the same way they work with `while`.\n",
    "\n",
    "```python\n",
    "for variable in statement:\n",
    "    ...\n",
    "```\n",
    "\n",
    "### Import system\n",
    "\n",
    "In bigger projects, you typically split up your code into multiple files. Those are called Python *modules*. \n",
    "Python comes with many such modules included. These included modules are called the Python [Standard Library](https://docs.python.org/3/library/index.html) because they are available with every Python installation, without having to be downloaded/installed separately. If you want to see what you can find in the standard library, check the [Brief Tour of the Standard Library](https://docs.python.org/3/tutorial/stdlib.html).\n",
    "\n",
    "Modules must be imported using the `import` keyword before they can be used. Assuming you had a `utils.py` with a function `annoy_user` in it, you could import the entire module and use the function by specifying the imported module name before it:\n",
    "\n",
    "```python\n",
    "import utils\n",
    "\n",
    "utils.annoy_user()\n",
    "```\n",
    "\n",
    "...or just import the functions, objects etc. you need, then use them directly:\n",
    "\n",
    "```python\n",
    "from utils import annoy_user\n",
    "\n",
    "annoy_user()\n",
    "```\n",
    "\n",
    "It's also possible to import everything from a module using `*` (not recommended):\n",
    "\n",
    "```python\n",
    "from utils import *  # we don't know what we'll get\n",
    "\n",
    "annoy_user()\n",
    "```\n",
    "\n",
    "Sometimes, we want to give the imported modules, functions etc. a new name. This is useful when importing things which would otherwise cause a naming confict:\n",
    "\n",
    "```python\n",
    "from utils import annoy_user as notify_user\n",
    "```\n",
    "\n",
    "If you have many different files, you'd typically split them up further, into different folders. Python calls those *packages*. Note, however, that the same term \"package\" is used for two different things: Folders containing modules, as well as for installable third-party Python projects.\n",
    "\n",
    "To become a Python package, a folder needs to contain an (usually empty) file called `__init__.py`. When importing, modules and submodules are separated using dots (`.`).\n",
    "\n",
    "Assuming our `utils.py` module became too big, it could be split up into the following file structure:\n",
    "\n",
    "- `utils/__init__.py` (empty)\n",
    "- `utils/annoy.py` (contains `annoy_user`)\n",
    "- `utils/format.py` (contains `format_duration`)\n",
    "\n",
    "We could then import the module and use the full path again:\n",
    "\n",
    "```python\n",
    "import utils.annoy\n",
    "\n",
    "utils.annoy.annoy_user()\n",
    "```\n",
    "\n",
    "or import modules from inside packages:\n",
    "\n",
    "```python\n",
    "from utils import annoy\n",
    "\n",
    "annoy.annoy_user()\n",
    "```\n",
    "\n",
    "or, finally, import the function from inside the module:\n",
    "\n",
    "```python\n",
    "from utils.annoy import annoy_user\n",
    "\n",
    "annoy_user()\n",
    "```"
   ]
  },
  {
   "cell_type": "markdown",
   "id": "faf261d6",
   "metadata": {
    "editable": false
   },
   "source": [
    "## Exercises"
   ]
  },
  {
   "cell_type": "markdown",
   "id": "6700d395",
   "metadata": {
    "editable": false
   },
   "source": [
    "### Exercise 1: Importing Modules\n",
    "\n",
    "#### a) Rounding\n",
    "\n",
    "Use the [math library](https://docs.python.org/3/library/math.html) to first round up, then round down `10.3` and `10.6`."
   ]
  },
  {
   "cell_type": "code",
   "execution_count": 1,
   "id": "433b41af",
   "metadata": {
    "deletable": false,
    "tags": [
     "importing-modules-math"
    ]
   },
   "outputs": [
    {
     "name": "stdout",
     "output_type": "stream",
     "text": [
      "a rounded up: 11 / down: 10\n",
      "b rounded up: 11 / down: 10\n"
     ]
    }
   ],
   "source": [
    "# todo: import modules\n",
    "import math\n",
    "\n",
    "a = 10.3\n",
    "b = 10.6\n",
    "\n",
    "# todo: round up / down\n",
    "a_rounded_up = math.ceil(a)\n",
    "b_rounded_up = math.ceil(b)\n",
    "a_rounded_down = math.floor(a)\n",
    "b_rounded_down = math.floor(b)\n",
    "\n",
    "# ---- no changes below! ----\n",
    "print(f\"a rounded up: {a_rounded_up} / down: {a_rounded_down}\")\n",
    "print(f\"b rounded up: {b_rounded_up} / down: {b_rounded_down}\")"
   ]
  },
  {
   "cell_type": "markdown",
   "id": "1b252ea5",
   "metadata": {
    "editable": false
   },
   "source": [
    "#### b) Random numbers\n",
    "\n",
    "Use the [random libary](https://docs.python.org/3/library/random.html) to generate:\n",
    "\n",
    "- a random float between 1.0 and 2.0\n",
    "- a random integer between 10 and 15 (both inclusive)"
   ]
  },
  {
   "cell_type": "code",
   "execution_count": 165,
   "id": "6254c180",
   "metadata": {
    "deletable": false,
    "tags": [
     "importing-modules-random"
    ]
   },
   "outputs": [
    {
     "name": "stdout",
     "output_type": "stream",
     "text": [
      "Random float: 1.7940909017498994\n",
      "Random integer: 10\n"
     ]
    }
   ],
   "source": [
    "import random\n",
    "# todo: import modules\n",
    "# todo: create random numbers\n",
    "random_float = random.random()+1\n",
    "random_integer = random.randint(10, 15)\n",
    "# ---- no changes below! ----\n",
    "print(f\"Random float: {random_float}\")\n",
    "print(f\"Random integer: {random_integer}\")"
   ]
  },
  {
   "cell_type": "markdown",
   "id": "1e8aa52f",
   "metadata": {
    "editable": false
   },
   "source": [
    "### Exercise 2: `if`\n",
    "\n",
    "Use `if` statements to print a different text based on a given birth year.\n",
    "\n",
    "- For years before 1883, print `Too old`.\n",
    "- For years between 1883 and 1900, print `Lost generation`\n",
    "- Between 1901 and 1927, print `Greatest generation`\n",
    "- Between 1928 and 1945, print `Silent generation`\n",
    "- Between 1946 and 1964, print `Baby Boomers`\n",
    "- Between 1965 and 1980, print `Generation X`\n",
    "- Between 1981 and 1996, print `Millenials`\n",
    "- Between 1997 and 2012, print `Generation Z`\n",
    "- Between 2013 and 2021, print `Generation Alpha`\n",
    "- For years after 2021, print `Too young`\n",
    "\n",
    "Some **important hints**:\n",
    "\n",
    "- All ranges above are inclusive\n",
    "- You can simplify conditions like `if year >= 1997 and year <= 2012:` by writing `if 1997 <= year <= 2012:` instead (but this isn't required).\n",
    "- The tests will check for exactly the outputs listed above. It's recommended to copy-paste them rather than retyping them, to avoid typos.\n",
    "- First run the `year = 1993` cell so that the variable is defined. You can change the value and rerun the cell if you want to play with different values. Your solution belongs in the cell below it, with the `# todo` comment."
   ]
  },
  {
   "cell_type": "code",
   "execution_count": 4,
   "id": "5667ae26",
   "metadata": {
    "deletable": false,
    "tags": [
     "if-vars"
    ]
   },
   "outputs": [],
   "source": [
    "year = 1993\n",
    "\n",
    "# Don't change those outputs, use these constants as-is in your solution.\n",
    "OUTPUT_OLD = \"Too old\"\n",
    "OUTPUT_LOST = \"Lost generation\"\n",
    "OUTPUT_GREATEST = \"Greatest generation\"\n",
    "OUTPUT_SILENT = \"Silent generation\"\n",
    "OUTPUT_BOOMERS = \"Baby Boomers\"\n",
    "OUTPUT_X = \"Generation X\"\n",
    "OUTPUT_MILLENIALS = \"Millenials\"\n",
    "OUTPUT_Z = \"Generation Z\"\n",
    "OUTPUT_ALPHA = \"Generation Alpha\"\n",
    "OUTPUT_YOUNG = \"Too young\""
   ]
  },
  {
   "cell_type": "code",
   "execution_count": 5,
   "id": "72062d43",
   "metadata": {
    "deletable": false,
    "tags": [
     "if"
    ]
   },
   "outputs": [
    {
     "name": "stdout",
     "output_type": "stream",
     "text": [
      "Millenials\n"
     ]
    }
   ],
   "source": [
    "if (year < 1883):\n",
    "    print(OUTPUT_OLD)\n",
    "elif(1883 <= year <= 1900):\n",
    "    print(OUTPUT_LOST)\n",
    "elif(1901 <= year <= 1927):\n",
    "    print(OUTPUT_GREATEST)\n",
    "elif(1928 <= year <= 1945):\n",
    "    print(OUTPUT_SILENT)\n",
    "elif(1946 <= year <= 1964):\n",
    "    print(OUTPUT_BOOMERS)\n",
    "elif(1965 <= year <= 1980):\n",
    "    print(OUTPUT_X)\n",
    "elif(1981 <= year <= 1996):\n",
    "    print(OUTPUT_MILLENIALS)\n",
    "elif(1997 <= year <= 2012):\n",
    "    print(OUTPUT_Z)\n",
    "elif(2013 <= year <= 2021):\n",
    "    print(OUTPUT_ALPHA)\n",
    "elif(2022 <= year):\n",
    "    print(OUTPUT_YOUNG)"
   ]
  },
  {
   "cell_type": "markdown",
   "id": "c3829241",
   "metadata": {
    "editable": false
   },
   "source": [
    "### Exercise 3: `while`\n",
    "Create a `while` loop, which halves (halbiert) `x` in every loop, as long as `x` is greater than one. During every iteration print out the value of x. The first printed value should be the original value (20), the last printed value should be the last value greater than one.\n",
    "\n",
    "As above, you can change the value in the first cell, and your solution should go into the second cell."
   ]
  },
  {
   "cell_type": "code",
   "execution_count": 18,
   "id": "d0eac2b2",
   "metadata": {
    "tags": []
   },
   "outputs": [],
   "source": [
    "x = 20"
   ]
  },
  {
   "cell_type": "code",
   "execution_count": 19,
   "id": "fa91a4e7",
   "metadata": {
    "deletable": false,
    "tags": [
     "while"
    ]
   },
   "outputs": [
    {
     "name": "stdout",
     "output_type": "stream",
     "text": [
      "20\n",
      "20\n",
      "10.0\n",
      "5.0\n",
      "2.5\n",
      "1.25\n"
     ]
    }
   ],
   "source": [
    "# todo: create while loop\n",
    "while (x > 1):\n",
    "    print(x)\n",
    "    x = x/2"
   ]
  },
  {
   "cell_type": "markdown",
   "id": "866d6d5c",
   "metadata": {
    "editable": false
   },
   "source": [
    "### Exercise 4: `for`\n",
    "\n"
   ]
  },
  {
   "cell_type": "markdown",
   "id": "707781d0",
   "metadata": {
    "editable": false
   },
   "source": [
    "#### a) Looping over string\n",
    "It's also possible to loop over the characters of a string! Print the ASCII value of each character of `Hello World!` (including the `!`)."
   ]
  },
  {
   "cell_type": "code",
   "execution_count": 1,
   "id": "3806ad55",
   "metadata": {
    "deletable": false,
    "tags": [
     "for-string"
    ]
   },
   "outputs": [
    {
     "name": "stdout",
     "output_type": "stream",
     "text": [
      "72\n",
      "101\n",
      "108\n",
      "108\n",
      "111\n",
      "32\n",
      "87\n",
      "111\n",
      "114\n",
      "108\n",
      "100\n",
      "33\n"
     ]
    }
   ],
   "source": [
    "# todo: create for loop\n",
    "for char in 'Hello World!':\n",
    "    print(ord(char))"
   ]
  },
  {
   "cell_type": "markdown",
   "id": "3b298fa7",
   "metadata": {
    "editable": false
   },
   "source": [
    "#### b) Continue and break\n",
    "\n",
    "Create another `for` loop, iterating over a string as above. This time, print every character **upper-cased** and on its own line.\n",
    "\n",
    "However:\n",
    "\n",
    "- If the character is an space (` `), skip it **by using `continue`**.\n",
    "- If the character is a question mark (`?`), terminate the for loop, without printing the `?`.\n",
    "\n",
    "For example, with `\"Hi! Sup? Meh.\"`, the expected output is:\n",
    "\n",
    "```\n",
    "H\n",
    "I\n",
    "!\n",
    "S\n",
    "U\n",
    "P\n",
    "```\n",
    "\n",
    "As with exercise 2, you can change the value of `inp` freely in the first cell,\n",
    "and your solution should be in the second cell, using the `inp` variable."
   ]
  },
  {
   "cell_type": "code",
   "execution_count": 20,
   "id": "92e01b11",
   "metadata": {
    "tags": []
   },
   "outputs": [],
   "source": [
    "inp = \"Hi! Sup? Meh.\""
   ]
  },
  {
   "cell_type": "code",
   "execution_count": 22,
   "id": "759f8125",
   "metadata": {
    "deletable": false,
    "tags": [
     "for-break-continue"
    ]
   },
   "outputs": [
    {
     "name": "stdout",
     "output_type": "stream",
     "text": [
      "H\n",
      "I\n",
      "!\n",
      "S\n",
      "U\n",
      "P\n"
     ]
    }
   ],
   "source": [
    "# todo: create for loop\n",
    "for char in inp:\n",
    "    if (char == '?'):\n",
    "        break\n",
    "    elif char == ' ':\n",
    "        continue\n",
    "    else:\n",
    "        print(char.upper())"
   ]
  },
  {
   "cell_type": "markdown",
   "id": "fac6f5fc",
   "metadata": {
    "editable": false,
    "tags": []
   },
   "source": [
    "#### c) Factorial\n",
    "Use a `for` loop to calculate the [factorial](https://en.wikipedia.org/wiki/Factorial) of `x`. A factorial is the product of all numbers from 1 to a given number *x*. The factorial of *x* (written *x!*) is defined as $1 \\cdot{} 2 \\cdot{} \\ldots{} \\cdot{} x-1 \\cdot{} x$. For example, if $x = 5$, the factorial would be $1 \\cdot{} 2 \\cdot{} 3 \\cdot{} 4 \\cdot{} 5 = 120$.\n",
    "\n",
    "Print all intermediary results and the end result.\n",
    "\n",
    "If the result becomes greater than `10'000`, stop the calculation, and don't print the last result. Instead, print e.g. `20! is too big` (for `x = 20`).\n",
    "\n",
    "For `x = 5`, your cell should print:\n",
    "\n",
    "```\n",
    "1\n",
    "2\n",
    "...\n",
    "24\n",
    "120\n",
    "```\n",
    "\n",
    "For `x = 20`, your cell should print:\n",
    "\n",
    "```\n",
    "1\n",
    "2\n",
    "...\n",
    "5040\n",
    "20! is too big\n",
    "```"
   ]
  },
  {
   "cell_type": "code",
   "execution_count": 6,
   "id": "e60f3ed4",
   "metadata": {
    "tags": []
   },
   "outputs": [],
   "source": [
    "x = 20"
   ]
  },
  {
   "cell_type": "code",
   "execution_count": 7,
   "id": "34c349d5",
   "metadata": {
    "deletable": false,
    "tags": [
     "for-factorial"
    ]
   },
   "outputs": [
    {
     "name": "stdout",
     "output_type": "stream",
     "text": [
      "1\n",
      "2\n",
      "6\n",
      "24\n",
      "120\n",
      "720\n",
      "5040\n",
      "20! is too big\n"
     ]
    }
   ],
   "source": [
    "# todo: calculate with for loop\n",
    "factorial = 1\n",
    "for n in range(x):\n",
    "    factorial = factorial * (n+1)\n",
    "    if factorial > 10000:\n",
    "        print(f'{x}! is too big')\n",
    "        break\n",
    "    print(factorial)"
   ]
  },
  {
   "cell_type": "markdown",
   "id": "e724586e",
   "metadata": {
    "editable": false
   },
   "source": [
    "### Exercise 5: Countdowns\n",
    "\n",
    "Print countdowns from 10...0 using:\n",
    "1. `for` and `range` with a **single argument** and no `reversed`\n",
    "2. `for` and `range` with negative step size\n",
    "3. `for` and `range` with a **single argument** plus `reversed`\n",
    "4. `while`\n",
    "\n",
    "For 1 to 3, use `range` and `reversed` directly in the `for` line, **without using any additional variables**.\n",
    "\n",
    "Note that essentially all cells have the same output, but achieve it differently. Here is the Python documentation of `range` and `reversed`:\n",
    "\n",
    "- [range](https://docs.python.org/3/library/stdtypes.html#range)\n",
    "- [reversed](https://docs.python.org/3/library/functions.html#reversed)\n"
   ]
  },
  {
   "cell_type": "code",
   "execution_count": 64,
   "id": "61942412",
   "metadata": {
    "deletable": false,
    "tags": [
     "countdowns-for-range"
    ]
   },
   "outputs": [
    {
     "name": "stdout",
     "output_type": "stream",
     "text": [
      "10\n",
      "9\n",
      "8\n",
      "7\n",
      "6\n",
      "5\n",
      "4\n",
      "3\n",
      "2\n",
      "1\n",
      "0\n"
     ]
    }
   ],
   "source": [
    "# 1. todo: for / range\n",
    "for n in range(11):\n",
    "    print(10-n)"
   ]
  },
  {
   "cell_type": "code",
   "execution_count": 63,
   "id": "e6ef37cc",
   "metadata": {
    "deletable": false,
    "tags": [
     "countdowns-for-range-negative"
    ]
   },
   "outputs": [
    {
     "name": "stdout",
     "output_type": "stream",
     "text": [
      "10\n",
      "9\n",
      "8\n",
      "7\n",
      "6\n",
      "5\n",
      "4\n",
      "3\n",
      "2\n",
      "1\n",
      "0\n"
     ]
    }
   ],
   "source": [
    "# 2. todo: for / range with negative step\n",
    "for n in range(10, -1, -1):\n",
    "    print(n)"
   ]
  },
  {
   "cell_type": "code",
   "execution_count": 60,
   "id": "9d70fb46",
   "metadata": {
    "deletable": false,
    "tags": [
     "countdowns-for-range-reversed"
    ]
   },
   "outputs": [
    {
     "name": "stdout",
     "output_type": "stream",
     "text": [
      "10\n",
      "9\n",
      "8\n",
      "7\n",
      "6\n",
      "5\n",
      "4\n",
      "3\n",
      "2\n",
      "1\n",
      "0\n"
     ]
    }
   ],
   "source": [
    "# 3. todo: for / range with reversed\n",
    "for n in reversed(range(11)):\n",
    "    print(n)"
   ]
  },
  {
   "cell_type": "code",
   "execution_count": 3,
   "id": "da28c44c",
   "metadata": {
    "deletable": false,
    "tags": [
     "countdowns-while"
    ]
   },
   "outputs": [
    {
     "name": "stdout",
     "output_type": "stream",
     "text": [
      "10\n",
      "9\n",
      "8\n",
      "7\n",
      "6\n",
      "5\n",
      "4\n",
      "3\n",
      "2\n",
      "1\n",
      "0\n"
     ]
    }
   ],
   "source": [
    "# 4. todo: while\n",
    "counter = 10\n",
    "while counter >= 0:\n",
    "    print(counter)\n",
    "    counter = counter - 1"
   ]
  },
  {
   "cell_type": "markdown",
   "id": "8d064c30",
   "metadata": {
    "editable": false,
    "tags": []
   },
   "source": [
    "### Exercise 6: It's Raining Outside\n",
    "\n",
    "Remember the flowchart from the book which tells you what to do if it is raining?\n",
    "\n",
    "![Flowchart](flowchart.png)\n",
    "\n",
    "Let's implement this with a `while` structure and two variables:\n",
    "- `remaining_raining_minutes`: An integer indicating how much long it will rain. If `0`, it's not raining at all. Subtract `1` each time you need to wait.\n",
    "- `have_umbrella`: A boolean indicating if we have an umbrella or not.\n",
    "\n",
    "The cell should output the following if it's raining for 5 minutes and we don't have an umbrella:\n",
    "```\n",
    "Waiting a while\n",
    "Waiting a while\n",
    "Waiting a while\n",
    "Waiting a while\n",
    "Waiting a while\n",
    "Go outside\n",
    "```\n",
    "\n",
    "The cell should output the following if it's raining for 5 minutes and we have an umbrella (change the value in the first cell accordingly):\n",
    "```\n",
    "Go outside\n",
    "```"
   ]
  },
  {
   "cell_type": "code",
   "execution_count": 1,
   "id": "7da0813b",
   "metadata": {
    "deletable": false,
    "tags": [
     "raining-outside-vars"
    ]
   },
   "outputs": [],
   "source": [
    "remaining_raining_minutes = -1\n",
    "have_umbrella = False\n",
    "\n",
    "# Don't change those outputs, use these constants as-is in your solution.\n",
    "OUTPUT_WAITING = \"Waiting a while\"\n",
    "OUTPUT_GO = \"Go outside\""
   ]
  },
  {
   "cell_type": "code",
   "execution_count": 6,
   "id": "15fe1618",
   "metadata": {
    "deletable": false,
    "tags": [
     "raining-outside"
    ]
   },
   "outputs": [
    {
     "name": "stdout",
     "output_type": "stream",
     "text": [
      "Go outside\n"
     ]
    }
   ],
   "source": [
    "# todo: create while loop\n",
    "while remaining_raining_minutes > 0 and not have_umbrella:\n",
    "    print(OUTPUT_WAITING)\n",
    "    remaining_raining_minutes = remaining_raining_minutes - 1\n",
    "print(OUTPUT_GO)"
   ]
  },
  {
   "cell_type": "markdown",
   "id": "5041371f",
   "metadata": {
    "editable": false,
    "tags": []
   },
   "source": [
    "### Exercise 7: Working with Types\n",
    "It's also possible to iterate over a list of variables or values using `for x in [1, 2, ...]:`.\n",
    "\n",
    "Evaluate the given values in a for loop and:\n",
    "- Print the length, if the value is a string\n",
    "- Print the ASCII value, if the value is a character (a string of length one)\n",
    "- Print the hexadecimal value, if the value is an integer\n",
    "- Print the rounded value (one decimal point), if the value is a float\n",
    "- Print a question mark in all other cases\n",
    "\n",
    "Use built-in functions and f-strings (see the lab 1 summary) for the output.\n",
    "\n",
    "Your cell should output the following:\n",
    "```\n",
    "Hello World! is a string of length 12\n",
    "100 is an integer with a hex value of 0x64\n",
    "20.23 is a float with a rounded value of 20.2\n",
    "d is a character with an ASCII value of 100\n",
    "[] is ?\n",
    "None is ?\n",
    "```"
   ]
  },
  {
   "cell_type": "code",
   "execution_count": 3,
   "id": "c5ea8192",
   "metadata": {
    "tags": []
   },
   "outputs": [],
   "source": [
    "# You can freely change those values if you want to.\n",
    "values = [\"Hello World!\", 100, 20.23, \"d\", [], None]"
   ]
  },
  {
   "cell_type": "code",
   "execution_count": 170,
   "id": "12ea365b",
   "metadata": {
    "deletable": false,
    "tags": [
     "types"
    ]
   },
   "outputs": [
    {
     "name": "stdout",
     "output_type": "stream",
     "text": [
      "Hello World! is a string of length 12\n",
      "100 is an integer with a hex value of 0x64\n",
      "20.23 is a float with a rounded value of 20.2\n",
      "d is a character with an ASCII value of 100\n",
      "[] is ?\n",
      "None is ?\n"
     ]
    }
   ],
   "source": [
    "for value in values:\n",
    "    # todo: print different information depending on the type of the value\n",
    "    if isinstance(value, str) and len(value) > 1:\n",
    "        print(f'{value} is a string of length {len(value)}')\n",
    "    elif isinstance(value, int):\n",
    "        print(f'{value} is an integer with a hex value of {hex(value)}')\n",
    "    elif isinstance(value, float):\n",
    "        print(f'{value} is a float with a rounded value of {round(value, 1)}')\n",
    "    elif isinstance(value, str) and len(value) == 1:\n",
    "        print(f'{value} is a character with an ASCII value of {ord(value)}')\n",
    "    else:\n",
    "        print(f'{value} is ?')"
   ]
  },
  {
   "cell_type": "markdown",
   "id": "023b0646",
   "metadata": {
    "editable": false
   },
   "source": [
    "# Feedback form\n",
    "\n",
    "We'd like to get some feedback for this lab! To give us feedback, double-click the cells below and edit it in the appropriate places:\n",
    "\n",
    "- Replace `[ ]` by `[x]` to cross checkboxes, they should look like this once you finish editing:\n",
    "  * [ ] uncrossed\n",
    "  * [x] crossed\n",
    "- Add additional text where indicated (optional)"
   ]
  },
  {
   "cell_type": "markdown",
   "id": "8c12d725",
   "metadata": {
    "deletable": false,
    "tags": [
     "feedback-difficulty"
    ]
   },
   "source": [
    "**Difficulty:**\n",
    "\n",
    "The difficulty of the materials in this lab was:\n",
    "\n",
    "- [ ] Much too difficult\n",
    "- [ ] A little too difficult\n",
    "- [ ] Just right\n",
    "- [ ] A little too easy\n",
    "- [ ] Much too easy"
   ]
  },
  {
   "cell_type": "markdown",
   "id": "0a3d2924",
   "metadata": {
    "deletable": false,
    "tags": [
     "feedback-time"
    ]
   },
   "source": [
    "**Time:**\n",
    "\n",
    "For one block (usually multiple labs), you should spend around 4h at home and 4h in the course. There are two labs in this block, so we'd expect you to spend a total of **around 4h on this one (both reading and solving)**.\n",
    "\n",
    "For the materials in *this lab*, do you think you spent:\n",
    "\n",
    "- [ ] Much more time\n",
    "- [ ] A little more time\n",
    "- [ ] About the scheduled amount of time\n",
    "- [ ] A little less time\n",
    "- [ ] Much less time"
   ]
  },
  {
   "cell_type": "markdown",
   "id": "e4c08e80",
   "metadata": {
    "deletable": false,
    "tags": [
     "feedback-text-topics"
    ]
   },
   "source": [
    "**Any topics you found especially enjoyable or difficult in this lab?**\n",
    "\n",
    "<!-- Write below this line -->"
   ]
  },
  {
   "cell_type": "markdown",
   "id": "521cacc7",
   "metadata": {
    "deletable": false,
    "tags": [
     "feedback-text-free"
    ]
   },
   "source": [
    "**Anything else you'd like to tell us?**\n",
    "\n",
    "<!-- Write below this line -->"
   ]
  },
  {
   "cell_type": "markdown",
   "id": "619bcf4c",
   "metadata": {
    "editable": false
   },
   "source": [
    "# Submit\n",
    "\n",
    "First, **save this file** (no grey dot should be visible in the tab above). Then, run the cell below to submit your work and see the results. You can submit as often as you like.\n",
    "\n",
    "In case of problems:\n",
    "- *Don't panic!*\n",
    "- If you're in a course, show the error to your instructor.\n",
    "- If the **tests failed** and you suspect an issue in the tests:\n",
    "    * Mail your instructor, Cc `florian.bruhin@ost.ch` (if instructor != florian)\n",
    "    * **No attachments** necessary.\n",
    "- If the **submission failed** (error message, etc.):\n",
    "    * Mail your instructor, Cc `florian.bruhin@ost.ch` (if instructor != florian)\n",
    "    * Attach a screenshot of the issue\n",
    "    * Attach the notebook (File > Download)."
   ]
  },
  {
   "cell_type": "code",
   "execution_count": 1,
   "id": "dfae304c",
   "metadata": {
    "tags": []
   },
   "outputs": [
    {
     "name": "stdout",
     "output_type": "stream",
     "text": [
      "Last change: \u001b[1;36m280512\u001b[0m seconds ago\n",
      "\u001b[1;31m╭───────────────────────────────╮\u001b[0m\n",
      "\u001b[1;31m│\u001b[0m\u001b[1;31m \u001b[0m\u001b[1;31mMake sure you saved the file!\u001b[0m\u001b[1;31m \u001b[0m\u001b[1;31m│\u001b[0m\n",
      "\u001b[1;31m╰───────────────────────────────╯\u001b[0m\n",
      "\n",
      "\u001b[2K\u001b[32m⠦\u001b[0m \u001b[1;32mTesting...\u001b[0m0m\n",
      "\u001b[1A\u001b[2K╭───────────────────────────────── countdowns ─────────────────────────────────╮\n",
      "│ \u001b[32m100% passed\u001b[0m                                                                  │\n",
      "╰──────────────────────────────────────────────────────────────────────────────╯\n",
      "╭──────────────────────────────────── for ─────────────────────────────────────╮\n",
      "│ \u001b[32m100% passed\u001b[0m                                                                  │\n",
      "╰──────────────────────────────────────────────────────────────────────────────╯\n",
      "╭───────────────────────────────────── if ─────────────────────────────────────╮\n",
      "│ \u001b[32m100% passed\u001b[0m                                                                  │\n",
      "╰──────────────────────────────────────────────────────────────────────────────╯\n",
      "╭───────────────────────────── importing modules ──────────────────────────────╮\n",
      "│ \u001b[32m100% passed\u001b[0m                                                                  │\n",
      "╰──────────────────────────────────────────────────────────────────────────────╯\n",
      "╭────────────────────────────── raining outside ───────────────────────────────╮\n",
      "│ \u001b[32m100% passed\u001b[0m                                                                  │\n",
      "╰──────────────────────────────────────────────────────────────────────────────╯\n",
      "╭─────────────────────────────────── types ────────────────────────────────────╮\n",
      "│ \u001b[32m100% passed\u001b[0m                                                                  │\n",
      "╰──────────────────────────────────────────────────────────────────────────────╯\n",
      "╭─────────────────────────────────── while ────────────────────────────────────╮\n",
      "│ \u001b[32m100% passed\u001b[0m                                                                  │\n",
      "╰──────────────────────────────────────────────────────────────────────────────╯\n",
      "\n",
      "┏━━━━━━━━━━━━━━━━━━━━━━━━━━━━━━━━━━━ Total ━━━━━━━━━━━━━━━━━━━━━━━━━━━━━━━━━━━━┓\n",
      "┃ \u001b[32m100% passed\u001b[0m                                                                  ┃\n",
      "┗━━━━━━━━━━━━━━━━━━━━━━━━━━━━━━━━━━━━━━━━━━━━━━━━━━━━━━━━━━━━━━━━━━━━━━━━━━━━━━┛\n",
      "📫 ✔ \u001b[1mSubmission successful!\u001b[0m \u001b[1;37m(\u001b[0m\u001b[1;37m2023\u001b[0m\u001b[37m-\u001b[0m\u001b[1;37m10\u001b[0m\u001b[37m-\u001b[0m\u001b[1;37m07\u001b[0m\u001b[37m \u001b[0m\u001b[1;37m15:35:19\u001b[0m\u001b[37m, 39f7dd6\u001b[0m\u001b[1;37m)\u001b[0m\n"
     ]
    }
   ],
   "source": [
    "!submit flow-control.ipynb"
   ]
  },
  {
   "cell_type": "code",
   "execution_count": null,
   "id": "b72e0f6e-0917-430d-a7e4-ff21af7a7107",
   "metadata": {},
   "outputs": [],
   "source": []
  }
 ],
 "metadata": {
  "kernelspec": {
   "display_name": "Python 3 (ipykernel)",
   "language": "python",
   "name": "python3"
  },
  "language_info": {
   "codemirror_mode": {
    "name": "ipython",
    "version": 3
   },
   "file_extension": ".py",
   "mimetype": "text/x-python",
   "name": "python",
   "nbconvert_exporter": "python",
   "pygments_lexer": "ipython3",
   "version": "3.11.5"
  },
  "vscode": {
   "interpreter": {
    "hash": "0651c627c3b64d1ada904a564819abcba4b8231b6784e7fb386e86e8dc20be09"
   }
  }
 },
 "nbformat": 4,
 "nbformat_minor": 5
}
