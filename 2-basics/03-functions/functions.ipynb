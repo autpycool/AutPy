{
 "cells": [
  {
   "cell_type": "markdown",
   "id": "b20abb90",
   "metadata": {
    "editable": false,
    "tags": []
   },
   "source": [
    "# Functions\n",
    "## Introduction\n",
    "\n",
    "You've already used functions during this course. Now you're going to define your own functions and learn how to use them.\n",
    "\n",
    "**This notebook covers the [third chapter](https://automatetheboringstuff.com/2e/chapter3/) of the book.**\n",
    "\n",
    "### Optional resources\n",
    "\n",
    "You can find more information about functions in the Python documentation:\n",
    "* [Defining Functions](https://docs.python.org/3/tutorial/controlflow.html#defining-functions)\n",
    "* [More on Defining Functions](https://docs.python.org/3/tutorial/controlflow.html#more-on-defining-functions)\n",
    "\n",
    "Relevant tutorials from Real Python:\n",
    "* [Defining Your Own Python Function](https://realpython.com/defining-your-own-python-function/)\n",
    "* [The Python return Statement: Usage and Best Practices](https://realpython.com/python-return-statement/)"
   ]
  },
  {
   "cell_type": "markdown",
   "id": "74d97e21",
   "metadata": {
    "editable": false
   },
   "source": [
    "## Summary\n",
    "\n",
    "### The Basics of Functions\n",
    "\n",
    "One of the most important coding paradigms is the so called _DRY_-principle. DRY stands for [_Don't Repeat Yourself_](https://en.wikipedia.org/wiki/Don't_repeat_yourself). In other words: Avoid writing duplicate code or copy-pasting code in your program. Things that happen repeatedly are to be placed in a loop. You learned that in the previous chapter.\n",
    "\n",
    "Another way to avoid duplicated code is using functions. Put small parts of your program into functions and call the function when needed.\n",
    "\n",
    "Imagine you have a website with two input fields, one for the first name and one for the last name. You want to make sure that any leading or trailing spaces are removed and that names start with a capital character.\n",
    "\n",
    "Your code might look like this:"
   ]
  },
  {
   "cell_type": "code",
   "execution_count": 3,
   "id": "e5d23d35",
   "metadata": {},
   "outputs": [
    {
     "name": "stdout",
     "output_type": "stream",
     "text": [
      "Harry Potter\n"
     ]
    }
   ],
   "source": [
    "firstname = \"Harry \"  # Input from the website\n",
    "lastname = \" potter\"  # Input from the website\n",
    "\n",
    "firstname_without_spaces = firstname.strip()\n",
    "firstname_capitalized = firstname_without_spaces.title()\n",
    "lastname_without_spaces = lastname.strip()\n",
    "lastname_capitalized = lastname_without_spaces.title()\n",
    "\n",
    "print(firstname_capitalized + \" \" + lastname_capitalized)"
   ]
  },
  {
   "cell_type": "markdown",
   "id": "a11f7610",
   "metadata": {
    "editable": false
   },
   "source": [
    "A better solution with less \"copy-paste code\" might have been:"
   ]
  },
  {
   "cell_type": "code",
   "execution_count": 4,
   "id": "d001e867",
   "metadata": {},
   "outputs": [
    {
     "name": "stdout",
     "output_type": "stream",
     "text": [
      "Harry Potter\n"
     ]
    }
   ],
   "source": [
    "firstname = \"Harry \"\n",
    "lastname = \" potter\"\n",
    "\n",
    "\n",
    "def fix(text):\n",
    "    text_without_spaces = text.strip()\n",
    "    text_capitalized = text_without_spaces.title()\n",
    "    return text_capitalized\n",
    "\n",
    "\n",
    "fixed_firstname = fix(firstname)\n",
    "fixed_lastname = fix(lastname)\n",
    "\n",
    "print(fixed_firstname + \" \" + fixed_lastname)"
   ]
  },
  {
   "cell_type": "markdown",
   "id": "40d20792",
   "metadata": {
    "editable": false
   },
   "source": [
    "In the example, the _defined_ function is called `fix` and it takes one _parameter_ , called `text`. Thus, the function is more general than the first solution where variables like `firstname_without_spaces` were used. For the function, it doesn't matter whether it processes a first name or a last name. It's just a piece of text.\n",
    "\n",
    "The `fix` function gets _called_ and the original first/last name is _passed_ as an _argument_ to the function. At the end of the function, the result is _returned_. The _return value_ then gets assigned to `fixed_firstname` and `fixed_lastname` by the _caller_.\n",
    "\n",
    "We could also use *keyword arguments* when calling `fix`, by doing `fix(text=firstname)` instead of `fix(firstname)`. In this particular case, this doesn't make much sense, but it is often used to provide optional options to a function. For example, you can use `print(\"Please wait...\", end=\"\")` to avoid printing a newline (Zeilenumbruch).\n",
    "\n",
    "The `return` line consists of two parts: The _keyword_ `return` and the _return value_ `text_capitalized`. Not every function has to return something, so the return keyword is optional.\n",
    "\n",
    "The words written in italics in the text above are important terms to know. Make sure that you understand them and that you can differentiate between them (especially between _argument_ and _parameter_)."
   ]
  },
  {
   "cell_type": "markdown",
   "id": "1deff9c0",
   "metadata": {
    "editable": false
   },
   "source": [
    "The following code snippet is even shorter:"
   ]
  },
  {
   "cell_type": "code",
   "execution_count": 1,
   "id": "4343b32b",
   "metadata": {},
   "outputs": [
    {
     "name": "stdout",
     "output_type": "stream",
     "text": [
      "Harry Potter\n"
     ]
    }
   ],
   "source": [
    "firstname = \"Harry \"\n",
    "lastname = \" Potter\"\n",
    "\n",
    "\n",
    "def fix(text):\n",
    "    return text.strip().title()  # returns the expression directly\n",
    "\n",
    "\n",
    "print(fix(firstname) + \" \" + fix(lastname))"
   ]
  },
  {
   "cell_type": "markdown",
   "id": "8c00b206",
   "metadata": {
    "editable": false
   },
   "source": [
    "This change results in more concise and thus easier to read code, which is always a good idea.\n",
    "\n",
    "As you can see, you don't have to return a variable at the end of the function. You can also return an _expression_. The result will be the same as the results from the previous examples above.\n",
    "\n",
    "Note that the return statement does not necessarily need to be on the last line of the function. If you use a conditional statement for example, there might be more than one return statement in the function. But your function call will always end when a return statement in the function is reached."
   ]
  },
  {
   "cell_type": "markdown",
   "id": "b7fa8659",
   "metadata": {
    "editable": false
   },
   "source": [
    "### The None Value\n",
    "As mentioned above, the `return` keyword is optional. But when you leave it out, an invisible line of code gets added automatically.\n",
    "\n",
    "For example, the `print` function returns no value at all. We can imagine it looking like this:\n",
    "\n",
    "```python\n",
    "def print(string):\n",
    "    # (code to print the given string to the console)\n",
    "    return None\n",
    "```\n",
    "\n",
    "The `None` value gets returned and it is the only value of the data type `NoneType`. A `None` value is often used to signify the absence of a \"real\" value. Have a look at the example below:"
   ]
  },
  {
   "cell_type": "code",
   "execution_count": 1,
   "id": "33a1aea4",
   "metadata": {},
   "outputs": [
    {
     "name": "stdout",
     "output_type": "stream",
     "text": [
      "The entered name is not ok.\n"
     ]
    }
   ],
   "source": [
    "def fix(text):\n",
    "    text_without_spaces = text.strip()\n",
    "    text_capitalized = text_without_spaces.title()\n",
    "    # empty strings are \"falsey\", so this is the same as:\n",
    "    #   if len(text_capitalized) == 0:\n",
    "    if not text_capitalized:\n",
    "        return None\n",
    "    return text_capitalized\n",
    "\n",
    "\n",
    "name = \" \"\n",
    "fixed = fix(name)\n",
    "\n",
    "if fixed:\n",
    "    print(\"The entered name is valid.\")\n",
    "else:\n",
    "    print(\"The entered name is not ok.\")"
   ]
  },
  {
   "cell_type": "markdown",
   "id": "55bf7709",
   "metadata": {
    "editable": false
   },
   "source": [
    "When you do an `if`-check on a `None` value, it evaluates to `False`. It's the same as checking for zero, which also evaluates to `False`."
   ]
  },
  {
   "cell_type": "markdown",
   "id": "b961def3",
   "metadata": {
    "editable": false
   },
   "source": [
    "Another thing the example shows is that the line containing the `return` keyword is the last line that gets executed in the function. That is the reason why you don't need an `else` statement here."
   ]
  },
  {
   "cell_type": "markdown",
   "id": "d2fd4358",
   "metadata": {
    "editable": false
   },
   "source": [
    "### The Call Stack\n",
    "![The Call Stack](images/callstack.jpg)\n",
    "\n",
    "The _call stack_ is a Python-internal list that remembers which function is currently being called. Every called function inside the underlying root function gets put on the top of the stack. After the uppermost function returns, the stack knows which was the _caller_ and this caller function resumes. In the image above we can see how the following happens:\n",
    "\n",
    "- `a()` gets called\n",
    "  * `a()` calls `b()`\n",
    "    * `b()` calls `c()`\n",
    "      * `c()` is done, back to `b()`\n",
    "    * `b()` is done, back to `a()`\n",
    "  * `a()` calls `d()`\n",
    "    * `d()` is done, back to `a()`\n",
    "- `a()` is finished as well\n",
    "  \n",
    "  \n",
    "Note that the call stack updates over time as new functions are called and others terminate."
   ]
  },
  {
   "cell_type": "markdown",
   "id": "cc4d48e9",
   "metadata": {
    "editable": false
   },
   "source": [
    "### Local and Global Scope\n",
    "There's a difference between local and global variables. Variables inside functions have their own *scope*, and thus are independent of global variables. This allows us to read (and write) code without having to keep all variables in our heads - instead, we can look at every function in isolation.\n",
    "\n",
    "Have a look at this example:"
   ]
  },
  {
   "cell_type": "code",
   "execution_count": 1,
   "id": "ea377bc6",
   "metadata": {},
   "outputs": [
    {
     "name": "stdout",
     "output_type": "stream",
     "text": [
      "11\n",
      "11\n"
     ]
    }
   ],
   "source": [
    "x = 11  # global variable\n",
    "\n",
    "\n",
    "def modify_x():\n",
    "    x = 33  # local variable\n",
    "\n",
    "\n",
    "print(x)\n",
    "modify_x()\n",
    "print(x)"
   ]
  },
  {
   "cell_type": "markdown",
   "id": "7231ce23",
   "metadata": {
    "editable": false
   },
   "source": [
    "As you can see, the output of the variable `x` doesn't change. The function `modify_x()` does not modify the previously defined variable `x`. The reason for this is that `x` on line 1 is a global variable but `x` inside the function is a local variable. The local variable is only visible to the function and the global variable is not accessible.\n",
    "\n",
    "**Over-using global variables can lead to confusing, unordered and incoherent code.** You're doing yourself a favor when you avoid using them.\n",
    "\n",
    "The best way to modify global variables is by handing them over to the function as arguments and return the modified variable from the function."
   ]
  },
  {
   "cell_type": "code",
   "execution_count": null,
   "id": "de1ddf95",
   "metadata": {},
   "outputs": [],
   "source": [
    "x = 11  # global variable\n",
    "\n",
    "\n",
    "def modify_x(x):\n",
    "    x = 33  # local variable\n",
    "    return x\n",
    "\n",
    "\n",
    "print(x)\n",
    "x = modify_x(x)  # assignment\n",
    "print(x)"
   ]
  },
  {
   "cell_type": "markdown",
   "id": "c9f923c3",
   "metadata": {
    "editable": false
   },
   "source": [
    "Now it works. There is another way to achieve the same thing, but it's not recommended: You can define a global variable from inside a function with the `global` keyword."
   ]
  },
  {
   "cell_type": "code",
   "execution_count": 2,
   "id": "08c36a8c",
   "metadata": {},
   "outputs": [
    {
     "name": "stdout",
     "output_type": "stream",
     "text": [
      "11\n",
      "33\n"
     ]
    }
   ],
   "source": [
    "x = 11  # global variable\n",
    "\n",
    "\n",
    "def modify_x():\n",
    "    global x\n",
    "    x = 33\n",
    "\n",
    "\n",
    "print(x)\n",
    "modify_x()\n",
    "print(x)"
   ]
  },
  {
   "cell_type": "markdown",
   "id": "23daf353",
   "metadata": {
    "editable": false
   },
   "source": [
    "### Exception Handling\n",
    "You'll often write code which relies on input that you cannot control (user input for example). Therefore, anything can happen. In the example shown in the book, you want to program a calculator. The calculator will crash if you do not check the divisor for zero.\n",
    "\n",
    "It would be straightforward to handle that case manually, but there are other such exceptional cases: What happens if you want to open a text file with Python, but the user gives you an exe file, or a jpeg? Or perhaps you want to download data from the internet; various kinds of unexpected errors can happen there.\n",
    "\n",
    "In the Python documentation, you can [find an overview](https://docs.python.org/3/library/exceptions.html) of all exceptions built into Python. If you're using modules via `import`, those often define their own exceptions.\n",
    "\n",
    "To be sure that your program does not crash with an _exception_ , you should use the `try/except` structure:"
   ]
  },
  {
   "cell_type": "code",
   "execution_count": null,
   "id": "8fcc09d8",
   "metadata": {},
   "outputs": [],
   "source": [
    "divisor = 0\n",
    "\n",
    "try:\n",
    "    print(7 / int(divisor))\n",
    "except ZeroDivisionError:\n",
    "    print(\"The divisor must not be 0.\")"
   ]
  },
  {
   "cell_type": "markdown",
   "id": "d7c80880",
   "metadata": {
    "editable": false
   },
   "source": [
    "As soon as the try-statement fails, the code will trigger a print call.\n",
    "\n",
    "You could also add additional `except SomeOtherException:` blocks after it, if you want to catch multiple kinds of exceptions.\n",
    "\n",
    "Finally, you can also use `except Exception:` to catch all exceptions - but this should be done **sparingly**. Otherwise, it can happen that you \"hide\" useful information given by Python in case of errors, which makes it very difficult to find out what actually happened.\n",
    "\n",
    "There is also `except:`, i.e. a *\"bare `except`\"*. While short and tempting, you should **never use it**: It even catches things like typos in your code (e.g. `NameError` for a missing variable) or the user trying to interrupt the program (`KeyboardInterrupt`). Thus, using it will result in confusing error messages and frustrated users. See [The Most Diabolical Python Antipattern – Real Python](https://realpython.com/the-most-diabolical-python-antipattern/) for more information.\n",
    "\n",
    "As a rule of thumb, only catch exceptions where you know how to recover from the situation (e.g. ask the user for input again, or display an error to the user). This requires some experience to know what kind of exceptions can occur. Often, it's a good idea to check the related documentation before using a function."
   ]
  },
  {
   "cell_type": "markdown",
   "id": "966c9b61",
   "metadata": {
    "editable": false
   },
   "source": [
    "## Exercises\n"
   ]
  },
  {
   "cell_type": "markdown",
   "id": "73430c43",
   "metadata": {
    "editable": false
   },
   "source": [
    "### Exercise 1: Number conversion\n",
    "\n",
    "Create a function `convert_binary`. The function takes a binary number as a string, and returns the converted integer.\n",
    "\n",
    "Use a suitable Python builtin to convert the number. Make sure that you pass the second value **as a keyword argument**."
   ]
  },
  {
   "cell_type": "code",
   "execution_count": 22,
   "id": "b809d030",
   "metadata": {
    "deletable": false,
    "tags": [
     "convert-binary"
    ]
   },
   "outputs": [
    {
     "name": "stdout",
     "output_type": "stream",
     "text": [
      "42\n"
     ]
    }
   ],
   "source": [
    "def convert_binary(inp):\n",
    "    # todo: implement\n",
    "    \n",
    "    return int(inp, base=2)\n",
    "\n",
    "# Example calls\n",
    "print(convert_binary(\"101010\"))  # expected output: 42"
   ]
  },
  {
   "cell_type": "markdown",
   "id": "d06309fd",
   "metadata": {
    "editable": false
   },
   "source": [
    "### Exercise 2: Concatenate\n",
    "Create a function which takes two string parameters, concatenates and returns them. Name the function `concatenate`."
   ]
  },
  {
   "cell_type": "code",
   "execution_count": 3,
   "id": "57640049",
   "metadata": {
    "deletable": false,
    "tags": [
     "concatenate"
    ]
   },
   "outputs": [
    {
     "name": "stdout",
     "output_type": "stream",
     "text": [
      "Harry\n",
      "Hagrid\n"
     ]
    }
   ],
   "source": [
    "# Implement the function here\n",
    "def concatenate(string1, string2):\n",
    "    return string1+string2\n",
    "# Example calls\n",
    "print(concatenate(\"Ha\", \"rry\"))\n",
    "print(concatenate(\"Ha\", \"grid\"))"
   ]
  },
  {
   "cell_type": "markdown",
   "id": "f5494c5a",
   "metadata": {
    "editable": false,
    "tags": []
   },
   "source": [
    "### Exercise 3: Favourite Drinks\n",
    "Implement a function called `favourite_drinks` that takes three arguments (name of alcoholic drinks) and prints them as one string, in which the arguments are separated by commas. Use `print` with **an f-string** to do so.\n",
    "\n",
    "If one of the provided drinks is `coffee`, print the string `Coffee is not an alcoholic drink` (already defined as `OUTPUT_ERROR`) instead.\n",
    "\n",
    "Two important hints:\n",
    "\n",
    "- You should *print* the outputs in this exercise, *not* return them. Make sure you understand the difference between those two!\n",
    "- If you want to check a value against multiple other ones, doing `if a or b == \"value\":` does not what you might expect! `or` is an operator just as e.g. `+`; thus `a or b` is evaluated first, then the result of that is compared to `\"value\"`. Using `if a == \"value\" or b == \"value\":` works as expected, as `a == \"value\"` is evaluated first, then `b == \"value\"`, then finally the two results are combined with `or`.\n",
    "\n",
    "Expected output: \n",
    "\n",
    "```python\n",
    "favourite_drinks(\"tschunk\", \"hugo\", \"negroni\")\n",
    "favourite_drinks(\"tschunk\", \"coffee\", \"negroni\")\n",
    "tschunk, hugo, negroni\n",
    "Coffee is not an alcoholic drink\n",
    "```"
   ]
  },
  {
   "cell_type": "code",
   "execution_count": 5,
   "id": "b5af092e",
   "metadata": {
    "deletable": false,
    "tags": [
     "favourite-drinks"
    ]
   },
   "outputs": [
    {
     "name": "stdout",
     "output_type": "stream",
     "text": [
      "tschunk, hugo, negroni\n",
      "Coffee is not an alcoholic drink\n"
     ]
    }
   ],
   "source": [
    "OUTPUT_ERROR = \"Coffee is not an alcoholic drink\"  # don't change\n",
    "\n",
    "# Write your code here\n",
    "def favourite_drinks(drink1, drink2, drink3):\n",
    "    if drink1 != 'coffee' and drink2 != 'coffee' and drink3 != 'coffee':\n",
    "        print(f'{drink1}, {drink2}, {drink3}')\n",
    "    else:\n",
    "        print(OUTPUT_ERROR)\n",
    "\n",
    "# Example calls\n",
    "favourite_drinks(\"tschunk\", \"hugo\", \"negroni\")\n",
    "favourite_drinks(\"tschunk\", \"coffee\", \"negroni\")"
   ]
  },
  {
   "cell_type": "markdown",
   "id": "4f53ed7d",
   "metadata": {
    "editable": false
   },
   "source": [
    "### Exercise 4: Even or Odd\n",
    "Create two functions:\n",
    "\n",
    "- The first function `get_random` returns a random number (int) between 1 and 100 (inclusive).\n",
    "- The second function `check_odd` checks if a number is even (return `False`) or odd (return `True`).\n",
    "\n",
    "Finally, use the two functions in a third function called `random_odd` which combines the two -- thus always returns a random odd number between 1 and 100."
   ]
  },
  {
   "cell_type": "code",
   "execution_count": 10,
   "id": "a11aed9a",
   "metadata": {
    "deletable": false,
    "tags": [
     "even-or-odd"
    ]
   },
   "outputs": [
    {
     "name": "stdout",
     "output_type": "stream",
     "text": [
      "27\n",
      "45\n",
      "61\n"
     ]
    }
   ],
   "source": [
    "# Imports\n",
    "import random\n",
    "\n",
    "# Function get_random()\n",
    "def get_random():\n",
    "    return random.randint(1, 100)\n",
    "\n",
    "# Function check_odd(...)\n",
    "def check_odd(number):\n",
    "    if (number % 2) > 0:\n",
    "        return True\n",
    "    return False\n",
    "\n",
    "# Main function random_odd()\n",
    "def random_odd():\n",
    "    randomInt = get_random()\n",
    "    while check_odd(randomInt) == False:\n",
    "        randomInt = get_random()\n",
    "    return randomInt\n",
    "\n",
    "# Example calls\n",
    "print(random_odd())\n",
    "print(random_odd())\n",
    "print(random_odd())"
   ]
  },
  {
   "cell_type": "markdown",
   "id": "c6fc427f",
   "metadata": {
    "editable": false,
    "tags": []
   },
   "source": [
    "### Exercise 5: Name-Checking\n",
    "Write a program that checks a name for correctness and cleans it up based on some criteria. This will involve three functions:\n",
    "\n",
    "- A function called `check(name)`, it returns `True` or `False` based on some conditions (see below).\n",
    "- Another function called `fix(firstname, lastname)` returns the name as a string in a required format.\n",
    "- A third function called `transform_name` that combines both functions: It either returns the checked and fixed name, or the string `Invalid name` in case the check fails.\n",
    "\n",
    "A name is deemed correct based on the following criteria:\n",
    "\n",
    "* Does not start or end with a space (both `␣Hermione` and `Hermione␣` are not valid names, with `␣` being a space character).\n",
    "* Is longer than 1 character (`H` is not a valid name).\n",
    "* Does only contain letters (`Herm!one` and `Hermi0n3` are not valid names).\n",
    "\n",
    "The required output format looks like this:\n",
    "\n",
    "* Last name first, then a comma, then first name\n",
    "* Last name is in ALL-CAPS\n",
    "* First name starts with a capital letter, with the rest lower-cased\n",
    "\n",
    "Look up [strings in the Python documentation](https://docs.python.org/3/library/stdtypes.html#str) or [on Real Python](https://realpython.com/python-strings/) to find out how to implement those checks and transformations. In the book, unfortunately they will only be explained much later (in [Chapter 6](https://automatetheboringstuff.com/2e/chapter6/)).\n",
    "\n",
    "*As an aside: In a real application, it's a bad idea to make such assumptions about names! See [Falsehoods Programmers Believe About Names](https://shinesolutions.com/2018/01/08/falsehoods-programmers-believe-about-names-with-examples/) if you're interested in some examples. Perhaps unsurprisingly, people [don't like being told](https://twitter.com/yournameisvalid) that their names are invalid.*\n",
    "\n",
    "Expected behavior:\n",
    "\n",
    "```python\n",
    "print(check(\"Hermi0n3 \"))\n",
    "False\n",
    "print(check(\"Hermione\"))\n",
    "True\n",
    "print(check(\"Granger\"))\n",
    "True\n",
    "\n",
    "print(fix(\"Hermione\", \"Granger\"))\n",
    "GRANGER, Hermione\n",
    "\n",
    "print(transform_name(\"Hermi0n3\", \"Gr4nger \"))\n",
    "Invalid name\n",
    "print(transform_name(\"Hermione\", \"Granger\"))\n",
    "GRANGER, Hermione\n",
    "```"
   ]
  },
  {
   "cell_type": "code",
   "execution_count": 19,
   "id": "4c026ca5",
   "metadata": {
    "deletable": false,
    "tags": [
     "name-checking"
    ]
   },
   "outputs": [
    {
     "name": "stdout",
     "output_type": "stream",
     "text": [
      "Invalid name\n",
      "GRANGER, Hermione\n"
     ]
    }
   ],
   "source": [
    "# todo: Implement 'check'\n",
    "def check(name):\n",
    "    if name.startswith(' ') or name.endswith(' ') or len(name) < 2 or not name.isalpha():\n",
    "        return False\n",
    "    else:\n",
    "        return True\n",
    "\n",
    "# todo: Implement 'fix'\n",
    "def fix(firstname, lastname):\n",
    "    return f'{lastname.upper()}, {firstname.lower().capitalize()}'\n",
    "\n",
    "# todo: Implement 'transform_name'\n",
    "def transform_name(firstname, lastname):\n",
    "    if check(firstname) and check(lastname):\n",
    "        return fix(firstname, lastname)\n",
    "    return \"Invalid name\"\n",
    "# Example calls\n",
    "\n",
    "print(transform_name(\"Hermi0n3\", \"Gr4nger \"))\n",
    "print(transform_name(\"Hermione\", \"Granger\"))"
   ]
  },
  {
   "cell_type": "markdown",
   "id": "7f83ec80",
   "metadata": {
    "editable": false
   },
   "source": [
    "### Exercise 6: Paying Bills\n",
    "There's a little tool that lets you calculate how much every one of your group in a restaurant has to pay for the bill if you split it evenly. But the tool does not work correctly with every input:\n",
    "\n",
    "- Two kinds of input make it crash (with two different exceptions)\n",
    "- Certain inputs won't crash, but don't make any sense.\n",
    "\n",
    "Please add some exception handling so that it doesn't crash, and handle the non-sensical values as well.\n",
    "Return a string describing the issue in those cases instead.\n",
    "\n",
    "The function takes the following arguments:\n",
    "\n",
    "* `price`: The total of the bill\n",
    "* `num_people`: The amount of people sitting at the table"
   ]
  },
  {
   "cell_type": "code",
   "execution_count": 1,
   "id": "4d5660eb",
   "metadata": {
    "deletable": false,
    "tags": [
     "paying-bills"
    ]
   },
   "outputs": [],
   "source": [
    "# todo: Adjust this function\n",
    "def pay_bill(price, people):\n",
    "    try:\n",
    "        int(people)\n",
    "    except ValueError:\n",
    "        return \"people not a number\"\n",
    "    try:\n",
    "        int(price)\n",
    "    except ValueError:\n",
    "        return \"price not a number\"\n",
    "    price_num = float(price)\n",
    "    people_num = float(people)\n",
    "    try:\n",
    "        per_person = price_num / people_num\n",
    "    except ZeroDivisionError:\n",
    "        return \"dont devide by zero, dummy\"\n",
    "\n",
    "    # Everything above can and probably should be changed.\n",
    "    # You shouldn't change the contents of the string below.\n",
    "    return f\"Every person pays {round(per_person, 2)} CHF.\""
   ]
  },
  {
   "cell_type": "code",
   "execution_count": 5,
   "id": "78569f2a",
   "metadata": {
    "tags": []
   },
   "outputs": [
    {
     "name": "stdin",
     "output_type": "stream",
     "text": [
      "How much did you pay? 3\n",
      "How many people where there? 0\n"
     ]
    },
    {
     "name": "stdout",
     "output_type": "stream",
     "text": [
      "dont device by zero, dummy\n"
     ]
    }
   ],
   "source": [
    "# ---- No changes to the calling code below ----\n",
    "paid = input(\"How much did you pay?\")\n",
    "count = input(\"How many people where there?\")\n",
    "print(pay_bill(paid, count))"
   ]
  },
  {
   "cell_type": "markdown",
   "id": "459eb0a1",
   "metadata": {
    "editable": false
   },
   "source": [
    "### Exercise 7: Adding Numbers\n",
    "Program a small calculator which takes two numbers as strings, adds them up and returns the result. Implement this calculator in a function called `calc_valid(num1, num2)`. Make sure that the program does not crash if the input is not a number, but instead prints out `Invalid input` (predefined as `OUTPUT_INVALID`) and returns `None`. \n",
    "\n",
    "Expected output:\n",
    "\n",
    "```Python\n",
    "print(calc_valid(\"1\", \"2\"))\n",
    "3\n",
    "\n",
    "print(calc_valid(\"w\", \"2\"))\n",
    "Invalid input     # printed inside the function\n",
    "None              # return value, printed from the print(...) above\n",
    "\n",
    "print(calc_valid(\"1\", \"w\"))\n",
    "Invalid input\n",
    "None\n",
    "```"
   ]
  },
  {
   "cell_type": "code",
   "execution_count": 17,
   "id": "ef21adcc",
   "metadata": {
    "deletable": false,
    "tags": [
     "adding-numbers"
    ]
   },
   "outputs": [
    {
     "name": "stdout",
     "output_type": "stream",
     "text": [
      "1\n",
      "Invalid input\n",
      "None\n",
      "Invalid input\n",
      "None\n"
     ]
    }
   ],
   "source": [
    "OUTPUT_INVALID = \"Invalid input\"  # Don't change this\n",
    "\n",
    "\n",
    "# Write your code here\n",
    "def calc_valid(num1, num2):\n",
    "    try:\n",
    "        int1 = int(num1)\n",
    "        int2 = int(num2)\n",
    "        return int1 + int2\n",
    "    except ValueError:\n",
    "        print(OUTPUT_INVALID)\n",
    "        return None\n",
    "\n",
    "\n",
    "# Example calls\n",
    "print(calc_valid(\"-1\", \"2\"))\n",
    "print(calc_valid(\"w\", \"2\"))\n",
    "print(calc_valid(\"1\", \"w\"))"
   ]
  },
  {
   "cell_type": "markdown",
   "id": "f3855364",
   "metadata": {
    "editable": false
   },
   "source": [
    "# Feedback form\n",
    "\n",
    "We'd like to get some feedback for this lab! To give us feedback, double-click the cells below and edit it in the appropriate places:\n",
    "\n",
    "- Replace `[ ]` by `[x]` to cross checkboxes, they should look like this once you finish editing:\n",
    "  * [ ] uncrossed\n",
    "  * [x] crossed\n",
    "- Add additional text where indicated (optional)"
   ]
  },
  {
   "cell_type": "markdown",
   "id": "6b9542e6",
   "metadata": {
    "deletable": false,
    "tags": [
     "feedback-difficulty"
    ]
   },
   "source": [
    "**Difficulty:**\n",
    "\n",
    "The difficulty of the materials in this lab was:\n",
    "\n",
    "- [ ] Much too difficult\n",
    "- [ ] A little too difficult\n",
    "- [ ] Just right\n",
    "- [ ] A little too easy\n",
    "- [ ] Much too easy"
   ]
  },
  {
   "cell_type": "markdown",
   "id": "a5d36fb9",
   "metadata": {
    "deletable": false,
    "tags": [
     "feedback-time"
    ]
   },
   "source": [
    "**Time:**\n",
    "\n",
    "For one block (usually multiple labs), you should spend around 4h at home and 4h in the course. There are two labs in this block, so we'd expect you to spend a total of **around 4h on this one (both reading and solving)**.\n",
    "\n",
    "For the materials in *this lab*, do you think you spent:\n",
    "\n",
    "- [ ] Much more time\n",
    "- [ ] A little more time\n",
    "- [ ] About the scheduled amount of time\n",
    "- [ ] A little less time\n",
    "- [ ] Much less time"
   ]
  },
  {
   "cell_type": "markdown",
   "id": "cf7d63de",
   "metadata": {
    "deletable": false,
    "tags": [
     "feedback-text-topics"
    ]
   },
   "source": [
    "**Any topics you found especially enjoyable or difficult in this lab?**\n",
    "\n",
    "<!-- Write below this line -->\n"
   ]
  },
  {
   "cell_type": "markdown",
   "id": "c8d33b37",
   "metadata": {
    "deletable": false,
    "tags": [
     "feedback-text-free"
    ]
   },
   "source": [
    "**Anything else you'd like to tell us?**\n",
    "\n",
    "<!-- Write below this line -->\n"
   ]
  },
  {
   "cell_type": "markdown",
   "id": "37495c6f",
   "metadata": {
    "editable": false
   },
   "source": [
    "# Submit\n",
    "\n",
    "First, **save this file** (no grey dot should be visible in the tab above). Then, run the cell below to submit your work and see the results. You can submit as often as you like.\n",
    "\n",
    "In case of problems:\n",
    "- *Don't panic!*\n",
    "- If you're in a course, show the error to your instructor.\n",
    "- If the **tests failed** and you suspect an issue in the tests:\n",
    "    * Mail your instructor, Cc `florian.bruhin@ost.ch` (if instructor != florian)\n",
    "    * **No attachments** necessary.\n",
    "- If the **submission failed** (error message, etc.):\n",
    "    * Mail your instructor, Cc `florian.bruhin@ost.ch` (if instructor != florian)\n",
    "    * Attach a screenshot of the issue\n",
    "    * Attach the notebook (File > Download)."
   ]
  },
  {
   "cell_type": "code",
   "execution_count": 1,
   "id": "d1b7bd0f",
   "metadata": {
    "tags": []
   },
   "outputs": [
    {
     "name": "stdout",
     "output_type": "stream",
     "text": [
      "Last change: \u001b[1;36m313\u001b[0m seconds ago\n",
      "\u001b[1;31m╭───────────────────────────────╮\u001b[0m\n",
      "\u001b[1;31m│\u001b[0m\u001b[1;31m \u001b[0m\u001b[1;31mMake sure you saved the file!\u001b[0m\u001b[1;31m \u001b[0m\u001b[1;31m│\u001b[0m\n",
      "\u001b[1;31m╰───────────────────────────────╯\u001b[0m\n",
      "\n",
      "\u001b[2K\u001b[32m⠸\u001b[0m \u001b[1;32mTesting...\u001b[0m0m\n",
      "\u001b[1A\u001b[2K╭─────────────────────────────── adding numbers ───────────────────────────────╮\n",
      "│ \u001b[32m100% passed\u001b[0m                                                                  │\n",
      "╰──────────────────────────────────────────────────────────────────────────────╯\n",
      "╭──────────────────────────────── concatenate ─────────────────────────────────╮\n",
      "│ \u001b[32m100% passed\u001b[0m                                                                  │\n",
      "╰──────────────────────────────────────────────────────────────────────────────╯\n",
      "╭─────────────────────────────── convert binary ───────────────────────────────╮\n",
      "│ \u001b[32m100% passed\u001b[0m                                                                  │\n",
      "╰──────────────────────────────────────────────────────────────────────────────╯\n",
      "╭──────────────────────────────── even or odd ─────────────────────────────────╮\n",
      "│ \u001b[32m100% passed\u001b[0m                                                                  │\n",
      "╰──────────────────────────────────────────────────────────────────────────────╯\n",
      "╭────────────────────────────── favourite drinks ──────────────────────────────╮\n",
      "│ \u001b[32m100% passed\u001b[0m                                                                  │\n",
      "╰──────────────────────────────────────────────────────────────────────────────╯\n",
      "╭─────────────────────────────── name checking ────────────────────────────────╮\n",
      "│ \u001b[32m100% passed\u001b[0m                                                                  │\n",
      "╰──────────────────────────────────────────────────────────────────────────────╯\n",
      "╭──────────────────────────────── paying bills ────────────────────────────────╮\n",
      "│ \u001b[32m100% passed\u001b[0m                                                                  │\n",
      "╰──────────────────────────────────────────────────────────────────────────────╯\n",
      "\n",
      "┏━━━━━━━━━━━━━━━━━━━━━━━━━━━━━━━━━━━ Total ━━━━━━━━━━━━━━━━━━━━━━━━━━━━━━━━━━━━┓\n",
      "┃ \u001b[32m100% passed\u001b[0m                                                                  ┃\n",
      "┗━━━━━━━━━━━━━━━━━━━━━━━━━━━━━━━━━━━━━━━━━━━━━━━━━━━━━━━━━━━━━━━━━━━━━━━━━━━━━━┛\n",
      "📫 ✔ \u001b[1mSubmission successful!\u001b[0m \u001b[1;37m(\u001b[0m\u001b[1;37m2023\u001b[0m\u001b[37m-\u001b[0m\u001b[1;37m10\u001b[0m\u001b[37m-\u001b[0m\u001b[1;37m07\u001b[0m\u001b[37m \u001b[0m\u001b[1;37m16:26:48\u001b[0m\u001b[37m, f3a01a3\u001b[0m\u001b[1;37m)\u001b[0m\n"
     ]
    }
   ],
   "source": [
    "!submit functions.ipynb"
   ]
  }
 ],
 "metadata": {
  "kernelspec": {
   "display_name": "Python 3 (ipykernel)",
   "language": "python",
   "name": "python3"
  },
  "language_info": {
   "codemirror_mode": {
    "name": "ipython",
    "version": 3
   },
   "file_extension": ".py",
   "mimetype": "text/x-python",
   "name": "python",
   "nbconvert_exporter": "python",
   "pygments_lexer": "ipython3",
   "version": "3.11.6"
  },
  "vscode": {
   "interpreter": {
    "hash": "0651c627c3b64d1ada904a564819abcba4b8231b6784e7fb386e86e8dc20be09"
   }
  }
 },
 "nbformat": 4,
 "nbformat_minor": 5
}
