{
    "cells": [
        {
            "cell_type": "markdown",
            "id": "f2241266",
            "metadata": {
                "editable": false
            },
            "source": [
                "# Manipulating Strings\n",
                "\n",
                "## Introduction\n",
                "\n",
                "In this chapter you will learn how to manipulate strings. There are a lot of different operations available on strings, like removing parts of them, converting letters from uppercase into lowercase and much more. You've used many of those string methods in previous labs already, so some of the material here will be a repetition of things you've already seen.\n",
                "\n",
                "**This notebook covers some parts of [chapter 6](https://automatetheboringstuff.com/2e/chapter6/) of the book.**\n",
                "\n",
                "### Optional resources\n",
                "\n",
                "#### Strings in general\n",
                "\n",
                "- [Python Tutorial: Strings](https://docs.python.org/3/tutorial/introduction.html#strings)\n",
                "- [Strings and Character Data in Python – Real Python](https://realpython.com/python-strings/)\n",
                "\n",
                "#### Encoding and str/bytes difference\n",
                "\n",
                "- [Ned Batchelder: Pragmatic Unicode](https://nedbatchelder.com/text/unipain.html) (ignore the Python 2 parts)\n",
                "- [The Absolute Minimum Every Software Developer Absolutely, Positively Must Know About Unicode and Character Sets (No Excuses!) – Joel on Software](https://www.joelonsoftware.com/2003/10/08/the-absolute-minimum-every-software-developer-absolutely-positively-must-know-about-unicode-and-character-sets-no-excuses/)\n",
                "- [What Every Programmer Absolutely, Positively Needs to Know About Encodings and Character Sets to Work With Text](https://kunststube.net/encoding/)"
            ]
        },
        {
            "cell_type": "markdown",
            "id": "27fd0fbb",
            "metadata": {
                "editable": false
            },
            "source": [
                "## Summary\n",
                "\n",
                "Strings represent human-readable *text*. You can access a single element of the string with square brackets. Fortunately Python has many helpful string methods to process text.\n",
                "\n",
                "It is important to understand the distinction between strings (text, for humans) and bytes (data, for computers). If you get data from externally (from a webservice, a subprocess, or even just a `.txt` file from the disk), you need to know how to *decode* it to turn the data into text.\n",
                "\n",
                "### Single and Double Quotes\n",
                "\n",
                "In Python you can produce string literals in two ways by surrounding the whole text with single quotation marks (`'text'`) or double quotation marks (`\"text\"`).\n",
                "\n",
                "A problem arises if you use single quote marks to surround the text and use them in the text itself again. \n",
                "\n",
                "```python\n",
                "print('That's a lot of fun.')\n",
                "```\n",
                "\n",
                "As you can see from the syntax highlighting, the code doesn't work. This is because Python reads only until it reaches the second single quote mark as a string. So you will get just `That` as a string and an error because of the unreadable subsequent part `s a lot of fun.'`. The same happens if you want to use double quote marks themselves in your text.\n",
                "\n",
                "```python\n",
                "print(\"He asked, \"What?\", and left.\")\n",
                "```\n",
                "\n",
                "If you want to have single- or double-quotes in a string, you'd normally use the other kind of quote for your string:\n",
                "\n",
                "```python\n",
                "print(\"That's a lot of fun.\")\n",
                "print('He asked, \"What?\", and left.')\n",
                "```\n",
                "\n",
                "or you can *escape* the quote character by prefixing it with a backslash (`\\`):\n",
                "\n",
                "```python\n",
                "print('That\\'s a lot of fun.')\n",
                "print(\"He asked, \\\"What?\\\", and left.\")\n",
                "```\n",
                "\n",
                "### Escape Characters\n",
                "\n",
                "![XKCD 1638: Backslashes](https://imgs.xkcd.com/comics/backslashes.png)\n",
                "\n",
                "*([XKCD 1638: Backslashes](https://xkcd.com/1638/))*\n",
                "\n",
                "Above, we've seen how to use `\\'` and `\\\"` to *escape* those characters, so that they can be used inside a string with the same kind of quotes. With other *escape sequences*, certain other *non-printable* (\"invisible\") special characters can be added to string. This allows us to easily add things like a newline (`\\n`) to strings:\n",
                "\n",
                "| Escape character | Print as             |\n",
                "| :--------------- | :------------------- |\n",
                "| \\\\'              | Single quote         |\n",
                "| \\\\\"              | Double quote         |\n",
                "| \\t               | Tab                  |\n",
                "| \\n               | Newline (line break) |\n",
                "| \\\\\\              | Backslash            |\n",
                "\n",
                "The three characters space (` `), tab (`\\t`) and newline (`\\n`) are commonly called \"whitespace\". All those escape characters count as one character: A tab `\\t` is one character (even if displayed like 4 or 8 spaces often); a newline `\\n` is a single character as well.\n",
                "\n",
                "### Raw Strings\n",
                "\n",
                "Let's say you want to print a Windows file path as string. Windows uses backslashes (`\\`) as directory separators, so they need to be doubled, which is tedious:\n",
                "\n",
                "```python\n",
                "print('C:\\\\Users\\\\Bob\\\\Desktop')\n",
                "```\n",
                "\n",
                "An easier and faster way to do this is to use *raw strings*. Similar to f-strings with their `f`-prefix, those kind of strings are prefixed with an `r` character:\n",
                "\n",
                "```python\n",
                "print(r'C:\\Users\\Bob\\Desktop')\n",
                "```\n",
                "\n",
                "Inside raw strings, every character retains its literal meaning - thus, `r\"\\n\"` is not a line break, but a string with two characters, `\\` and `n`.\n",
                "\n",
                "### Multiline Strings\n",
                "\n",
                "It would be really time-consuming if you had to use `\\n` several times to write a longer text as a string. To simplify this, you can use multiline strings with triple quotes (using either single quotes or double quotes). Inside triple quotes, you can use both `\"` and `'` freely, thus we don't need a backslash for `haven't`.\n",
                "\n",
                "```python\n",
                "# easier & faster to write\n",
                "print('''Dear Bob, \n",
                "\n",
                "You still haven't answered my question.\n",
                "\n",
                "Sincerely,\n",
                "Ross''')\n",
                "\n",
                "# other possiblity, but takes a while to write it\n",
                "print('Dear Bob,\\n\n",
                "\\n\n",
                "You still haven\\'t answered my question.\\n\n",
                "\\n\n",
                "Sincerely,\\n\n",
                "Ross')\n",
                "```\n",
                "\n",
                "### Indexing and Slicing Strings\n",
                "\n",
                "Just like lists, you can work with strings by using indices and slices.\n",
                "\n",
                "```python\n",
                "text = 'Hello, world!'\n",
                "text[0]   # output = 'H'\n",
                "text[0:5] # output = 'Hello' \n",
                "text[-1]  # output = '!' \n",
                "text[:5]  # output = 'Hello' \n",
                "text[7:]  # output = 'world!' \n",
                "```\n",
                "\n",
                "### Formatting Strings\n",
                "\n",
                "Python offers three common ways to format strings based on placeholders:\n",
                "\n",
                "```python\n",
                "greeting = 'Hello'\n",
                "person = 'Peter'\n",
                "\n",
                "text = '%s, %s!' % (greeting, person)       # very old (Python 2), avoid\n",
                "text = '{}, {}!'.format(greeting, person)   # old (Python < 3.6)\n",
                "text = f'{greeting}, {person}!'             # new (Python >= 3.6) and most simple/readable\n",
                "```\n",
                "\n",
                "These placeholders can optionally contain instructions on how to fill in the provided values:\n",
                "\n",
                "```python\n",
                "value = 1.2345\n",
                "print(f'{value:.3}')  # only print 3 digits: 1.23\n",
                "```\n",
                "\n",
                "A good overview of all possibilities is available at:\n",
                "\n",
                "- [pyformat.info](https://pyformat.info/) for `.format()`\n",
                "- [fstring.help](https://fstring.help) for f-strings\n",
                "\n",
                "### String Methods\n",
                "\n",
                "The full list of available string methods is [documented in the Python documentation](https://docs.python.org/3/library/stdtypes.html#string-methods)."
            ]
        },
        {
            "cell_type": "markdown",
            "id": "977bbf00",
            "metadata": {
                "editable": false
            },
            "source": [
                "## Exercises"
            ]
        },
        {
            "cell_type": "markdown",
            "id": "b0389d97",
            "metadata": {
                "editable": false
            },
            "source": [
                "### Exercise 1: Defining Strings\n",
                "Rewrite the following text using a single string on one line. Use single quotes.\n",
                "\n",
                "Make sure your version equals the given one."
            ]
        },
        {
            "cell_type": "code",
            "execution_count": 2,
            "id": "fa238433",
            "metadata": {
                "deletable": false,
                "tags": [
                    "defining-strings"
                ]
            },
            "outputs": [],
            "source": [
                "# No changes to this!\n",
                "text = r\"\"\"\n",
                "I'm a text containing some \"other text\" and some \\n!\n",
                "\"\"\"\n",
                "text_new = '\\nI\\'m a text containing some \"other text\" and some \\\\n!\\n'"
            ]
        },
        {
            "cell_type": "markdown",
            "id": "520fd695-5d6a-46d3-957e-76aa5bd86e7d",
            "metadata": {
                "editable": false
            },
            "source": [
                "### Exercise 2: String Functions\n",
                "\n",
                "#### a) Cleaning up\n",
                "Complete the `clean_text` function to clean up the given string. Cleaning up means removing all whitespace characters at the beginning and the end of the string. Additionally, count how many characters have been removed.\n",
                "\n",
                "Hint: The required code should be simple enough to fit on a single line each (but a longer solution is okay too)."
            ]
        },
        {
            "cell_type": "code",
            "execution_count": 7,
            "id": "b19ab2e5",
            "metadata": {
                "deletable": false,
                "tags": [
                    "clean-text"
                ]
            },
            "outputs": [
                {
                    "name": "stdout",
                    "output_type": "stream",
                    "text": [
                        "cleaned: This is a messy text (6 characters removed)\n"
                    ]
                }
            ],
            "source": [
                "def clean_text(text):\n",
                "    cleaned_text = text.strip()\n",
                "    count = len(text) - len(cleaned_text)\n",
                "    return cleaned_text, count\n",
                "\n",
                "\n",
                "# Your code should work with the example below, but you're free to change it.\n",
                "cleaned_text, count = clean_text(\"   \\tThis is a messy text\\n\\t\")\n",
                "print(f\"cleaned: {cleaned_text} ({count} characters removed)\")"
            ]
        },
        {
            "cell_type": "markdown",
            "id": "92716812",
            "metadata": {
                "editable": false
            },
            "source": [
                "#### b) Line endings\n",
                "\n",
                "Often files edited by different users contain different line endings:\n",
                "\n",
                "- `\\r\\n` on Windows, also called CRLF for \"carriage return, line feed\"\n",
                "- `\\n` on Mac and Linux, also called LF for \"line feed\"\n",
                "\n",
                "Normalize the line endings by completing the functions below:\n",
                "\n",
                "- Replace all `\\r\\n` endings with `\\n` in `normalize_to_lf`\n",
                "- Replace all `\\n` endings with `\\r\\n` in `normalize_to_crlf`\n",
                "\n",
                "The given print calls use [the `repr(...)` built-in](https://docs.python.org/3/library/functions.html#repr) - it returns the \"debug representation\" of an object, which lets you see which kind of line endings the modified strings contain, rather than those actually being printed as newlines."
            ]
        },
        {
            "cell_type": "code",
            "execution_count": 11,
            "id": "b1f35aec",
            "metadata": {
                "deletable": false,
                "tags": [
                    "clean-line-endings"
                ]
            },
            "outputs": [
                {
                    "name": "stdout",
                    "output_type": "stream",
                    "text": [
                        "LF:\n",
                        "' \\nThis text has different\\nline\\nendings'\n",
                        "CRLF:\n",
                        "' \\r\\nThis text has different\\r\\nline\\r\\nendings'\n"
                    ]
                }
            ],
            "source": [
                "def normalize_to_lf(text):\n",
                "    return text.replace(\"\\r\\n\", \"\\n\")\n",
                "\n",
                "def normalize_to_crlf(text):\n",
                "    # todo: replace endings\n",
                "    return normalize_to_lf(text).replace(\"\\n\", \"\\r\\n\")\n",
                "\n",
                "# Your code should work with the example below, but you're free to change it.\n",
                "text = \" \\nThis text has different\\r\\nline\\nendings\"\n",
                "print(\"LF:\")\n",
                "print(repr(normalize_to_lf(text)))\n",
                "print(\"CRLF:\")\n",
                "print(repr(normalize_to_crlf(text)))"
            ]
        },
        {
            "cell_type": "markdown",
            "id": "87bdb23b",
            "metadata": {
                "editable": false
            },
            "source": [
                "#### c) Splitting\n",
                "Implement `split_text` which splits a given text on commas. Make sure additional whitespace around the commas is removed, too - but your code should also work without any spaces around the comma."
            ]
        },
        {
            "cell_type": "code",
            "execution_count": 7,
            "id": "8f2613f1",
            "metadata": {
                "deletable": false,
                "tags": [
                    "string-funcs-splitting"
                ]
            },
            "outputs": [
                {
                    "name": "stdout",
                    "output_type": "stream",
                    "text": [
                        "['apples', 'oranges', 'coconuts']\n"
                    ]
                }
            ],
            "source": [
                "def split_text(text):\n",
                "    textlist = text.split(\",\")\n",
                "    return [item.strip() for item in textlist]\n",
                "    \n",
                "\n",
                "# Your code should work with the example below, but you're free to change it.\n",
                "print(split_text(\"apples, oranges  , coconuts       \"))"
            ]
        },
        {
            "cell_type": "markdown",
            "id": "4f171379",
            "metadata": {
                "editable": false
            },
            "source": [
                "#### d) Joining"
            ]
        },
        {
            "cell_type": "markdown",
            "id": "317122dd",
            "metadata": {
                "editable": false
            },
            "source": [
                "Implement `join_words` which joins the given list of words into a string, with the words separated with spaces."
            ]
        },
        {
            "cell_type": "code",
            "execution_count": 1,
            "id": "9cadd9a3",
            "metadata": {
                "deletable": false,
                "tags": [
                    "string-funcs-joining"
                ]
            },
            "outputs": [
                {
                    "name": "stdout",
                    "output_type": "stream",
                    "text": [
                        "\n"
                    ]
                }
            ],
            "source": [
                "def join_words(words):\n",
                "    return str((\" \").join(words))\n",
                "\n",
                "# Your code should work with the example below, but you're free to change it.\n",
                "print(join_words([]))"
            ]
        },
        {
            "cell_type": "markdown",
            "id": "df8fe6c5",
            "metadata": {
                "editable": false
            },
            "source": [
                "#### e) Burning house\n",
                "\n",
                "Implement `change_case`, which takes a string and returns a new one, changed as follows:\n",
                "\n",
                "- Uppercase words are lowercase afterwards\n",
                "- Lowercase words are capitalized\n",
                "- Capitalized words are uppercase\n",
                "\n",
                "`\"My HOUSE is Burning\"` becomes `\"MY house Is BURNING\"`.\n",
                "\n",
                "Hints:\n",
                "\n",
                "- Make use of the splitting function to get individual words\n",
                "- Either use `enumerate` to modify list items in-place, or...\n",
                "- ...use a list comprehension with a helper function (taking a single word) to build a new list"
            ]
        },
        {
            "cell_type": "code",
            "execution_count": 6,
            "id": "1b096220",
            "metadata": {
                "deletable": false,
                "tags": [
                    "string-funcs-burning-house"
                ]
            },
            "outputs": [
                {
                    "name": "stdout",
                    "output_type": "stream",
                    "text": [
                        "MY house Is BURNING\n"
                    ]
                }
            ],
            "source": [
                "def change_case(text):\n",
                "    words = text.split()\n",
                "    for i in range(len(words)):\n",
                "        if words[i].isupper():\n",
                "            words[i] = words[i].lower()\n",
                "            continue\n",
                "        if words[i].islower():\n",
                "            words[i] = words[i].capitalize()\n",
                "            continue\n",
                "        if words[i][0].isupper() and not words[i][1].isupper():\n",
                "            words[i] = words[i].upper()\n",
                "            continue\n",
                "    returnstring = \"\"\n",
                "    for element in words:\n",
                "        returnstring += \" \" + element\n",
                "    return returnstring.strip()\n",
                "\n",
                "# Your code should work with the example below, but you're free to change it.\n",
                "print(change_case(\"My HOUSE is Burning\"))"
            ]
        },
        {
            "cell_type": "markdown",
            "id": "3a26fcbc",
            "metadata": {
                "editable": false
            },
            "source": [
                "### Exercise 3: Indexing and Slicing\n",
                "Here's the first few sentences of [Oscar Wilde's 'The Selfish Giant'](https://standardebooks.org/ebooks/oscar-wilde/childrens-stories):\n",
                "\n",
                "> Every afternoon, as they were coming from school, the children used to go and play in the Giant's garden.\n",
                ">\n",
                "> It was a large lovely garden, with soft green grass. Here and there over the grass stood beautiful flowers like stars, and there were twelve peach-trees that in the spring-time broke out into delicate blossoms of pink and pearl, and in the autumn bore rich fruit. The birds sat on the trees and sang so sweetly that the children used to stop their games in order to listen to them. 'How happy we are here!' they cried to each other."
            ]
        },
        {
            "cell_type": "code",
            "execution_count": 1,
            "id": "c96f4798",
            "metadata": {
                "tags": []
            },
            "outputs": [],
            "source": [
                "text = \"\"\"\n",
                "Every afternoon, as they were coming from school, the children used to go and play in the Giant's garden.\n",
                "\n",
                "It was a large lovely garden, with soft green grass. Here and there over the grass stood beautiful flowers like stars, and there were twelve peach-trees that in the spring-time broke out into delicate blossoms of pink and pearl, and in the autumn bore rich fruit. The birds sat on the trees and sang so sweetly that the children used to stop their games in order to listen to them. 'How happy we are here!' they cried to each other.\n",
                "\"\"\""
            ]
        },
        {
            "cell_type": "markdown",
            "id": "f4cf9ac9",
            "metadata": {
                "editable": false
            },
            "source": [
                "For the following exercises, assume the following:\n",
                "    \n",
                "- Setences are separated by periods (`.`).\n",
                "- A paragraph is a single line containing one or more sentences.\n",
                "- The entire text contains one or more paragraphs.\n",
                "\n",
                "Your code needs to work with a different text, as long as it's structured in the same way."
            ]
        },
        {
            "cell_type": "markdown",
            "id": "16f5b8f7",
            "metadata": {
                "editable": false
            },
            "source": [
                "#### a) Letters"
            ]
        },
        {
            "cell_type": "markdown",
            "id": "c6a29b15",
            "metadata": {
                "editable": false
            },
            "source": [
                "Return the first and the last letter (`E`, `r`) of the text:\n",
                "\n",
                "- First, clean up the text: Remove leading/trailing newlines and periods (`.`)\n",
                "- Then access the required characters using indices"
            ]
        },
        {
            "cell_type": "code",
            "execution_count": 26,
            "id": "21d6dc9a",
            "metadata": {
                "deletable": false,
                "tags": [
                    "indexing-letters"
                ]
            },
            "outputs": [
                {
                    "name": "stdout",
                    "output_type": "stream",
                    "text": [
                        "first char: E\n",
                        "last char: r\n"
                    ]
                }
            ],
            "source": [
                "def first_and_last_char(text):\n",
                "    text = text.strip(\"\\n\")\n",
                "    text = text.strip(\".\")\n",
                "    first_char = text[0]\n",
                "    last_char = text[-1]\n",
                "    return first_char, last_char\n",
                "\n",
                "# Your code should work with the example below, but you're free to change it.\n",
                "first_char, last_char = first_and_last_char(text)\n",
                "print(f\"first char: {first_char}\")\n",
                "print(f\"last char: {last_char}\")"
            ]
        },
        {
            "cell_type": "markdown",
            "id": "60553ae0",
            "metadata": {
                "editable": false
            },
            "source": [
                "#### b) Words"
            ]
        },
        {
            "cell_type": "markdown",
            "id": "c349789f",
            "metadata": {
                "editable": false
            },
            "source": [
                "Now print the first and last word (`Every`, `other`) of the text. Clean the text as above, then split it up into words and finally access the first and last word using indices."
            ]
        },
        {
            "cell_type": "code",
            "execution_count": 27,
            "id": "fafed371",
            "metadata": {
                "deletable": false,
                "tags": [
                    "indexing-words"
                ]
            },
            "outputs": [
                {
                    "name": "stdout",
                    "output_type": "stream",
                    "text": [
                        "first word: Every\n",
                        "last word: other\n"
                    ]
                }
            ],
            "source": [
                "def first_and_last_word(text):\n",
                "    text = text.strip(\"\\n\")\n",
                "    text = text.strip(\".\")\n",
                "    words = text.split(\" \")\n",
                "    first_word = words[0]\n",
                "    last_word = words[-1]\n",
                "    return first_word, last_word\n",
                "\n",
                "# Your code should work with the example below, but you're free to change it.\n",
                "first_word, last_word = first_and_last_word(text)\n",
                "print(f\"first word: {first_word}\")\n",
                "print(f\"last word: {last_word}\")"
            ]
        },
        {
            "cell_type": "markdown",
            "id": "b433b772",
            "metadata": {
                "editable": false
            },
            "source": [
                "#### c) Cherry-picking"
            ]
        },
        {
            "cell_type": "markdown",
            "id": "8db2b6ad",
            "metadata": {
                "editable": false
            },
            "source": [
                "Finally, take the second paragraph of the text. Then, of each sentence of that paragraph, get the second to last character of the last two words each.\n",
                "\n",
                "Example: \"It was a large lovely garden, with soft gre**e**n gra**s**s.\"\n",
                "\n",
                "Your `cherry_pick_chars` function should return a list containing the highlighted characters: ... gre**e**n gra**s**s ... ri**c**h fru**i**t ... **t**o th**e**m ... ea**c**h oth**e**r"
            ]
        },
        {
            "cell_type": "code",
            "execution_count": 2,
            "id": "43eb06a6",
            "metadata": {
                "deletable": false,
                "tags": [
                    "indexing-cherry-picking"
                ]
            },
            "outputs": [
                {
                    "name": "stdout",
                    "output_type": "stream",
                    "text": [
                        "['e', 's', 'c', 'i', 't', 'e', 'c', 'e']\n"
                    ]
                }
            ],
            "source": [
                "def cherry_pick_chars(text):\n",
                "    paragraph2 = text.split(\"\\n\")[3]\n",
                "    sentences = paragraph2.split(\". \")\n",
                "    toreturn = []\n",
                "    for sentence in sentences:\n",
                "        words = sentence.split()\n",
                "        toreturn.append(''.join(filter(str.isalpha, words[-2]))[-2])\n",
                "        toreturn.append(''.join(filter(str.isalpha, words[-1]))[-2])\n",
                "    return toreturn\n",
                "\n",
                "# Your code should work with the example below, but you're free to change it.\n",
                "print(cherry_pick_chars(text))"
            ]
        },
        {
            "cell_type": "markdown",
            "id": "4ed0cbd2",
            "metadata": {
                "editable": false
            },
            "source": [
                "### Exercise 4: String Formatting\n",
                "\n",
                "#### a) Bob Solo\n",
                "\n",
                "Create the string `Bob Solo from Seattle is 41 years old.` based on the given inputs. Make sure the age is always rounded down."
            ]
        },
        {
            "cell_type": "code",
            "execution_count": 3,
            "id": "5121bf18",
            "metadata": {
                "deletable": false,
                "tags": [
                    "string-formatting-bob-solo"
                ]
            },
            "outputs": [
                {
                    "name": "stdout",
                    "output_type": "stream",
                    "text": [
                        "Bob Solo from Seattle is 41 years old.\n"
                    ]
                }
            ],
            "source": [
                "import math\n",
                "\n",
                "def describe_human(age, first_name, last_name, location):\n",
                "    return f\"{first_name.strip().title()} {last_name.strip().title()} from {location.strip().title()} is {math.floor(age)} years old.\"\n",
                "\n",
                "# Your code should work with the example below, but you're free to change it.\n",
                "print(describe_human(age=41.25, first_name=\"bob \", last_name=\" SOLO\", location=\"   Seattle\"))"
            ]
        },
        {
            "cell_type": "markdown",
            "id": "292849fb",
            "metadata": {
                "editable": false
            },
            "source": [
                "#### b) Formatted values\n",
                "\n",
                "With a dictionary such as:\n",
                "\n",
                "```python\n",
                "{\n",
                "    \"a\": 101,\n",
                "    \"b\": 120.3,\n",
                "    \"c\": 130.223,\n",
                "}\n",
                "```\n",
                "\n",
                "print its contents like this:\n",
                "\n",
                "```\n",
                "A: 101.0\n",
                "B: 120.3\n",
                "C: 130.2\n",
                "```\n",
                "\n",
                "Requirements:\n",
                "\n",
                "- Print the key in ALL-CAPS\n",
                "- Print the value with 1 digit after the decimal point\n",
                "\n",
                "Hint: You won't need to use `round(...)` or `float(...)` manually."
            ]
        },
        {
            "cell_type": "code",
            "execution_count": 4,
            "id": "b11b78c4",
            "metadata": {
                "deletable": false,
                "tags": [
                    "string-formatting-values"
                ]
            },
            "outputs": [
                {
                    "name": "stdout",
                    "output_type": "stream",
                    "text": [
                        "A: 101.0\n",
                        "B: 120.3\n",
                        "C: 130.2\n"
                    ]
                }
            ],
            "source": [
                "def print_values(values):\n",
                "    for key, value in values.items():\n",
                "        print(f\"{key.upper()}: {round(float(value), 1)}\")\n",
                "\n",
                "\n",
                "# Your code should work with the example below, but you're free to change it.\n",
                "values = {\n",
                "    \"a\": 101,\n",
                "    \"b\": 120.3,\n",
                "    \"c\": 130.223,\n",
                "}\n",
                "print_values(values)"
            ]
        },
        {
            "cell_type": "markdown",
            "id": "e1598992-2f91-4af1-9a55-95aa8176c106",
            "metadata": {
                "deletable": false,
                "editable": true,
                "slideshow": {
                    "slide_type": ""
                },
                "tags": []
            },
            "source": [
                "### Exercise 5: Counting Things\n",
                "\n",
                "Create a function `count_things` which returns a dictionary containing the following information about the given text:\n",
                "\n",
                "* the number of lines (key: `lines`). The final newline (i.e. the empty line `\"\"`) should *not* count as a line), thus, 4 lines are expected with the given text. However, `\"Hello World\"` should be counted as 1 line, not 0.\n",
                "* ... commas (key: `commas`)\n",
                "* ... periods (key: `periods`)\n",
                "* ... words (key: `words`). Words are considered whitespace-separated, so `foo\\nbar` is two words, and so is `foo\\n\\tbar`.\n",
                "* ... unique words (key: `unique words`). To make things easier, you don't need to account for punctuation, and upper-/lower-case are two different words. Thus, `\"Test test! test\"` is counted as three different words.\n",
                "* ... whitespace characters (key: `whitespace characters`)\n",
                "\n",
                "Hint: For unique words, think of an existing Python data structure that allows no duplicate entries."
            ]
        },
        {
            "cell_type": "code",
            "execution_count": 38,
            "id": "3762402f-4cf2-48a0-b8dc-34b17b89140b",
            "metadata": {
                "deletable": false,
                "editable": true,
                "slideshow": {
                    "slide_type": ""
                },
                "tags": [
                    "counting-things"
                ]
            },
            "outputs": [
                {
                    "name": "stdout",
                    "output_type": "stream",
                    "text": [
                        "{'lines': 4, 'commas': 4, 'periods': 3, 'words': 50, 'unique words': 41, 'whitespace characters': 54}\n"
                    ]
                }
            ],
            "source": [
                "def count_things(text):\n",
                "    unique = set()\n",
                "    for word in text.split():\n",
                "        unique.add(word)\n",
                "\n",
                "    returndict =  {\n",
                "        \"lines\": len(text.splitlines()),\n",
                "        \"commas\": text.count(\",\"),\n",
                "        \"periods\": text.count(\".\"),\n",
                "        \"words\": len(text.split()),\n",
                "        \"unique words\": len(unique),\n",
                "        \"whitespace characters\": text.count(\" \") + text.count(\"\\n\") + text.count(\"\\t\") + text.count(\"\\r\\n\")\n",
                "    }\n",
                "    return returndict\n",
                "    \n",
                "\n",
                "\n",
                "# Your code should work with the example below, but you're free to change it.\n",
                "text = \"\"\" Lorem ipsum dolor sit amet, consetetur sadipscing elitr,\n",
                "sed diam nonumy eirmod tempor invidunt ut labore et dolore magna aliquyam erat,\n",
                "sed diam voluptua. At vero eos et \\taccusam et justo duo dolores et ea rebum.\n",
                "Stet clita kasd gubergren, no sea takimata sanctus est Lorem   ipsum dolor sit amet.\n",
                "\"\"\"\n",
                "\n",
                "#5text = \" Hello Hello  ,\"\n",
                "print(count_things(text))"
            ]
        }
    ],
    "nbformat": 4,
    "nbformat_minor": 5
}