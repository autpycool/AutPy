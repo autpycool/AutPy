{
 "cells": [
  {
   "cell_type": "markdown",
   "id": "86688f76",
   "metadata": {
    "editable": false
   },
   "source": [
    "# Lists"
   ]
  },
  {
   "cell_type": "markdown",
   "id": "de885874",
   "metadata": {
    "editable": false
   },
   "source": [
    "## Introduction\n",
    "\n",
    "We've already seen some basic data types such as integers (`42`), floats (`3.5`), booleans (`True` and `False`), strings (`\"Hello World\"`), or the special `None` value. Those are the basic building blocks, sometimes also called *primitive types*, since those only represent a single, simple value.\n",
    "\n",
    "In this block, we're going to dive into *datastructures* or *compound types*, which are containers for multiple values. In this lab, we are going to look at *lists*.\n",
    "\n",
    "Lists are similar to what other languages call *arrays*, but that term is used seldom in Python. Often, \"array\" even refers to a different thing (the [`ndarray` type](https://numpy.org/doc/stable/reference/arrays.ndarray.html) from the [NumPy](https://numpy.org/) numerical programming library, used for scientific computing).\n",
    "\n",
    "Lists don't have a fixed size, and items in a list can be of any data type - even other lists or a mixture of different types.\n",
    "\n",
    "**This notebook covers the [fourth chapter](https://automatetheboringstuff.com/2e/chapter4/) of the book.**\n",
    "\n",
    "### Optional resources\n",
    "\n",
    "You can find more information about lists in the Python documentation:\n",
    "* [Introduction: Lists](https://docs.python.org/3/tutorial/introduction.html#lists)\n",
    "* [Datastructures: More on Lists](https://docs.python.org/3/tutorial/datastructures.html#more-on-lists)\n",
    "\n",
    "Relevant Real Python tutorials:\n",
    "* [Lists and Tuples in Python](https://realpython.com/python-lists-tuples/)\n",
    "* [Variables in Python](https://realpython.com/python-variables/) (especially the part about object references and identity)\n",
    "\n",
    "Articles by Ned Batchelder on names/references/values:\n",
    "* [Facts and myths about Python names and values](https://nedbatchelder.com/text/names.html)\n",
    "* [Names and values: making a game board](https://nedbatchelder.com/blog/201308/names_and_values_making_a_game_board.html)"
   ]
  },
  {
   "cell_type": "markdown",
   "id": "2742b6ac",
   "metadata": {
    "editable": false
   },
   "source": [
    "## Summary"
   ]
  },
  {
   "cell_type": "markdown",
   "id": "af33f914",
   "metadata": {
    "editable": false
   },
   "source": [
    "### Why Lists\n",
    "A list is a sequence of items. The main benefit of lists is that you don't have to know in advance how many items the list will hold. If you create some software that stores books of a library, you might not know in advance how many books will be stored. Instead of creating variables for each book, you can simply use a list."
   ]
  },
  {
   "cell_type": "markdown",
   "id": "eda80131",
   "metadata": {
    "editable": false
   },
   "source": [
    "### Basics\n",
    "To define a list, you write the items comma-separated and enclose them in square brackets."
   ]
  },
  {
   "cell_type": "code",
   "execution_count": 29,
   "id": "682ea95c",
   "metadata": {},
   "outputs": [],
   "source": [
    "wizards = [\"hermione\", \"ron\", \"harry\", \"hagrid\", \"snape\"]"
   ]
  },
  {
   "cell_type": "markdown",
   "id": "ff2556ec",
   "metadata": {
    "editable": false
   },
   "source": [
    "You can also use functions to create lists for you, for example the `range` function."
   ]
  },
  {
   "cell_type": "code",
   "execution_count": 2,
   "id": "4b567d7c",
   "metadata": {},
   "outputs": [
    {
     "name": "stdout",
     "output_type": "stream",
     "text": [
      "[0, 1, 2, 3, 4, 5, 6, 7, 8, 9, 10]\n"
     ]
    }
   ],
   "source": [
    "numbers = list(range(11))\n",
    "print(numbers)"
   ]
  },
  {
   "cell_type": "markdown",
   "id": "59b9689e",
   "metadata": {
    "editable": false
   },
   "source": [
    "To access an item in the list, you specify the _index_ of the list. Index-counting starts at zero!"
   ]
  },
  {
   "cell_type": "code",
   "execution_count": 5,
   "id": "d3ee4174",
   "metadata": {},
   "outputs": [
    {
     "name": "stdout",
     "output_type": "stream",
     "text": [
      "hermione\n"
     ]
    }
   ],
   "source": [
    "hermione = wizards[0]\n",
    "print(hermione)"
   ]
  },
  {
   "cell_type": "markdown",
   "id": "98399a36",
   "metadata": {
    "editable": false
   },
   "source": [
    "You can address items in reverse, too. If you want to do that, the last item is addressed with `[-1]`, the second last with `[-2]`, and so on."
   ]
  },
  {
   "cell_type": "code",
   "execution_count": 6,
   "id": "0f683ba4",
   "metadata": {},
   "outputs": [
    {
     "name": "stdout",
     "output_type": "stream",
     "text": [
      "hermione\n"
     ]
    }
   ],
   "source": [
    "hermione = wizards[-5]\n",
    "print(hermione)"
   ]
  },
  {
   "cell_type": "markdown",
   "id": "38fb017a",
   "metadata": {
    "editable": false
   },
   "source": [
    "You get an `IndexError` if you point to an element that does not exist in the list."
   ]
  },
  {
   "cell_type": "markdown",
   "id": "65990b0c",
   "metadata": {
    "editable": false
   },
   "source": [
    "### Slices\n",
    "Instead of getting just one item of a list by using indices, you can also use slices to get multiple items of a list at once. To get the first two items of a list, you would write"
   ]
  },
  {
   "cell_type": "code",
   "execution_count": 3,
   "id": "575784b3",
   "metadata": {},
   "outputs": [
    {
     "name": "stdout",
     "output_type": "stream",
     "text": [
      "['hermione', 'ron']\n"
     ]
    }
   ],
   "source": [
    "two_wizards = wizards[0:2]\n",
    "print(two_wizards)"
   ]
  },
  {
   "cell_type": "markdown",
   "id": "c2d384a9",
   "metadata": {
    "editable": false,
    "tags": []
   },
   "source": [
    "To address a slice, you need to use the colon sign. The index before the colon points to the start of the slice, the second index points to the last index of the slice *not including the item it's pointing to*. The easiest way to remember this is to think of slices of pointing *between* elements. Here's an example with the list `letters = [\"a\", \"b\", \"c\", \"d\", \"e\", \"f\"]`:\n",
    "\n",
    "```\n",
    "       +---+---+---+---+---+---+\n",
    "       | a | b | c | d | e | f |\n",
    "       +---+---+---+---+---+---+\n",
    "Slice: 0   1   2   3   4   5   6\n",
    "Index:   0   1   2   3   4   5\n",
    "```\n",
    "\n",
    "Thus, `letters[4] == \"e\"`, `letters[2:4] == \"cd\"`, etc.\n",
    "\n",
    "You can leave the start/stop out and just write something like `[:2]` as a shorthand. The start of a slice defaults to zero, its end defaults to the last slice. Therefore, this:"
   ]
  },
  {
   "cell_type": "code",
   "execution_count": 22,
   "id": "6dc4e33f",
   "metadata": {},
   "outputs": [
    {
     "name": "stdout",
     "output_type": "stream",
     "text": [
      "['hermione', 'ron', 'harry', 'hagrid', 'snape']\n"
     ]
    }
   ],
   "source": [
    "all_wizards = wizards[:]\n",
    "print(all_wizards)"
   ]
  },
  {
   "cell_type": "markdown",
   "id": "13449507",
   "metadata": {
    "editable": false
   },
   "source": [
    "Is the same as this:"
   ]
  },
  {
   "cell_type": "code",
   "execution_count": 23,
   "id": "b232809d",
   "metadata": {},
   "outputs": [
    {
     "name": "stdout",
     "output_type": "stream",
     "text": [
      "['hermione', 'ron', 'harry', 'hagrid', 'snape']\n"
     ]
    }
   ],
   "source": [
    "all_wizards = wizards[0 : len(wizards)]\n",
    "print(all_wizards)"
   ]
  },
  {
   "cell_type": "markdown",
   "id": "46aea4ca",
   "metadata": {
    "editable": false
   },
   "source": [
    "### List Manipulation"
   ]
  },
  {
   "cell_type": "markdown",
   "id": "d4a7c403",
   "metadata": {
    "editable": false
   },
   "source": [
    "With the `+` operator, we can concatenate two lists:"
   ]
  },
  {
   "cell_type": "code",
   "execution_count": 6,
   "id": "f7f8a4b6",
   "metadata": {},
   "outputs": [
    {
     "name": "stdout",
     "output_type": "stream",
     "text": [
      "['A', 'B', 'C', 'D']\n"
     ]
    }
   ],
   "source": [
    "concatenated_list = [\"A\", \"B\"] + [\"C\", \"D\"]\n",
    "print(concatenated_list)"
   ]
  },
  {
   "cell_type": "markdown",
   "id": "1f2f50b3",
   "metadata": {
    "editable": false
   },
   "source": [
    "Using `*`, we can repeat a list:"
   ]
  },
  {
   "cell_type": "code",
   "execution_count": 7,
   "id": "399a330d",
   "metadata": {},
   "outputs": [
    {
     "name": "stdout",
     "output_type": "stream",
     "text": [
      "[1, 2, 3, 1, 2, 3, 1, 2, 3]\n"
     ]
    }
   ],
   "source": [
    "replicated_list = 3 * [1, 2, 3]\n",
    "print(replicated_list)"
   ]
  },
  {
   "cell_type": "markdown",
   "id": "e8b8af4d",
   "metadata": {
    "editable": false
   },
   "source": [
    "To delete individual values using their indices, we use the `del` keyword:"
   ]
  },
  {
   "cell_type": "code",
   "execution_count": 8,
   "id": "2e6fc2df",
   "metadata": {},
   "outputs": [
    {
     "name": "stdout",
     "output_type": "stream",
     "text": [
      "['A', 'B', 'D']\n"
     ]
    }
   ],
   "source": [
    "del concatenated_list[2]\n",
    "print(concatenated_list)"
   ]
  },
  {
   "cell_type": "markdown",
   "id": "fdbb7439",
   "metadata": {
    "editable": false
   },
   "source": [
    "### List Processing\n",
    "#### `in` and `not in`\n",
    "Check if an item is part of the list or not with `in`:"
   ]
  },
  {
   "cell_type": "code",
   "execution_count": 9,
   "id": "507d8f45",
   "metadata": {},
   "outputs": [
    {
     "name": "stdout",
     "output_type": "stream",
     "text": [
      "False\n",
      "True\n"
     ]
    }
   ],
   "source": [
    "is_wizard = \"joe\" in wizards\n",
    "print(is_wizard)\n",
    "\n",
    "is_wizard = \"ron\" in wizards\n",
    "print(is_wizard)"
   ]
  },
  {
   "cell_type": "markdown",
   "id": "447b3697",
   "metadata": {
    "editable": false
   },
   "source": [
    "#### Unpacking\n",
    "You can store data that belongs to an object in a list. This is called _unpacking_, which is also referred as the _Multiple Assignment Trick_. This is an example:"
   ]
  },
  {
   "cell_type": "code",
   "execution_count": 12,
   "id": "5adad25a",
   "metadata": {},
   "outputs": [
    {
     "name": "stdout",
     "output_type": "stream",
     "text": [
      "black hair, green eyes and a scar\n",
      "red hair, blue eyes and freckles\n"
     ]
    }
   ],
   "source": [
    "harry = [\"black hair\", \"green eyes\", \"a scar\"]\n",
    "ron = [\"red hair\", \"blue eyes\", \"freckles\"]\n",
    "\n",
    "hair, eyes, feature = harry\n",
    "print(f\"{hair}, {eyes} and {feature}\")\n",
    "\n",
    "hair, eyes, feature = ron\n",
    "print(f\"{hair}, {eyes} and {feature}\")"
   ]
  },
  {
   "cell_type": "markdown",
   "id": "3871b136",
   "metadata": {
    "editable": false
   },
   "source": [
    "#### Loops\n",
    "You'll often loop through a list. Example:"
   ]
  },
  {
   "cell_type": "code",
   "execution_count": 6,
   "id": "c9de6a31",
   "metadata": {},
   "outputs": [
    {
     "name": "stdout",
     "output_type": "stream",
     "text": [
      "hermione\n",
      "ron\n",
      "harry\n",
      "hagrid\n",
      "snape\n"
     ]
    }
   ],
   "source": [
    "for wizard in wizards:\n",
    "    print(wizard)"
   ]
  },
  {
   "cell_type": "markdown",
   "id": "5dd5429a",
   "metadata": {
    "editable": false
   },
   "source": [
    "#### The enumerate builtin\n",
    "\n",
    "The book claims that:\n",
    "\n",
    "> A common Python technique is to use `range(len(someList))` with a `for` loop to iterate over the indexes of a list.\n",
    "\n",
    "and provides an example like this one:"
   ]
  },
  {
   "cell_type": "code",
   "execution_count": 13,
   "id": "f2af74cf",
   "metadata": {},
   "outputs": [
    {
     "name": "stdout",
     "output_type": "stream",
     "text": [
      "Wizard 0: hermione\n",
      "Wizard 1: ron\n",
      "Wizard 2: harry\n",
      "Wizard 3: hagrid\n",
      "Wizard 4: snape\n"
     ]
    }
   ],
   "source": [
    "for i in range(len(wizards)):\n",
    "    print(f\"Wizard {i}: {wizards[i]}\")"
   ]
  },
  {
   "cell_type": "markdown",
   "id": "d6601f25",
   "metadata": {
    "editable": false
   },
   "source": [
    "This is, unfortunately, one of the very few places where the book teaches **bad practice**. There's a simpler and much more idiomatic (following idioms, i.e. natural) way of doing this: The `enumerate` built-in. The book does explain it later, but you should always use `enumerate` if you need items with their indices:"
   ]
  },
  {
   "cell_type": "code",
   "execution_count": 14,
   "id": "85452f82",
   "metadata": {},
   "outputs": [
    {
     "name": "stdout",
     "output_type": "stream",
     "text": [
      "Wizard 0: hermione\n",
      "Wizard 1: ron\n",
      "Wizard 2: harry\n",
      "Wizard 3: hagrid\n",
      "Wizard 4: snape\n"
     ]
    }
   ],
   "source": [
    "for i, wizard in enumerate(wizards):\n",
    "    print(f\"Wizard {i}: {wizard}\")"
   ]
  },
  {
   "cell_type": "markdown",
   "id": "f7016cb6",
   "metadata": {
    "editable": false
   },
   "source": [
    "### List Comprehension\n",
    "Loops are nice, but sometimes your code can be shortened. For example, to convert every string in a list to ALL-CAPS, you can use a _list comprehension_."
   ]
  },
  {
   "cell_type": "code",
   "execution_count": 9,
   "id": "9b2d71ba",
   "metadata": {},
   "outputs": [
    {
     "name": "stdout",
     "output_type": "stream",
     "text": [
      "['HERMOINE', 'RON', 'HARRY', 'HAGRID', 'SNAPE']\n"
     ]
    }
   ],
   "source": [
    "wizards_cap = [w.upper() for w in wizards]\n",
    "print(wizards_cap)"
   ]
  },
  {
   "cell_type": "markdown",
   "id": "b1e18335",
   "metadata": {
    "editable": false
   },
   "source": [
    "The syntax is the following:\n",
    "\n",
    "```python\n",
    "result = [EXPRESSION for item in original_list if condition]\n",
    "```"
   ]
  },
  {
   "cell_type": "markdown",
   "id": "a1cba160",
   "metadata": {
    "editable": false
   },
   "source": [
    "As you can see, you can also add a condition to the list comprehension. See the example below:"
   ]
  },
  {
   "cell_type": "code",
   "execution_count": 4,
   "id": "bac7c412",
   "metadata": {},
   "outputs": [
    {
     "name": "stdout",
     "output_type": "stream",
     "text": [
      "['HERMOINE', 'HARRY', 'HAGRID']\n"
     ]
    }
   ],
   "source": [
    "h_wizards_cap = [w.upper() for w in wizards if w.startswith(\"h\")]\n",
    "print(h_wizards_cap)"
   ]
  },
  {
   "cell_type": "markdown",
   "id": "cac3c20b",
   "metadata": {
    "editable": false
   },
   "source": [
    "#### Methods On Lists"
   ]
  },
  {
   "cell_type": "markdown",
   "id": "3078212a",
   "metadata": {
    "editable": false
   },
   "source": [
    "Get the index of an element in a list with `.index(element)`:"
   ]
  },
  {
   "cell_type": "code",
   "execution_count": 30,
   "id": "780a6b7f",
   "metadata": {},
   "outputs": [
    {
     "name": "stdout",
     "output_type": "stream",
     "text": [
      "2\n"
     ]
    }
   ],
   "source": [
    "harry_index = wizards.index(\"harry\")\n",
    "print(harry_index)"
   ]
  },
  {
   "cell_type": "markdown",
   "id": "72863e1e",
   "metadata": {
    "editable": false
   },
   "source": [
    "Add item at the end of a list with `.append(element)`:"
   ]
  },
  {
   "cell_type": "code",
   "execution_count": 31,
   "id": "e2cf1ea1",
   "metadata": {},
   "outputs": [
    {
     "name": "stdout",
     "output_type": "stream",
     "text": [
      "['hermione', 'ron', 'harry', 'hagrid', 'snape', 'dumbledore']\n"
     ]
    }
   ],
   "source": [
    "wizards.append(\"dumbledore\")\n",
    "print(wizards)"
   ]
  },
  {
   "cell_type": "markdown",
   "id": "f18aff81",
   "metadata": {
    "editable": false
   },
   "source": [
    "Insert item at specific index of a list with `.insert(position, element)`:"
   ]
  },
  {
   "cell_type": "code",
   "execution_count": 32,
   "id": "c5ba45bc",
   "metadata": {},
   "outputs": [
    {
     "name": "stdout",
     "output_type": "stream",
     "text": [
      "['hermione', 'ron', 'harry', 'ginny', 'hagrid', 'snape', 'dumbledore']\n"
     ]
    }
   ],
   "source": [
    "wizards.insert(3, \"ginny\")\n",
    "print(wizards)"
   ]
  },
  {
   "cell_type": "markdown",
   "id": "6cbe9181",
   "metadata": {
    "editable": false
   },
   "source": [
    "Remove an item from a list with `.remove(element)`:"
   ]
  },
  {
   "cell_type": "code",
   "execution_count": 33,
   "id": "bfb94f22",
   "metadata": {},
   "outputs": [
    {
     "name": "stdout",
     "output_type": "stream",
     "text": [
      "['hermione', 'ron', 'ginny', 'hagrid', 'snape', 'dumbledore']\n"
     ]
    }
   ],
   "source": [
    "wizards.remove(\"harry\")\n",
    "print(wizards)"
   ]
  },
  {
   "cell_type": "markdown",
   "id": "94a39534",
   "metadata": {
    "editable": false
   },
   "source": [
    "Sort items in a list with `.sort()`:"
   ]
  },
  {
   "cell_type": "code",
   "execution_count": 34,
   "id": "04cab047",
   "metadata": {},
   "outputs": [
    {
     "name": "stdout",
     "output_type": "stream",
     "text": [
      "normal: ['dumbledore', 'ginny', 'hagrid', 'hermione', 'ron', 'snape']\n",
      "reversed: ['snape', 'ron', 'hermione', 'hagrid', 'ginny', 'dumbledore']\n"
     ]
    }
   ],
   "source": [
    "wizards.sort()\n",
    "print(f\"normal: {wizards}\")\n",
    "wizards.sort(reverse=True)\n",
    "print(f\"reversed: {wizards}\")"
   ]
  },
  {
   "cell_type": "markdown",
   "id": "f5df0ca3",
   "metadata": {
    "editable": false
   },
   "source": [
    "### Mutable and immutable values\n",
    "\n",
    "The most important theory to take from this chapter is that there is a difference between values which are *mutable* (possible to change) and those which are *immutable* (not possible to change). All the primitive values are *immutable*: You can't change the number `10` so that it suddenly means `11` instead of `10`. Lists however are *mutable*: You can e.g. add and delete elements, and *all references* to the same list will \"see\" the new data.\n",
    "\n",
    "Variables in Python are *always* references to their values. Thus, having two variables referencing the same list can lead to somewhat surprising behavior:"
   ]
  },
  {
   "cell_type": "code",
   "execution_count": 7,
   "id": "6a9f9543",
   "metadata": {},
   "outputs": [
    {
     "name": "stdout",
     "output_type": "stream",
     "text": [
      "12 11\n",
      "['Transformation', 'Potions', 'Flying'] ['Transformation', 'Potions', 'Flying']\n"
     ]
    }
   ],
   "source": [
    "age_harry = 11\n",
    "age_ron = age_harry\n",
    "age_harry = 12\n",
    "print(age_harry, age_ron)\n",
    "\n",
    "subjects_harry = [\"Transformation\", \"Potions\", \"Divination\"]\n",
    "subjects_ron = subjects_harry\n",
    "subjects_harry[2] = \"Flying\"\n",
    "print(subjects_harry, subjects_ron)"
   ]
  },
  {
   "cell_type": "markdown",
   "id": "ad801d8a",
   "metadata": {
    "editable": false
   },
   "source": [
    "As you can see, changing an item in the `subjects_harry` list leads to a change in the list of Ron as well. This is because you're operating on the same list, you're just working with two different references to the same list. Use the `copy()` or `deepcopy()` functions from the `copy` module to copy a list instead of creating a new reference.\n",
    "\n",
    "Make sure you understood this concept, as it's a **common source of bugs** in real-world applications. If you're still confused about the details, consider (re)reading Ned Batchelder's articles about the topic linked in the introduction."
   ]
  },
  {
   "cell_type": "markdown",
   "id": "02230991",
   "metadata": {
    "editable": false
   },
   "source": [
    "### Tuples"
   ]
  },
  {
   "cell_type": "code",
   "execution_count": null,
   "id": "944b23fc",
   "metadata": {},
   "outputs": [],
   "source": [
    "subjects1 = [\"Transformation\", \"Potions\", \"Divination\"]  # This is a list\n",
    "subjects1[2] = \"Flying\"\n",
    "\n",
    "subjects2 = (\"Transformation\", \"Potions\", \"Divination\")  # This is a tuple\n",
    "subjects2[2] = \"Flying\"\n",
    "\n",
    "print(subjects1, subjects2)"
   ]
  },
  {
   "cell_type": "markdown",
   "id": "b83981fd",
   "metadata": {
    "editable": false
   },
   "source": [
    "Run the code above. As you can see, lists can be modified but tuples cannot. The _immutability_ of tuples leads to performance gains. So when you need a sequence of items but you know that this sequence will never change, make use of tuples instead of lists."
   ]
  },
  {
   "cell_type": "markdown",
   "id": "7c052d38",
   "metadata": {
    "editable": false
   },
   "source": [
    "## Exercises\n",
    "\n",
    "### Exercise 1: Reversing Lists\n",
    "Complete the following code. The return value of the function `change_order` should be a reversed list. Do not use the list's built-in `reverse()` method, `reversed()` or slicing (e.g. `[::-1]`). You will need a for-loop.\n",
    "\n",
    "Expected output:\n",
    "```Python\n",
    ">>> fruits = [\"apple\", \"pear\", \"cherry\", \"lemon\", \"mango\"]\n",
    ">>> change_order(fruits)\n",
    "['mango', 'lemon', 'cherry', 'pear', 'apple']\n",
    "```"
   ]
  },
  {
   "cell_type": "code",
   "execution_count": 2,
   "id": "be4e04f6",
   "metadata": {
    "deletable": false,
    "tags": [
     "reversing-lists"
    ]
   },
   "outputs": [
    {
     "data": {
      "text/plain": [
       "['mango', 'lemon', 'cherry', 'pear', 'apple']"
      ]
     },
     "execution_count": 2,
     "metadata": {},
     "output_type": "execute_result"
    }
   ],
   "source": [
    "def change_order(items):\n",
    "    # Reverse list here\n",
    "    returnlist = []\n",
    "    for item in items:\n",
    "        returnlist.insert(0, item)\n",
    "    return returnlist\n",
    "\n",
    "# Your code should work with the example below, but you're free to change it.\n",
    "fruits = [\"apple\", \"pear\", \"cherry\", \"lemon\", \"mango\"]\n",
    "change_order(fruits)    "
   ]
  },
  {
   "cell_type": "markdown",
   "id": "edc67ed6",
   "metadata": {
    "editable": false
   },
   "source": [
    "### Exercise 2: Sorting Lists\n",
    "\n",
    "Implement a function called `separate`: It takes a list of strings and separates them into two lists: The strings which are ALL-CAPS and those which are not. Additionally, both lists should be sorted (using the default sort order of Python, ordering characters based on their position in the ASCII table -- or to be more exact, their [Unicode code point](https://docs.python.org/3/howto/unicode.html)).\n",
    "\n",
    "Return both in the given order, using the multi-assignment trick (check \"The Multiple Assignment Trick\" in the book's chapter).\n",
    "\n",
    "Expected output:\n",
    "\n",
    "```Python\n",
    ">>> conversation = [\"HELLO\", \"shhh, be quiet\", \"OH, SORRY!\", \"OKAY, okay\"]\n",
    ">>> shouted, normal = separate(conversation)\n",
    ">>> shouted\n",
    "['HELLO', 'OH, SORRY!']\n",
    ">>> normal\n",
    "['OKAY, okay', 'shhh, be quiet']\n",
    "```\n"
   ]
  },
  {
   "cell_type": "code",
   "execution_count": 3,
   "id": "9e0deb0d",
   "metadata": {
    "deletable": false,
    "tags": [
     "sorting-lists"
    ]
   },
   "outputs": [
    {
     "name": "stdout",
     "output_type": "stream",
     "text": [
      "['HELLO', 'OH, SORRY!']\n",
      "['OKAY, okay', 'shhh, be quiet']\n"
     ]
    }
   ],
   "source": [
    "def separate(input_list):\n",
    "    shouted = []\n",
    "    normal = []\n",
    "    \n",
    "    for item in input_list:\n",
    "        if item.isupper():\n",
    "            shouted.append(item)\n",
    "        else:\n",
    "            normal.append(item)\n",
    "    shouted.sort()\n",
    "    normal.sort()\n",
    "    return shouted, normal\n",
    "\n",
    "# Your code should work with the example below, but you're free to change it.\n",
    "conversation = [\"HELLO\", \"shhh, be quiet\", \"OH, SORRY!\", \"OKAY, okay\"]\n",
    "shouted, normal = separate(conversation)\n",
    "print(shouted)\n",
    "print(normal)"
   ]
  },
  {
   "cell_type": "markdown",
   "id": "791276eb",
   "metadata": {
    "editable": false
   },
   "source": [
    "### Exercise 3: Drink-Generator\n",
    "\n",
    "<img src=\"https://imgs.xkcd.com/comics/ballmer_peak.png\" alt=\"XKCD 323\" style=\"width: 592px;\"/>\n",
    "\n",
    "*([XKCD 323: Ballmer Peak](https://xkcd.com/323/))*\n",
    "\n",
    "In this exercise you're going to write a tool that is useful for your next houseparty. `find_ingredients` takes the following arguments:\n",
    "\n",
    "- The name of a drink\n",
    "- A list of drinks\n",
    "- A list of tuples that are drink ingredients\n",
    "\n",
    "It then returns a **list** with the required ingredients for the desired drink. If a drink does not exist, it returns `None` instead (the special `None` value, not the string `\"None\"`). \n",
    "\n",
    "Hint for an elegant solution, but not required: The index in `drinks` is related to the corresponding index in `ingredients`. In this case, `zip()` from the standard library can be used - [here's a tutorial on zip()](https://realpython.com/python-zip-function/).\n",
    "\n",
    "Expected output:\n",
    "\n",
    "```python\n",
    ">>> find_ingredients(\"mojito\", drinks, ingredients)\n",
    "['white rum', 'sugar cane juice', 'lime juice', 'soda water', 'mint']\n",
    "\n",
    ">>> find_ingredients(\"negroni\", drinks, ingredients)\n",
    "None\n",
    "```"
   ]
  },
  {
   "cell_type": "code",
   "execution_count": 2,
   "id": "0533273a",
   "metadata": {
    "deletable": false,
    "tags": [
     "drink-generator"
    ]
   },
   "outputs": [
    {
     "name": "stdout",
     "output_type": "stream",
     "text": [
      "['white rum', 'sugar cane juice', 'lime juice', 'soda water', 'mint']\n",
      "None\n",
      "None\n"
     ]
    }
   ],
   "source": [
    "def find_ingredients(drink, drinks, ingredients):\n",
    "    if len(drinks) == 0:\n",
    "        return None\n",
    "    if len(ingredients) == 0:\n",
    "        return None\n",
    "    for item in zip(drinks, ingredients):\n",
    "        if item[0] == drink:\n",
    "            return list(item[1])\n",
    "    return None\n",
    "\n",
    "\n",
    "# Your code should work with the example below, but you're free to change it.\n",
    "drinks = [\"caipirinha\", \"mojito\", \"gin tonic\", \"vodka martini\"]\n",
    "\n",
    "\n",
    "ingredients = [\n",
    "    (\"cachaca\", \"sugar\", \"lime\"),\n",
    "    (\"white rum\", \"sugar cane juice\", \"lime juice\", \"soda water\", \"mint\"),\n",
    "    (\"gin\", \"tonic water\", \"ice\"),\n",
    "    (\"vodka\", \"vermouth\", \"ice\", \"olives\"),\n",
    "]\n",
    "\n",
    "print(find_ingredients(\"mojito\", drinks, ingredients))\n",
    "print(find_ingredients(\"negroni\", drinks, ingredients))\n",
    "print(find_ingredients(\" \", drinks, ingredients))"
   ]
  },
  {
   "cell_type": "markdown",
   "id": "73a9aaa0",
   "metadata": {
    "editable": false,
    "tags": []
   },
   "source": [
    "### Exercise 4: Drink-Generator Revisited\n",
    "This exercise is a little bit trickier. Instead of entering the name of a drink, `find_drink` accepts three ingredients as separate strings. Like above, the final two arguments are the list of drinks and the list of ingredient tuples.\n",
    "\n",
    "The return value should be the name of the drink possible to make with the provided three ingredients. If no matching drink can be found, the function returns `None`.\n",
    "\n",
    "Optional hint (advanced): There is an elegant solution which lets you generalize this for more than three ingredients: Store them in a list, then use a list comprehension in conjuction with `all()` to check the ingredients. `all()` checks for a condition that holds `True` for all elements in an iterable (here: a list). Refer to [Python's documenation](https://docs.python.org/3/library/functions.html#all) for more information.\n",
    "\n",
    "Note: It is allowed to create a drink which has more than three ingredients, but only three ingredients are provided (see example that returns `vodka martini`). When mixing drinks, you're allowed to improvise with what you have ;)\n",
    "\n",
    "Expected output:\n",
    "```Python\n",
    ">>> find_drink(\"cachaca\", \"sugar\", \"lime\", drinks, ingredients)\n",
    "\"caipirinha\"\n",
    "\n",
    ">>> find_drink(\"ice\", \"olives\", \"vodka\", drinks, ingredients)\n",
    "\"vodka martini\"\n",
    ">>> find_drink(\"ice\", \"olives\", \"vermouth\", drinks, ingredients)\n",
    "\"vodka martini\"\n",
    "\n",
    ">>> find_drink(\"white rum\", \"gin\", \"ice\", drinks, ingredients)\n",
    "None\n",
    "```"
   ]
  },
  {
   "cell_type": "code",
   "execution_count": 5,
   "id": "28ae0519",
   "metadata": {
    "deletable": false,
    "tags": [
     "drink-generator-revisited"
    ]
   },
   "outputs": [
    {
     "name": "stdout",
     "output_type": "stream",
     "text": [
      "caipirinha\n",
      "vodka martini\n",
      "vodka martini\n",
      "None\n"
     ]
    }
   ],
   "source": [
    "def find_drink(ingredient1, ingredient2, ingredient3, drinks, ingredients):\n",
    "    # Complete here\n",
    "    for element in zip(drinks, ingredients):\n",
    "        if ingredient1 in element[1] and ingredient2 in element[1] and ingredient3 in element[1]:\n",
    "            return element[0]\n",
    "    return None\n",
    "\n",
    "# Your code should work with the example below, but you're free to change it.\n",
    "drinks = [\"caipirinha\", \"mojito\", \"gin tonic\", \"vodka martini\"]\n",
    "\n",
    "ingredients = [\n",
    "    (\"cachaca\", \"sugar\", \"lime\"),\n",
    "    (\"white rum\", \"sugar cane juice\", \"lime juice\", \"soda water\", \"mint\"),\n",
    "    (\"gin\", \"tonic water\", \"ice\"),\n",
    "    (\"vodka\", \"vermouth\", \"ice\", \"olives\"),\n",
    "]\n",
    "\n",
    "print(find_drink(\"cachaca\", \"sugar\", \"lime\", drinks, ingredients))\n",
    "print(find_drink(\"ice\", \"olives\", \"vodka\", drinks, ingredients))\n",
    "print(find_drink(\"ice\", \"olives\", \"vermouth\", drinks, ingredients))\n",
    "print(find_drink(\"white rum\", \"gin\", \"ice\", drinks, ingredients))"
   ]
  },
  {
   "cell_type": "markdown",
   "id": "c14a0bc8",
   "metadata": {
    "editable": false
   },
   "source": [
    "# Feedback form\n",
    "\n",
    "We'd like to get some feedback for this lab! To give us feedback, double-click the cells below and edit it in the appropriate places:\n",
    "\n",
    "- Replace `[ ]` by `[x]` to cross checkboxes, they should look like this once you finish editing:\n",
    "  * [ ] uncrossed\n",
    "  * [x] crossed\n",
    "- Add additional text where indicated (optional)"
   ]
  },
  {
   "cell_type": "markdown",
   "id": "b0a7aa40",
   "metadata": {
    "deletable": false,
    "tags": [
     "feedback-difficulty"
    ]
   },
   "source": [
    "**Difficulty:**\n",
    "\n",
    "The difficulty of the materials in this lab was:\n",
    "\n",
    "- [ ] Much too difficult\n",
    "- [ ] A little too difficult\n",
    "- [ ] Just right\n",
    "- [ ] A little too easy\n",
    "- [ ] Much too easy"
   ]
  },
  {
   "cell_type": "markdown",
   "id": "ce5d5ef1",
   "metadata": {
    "deletable": false,
    "tags": [
     "feedback-time"
    ]
   },
   "source": [
    "**Time:**\n",
    "\n",
    "For one block (usually multiple labs), you should spend around 4h at home and 4h in the course. There are three labs in this block, so we'd expect you to spend a total of **around 2 1/2h on this one (both reading and solving)**.\n",
    "\n",
    "For the materials in *this lab*, do you think you spent:\n",
    "\n",
    "- [ ] Much more time\n",
    "- [ ] A little more time\n",
    "- [ ] About the scheduled amount of time\n",
    "- [ ] A little less time\n",
    "- [ ] Much less time"
   ]
  },
  {
   "cell_type": "markdown",
   "id": "396a4362",
   "metadata": {
    "deletable": false,
    "tags": [
     "feedback-text-topics"
    ]
   },
   "source": [
    "**Any topics you found especially enjoyable or difficult in this lab?**\n",
    "\n",
    "<!-- Write below this line -->"
   ]
  },
  {
   "cell_type": "markdown",
   "id": "b1340dc1",
   "metadata": {
    "deletable": false,
    "tags": [
     "feedback-text-free"
    ]
   },
   "source": [
    "**Anything else you'd like to tell us?**\n",
    "\n",
    "<!-- Write below this line -->"
   ]
  },
  {
   "cell_type": "markdown",
   "id": "33a5a6ae",
   "metadata": {
    "editable": false
   },
   "source": [
    "# Submit\n",
    "\n",
    "First, **save this file** (no grey dot should be visible in the tab above). Then, run the cell below to submit your work and see the results. You can submit as often as you like.\n",
    "\n",
    "In case of problems:\n",
    "- *Don't panic!*\n",
    "- If you're in a course, show the error to your instructor.\n",
    "- If the **tests failed** and you suspect an issue in the tests:\n",
    "    * Mail your instructor, Cc `florian.bruhin@ost.ch` (if instructor != florian)\n",
    "    * **No attachments** necessary.\n",
    "- If the **submission failed** (error message, etc.):\n",
    "    * Mail your instructor, Cc `florian.bruhin@ost.ch` (if instructor != florian)\n",
    "    * Attach a screenshot of the issue\n",
    "    * Attach the notebook (File > Download)."
   ]
  },
  {
   "cell_type": "code",
   "execution_count": 3,
   "id": "dcaca2b2",
   "metadata": {},
   "outputs": [
    {
     "name": "stdout",
     "output_type": "stream",
     "text": [
      "Last change: \u001b[1;36m2\u001b[0m seconds ago\n",
      "\n",
      "\u001b[2K\u001b[32m⠼\u001b[0m \u001b[1;32mTesting...\u001b[0m0m\n",
      "\u001b[1A\u001b[2K╭────────────────────────────── drink generator ───────────────────────────────╮\n",
      "│ \u001b[32m100% passed\u001b[0m                                                                  │\n",
      "╰──────────────────────────────────────────────────────────────────────────────╯\n",
      "╭───────────────────────── drink generator revisited ──────────────────────────╮\n",
      "│ \u001b[32m100% passed\u001b[0m                                                                  │\n",
      "╰──────────────────────────────────────────────────────────────────────────────╯\n",
      "╭────────────────────────────── reversing lists ───────────────────────────────╮\n",
      "│ \u001b[32m100% passed\u001b[0m                                                                  │\n",
      "╰──────────────────────────────────────────────────────────────────────────────╯\n",
      "╭─────────────────────────────── sorting lists ────────────────────────────────╮\n",
      "│ \u001b[32m100% passed\u001b[0m                                                                  │\n",
      "╰──────────────────────────────────────────────────────────────────────────────╯\n",
      "\n",
      "┏━━━━━━━━━━━━━━━━━━━━━━━━━━━━━━━━━━━ Total ━━━━━━━━━━━━━━━━━━━━━━━━━━━━━━━━━━━━┓\n",
      "┃ \u001b[32m100% passed\u001b[0m                                                                  ┃\n",
      "┗━━━━━━━━━━━━━━━━━━━━━━━━━━━━━━━━━━━━━━━━━━━━━━━━━━━━━━━━━━━━━━━━━━━━━━━━━━━━━━┛\n",
      "📫 ✔ \u001b[1mSubmission successful!\u001b[0m \u001b[1;37m(\u001b[0m\u001b[1;37m2023\u001b[0m\u001b[37m-\u001b[0m\u001b[1;37m10\u001b[0m\u001b[37m-\u001b[0m\u001b[1;37m16\u001b[0m\u001b[37m \u001b[0m\u001b[1;37m08:16:07\u001b[0m\u001b[37m, a98e4c6d\u001b[0m\u001b[1;37m)\u001b[0m\n"
     ]
    }
   ],
   "source": [
    "!submit lists.ipynb"
   ]
  }
 ],
 "metadata": {
  "kernelspec": {
   "display_name": "Python 3 (ipykernel)",
   "language": "python",
   "name": "python3"
  },
  "language_info": {
   "codemirror_mode": {
    "name": "ipython",
    "version": 3
   },
   "file_extension": ".py",
   "mimetype": "text/x-python",
   "name": "python",
   "nbconvert_exporter": "python",
   "pygments_lexer": "ipython3",
   "version": "3.11.6"
  },
  "vscode": {
   "interpreter": {
    "hash": "0651c627c3b64d1ada904a564819abcba4b8231b6784e7fb386e86e8dc20be09"
   }
  }
 },
 "nbformat": 4,
 "nbformat_minor": 5
}
