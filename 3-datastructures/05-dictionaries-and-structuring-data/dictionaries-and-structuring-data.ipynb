{
    "cells": [
        {
            "cell_type": "markdown",
            "id": "a84e21a7",
            "metadata": {
                "editable": false
            },
            "source": [
                "# Dictionaries and Structuring Data"
            ]
        },
        {
            "cell_type": "markdown",
            "id": "84a3c981",
            "metadata": {
                "editable": false
            },
            "source": [
                "## Introduction\n",
                "\n",
                "The last \"drink generator\" exercise was a little bit tedious. This is because the values for drinks and their respective ingredients were not linked.\n",
                "\n",
                "There are better data structures to map a recipe to a recipe name: A *dictionary*. Dictionaries are similar to their real-world equivalent: They always map a certain *key* to a certain *value*, like:\n",
                "\n",
                "- hello -> Hallo\n",
                "- world -> Welt\n",
                "\n",
                "There are many other names for the same concept in other languages - for example, associative arrays or maps (since a dictionary *maps* or *associates* values to each other).\n",
                "\n",
                "In addition to the book chapter about dictionaries, we will also take a look at *sets*. Sets are similar to the same concept in mathematics (\"Mengen\"): A collection of values, but without any fixed order and without duplicates.\n",
                "\n",
                "**This notebook covers the [fifth chapter](https://automatetheboringstuff.com/2e/chapter5/) of the book.**\n",
                "\n",
                "### Optional resources\n",
                "\n",
                "You can find more information about dictionaries and structuring data in the Python documentation:\n",
                "* [Dictionaries](https://docs.python.org/3/tutorial/datastructures.html#dictionaries)\n",
                "* [Sets](https://docs.python.org/3/tutorial/datastructures.html#sets)\n",
                "\n",
                "Relevant Real Python tutorials:\n",
                "* [Dictionaries in Python](https://realpython.com/python-dicts/)\n",
                "* [Sets in Python](https://realpython.com/python-sets/)\n",
                "\n",
                "While not required for the exercises, it also pays off to make yourself familiar with the `collections` module in Python. It provides useful specialized dictionares such as a [`collections.defaultdict`](https://docs.python.org/3/library/collections.html#collections.defaultdict) (automatically providing a default value for unknown keys) or a [`collections.Counter`](https://docs.python.org/3/library/collections.html#collections.Counter) (counting the elements in an interable like a string, and then providing the total count of each element):\n",
                "\n",
                "* [Python documentation for `collections`](https://docs.python.org/3/library/collections.html)\n",
                "* [collections — Container Data Types — PyMOTW 3](https://pymotw.com/3/collections/index.html)"
            ]
        },
        {
            "cell_type": "markdown",
            "id": "f0e86cab",
            "metadata": {
                "editable": false
            },
            "source": [
                "## Summary"
            ]
        },
        {
            "cell_type": "markdown",
            "id": "73928b30",
            "metadata": {
                "editable": false
            },
            "source": [
                "### Dictionaries\n",
                "Reconsider the example where we assigned some characteristics to a person. Now, in dictionary-form:"
            ]
        },
        {
            "cell_type": "code",
            "execution_count": 10,
            "id": "006e0e3d",
            "metadata": {},
            "outputs": [
                {
                    "name": "stdout",
                    "output_type": "stream",
                    "text": [
                        "Harry has green eyes.\n"
                    ]
                }
            ],
            "source": [
                "harry = {\n",
                "    \"hair\": \"black\",\n",
                "    \"eyes\": \"green\",\n",
                "    \"feature\": \"scar\",\n",
                "}\n",
                "eyecolor = harry[\"eyes\"]\n",
                "\n",
                "print(f\"Harry has {eyecolor} eyes.\")"
            ]
        },
        {
            "cell_type": "markdown",
            "id": "eac8fd34",
            "metadata": {
                "editable": false
            },
            "source": [
                "As you can see, dictionaries are similar to lists, but we always specify pairs of *key* and *value*. In this example, we're using strings as keys - but many other data types can also be used as keys (some, like lists, can't).\n",
                "\n",
                "Curly braces are used to start and end a dictionary. Inside the curly braces, there are key-value-pairs separated by commas. Each pair consists of a *key*, the colon (`:`) as a separator, and the *value*.\n",
                "\n",
                "Dictionaries can be modified after creating them, so they are *mutable*. But, unlike lists, they cannot be sliced as the items are _not ordered!_\n",
                "\n",
                "Changing or adding an element to the dictionary works similarly like with lists:"
            ]
        },
        {
            "cell_type": "code",
            "execution_count": 14,
            "id": "b2e95861",
            "metadata": {},
            "outputs": [
                {
                    "name": "stdout",
                    "output_type": "stream",
                    "text": [
                        "Harry has grey-green eyes.\n",
                        "Harry drinks fire whiskey for breakfast.\n"
                    ]
                }
            ],
            "source": [
                "# Modify\n",
                "harry[\"eyes\"] = \"grey-green\"\n",
                "print(f\"Harry has {harry['eyes']} eyes.\")\n",
                "\n",
                "# Add\n",
                "harry[\"favorite_drink\"] = \"fire whiskey\"\n",
                "print(f\"Harry drinks {harry['favorite_drink']} for breakfast.\")"
            ]
        },
        {
            "cell_type": "markdown",
            "id": "4e84a180",
            "metadata": {
                "editable": false
            },
            "source": [
                "#### Keys, Values, Items\n",
                "Have a look at the following methods by running the code. Study the output."
            ]
        },
        {
            "cell_type": "code",
            "execution_count": 3,
            "id": "8841eda5",
            "metadata": {},
            "outputs": [
                {
                    "name": "stdout",
                    "output_type": "stream",
                    "text": [
                        "dict_keys(['hair', 'eyes', 'feature'])\n",
                        "dict_values(['black', 'green', 'scar'])\n",
                        "dict_items([('hair', 'black'), ('eyes', 'green'), ('feature', 'scar')])\n"
                    ]
                }
            ],
            "source": [
                "print(harry.keys())\n",
                "print(harry.values())\n",
                "print(harry.items())"
            ]
        },
        {
            "cell_type": "markdown",
            "id": "14fecfdc",
            "metadata": {
                "editable": false
            },
            "source": [
                "- `dict.keys()`: Returns all the keys in the dictionary.\n",
                "- `dict.values()`: Returns all the values in the dictionary.\n",
                "- `dict.items()`: Returns all the items in (key, value)-tuples.\n",
                "\n",
                "You can think of those values like a list - they work in almost the same way a \"normal\" list would. They are of a special type (`dict_keys`, `dict_values` and `dict_items`) to avoid having to copy the data into a new list (a different \"view\" on the existing data)."
            ]
        },
        {
            "cell_type": "markdown",
            "id": "307cd9d6",
            "metadata": {
                "editable": false
            },
            "source": [
                "#### `get()` and `setdefault()`\n",
                "An error is raised if you access an unavailable item. There are multiple ways to avoid such an error."
            ]
        },
        {
            "cell_type": "code",
            "execution_count": null,
            "id": "73dcfe4b",
            "metadata": {},
            "outputs": [],
            "source": [
                "# Check for the key:\n",
                "if \"size\" in harry:\n",
                "    print(harry[\"size\"])\n",
                "else:\n",
                "    print(\"unknown\")\n",
                "\n",
                "# Use get():\n",
                "size = harry.get(\"size\", \"unknown\")\n",
                "print(size)"
            ]
        },
        {
            "cell_type": "markdown",
            "id": "eccfffa4",
            "metadata": {
                "editable": false
            },
            "source": [
                "The `get()`-method can have a default value as the second argument which will be returned if the key does not exist. The `get()`-method simplifies accessing data.\n",
                "\n",
                "On the other hand, the `setdefault()`-method simplifies data insertion. To not overwrite data when you insert a new key-value-pair, use this method. The item only gets created if there is not already an item with the same key."
            ]
        },
        {
            "cell_type": "code",
            "execution_count": 11,
            "id": "f2ace3cc",
            "metadata": {},
            "outputs": [
                {
                    "data": {
                        "text/plain": [
                            "178"
                        ]
                    },
                    "execution_count": 11,
                    "metadata": {},
                    "output_type": "execute_result"
                }
            ],
            "source": [
                "harry.setdefault(\"size\", 178)"
            ]
        },
        {
            "cell_type": "markdown",
            "id": "d6f0ee5f",
            "metadata": {
                "editable": false
            },
            "source": [
                "#### Delete Items\n",
                "To delete an element, just use the `pop` method or `del` function."
            ]
        },
        {
            "cell_type": "code",
            "execution_count": 12,
            "id": "4be0a142",
            "metadata": {},
            "outputs": [
                {
                    "data": {
                        "text/plain": [
                            "{'eyes': 'green', 'feature': 'scar'}"
                        ]
                    },
                    "execution_count": 12,
                    "metadata": {},
                    "output_type": "execute_result"
                }
            ],
            "source": [
                "harry.pop(\"hair\")\n",
                "del harry[\"size\"]\n",
                "harry"
            ]
        },
        {
            "cell_type": "markdown",
            "id": "dbe583d9",
            "metadata": {
                "editable": false
            },
            "source": [
                "### Sets\n",
                "Another type of data structure is a _set_. A set is an _unordered, immutable_ collection of _unique_ elements."
            ]
        },
        {
            "cell_type": "code",
            "execution_count": 3,
            "id": "660d1ea7",
            "metadata": {},
            "outputs": [
                {
                    "name": "stdout",
                    "output_type": "stream",
                    "text": [
                        "{'Elephant Shunned', 'Dark Noise', 'Packard', 'The Space in Between', 'More'}\n"
                    ]
                }
            ],
            "source": [
                "songs = {\n",
                "    \"Dark Noise\",\n",
                "    \"Elephant Shunned\",\n",
                "    \"Elephant Shunned\",\n",
                "    \"More\",\n",
                "    \"Packard\",\n",
                "    \"The Space in Between\",\n",
                "}\n",
                "print(songs)  # Note how the duplicate element vanished!"
            ]
        },
        {
            "cell_type": "markdown",
            "id": "4c138789",
            "metadata": {
                "editable": false
            },
            "source": [
                "Because the elements are not always ordered in the same way (unordered), you cannot access single items via the index. But you can get the length of the set, combine two sets with each other (union) and even loop through a set, albeit the order of the loop is undefined."
            ]
        },
        {
            "cell_type": "code",
            "execution_count": 2,
            "id": "b2f38a09",
            "metadata": {},
            "outputs": [
                {
                    "name": "stdout",
                    "output_type": "stream",
                    "text": [
                        "Playing 8 tracks in total.\n",
                        "Now playing: The Six Degrees Theory\n",
                        "Now playing: 404 Not Found\n",
                        "Now playing: The Space in Between\n",
                        "Now playing: Our Broken Mind Embassy\n",
                        "Now playing: Packard\n",
                        "Now playing: Dark Noise\n",
                        "Now playing: More\n",
                        "Now playing: Elephant Shunned\n"
                    ]
                }
            ],
            "source": [
                "more_songs = {\"404 Not Found\", \"The Six Degrees Theory\", \"Our Broken Mind Embassy\"}\n",
                "\n",
                "complete_set = songs | more_songs  # union\n",
                "\n",
                "print(f\"Playing {len(complete_set)} tracks in total.\")\n",
                "\n",
                "for track in complete_set:\n",
                "    print(f\"Now playing: {track}\")"
            ]
        },
        {
            "cell_type": "markdown",
            "id": "0429cdde",
            "metadata": {
                "editable": false
            },
            "source": [
                "### Dictionary Comprehension\n",
                "Yes, dictionary comprehensions exist and they are very useful, too. The syntax is a little bit more complicated, as there are two values you can change in one line:\n",
                "\n",
                "```python\n",
                "new_dict = {key: value for (key, value) in old_dict.items() if condition}\n",
                "```\n",
                "The difference to list comprehension is that you can manipulate both a key and a value, and that the expression is framed with curly braces. The `key: value` part denotes the items (key-value-pairs) which will end up in the new dict.\n",
                "\n",
                "At first sight, this might sound a little bit complicated, but the following example should clarify things. It builds a new dictionary (`corrected_playlist = ...`) based on an existing one (`for (nr, name) in playlist.items()`). While doing so, it changes both key (`nr.replace(\"Song\", \"Track\")` and value  (`f\"{name} by Jan Blomqvist\"`). Finally, it also filters certain elements (`if name.startswith(\"T\")`)."
            ]
        },
        {
            "cell_type": "code",
            "execution_count": 5,
            "id": "f7f46e54",
            "metadata": {},
            "outputs": [
                {
                    "name": "stdout",
                    "output_type": "stream",
                    "text": [
                        "{'Track 2': 'The Space in Between by Jan Blomqvist', 'Track 3': 'The Six Degrees Theory by Jan Blomqvist'}\n"
                    ]
                }
            ],
            "source": [
                "playlist = {\n",
                "    \"Song 1\": \"Elephant Shunned\",\n",
                "    \"Song 2\": \"The Space in Between\",\n",
                "    \"Song 3\": \"The Six Degrees Theory\",\n",
                "    \"Song 4\": \"Our Broken Mind Embassy\",\n",
                "}\n",
                "\n",
                "corrected_playlist = {\n",
                "    nr.replace(\"Song\", \"Track\"): f\"{name} by Jan Blomqvist\"\n",
                "    for (nr, name) in playlist.items()\n",
                "    if name.startswith(\"T\")\n",
                "}\n",
                "\n",
                "print(corrected_playlist)"
            ]
        },
        {
            "cell_type": "markdown",
            "id": "13c953b8",
            "metadata": {
                "editable": false
            },
            "source": [
                "## Concluding Remarks: Loop Like A Native\n",
                "\n",
                "In Python, there are many different ways how to loop over data structures such as dictionaries or lists. Especially if you have learned other programming languages first, you might be tempted to use the structures learned first. Those might work in Python, but essentially they are not always \"Pythonic\" - and Python offers several elegant ways to create beautiful loops that are easy to read. You have learned them over the last couple of labs, but we want to conclude the topic on data structures with this link: [Loop Like a Native by Ned Batchelder](https://nedbatchelder.com/text/iter.html).\n",
                "\n",
                "It discusses the specifics of looping over data in Python and how to do so elegantly. Please be aware: The article is written for Python 2.x, which (among other things) has different `print` statements than Python 3.x. The content is good to know nevertheless."
            ]
        },
        {
            "cell_type": "markdown",
            "id": "cf98758d",
            "metadata": {
                "editable": false
            },
            "source": [
                "## Exercises\n",
                "### Exercise 1: Drink-Generator with Dicts\n",
                "Rewrite the drink-generator, but this time, use a dictionary instead of two lists. The requirements are only slightly different:\n",
                "\n",
                "* New: Define the dictionary `drinks` (see below). It should contain the name of a drink as key, and the required ingredients as the corresponding value. Refer to the previous exercise to get the ingredients and the name of the drinks. \n",
                "* `find_drink` accepts three ingredients as separate strings and the drinks dictionary. \n",
                "* The function returns the name of the drink possible to make using these ingredients. \n",
                "* If no matching drink can be found, the function returns `None`. \n",
                "\n",
                "Hint for a more elegant solution, not required: Sets are a really nice feature to check if some items are a part of a larger group of items - namely, if they are a subset. [Check out the Real Python tutorial](https://realpython.com/python-sets/) to learn more about sets and set operations in detail.\n",
                "\n",
                "Expected output:\n",
                "```Python\n",
                ">>> find_drink(\"cachaca\", \"sugar\", \"lime\", drinks)\n",
                "\"caipirinha\"\n",
                "\n",
                ">>> find_drink(\"ice\", \"olives\", \"vodka\", drinks)\n",
                "\"vodka martini\"\n",
                ">>> find_drink(\"ice\", \"olives\", \"vermouth\", drinks)\n",
                "\"vodka martini\"\n",
                "\n",
                ">>> find_drink(\"white rum\", \"gin\", \"ice\", drinks)\n",
                "None\n",
                "```"
            ]
        },
        {
            "cell_type": "code",
            "execution_count": 1,
            "id": "f433474b",
            "metadata": {
                "deletable": false,
                "tags": [
                    "drink-generator-dicts"
                ]
            },
            "outputs": [
                {
                    "name": "stdout",
                    "output_type": "stream",
                    "text": [
                        "caipirinha\n",
                        "vodka martini\n",
                        "vodka martini\n",
                        "None\n"
                    ]
                }
            ],
            "source": [
                "def find_drink(ingredient1, ingredient2, ingredient3, drinks):\n",
                "    for drink, ingredients in drinks.items():\n",
                "        if ingredient1 in ingredients and ingredient2 in ingredients and ingredient3 in ingredients:\n",
                "            return drink\n",
                "    return None\n",
                "    # todo: Implement\n",
                "\n",
                "\n",
                "drinks = {\n",
                "    \"caipirinha\": [\"cachaca\", \"sugar\", \"lime\"],\n",
                "    \"mojito\": [\"white rum\", \"sugar cane juice\", \"lime juice\", \"soda water\", \"mint\"],\n",
                "    \"gin tonic\": [\"gin\", \"tonic water\", \"ice\"],\n",
                "    \"vodka martini\": [\"vodka\", \"vermouth\", \"ice\", \"olives\"],\n",
                "}\n",
                "\n",
                "\n",
                "# Your code should work with the example below, but you're free to change it.\n",
                "print(find_drink(\"cachaca\", \"sugar\", \"lime\", drinks))\n",
                "print(find_drink(\"ice\", \"olives\", \"vodka\", drinks))\n",
                "print(find_drink(\"ice\", \"olives\", \"vermouth\", drinks))\n",
                "print(find_drink(\"white rum\", \"gin\", \"ice\", drinks))\n"
            ]
        },
        {
            "cell_type": "markdown",
            "id": "c2dedf5b",
            "metadata": {
                "editable": false
            },
            "source": [
                "### Exercise 2: Get and Set\n",
                "\n",
                "Implement the `get()` and the `setdefault()` method: `get` tries to retrieve a value based on a key, if the value is not found, `get` returns a default value. `setdefault()` adds a key-value pair to a dictionary if it does not exist, and returns the value,  also if the key already exists. Do not use the built-in dictionary methods.\n",
                "\n",
                "Expected output:\n",
                "\n",
                "```python\n",
                ">>> harry = {\"hair\": \"black\", \"eyes\": \"green\", \"feature\": \"scar\"}\n",
                ">>> get(harry, \"eyes\", \"blue\")\n",
                "'green'\n",
                ">>> get(harry, \"size\", 0)\n",
                "0\n",
                ">>> setdefault(\"harry\", \"size\", 178)\n",
                "178\n",
                ">>> get(harry, \"size\", 0)\n",
                "178\n",
                "```"
            ]
        },
        {
            "cell_type": "code",
            "execution_count": 2,
            "id": "a6eee066",
            "metadata": {
                "deletable": false,
                "tags": [
                    "get-set"
                ]
            },
            "outputs": [
                {
                    "name": "stdout",
                    "output_type": "stream",
                    "text": [
                        "green\n",
                        "0\n",
                        "178\n",
                        "178\n"
                    ]
                }
            ],
            "source": [
                "def get(dictionary, key, default):\n",
                "     # Implement here\n",
                "    if key in dictionary:\n",
                "        return str(dictionary[key])\n",
                "    return default\n",
                "\n",
                "\n",
                "def setdefault(dictionary, key, value):\n",
                "     # Implement here\n",
                "     if key in dictionary:\n",
                "         return dictionary[key]\n",
                "     dictionary[key] = value\n",
                "     return value\n",
                "\n",
                "\n",
                "# Your code should work with the example below, but you're free to change it.\n",
                "harry = {\"hair\": \"black\", \"eyes\": \"green\", \"feature\": \"scar\"}\n",
                "print(get(harry, \"eyes\", \"blue\"))\n",
                "print(get(harry, \"size\", 0))\n",
                "print(setdefault(harry, \"size\", 178))\n",
                "print(get(harry, \"size\", 0))"
            ]
        },
        {
            "cell_type": "markdown",
            "id": "ad04145a",
            "metadata": {
                "editable": false
            },
            "source": [
                "### Exercise 3: Cliques\n",
                "\n",
                "This exercise aims to make you familiar with set operations, since they are a very useful feature in daily coding. Consider the crew members, their ships and roles below and answer the following questions **using set operations**:\n",
                "\n",
                "* Who is male?\n",
                "* Who is engineer AND first officer?\n",
                "* Who is security on the NCC-1701-D?\n",
                "* Who are the female pilots?\n",
                "* Who is male security on the Rocinante?\n",
                "\n",
                "Note: In order to answer some questions, you may need to create additional set(s)."
            ]
        },
        {
            "cell_type": "code",
            "execution_count": null,
            "id": "b7de633b",
            "metadata": {
                "deletable": false,
                "tags": [
                    "cliques"
                ]
            },
            "outputs": [],
            "source": [
                "# roles (don't change!)\n",
                "engineers = {\"Naomi Nagata\", \"Geordi La Forge\", \"Kaylee Frye\"}\n",
                "security = {\"Amos Burton\", \"Bobbie Draper\", \"Worf\", \"Tasha Yar\", \"Jayne Cobb\"}\n",
                "captains = {\"Jim Holden\", \"Jean-Luc Picard\", \"Mal Reynolds\"}\n",
                "firstofficers = {\"Naomi Nagata\", \"Zoë Washburne\", \"William T. Riker\"}\n",
                "pilots = {\"Alex Kamal\", \"Data\", \"Hoban Washburne\"}\n",
                "female = {\"Naomi Nagata\", \"Kaylee Frye\", \"Bobbie Draper\", \"Tasha Yar\", \"Zoë Washburne\"}\n",
                "\n",
                "# ships (don't change!)\n",
                "firefly = {\"Kaylee Frye\", \"Jayne Cobb\", \"Mal Reynolds\", \"Hoban Washburne\", \"Zoë Washburne\"}\n",
                "ncc1701d = {\"Worf\", \"Tasha Yar\", \"Geordi La Forge\", \"William T. Riker\", \"Data\", \"Jean-Luc Picard\"}\n",
                "rocinante = {\"Naomi Nagata\", \"Amos Burton\", \"Bobbie Draper\", \"Jim Holden\", \"Alex Kamal\"}\n",
                "\n",
                "# More operations if needed\n",
                "\n",
                "male = engineers.union(security, captains, firstofficers, pilots).difference(female)\n",
                "engineer_and_firstofficer = engineers.intersection(firstofficers)\n",
                "security_ncc1701d = security.intersection(ncc1701d)\n",
                "pilot_female = female.intersection(pilots)\n",
                "male_security_rocinante = male.intersection(security).intersection(rocinante)\n",
                "\n",
                "# ---- no changes below! ----\n",
                "print(male)\n",
                "print(engineer_and_firstofficer)\n",
                "print(security_ncc1701d)\n",
                "print(pilot_female)\n",
                "print(male_security_rocinante)"
            ]
        },
        {
            "cell_type": "markdown",
            "id": "0b62e967",
            "metadata": {
                "editable": false
            },
            "source": [
                "### Exercise 4: Battleships\n",
                "\n",
                "In this exercise, you will implement a Battleships (\"Schiffliversenkis\") game. You'll start with defining the ship's positions, then implement a first simplified version, and finally implement a more complete version of the game as an advanced exercise.\n",
                "\n",
                "#### a) Defining the playing field\n",
                "\n",
                "* The field consists of four-by-four cells (A1 to D4). Refer to the table below for the initial position of the ships. \n",
                "* Represent the playing field as a dictionary called `SHIPS`, where the key is a position as string, and the value a boolean whether there is a ship at this spot (`True`) or not (`False`). \n",
                "\n",
                "Initial position of battleships: \n",
                "\n",
                "|      | A    | B    | C    | D    |\n",
                "| ---- | ---- | ---- | ---- | ---- |\n",
                "| 1    | X    | X    |      | X    |\n",
                "| 2    |      |      |      | X    |\n",
                "| 3    |      |      |      | X    |\n",
                "| 4    |      | X    |      |      |\n",
                "\n",
                "Example: `SHIPS[\"A1\"]` evaluates to `True` since there's a ship on it."
            ]
        },
        {
            "cell_type": "code",
            "execution_count": 1,
            "id": "af8bc149",
            "metadata": {
                "deletable": false,
                "tags": [
                    "battleships-ships"
                ]
            },
            "outputs": [
                {
                    "name": "stdout",
                    "output_type": "stream",
                    "text": [
                        "True\n"
                    ]
                }
            ],
            "source": [
                "    # You can run this cell to define `SHIPS`, then re-use the data in the exercises below.\n",
                "    \n",
                "    SHIPS =  {\n",
                "        \"A1\": True,\n",
                "        \"A2\": False,\n",
                "        \"A3\": False,\n",
                "        \"A4\": False,\n",
                "        \"B1\": True,\n",
                "        \"B2\": False,\n",
                "        \"B3\": False,\n",
                "        \"B4\": True,\n",
                "        \"C1\": False,\n",
                "        \"C2\": False,\n",
                "        \"C3\": False,\n",
                "        \"C4\": False,\n",
                "        \"D1\": True,\n",
                "        \"D2\": True,\n",
                "        \"D3\": True,\n",
                "        \"D4\": False,\n",
                "    }\n",
                "    \n",
                "    print(SHIPS[\"A1\"])"
            ]
        },
        {
            "cell_type": "markdown",
            "id": "11a92e1f",
            "metadata": {
                "editable": false
            },
            "source": [
                "#### b) Simplified implementation\n",
                "* Write a loop which asks the user for input where to place a bomb on the field.\n",
                "  - Make sure to **use the argument to `input(...)` to display the prompt**, don't print it manually via `print`. Use the given `prompt_message` variable.\n",
                "  - If the user inputs something which isn't a valid ship position, ignore the input, and ask them for their next move.\n",
                "* If a ship is hit, the player wins, the game prints `You won.` (use the given `win_message` variable), and the game ends.\n",
                "* Note: We play a simplified version of Battleships! All ships only have the size of one square. So A1 is a single ship, B1 is another single ship, which is incidentally adjacent to A1.\n",
                "\n",
                "Expected output (the part after the `?` is what the user inputs, not part of what gets printed):\n",
                "\n",
                "```\n",
                "On which cell do you want to set off the bomb? A1\n",
                "You won.\n",
                "\n",
                "On which cell do you want to set off the bomb? A2\n",
                "On which cell do you want to set off the bomb? C1\n",
                "On which cell do you want to set off the bomb? D3\n",
                "You won.\n",
                "```"
            ]
        },
        {
            "cell_type": "code",
            "execution_count": null,
            "id": "92f97428",
            "metadata": {
                "deletable": false,
                "tags": [
                    "battleships"
                ]
            },
            "outputs": [],
            "source": [
                "# Use these constants for printing messages, don't change them.\n",
                "OUTPUT_PROMPT = \"On which cell do you want to set off the bomb?\"\n",
                "OUTPUT_WIN = \"You won.\"\n",
                "# Use SHIPS from above, don't redefine it here.\n",
                "\n",
                "\n",
                "def battleships():\n",
                "    while(True):\n",
                "        userinput = input(OUTPUT_PROMPT)\n",
                "        if userinput in SHIPS:\n",
                "            if SHIPS[userinput]:\n",
                "                print(OUTPUT_WIN)\n",
                "                return\n",
                "\n",
                "\n",
                "# Invocation to try your implementation, don't change this\n",
                "battleships()"
            ]
        },
        {
            "cell_type": "markdown",
            "id": "19262979",
            "metadata": {
                "editable": false,
                "tags": []
            },
            "source": [
                "#### c) Battleships Enhanced\n",
                "\n",
                "**This is an advanced exercise.** Consider finishing the other labs first, then coming back here.\n",
                "\n",
                "Enhance the game a little further, the position of the battleships stays the same. Requirements:\n",
                "\n",
                "* Make sure that the player only wins when all ships are hit, which means that the value of a field in `ships` changes when a ship was hit. \n",
                "* Use the given `ships` dictionary, which is a copy of the original `SHIPS`. The upper-case version is constant, so it shouldn't be changed.\n",
                "* When a ship is hit, print `You hit a ship!` (use the given `hit_message` variable).\n",
                "* When the player failed to hit a ship, print `You missed!` (use the given `missed_message` variable).\n",
                "* When the player fails to hit three ships in a row, they lose the game, and the game prints `You lost.` after the last `You missed!` message (use the given `lose_message` variable).\n",
                "* If a ship is hit, the player has three attempts again to hit a ship.\n",
                "* As above, if the user inputs something which isn't a valid ship position, ignore the input, and ask them for their next move. This does *not* count as a hit/miss.\n",
                "\n",
                "Expected output (win):\n",
                "\n",
                "```\n",
                "On which cell do you want to set off the bomb? A2\n",
                "You missed!\n",
                "On which cell do you want to set off the bomb? A3\n",
                "You missed!\n",
                "On which cell do you want to set off the bomb? A1\n",
                "You hit a ship!\n",
                "On which cell do you want to set off the bomb? B1\n",
                "You hit a ship!\n",
                "On which cell do you want to set off the bomb? B4\n",
                "You hit a ship!\n",
                "On which cell do you want to set off the bomb? D1\n",
                "You hit a ship!\n",
                "On which cell do you want to set off the bomb? D2\n",
                "You hit a ship!\n",
                "On which cell do you want to set off the bomb? D3\n",
                "You hit a ship!\n",
                "You won.\n",
                "```\n",
                "\n",
                "Expected output (lose):\n",
                "\n",
                "```\n",
                "On which cell do you want to set off the bomb? A2\n",
                "You missed!\n",
                "On which cell do you want to set off the bomb? A3\n",
                "You missed!\n",
                "On which cell do you want to set off the bomb? A4\n",
                "You missed!\n",
                "You lost.\n",
                "```"
            ]
        },
        {
            "cell_type": "code",
            "execution_count": null,
            "id": "9d8019a1",
            "metadata": {
                "deletable": false,
                "tags": [
                    "battleships-enhanced"
                ]
            },
            "outputs": [],
            "source": [
                "# Use these constants for printing messages, don't change them.\n",
                "OUTPUT_PROMPT = \"On which cell do you want to set off the bomb? \"\n",
                "OUTPUT_WIN = \"You won.\"\n",
                "OUTPUT_LOSE = \"You lost.\"\n",
                "OUTPUT_HIT = \"You hit a ship!\"\n",
                "OUTPUT_MISSED = \"You missed!\"\n",
                "# Use SHIPS from above, don't redefine it here.\n",
                "\n",
                "\n",
                "def battleships_enhanced():\n",
                "    # Use this copy, don't touch SHIPS in your code.\n",
                "    ships = SHIPS.copy()\n",
                "    tries = 3\n",
                "    while True in ships.values():\n",
                "        if tries == 0:\n",
                "            print(OUTPUT_LOSE)\n",
                "            return\n",
                "        userinput = input(OUTPUT_PROMPT)\n",
                "        if userinput in ships:\n",
                "            if ships[userinput]:\n",
                "                ships[userinput] = False\n",
                "                tries = 3\n",
                "                print(OUTPUT_HIT)\n",
                "            else:\n",
                "                print(OUTPUT_MISSED)\n",
                "                tries -= 1\n",
                "    print(OUTPUT_WIN)\n",
                "    return\n",
                "\n",
                "\n",
                "# Invocation to try your implementation, don't change this\n",
                "battleships_enhanced()"
            ]
        }
    ],
    "nbformat": 4,
    "nbformat_minor": 5
}