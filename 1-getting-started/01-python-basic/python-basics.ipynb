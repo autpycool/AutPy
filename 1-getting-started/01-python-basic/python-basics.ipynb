{
    "cells": [
        {
            "cell_type": "markdown",
            "id": "6ddc82bf",
            "metadata": {
                "editable": false
            },
            "source": [
                "# Python Basics\n",
                "\n",
                "## Introduction\n",
                "\n",
                "This notebook covers some basics of the Python programming language: Invoking the interpreter, operators, variables, types and calling functions.\n",
                "\n",
                "**This notebook covers the [first](https://automatetheboringstuff.com/2e/chapter1/) (and parts of the [second](https://automatetheboringstuff.com/2e/chapter2/)) chapter of the book.**\n",
                "\n",
                "Please note: There are several ways how to print strings and variable values together. The book introduces so-called \"f-strings\" rather late, but we prefer to use them much sooner (as in: from the beginning and in this lesson). They are described in the summary below.\n",
                "\n",
                "### Optional resources\n",
                "\n",
                "You can find more information in the Python documentation:\n",
                "\n",
                "- [Invoking the shell](https://docs.python.org/3/tutorial/interpreter.html)\n",
                "- [Types and operators](https://docs.python.org/3/library/stdtypes.html)\n",
                "- [Expressions](https://docs.python.org/3/reference/expressions.html)\n",
                "\n",
                "Relevant Real Python tutorials:\n",
                "\n",
                "- [Basic Data Types in Python](https://realpython.com/python-data-types/)\n",
                "- [Variables in Python](https://realpython.com/python-variables/)\n",
                "- [Operators and Expressions in Python](https://realpython.com/python-operators-expressions/)"
            ]
        },
        {
            "cell_type": "markdown",
            "id": "1e346a21",
            "metadata": {
                "editable": false,
                "tags": []
            },
            "source": [
                "## Summary\n",
                "\n",
                "### Invoking the Shell\n",
                "\n",
                "Entering the interactive interpreter is done by running `python` (or `python3`) in the command line:\n",
                "\n",
                "```\n",
                "$ python\n",
                "Python 3.7.3 (default, Jun 17 2019, 15:02:19) \n",
                "[GCC 7.4.0] on linux\n",
                "Type \"help\", \"copyright\", \"credits\" or \"license\" for more information.\n",
                ">>> \n",
                "```\n",
                "\n",
                "You can then enter Python code at the `>>>` prompt and get the result back:\n",
                "\n",
                "```\n",
                ">>> 23 + 42\n",
                "65\n",
                "```\n",
                "\n",
                "This Jupyter Notebook works similarly: Notebooks execute all lines in\n",
                "a cell if the cell is run with Ctrl + Enter.\n",
                "\n",
                "### Variables\n",
                "\n",
                "Variables store values. You can define and reference these values by a name, e.g. `my_variable`:\n",
                "\n",
                "```python\n",
                "my_variable = 10\n",
                "five_more = my_variable + 5\n",
                "```\n",
                "\n",
                "### Types\n",
                "\n",
                "Variables may be of different types. The type of the variables is determined when assigning a value: `x = 10` results in `x` being an integer.\n",
                "\n",
                "| Type           | Description                       | Example      |\n",
                "| -------------- | --------------------------------- | ------------ |\n",
                "| Integer        | Whole numbers                     | 10           |\n",
                "| Floating Point | Decimal numbers                   | 10.2         |\n",
                "| String         | Text                              | \"Hi there!\"  |\n",
                "| Boolean        | \"truthy\" values                   | True / False |\n",
                "| None           | Special value for null / no value | None         |\n",
                "\n",
                "### Operators\n",
                "\n",
                "#### Mathematical Operators\n",
                "\n",
                "Mathematical operators take two numbers and return a number.\n",
                "\n",
                "| Operator | Description               | Types                    | Example   |\n",
                "| -------- | ------------------------- | ------------------------ | --------- |\n",
                "| +        | Addition                  | Integer, Float, String   | 10 + 1.2  |\n",
                "| -        | Subtraction               | Integer, Float           | 10 - 1.2  |\n",
                "| *        | Multiplication            | Integer, Float, (String) | 10 * 1.2  |\n",
                "| /        | Division                  | Integer, Float           | 10 / 1.2  |\n",
                "| //       | Quotient / Floor Division | Integer, Float           | 10 // 1.2 |\n",
                "| %        | Remainder                 | Integer, Float           | 10 % 1.2  |\n",
                "| **       | Power                     | Integer, Float           | 10 ** 1.2 |\n",
                "\n",
                "#### Logical Operators\n",
                "\n",
                "Logical operators take one or two boolean values and return a boolean value.\n",
                "\n",
                "| Operator | Description | Types   | Example        |\n",
                "| -------- | ----------- | ------- | -------------- |\n",
                "| and      | Logical AND | Boolean | True and False |\n",
                "| or       | Logical OR  | Boolean | True or False  |\n",
                "| not      | Logical NOT | Boolean | not True       |\n",
                "\n",
                "**Please note:** Those operators always take two values, which are converted to a bool. Thus, doing `myvar == \"a\" or \"b\"` does not what you might think it does. It gets evaluated as `myvar == (\"a\" or \"b\")`, while you probably meant `myvar == \"a\" or myvar == \"b\"`. See [Python's misleading readability](https://nedbatchelder.com/blog/201801/pythons_misleading_readability.html) by Ned Batchelder if you need more clarification on this topic.\n",
                "\n",
                "#### Comparison Operators\n",
                "\n",
                "Comparison operators compare two values and return a boolean value.\n",
                "\n",
                "| Operator | Description           | Types                  | Example           |\n",
                "| -------- | --------------------- | ---------------------- | ----------------- |\n",
                "| ==       | Equal                 | Integer, Float, String | 10 == 1.2         |\n",
                "| is       | Equal                 | Boolean, None          | True is False     |\n",
                "| !=       | Not equal             | Integer, Float, String | 10 != 1.2         |\n",
                "| is not   | Not equal             | Boolean, None          | True is not False |\n",
                "| <        | Less than             | Integer, Float         | 10 < 1.2          |\n",
                "| <=       | Less or equal than    | Integer, Float         | 10 <= 1.2         |\n",
                "| >        | Greater than          | Integer, Float         | 10 > 1.2          |\n",
                "| >=       | Greater or equal than | Integer, Float         | 10 >= 1.2         |\n",
                "\n",
                "**Please note:** The `is` operator should only be used in special scenarios (mostly `myvar is None` and `myvar is not None`). For almost all other scenarios, `==` and `!=` should be used. Using `is` to compare e.g. numbers or strings can result in surprising bugs. Again, [Python's misleading readability](https://nedbatchelder.com/blog/201801/pythons_misleading_readability.html) by Ned Batchelder has some more explanations on this.\n",
                "\n",
                "### Executing Files\n",
                "\n",
                "Executing files - interpreting line by line by the Python interpreter - is done by passing the filename to `python` (or `python3`) in the command line:\n",
                "\n",
                "```bash\n",
                "python myscript.py\n",
                "```\n",
                "\n",
                "In Jupyter, you can start a cell with `%%writefile filename.py` (a so-called \"magic\" or \"magic command\") to write the content of the cell to a file instead of executing it. The magic command needs to be **in the first line** of the cell (including comment lines):\n",
                "\n",
                "```python\n",
                "%%writefile myscript.py\n",
                "# this line gets written into the given file\n",
                "# and so does this one\n",
                "```\n",
                "\n",
                "Such a file can then be run using the `%run` magic:\n",
                "\n",
                "```python\n",
                "%run myscript.py\n",
                "```\n",
                "\n",
                "### Comments\n",
                "\n",
                "Comments are lines or parts of lines that are not interpreted by Python. Comments are defined using the hash character (`#`) - everything after a `#` is ignored:\n",
                "\n",
                "```python\n",
                "# let's define a variable\n",
                "my_variable = 10 # this is an integer\n",
                "```\n",
                "\n",
                "### Calling Functions\n",
                "\n",
                "Calling functions is done by adding parentheses after the function name. Arguments are placed inside the parentheses:\n",
                "\n",
                "```python\n",
                "abs(-10)  # = 10\n",
                "```\n",
                "\n",
                "A list of built-in functions [can be found in the Python docs](https://docs.python.org/3/library/functions.html).\n",
                "\n",
                "\n",
                "### Using Objects\n",
                "\n",
                "All variables are objects of some kind (a type or a class). More complex types such as timestamps cannot be created using a direct assignment (`x = 1`), they need to be _constructed_ first by calling the type or class. You can do this with simple types as well:\n",
                "\n",
                "```Python\n",
                "start_date = datetime(2021, 9, 16)\n",
                "score = int(258)  # same as score = 258\n",
                "```\n",
                "\n",
                "Objects have their own set of functions (which are called methods in this case) which can be accessed by using a period. The method name comes **after** the variable name:\n",
                "\n",
                "```Python\n",
                "start_date.strftime(\"%Y-%m-%d\")    # '2021-09-16'\n",
                "score.to_bytes(2, byteorder=\"little\")  # b'\\x02\\x01'\n",
                "```\n",
                "\n",
                "### Print variables and strings\n",
                "\n",
                "There are several ways to print strings and variable values together, of which two are used throughout this course and the book: Using a plus sign and f-strings. The plus sign concatenates strings and variables:\n",
                "```Python\n",
                "hermione = \"Hermione\"\n",
                "harry = \"Harry Potter\"\n",
                "print('It is good to meet you, ' + hermione + ' and ' + harry)\n",
                "```\n",
                "This will print `It is good to meet you, Hermione and Harry Potter`. \n",
                "\n",
                "To create an f-string, prepend an `f` before a string. In the string, you can put variables in curly brackets: `{variablename}`. You can even execute functions within the curly brackets - however, functions are covered in a later lab, so just take notice of this fact here.\n",
                "\n",
                "```Python\n",
                "hermione = \"Hermione\"\n",
                "harry = \"Harry Potter\"\n",
                "print(f'It is good to meet you, {hermione} and {harry}')  # note the f at the beginning!\n",
                "```\n",
                "\n",
                "The output is the same: `It is good to meet you, Hermione and Harry Potter`. However, f-strings are much easier to read and should be preferred over the plus sign."
            ]
        },
        {
            "cell_type": "markdown",
            "id": "44cdab8a",
            "metadata": {
                "editable": false
            },
            "source": [
                "## Exercises"
            ]
        },
        {
            "cell_type": "markdown",
            "id": "d051820d",
            "metadata": {
                "editable": false
            },
            "source": [
                "### Exercise 1: Python as a Calculator\n",
                "Use Python to calculate:\n",
                "\n",
                "\\begin{align}\n",
                "27774556 + 1200034 - 232344 \\tag{1} \\\\\n",
                "(2 ^ 7) - 1 \\tag{2} \\\\\n",
                "7000 \\over 8002 \\tag{3} \\\\\n",
                "7000 \\mod 8002 \\tag{4} \\\\\n",
                "\\textrm{False AND False} \\tag{5} \\\\\n",
                "\\textrm{False OR NOT True} \\tag{6} \\\\\n",
                "7 \\leq 4.5 \\tag{7} \\\\\n",
                "(4 + 1 \\gt 6) = \\textrm{True} \\tag{8} \\\\\n",
                "\\end{align}\n",
                "\n",
                "Make sure to *not* use `print` here. If you only enter a single statement such as `2 + 3`, you will see the result in the notebook when running the cell.\n",
                "\n",
                "Make sure you run your solutions using Ctrl-Enter and see if you get the expected results. There's no need to recalculate everything, but think about what kind of result you roughly would expect."
            ]
        },
        {
            "cell_type": "code",
            "execution_count": 1,
            "id": "508576e6",
            "metadata": {
                "deletable": false,
                "tags": [
                    "python-calculator-1"
                ]
            },
            "outputs": [
                {
                    "data": {
                        "text/plain": [
                            "28742246"
                        ]
                    },
                    "execution_count": 1,
                    "metadata": {},
                    "output_type": "execute_result"
                }
            ],
            "source": [
                "27774556+1200034-232344"
            ]
        },
        {
            "cell_type": "code",
            "execution_count": 2,
            "id": "500b066b",
            "metadata": {
                "deletable": false,
                "tags": [
                    "python-calculator-2"
                ]
            },
            "outputs": [
                {
                    "data": {
                        "text/plain": [
                            "127"
                        ]
                    },
                    "execution_count": 2,
                    "metadata": {},
                    "output_type": "execute_result"
                }
            ],
            "source": [
                "2**7-1"
            ]
        },
        {
            "cell_type": "code",
            "execution_count": 3,
            "id": "bf48831a",
            "metadata": {
                "deletable": false,
                "tags": [
                    "python-calculator-3"
                ]
            },
            "outputs": [
                {
                    "data": {
                        "text/plain": [
                            "0.8747813046738315"
                        ]
                    },
                    "execution_count": 3,
                    "metadata": {},
                    "output_type": "execute_result"
                }
            ],
            "source": [
                "7000/8002"
            ]
        },
        {
            "cell_type": "code",
            "execution_count": 4,
            "id": "43d9aeef",
            "metadata": {
                "deletable": false,
                "tags": [
                    "python-calculator-4"
                ]
            },
            "outputs": [
                {
                    "data": {
                        "text/plain": [
                            "7000"
                        ]
                    },
                    "execution_count": 4,
                    "metadata": {},
                    "output_type": "execute_result"
                }
            ],
            "source": [
                "7000%8002"
            ]
        },
        {
            "cell_type": "code",
            "execution_count": 5,
            "id": "1a752ece",
            "metadata": {
                "deletable": false,
                "tags": [
                    "python-calculator-5"
                ]
            },
            "outputs": [
                {
                    "data": {
                        "text/plain": [
                            "False"
                        ]
                    },
                    "execution_count": 5,
                    "metadata": {},
                    "output_type": "execute_result"
                }
            ],
            "source": [
                "False and False"
            ]
        },
        {
            "cell_type": "code",
            "execution_count": 6,
            "id": "9e0a58e2",
            "metadata": {
                "deletable": false,
                "tags": [
                    "python-calculator-6"
                ]
            },
            "outputs": [
                {
                    "data": {
                        "text/plain": [
                            "False"
                        ]
                    },
                    "execution_count": 6,
                    "metadata": {},
                    "output_type": "execute_result"
                }
            ],
            "source": [
                "False or not True"
            ]
        },
        {
            "cell_type": "code",
            "execution_count": 7,
            "id": "f2c97b7d",
            "metadata": {
                "deletable": false,
                "tags": [
                    "python-calculator-7"
                ]
            },
            "outputs": [
                {
                    "data": {
                        "text/plain": [
                            "False"
                        ]
                    },
                    "execution_count": 7,
                    "metadata": {},
                    "output_type": "execute_result"
                }
            ],
            "source": [
                "7 <= 4.5"
            ]
        },
        {
            "cell_type": "code",
            "execution_count": 8,
            "id": "6439af25",
            "metadata": {
                "deletable": false,
                "tags": [
                    "python-calculator-8"
                ]
            },
            "outputs": [
                {
                    "data": {
                        "text/plain": [
                            "False"
                        ]
                    },
                    "execution_count": 8,
                    "metadata": {},
                    "output_type": "execute_result"
                }
            ],
            "source": [
                "(4+1>6)==True"
            ]
        },
        {
            "cell_type": "markdown",
            "id": "ecbeeb97",
            "metadata": {
                "editable": false
            },
            "source": [
                "### Exercise 2: Using Variables\n",
                "Define the following variables:\n",
                "\\begin{align}\n",
                "a = 120 \\tag{1} \\\\\n",
                "b = 110 \\tag{2} \\\\\n",
                "c = a - b \\tag{3} \\\\\n",
                "d = a + b \\tag{4} \\\\\n",
                "e = {c \\over d} \\tag{5}  \\\\\n",
                "\\end{align}\n",
                "\n",
                "Jupyter prints the last statement (if it's not a variable assignment). To print the contents of a variable anywhere in your cell use the `print` function."
            ]
        },
        {
            "cell_type": "code",
            "execution_count": 9,
            "id": "a5659a1b",
            "metadata": {
                "deletable": false,
                "tags": [
                    "using-variables"
                ]
            },
            "outputs": [
                {
                    "name": "stdout",
                    "output_type": "stream",
                    "text": [
                        "a: 120\n",
                        "b: 110\n",
                        "c: 10\n",
                        "d: 230\n",
                        "e: 0.043478260869565216\n"
                    ]
                }
            ],
            "source": [
                "# todo: define a, b, c, d, e\n",
                "\n",
                "a = 120\n",
                "b = 110\n",
                "c = a - b\n",
                "d = a + b\n",
                "e = c/d\n",
                "\n",
                "# ---- no changes below! ----\n",
                "print(f\"a: {a}\")\n",
                "print(f\"b: {b}\")\n",
                "print(f\"c: {c}\")\n",
                "print(f\"d: {d}\")\n",
                "print(f\"e: {e}\")"
            ]
        },
        {
            "cell_type": "markdown",
            "id": "f3ddb750",
            "metadata": {
                "editable": false
            },
            "source": [
                "Defined variables stay until the Jupyter Kernel is restarted!\n",
                "\n",
                "Try this by reusing the `e` variable from above to calculate e<sup>2</sup> in the next cell. Make sure to:\n",
                "\n",
                "- *Not* use `print`\n",
                "- *Not* assign the result to a variable\n",
                "- *Not* use a built-in function, use a suitable operator instead"
            ]
        },
        {
            "cell_type": "code",
            "execution_count": 10,
            "id": "d5ccb1ad",
            "metadata": {
                "deletable": false,
                "tags": [
                    "using-variables-e2"
                ]
            },
            "outputs": [
                {
                    "data": {
                        "text/plain": [
                            "0.0018903591682419658"
                        ]
                    },
                    "execution_count": 10,
                    "metadata": {},
                    "output_type": "execute_result"
                }
            ],
            "source": [
                "e**2"
            ]
        },
        {
            "cell_type": "markdown",
            "id": "b6fb514d",
            "metadata": {
                "editable": false
            },
            "source": [
                "### Exercise 3: Using Built-In Functions\n",
                "Have a look at the [built-in functions in the Python Documentation](https://docs.python.org/3/library/functions.html). \n"
            ]
        },
        {
            "cell_type": "markdown",
            "id": "4db553d4",
            "metadata": {
                "editable": false
            },
            "source": [
                "#### a) Mathematical Functions\n",
                "\n",
                "- Assign `-2.7` to `a` and `3.4` to `b`.\n",
                "- Use a built-in function to calculate the absolute values of `a` and `b`, and assign them to `a_abs` and `b_abs`, respectively.\n",
                "- Use a built-in function to round `a` and `b`, and assign the results to `a_rounded` and `b_rounded`, respectively.\n",
                "- Use a built-in function to find the bigger value (maximum) of `a` and `b`, assign that to `bigger`.\n",
                "- Use a built-in function to find the smaller value (minimum) of `a` and `b`, assign that to `smaller`."
            ]
        },
        {
            "cell_type": "code",
            "execution_count": 12,
            "id": "e26aa9d0",
            "metadata": {
                "deletable": false,
                "tags": [
                    "built-in-functions-math-functions"
                ]
            },
            "outputs": [
                {
                    "name": "stdout",
                    "output_type": "stream",
                    "text": [
                        "a absolute: 2.7\n",
                        "b absolute: 3.4\n",
                        "a rounded: -3\n",
                        "b rounded: 3\n",
                        "bigger: 3.4\n",
                        "smaller: -2.7\n"
                    ]
                }
            ],
            "source": [
                "# todo: calculate\n",
                "a = -2.7\n",
                "b = 3.4\n",
                "\n",
                "a_abs = abs(a)\n",
                "b_abs = abs(b)\n",
                "\n",
                "a_rounded = round(a)\n",
                "b_rounded = round(b)\n",
                "\n",
                "bigger = max(a, b)\n",
                "smaller = min(a, b)\n",
                "\n",
                "# ---- no changes below! ----\n",
                "print(f\"a absolute: {a_abs}\")\n",
                "print(f\"b absolute: {b_abs}\")\n",
                "print(f\"a rounded: {a_rounded}\")\n",
                "print(f\"b rounded: {b_rounded}\")\n",
                "print(f\"bigger: {bigger}\")\n",
                "print(f\"smaller: {smaller}\")"
            ]
        },
        {
            "cell_type": "markdown",
            "id": "07b91bb8",
            "metadata": {
                "editable": false,
                "tags": []
            },
            "source": [
                "#### b) Type-related Functions\n",
                "\n",
                "There are also functions to get the type of a variable or value and to convert between the different types.\n",
                "\n",
                "- Assign the following variables:\n",
                "    - `-2.7` (Float) to `a`\n",
                "    - `True` (Boolean) to `b`\n",
                "    - `\"1\"` (String) to `c`\n",
                "- Get the types of those variables, and assign them to `a_type`, `b_type` and `c_type`.\n",
                "- Convert each of them to a Boolean, Float, String and Integer. Assign the results to `x_boolean`, `x_float`, `x_string` and `x_integer` (with `x` being `a`, `b`, and `c`, respectively).\n",
                "- You can check if a variable or value is of a certain type by using `isinstance`. Check if `a`, `b` and `c` is a `float` and assign the results to `x_is_float` (with `x` being `a`, `b`, and `c`, respectively)."
            ]
        },
        {
            "cell_type": "code",
            "execution_count": 13,
            "id": "3d644b6e",
            "metadata": {
                "deletable": false,
                "tags": [
                    "built-in-functions-type-related-functions"
                ]
            },
            "outputs": [
                {
                    "name": "stdout",
                    "output_type": "stream",
                    "text": [
                        "--- values ---\n",
                        "a: 2.7\n",
                        "b: True\n",
                        "c: 1\n",
                        "\n",
                        "--- types ---\n",
                        "a: <class 'float'>\n",
                        "b: <class 'bool'>\n",
                        "c: <class 'str'>\n",
                        "\n",
                        "--- conversions ---\n",
                        "a: bool True, float 2.7, string 2.7, integer 2\n",
                        "b: bool True, float 1.0, string True, integer 1\n",
                        "c: bool True, float 1.0, string 1, integer 1\n",
                        "\n",
                        "--- check ---\n",
                        "a is a float: True\n",
                        "b is a float: False\n",
                        "c is a float: False\n"
                    ]
                }
            ],
            "source": [
                "# todo: calculate\n",
                "a = -2.7\n",
                "b = True\n",
                "c = \"1\"\n",
                "\n",
                "a_type = type(a)\n",
                "b_type = type(b)\n",
                "c_type = type(c)\n",
                "\n",
                "a_boolean = bool(a)\n",
                "a_float = float(a)\n",
                "a_string = str(a)\n",
                "a_integer = int(a)\n",
                "\n",
                "b_boolean = bool(b)\n",
                "b_float = float(b)\n",
                "b_string = str(b)\n",
                "b_integer = int(b)\n",
                "\n",
                "c_boolean = bool(c)\n",
                "c_float = float(c)\n",
                "c_string = str(c)\n",
                "c_integer = int(c)\n",
                "\n",
                "a_is_float = isinstance(a, float)\n",
                "b_is_float = isinstance(b, float)\n",
                "c_is_float = isinstance(c, float)\n",
                "\n",
                "# ---- no changes below! ----\n",
                "print(\"--- values ---\")\n",
                "print(f\"a: {a}\")\n",
                "print(f\"b: {b}\")\n",
                "print(f\"c: {c}\")\n",
                "print()\n",
                "print(\"--- types ---\")\n",
                "print(f\"a: {a_type}\")\n",
                "print(f\"b: {b_type}\")\n",
                "print(f\"c: {c_type}\")\n",
                "print()\n",
                "print(\"--- conversions ---\")\n",
                "print(f\"a: bool {a_boolean}, float {a_float}, string {a_string}, integer {a_integer}\")\n",
                "print(f\"b: bool {b_boolean}, float {b_float}, string {b_string}, integer {b_integer}\")\n",
                "print(f\"c: bool {c_boolean}, float {c_float}, string {c_string}, integer {c_integer}\")\n",
                "print()\n",
                "print(\"--- check ---\")\n",
                "print(f\"a is a float: {a_is_float}\")\n",
                "print(f\"b is a float: {b_is_float}\")\n",
                "print(f\"c is a float: {c_is_float}\")"
            ]
        },
        {
            "cell_type": "markdown",
            "id": "ff8e04b6",
            "metadata": {
                "editable": false,
                "tags": []
            },
            "source": [
                "#### c) String-related Functions\n",
                "- How many characters are in the string `Hello World!` (including the `!`)? Assign the result to `hello_characters`.\n",
                "- Most characters can be represented as an integer using the ASCII code (see [AsciiTable.com](https://www.asciitable.com/) for an example):\n",
                "  - Use a builtin to find the ASCII value of the character `a` (not the variable `a`!). Assign it to `a_ascii`.\n",
                "  - Use a builtin to find the character for the ASCII value `120`? Assign it to `character_120`.\n",
                "  \n",
                "Since the values are only used a single time, **pass the values to the function directly**, don't first assign them to a variable like before."
            ]
        },
        {
            "cell_type": "code",
            "execution_count": 15,
            "id": "a4e70943",
            "metadata": {
                "deletable": false,
                "tags": [
                    "built-in-functions-string-related-functions"
                ]
            },
            "outputs": [
                {
                    "name": "stdout",
                    "output_type": "stream",
                    "text": [
                        "Character count: 12\n",
                        "a in ASCII: 97\n",
                        "ASCII character 120: x\n"
                    ]
                }
            ],
            "source": [
                "# todo: calculate\n",
                "hello_characters = len(\"Hello World!\")\n",
                "\n",
                "a_ascii = ord(\"a\")\n",
                "\n",
                "character_120 = chr(120)\n",
                "\n",
                "# ---- no changes below! ----\n",
                "print(f\"Character count: {hello_characters}\")\n",
                "print(f\"a in ASCII: {a_ascii}\")\n",
                "print(f\"ASCII character 120: {character_120}\")"
            ]
        },
        {
            "cell_type": "markdown",
            "id": "3534d24d",
            "metadata": {
                "editable": false
            },
            "source": [
                "#### d) Integer-Representations\n",
                "\n",
                "Integers can be defined in binary, octal or hexadecimal by prefixing the value with `0b`, `0o` or `0x`. If no prefix is given, the value is assumed to be decimal. For example, `16` (decimal), `0b10000` (binary), `0o20` (octal) and `0x10` (hexadecimal) all represent the same number.\n",
                "\n",
                "Using built-in functions, numbers can be converted to a string in different representations. What is `10` (decimal) converted to a string in binary, octal and hexadecimal representation? Pass the value `10` directly to functions like above, and assign the results to the variables `binary`, `octal` and `hexadecimal`."
            ]
        },
        {
            "cell_type": "code",
            "execution_count": 25,
            "id": "13bd2fdd",
            "metadata": {
                "deletable": false,
                "tags": [
                    "built-in-functions-integer-rep"
                ]
            },
            "outputs": [
                {
                    "name": "stdout",
                    "output_type": "stream",
                    "text": [
                        "10 in binary: 0b1010\n",
                        "10 in octal: 0o12\n",
                        "10 in hexadecimal: 0xa\n"
                    ]
                }
            ],
            "source": [
                "# todo: calculate\n",
                "binary = bin(10)\n",
                "octal = oct(10)\n",
                "hexadecimal = hex(10)\n",
                "\n",
                "# ---- no changes below! ----\n",
                "print(f\"10 in binary: {binary}\")\n",
                "print(f\"10 in octal: {octal}\")\n",
                "print(f\"10 in hexadecimal: {hexadecimal}\")"
            ]
        },
        {
            "cell_type": "markdown",
            "id": "80a37561",
            "metadata": {
                "editable": false
            },
            "source": [
                "#### e) Input and output\n",
                "\n",
                "- Ask the user for their favorite color and save the result in `color`. Note that it's possible to pass an additional text to be shown to the user (a \"prompt\") to the function you'll need to use, so you don't need a separate `print` for this. \n",
                "- Show the text `So you like the color red? Great choice!`, but with `red` replaced by the user's input."
            ]
        },
        {
            "cell_type": "code",
            "execution_count": 17,
            "id": "ad43f427",
            "metadata": {
                "deletable": false,
                "tags": [
                    "built-in-functions-input-output"
                ]
            },
            "outputs": [
                {
                    "name": "stdin",
                    "output_type": "stream",
                    "text": [
                        "what is your favourite color? blue\n"
                    ]
                },
                {
                    "name": "stdout",
                    "output_type": "stream",
                    "text": [
                        "So you like the color blue? Great choice!\n"
                    ]
                }
            ],
            "source": [
                "color = input(\"what is your favourite color?\")\n",
                "\n",
                "print(f\"So you like the color {color}? Great choice!\")"
            ]
        },
        {
            "cell_type": "markdown",
            "id": "f2cb5c64",
            "metadata": {
                "editable": false,
                "tags": []
            },
            "source": [
                "#### f) Help!\n",
                "\n",
                "You can use the built-in function `help` to get information about a built-in function or a module. \n",
                "\n",
                "Use it to find out what additional arguments you can pass to the `print` function. You don't need to understand all of it right now - but make sure you remember how `help` works, as it can be an useful tool to get a quick reference!"
            ]
        },
        {
            "cell_type": "code",
            "execution_count": 18,
            "id": "b65be3af",
            "metadata": {
                "deletable": false,
                "tags": [
                    "built-in-functions-help"
                ]
            },
            "outputs": [
                {
                    "name": "stdout",
                    "output_type": "stream",
                    "text": [
                        "Help on built-in function print in module builtins:\n",
                        "\n",
                        "print(*args, sep=' ', end='\\n', file=None, flush=False)\n",
                        "    Prints the values to a stream, or to sys.stdout by default.\n",
                        "    \n",
                        "    sep\n",
                        "      string inserted between values, default a space.\n",
                        "    end\n",
                        "      string appended after the last value, default a newline.\n",
                        "    file\n",
                        "      a file-like object (stream); defaults to the current sys.stdout.\n",
                        "    flush\n",
                        "      whether to forcibly flush the stream.\n",
                        "\n"
                    ]
                }
            ],
            "source": [
                "help(\"print\")"
            ]
        },
        {
            "cell_type": "markdown",
            "id": "2ac49cc7",
            "metadata": {
                "editable": false
            },
            "source": [
                "### Exercise 4: Executing Files\n",
                "Use a special Jupyter command to write a file named `myscript.py`, containing a single line of code which prints `Hello World!`.\n",
                "\n",
                "In the next cell, then use another special Jupyter command to run the code from that file."
            ]
        },
        {
            "cell_type": "code",
            "execution_count": 22,
            "id": "a2731d9c",
            "metadata": {
                "deletable": false,
                "tags": [
                    "executing-files-1"
                ]
            },
            "outputs": [
                {
                    "name": "stdout",
                    "output_type": "stream",
                    "text": [
                        "Overwriting myscript.py\n"
                    ]
                }
            ],
            "source": [
                "%%writefile myscript.py\n",
                "# TODO: ABOVE THIS COMMENT, add Jupyter command to write this cell to a file\n",
                "# Name that file myscript.py\n",
                "# TODO: Python code which prints \"Hello World!\" (including the \"!\")\n",
                "print(\"Hello World!\")"
            ]
        },
        {
            "cell_type": "code",
            "execution_count": 28,
            "id": "0fcf51a4",
            "metadata": {
                "deletable": false,
                "tags": [
                    "executing-files-2"
                ]
            },
            "outputs": [
                {
                    "name": "stdout",
                    "output_type": "stream",
                    "text": [
                        "Hello World!\n"
                    ]
                }
            ],
            "source": [
                "%run myscript.py\n",
                "# TODO: ABOVE THIS COMMENT, add Jupyter command to write this cell to a file\n",
                "# Name that file myscript.py\n",
                "# TODO: Python code which prints \"Hello World!\" (including the \"!\")\n",
                "\n"
            ]
        },
        {
            "cell_type": "markdown",
            "id": "2f7c5acd",
            "metadata": {
                "editable": false
            },
            "source": [
                "### Exercise 5: Setting up local development environment (optional)\n",
                "\n",
                "For the labs in this course, you will work in the Jupyter online environment. As you saw in this lab, this allows you to work with Python without needing anything installed locally.\n",
                "\n",
                "However, for the final project towards the end of the semester, you will use a local Python setup on your computer. If you have some extra time, you could already get this set up now, by following the instructions below. If you'd rather do this later (or expect to use a different OS/laptop by the end of the year), feel free to skip this exercise, and proceed to the feedback form.\n",
                "\n",
                "#### Setup\n",
                "\n",
                "To get started, you will need to have two things set up on your machine, which we both explain in the following sections:\n",
                "\n",
                "1. Python itself, at least version 3.7. The labs use the 3.11.x version of Python (currently the newest release, though [3.12 is around the corner](https://peps.python.org/pep-0693/)). Thus, it's recommended to install that as well, if you can. The 3.10 and 3.11 releases also [contain](https://docs.python.org/3/whatsnew/3.10.html#better-error-messages) various [improvements](https://docs.python.org/3/whatsnew/3.11.html#pep-657-fine-grained-error-locations-in-tracebacks) to Python's error messages, which will make development easier.\n",
                "2. A suitable development environment (editor/IDE). We recommend PyCharm or VS Code, but see below for more options.\n",
                "\n",
                "#### Setting up Python\n",
                "\n",
                "##### Windows\n",
                "\n",
                "For Windows, the recommended way to set up Python is to [download Python](https://www.python.org/downloads) from Python.org and run the installer.\n",
                "\n",
                "Alternative ways to install Python (untested):\n",
                "\n",
                "- Install it via the Windows Store (if you run `python` in a `cmd` / Powershell window, you should get a prompt)\n",
                "- Use the [Chocolatey](https://chocolatey.org/) terminal package manager\n",
                "- Use WSL (Windows Subsystem for Linux) and install Python there\n",
                "\n",
                "Check if Python was successfully installed: After Python is installed, open a `cmd` or Powershell window, and run `py` in it. With the alternative install methods, you might need to run `python` instead. You should get a prompt to enter Python code (starting with `>>>`). Make sure the displayed version is 3.7 or newer. Exit again with `exit()` and you are all set.\n",
                "\n",
                "##### macOS\n",
                "\n",
                "If you already use [Homebrew](https://brew.sh/), use `brew install python`. If you don't, you're on your own: Either set up Homebrew, or use one of the untested alternative ways:\n",
                "\n",
                "- [Download the installer](https://www.python.org/downloads) from Python.org\n",
                "- Use [pyenv](https://github.com/pyenv/pyenv)\n",
                "\n",
                "Check if Python was successfully installed: After the installation has finished, open a terminal and run `python3`. You should get a prompt to enter Python code (starting with `>>>`). Make sure the displayed version is 3.7 or newer. Exit again with `exit()` and you are all set.\n",
                "\n",
                "##### Linux\n",
                "\n",
                "On Linux, chances are that you already have a suitable version of Python installed. Run `python3` in a terminal and make sure the displayed version is 3.7 or newer. Exit again with `exit()`. If Python isn't installed yet or is only available in an older version, consider the following:\n",
                "\n",
                "- Check your distribution's packages for a newer version\n",
                "- On Ubuntu, use the [deadsnakes PPA](https://launchpad.net/~deadsnakes/+archive/ubuntu/ppa)\n",
                "- Use [pyenv](https://github.com/pyenv/pyenv)\n",
                "\n",
                "After installation finished, verify again that you are running 3.7 or newer.\n",
                "\n",
                "#### Setting up a development environment\n",
                "\n",
                "If you already have a favourite general-purpose text editor you use for programming, feel free to use that (e.g. Vim, Emacs, Sublime Text, Notepad++, Atom, etc.). If you do not have a favourite setup yet, we have these suggestions:\n",
                "\n",
                "##### VS Code\n",
                "\n",
                "[Visual Studio Code](https://code.visualstudio.com/) is an excellent choice for Python programming, but also great to use for other languages. After installing it, make sure to install the [official Python extension](https://marketplace.visualstudio.com/items?itemName=ms-python.python). Then make sure you can create a Python file (can be as simple as `print(\"Hello World!\")`) and run it.\n",
                "\n",
                "##### PyCharm\n",
                "\n",
                "If you like [JetBrains](https://www.jetbrains.com/) products such as IntelliJ or WebStorm, [PyCharm](https://www.jetbrains.com/pycharm/) is a great choice for Python development too. During your studies you can get a [free educational license](https://www.jetbrains.com/community/education/#students) for the professional edition.\n",
                "\n",
                "##### Eclipse + PyDev\n",
                "\n",
                "If you use [Eclipse](https://www.eclipse.org/ide/) already, the [PyDev extension](https://www.pydev.org/) might be worth a try. Note that we don't have any personal experience with that setup, however, and the above options might work better."
            ]
        }
    ]
}