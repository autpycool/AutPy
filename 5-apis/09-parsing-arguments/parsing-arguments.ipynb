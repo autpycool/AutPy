{
    "cells": [
        {
            "cell_type": "markdown",
            "id": "f292f7b3",
            "metadata": {
                "editable": false
            },
            "source": [
                "# Parsing arguments\n",
                "\n",
                "## Introduction\n",
                "\n",
                "This notebook is about creating command line interface (CLI) programs. The topic is not covered by the book but there are good tutorials available online, such as **[Real Python's tutorial on argparse](https://realpython.com/command-line-interfaces-python-argparse/)**, which we recommend you read.\n",
                "\n",
                "If you're not familiar with how command-line tools typically work, it's highly recommended you understand them from an user's point of view first. In the summary below, there is an explanation of the most important conventions you need to know.\n",
                "\n",
                "### Optional resources\n",
                "\n",
                "For more in-depth coverage about `argparse`:\n",
                "\n",
                "- Python documentation: [Argparse Tutorial](https://docs.python.org/3/howto/argparse.html)\n",
                "- Python documentation: [`argparse` — Parser for command-line options, arguments and sub-commands](https://docs.python.org/3/library/argparse.html)\n",
                "- PyMOTW (\"Python module of the week\"): [argparse — Command-Line Option and Argument Parsing](https://pymotw.com/3/argparse/index.html)\n",
                "\n",
                "There also are some great third-party libraries which make it easier to parse command line arguments with a more [declarative](https://en.wikipedia.org/wiki/Declarative_programming) approach - the most common ones being [Click](https://click.palletsprojects.com) and [Typer](https://typer.tiangolo.com/)."
            ]
        },
        {
            "cell_type": "markdown",
            "id": "a433426c",
            "metadata": {
                "editable": false
            },
            "source": [
                "## Summary\n",
                "\n",
                "### Command-line interfaces\n",
                "\n",
                "You can run command-line tools right from the Jupyter notebook by prepending them with a `!` sign. Try this by running the cell below, which shows you the files in the current directory:"
            ]
        },
        {
            "cell_type": "code",
            "execution_count": null,
            "id": "35e5c22f",
            "metadata": {},
            "outputs": [],
            "source": [
                "!ls"
            ]
        },
        {
            "cell_type": "markdown",
            "id": "357cf2aa",
            "metadata": {
                "editable": false
            },
            "source": [
                "Such command-line tools can have arguments. For example, the `ls` tool accepts a path to show, instead of the current working directory:"
            ]
        },
        {
            "cell_type": "code",
            "execution_count": null,
            "id": "583415b0",
            "metadata": {},
            "outputs": [],
            "source": [
                "!ls /home/jovyan/work/AutPy"
            ]
        },
        {
            "cell_type": "markdown",
            "id": "3191fdb6",
            "metadata": {
                "editable": false
            },
            "source": [
                "Arguments are separated by spaces. If you pass an argument containing spaces, you need to *quote* it to prevent it from being split up:"
            ]
        },
        {
            "cell_type": "code",
            "execution_count": null,
            "id": "5ee23ba0",
            "metadata": {},
            "outputs": [],
            "source": [
                "!ls \"/home/jovyan/work/Originale (nicht schreibbar)\""
            ]
        },
        {
            "cell_type": "markdown",
            "id": "94658381",
            "metadata": {
                "editable": false
            },
            "source": [
                "Commands typically also accept *flags*, which consist of a single letter prepended by a hyphen/minus (`-`). The `-l` flag tells `ls` to produce **l**ong output:"
            ]
        },
        {
            "cell_type": "code",
            "execution_count": null,
            "id": "9ca82a6c",
            "metadata": {},
            "outputs": [],
            "source": [
                "!ls -l"
            ]
        },
        {
            "cell_type": "markdown",
            "id": "e7de7c74",
            "metadata": {
                "editable": false
            },
            "source": [
                "Multiple flags can be given. If we add `-a`, `ls` will show us **a**ll directories, including `.` (current directory) and `..` (parent directory):"
            ]
        },
        {
            "cell_type": "code",
            "execution_count": null,
            "id": "2b25255d",
            "metadata": {},
            "outputs": [],
            "source": [
                "!ls -l -a"
            ]
        },
        {
            "cell_type": "markdown",
            "id": "14b9032b",
            "metadata": {
                "editable": false
            },
            "source": [
                "Those single-letter flags can be combined into one, so this is equivalent:"
            ]
        },
        {
            "cell_type": "code",
            "execution_count": null,
            "id": "5d4a3efb",
            "metadata": {},
            "outputs": [],
            "source": [
                "!ls -la"
            ]
        },
        {
            "cell_type": "markdown",
            "id": "1c560d0f",
            "metadata": {
                "editable": false
            },
            "source": [
                "Often, a long variant of those flags exist as well. Those begin with a double minus (`--`). While `-l` has no long eqivalent, `-a` does (`--all`). Thus, this is again eqivalent to the command above:"
            ]
        },
        {
            "cell_type": "code",
            "execution_count": null,
            "id": "813fcdfd",
            "metadata": {},
            "outputs": [],
            "source": [
                "!ls -l --all"
            ]
        },
        {
            "cell_type": "markdown",
            "id": "89e73eb7",
            "metadata": {
                "editable": false
            },
            "source": [
                "Flags might have a value associated with them. This can be passed as `-x VALUE`, `--option VALUE`, or `--option=VALUE`. For example, with ls, we can use `--sort=...` to specify how to sort the files:"
            ]
        },
        {
            "cell_type": "code",
            "execution_count": null,
            "id": "0c7c402f",
            "metadata": {},
            "outputs": [],
            "source": [
                "# show the newest blocks first instead of sorted by name\n",
                "!ls --sort=time /home/jovyan/work/AutPy"
            ]
        },
        {
            "cell_type": "markdown",
            "id": "24d32ec1",
            "metadata": {
                "editable": false
            },
            "source": [
                "Often, those tools show a terse \"syntax\" specification for how to use them, with\n",
                "square brackets (`[...]`) denoting optional arguments, pipes (`|`) denoting\n",
                "alternatives, `CAPS` denoting variables, and `...` denoting repetition. Often, such a\n",
                "summary will be shown when you run a tool with `--help`.\n",
                "\n",
                "The subset you've learned about `ls` above could be specified as:\n",
                "\n",
                "```bash\n",
                "ls [-l] [-a|--all] [--sort=ORDER] [FILE]...\n",
                "```"
            ]
        },
        {
            "cell_type": "markdown",
            "id": "20e34034",
            "metadata": {
                "editable": false
            },
            "source": [
                "\n",
                "## argparse\n",
                "\n",
                "When you use a library such as `argparse` for argument parsing, all of the conventions above\n",
                "(including `--help` output) will be taken care of. All you need to do is to declare\n",
                "which flags/arguments exist, and what their behavior should be.\n",
                "\n",
                "You use `argparse` by creating a \"parser\" object, adding arguments to it, and then telling it to parse the arguments given on the command line:\n",
                "\n",
                "```python\n",
                "import argparse\n",
                "parser = argparse.ArgumentParser(description='Does something.')\n",
                "# ... add arguments\n",
                "arguments = parser.parse_args()\n",
                "```\n",
                "\n",
                "Add positional arguments with `add_argument`:\n",
                "\n",
                "```python\n",
                "parser.add_argument('input_file')\n",
                "```\n",
                "\n",
                "Add optional arguments by prefixing them with hyphens:\n",
                "\n",
                "```python\n",
                "parser.add_argument('-f', '--format', help='select output format')\n",
                "```\n",
                "\n",
                "To add optional boolean parameters, use `action='store_true'`.\n",
                "This will result in getting `True` in Python if the flag was given, and `False` otherwise.\n",
                "\n",
                "```python\n",
                "parser.add_argument('-v', '--verbose', help='show more verbose output', action='store_true')\n",
                "```\n",
                "\n",
                "The full list of available actions is [documented in the Python docs](https://docs.python.org/3/library/argparse.html#action).\n",
                "\n",
                "\n",
                "The `add_argument` calls above would result in a command line application with a help like this:\n",
                "\n",
                "```\n",
                "usage: your_script.py [-h] [-f FORMAT] [-v] input_file\n",
                "\n",
                "Does something.\n",
                "\n",
                "positional arguments:\n",
                "  input_file\n",
                "\n",
                "optional arguments:\n",
                "  -h, --help            show this help message and exit\n",
                "  -f FORMAT, --format FORMAT\n",
                "                        select output format\n",
                "  -v, --verbose         show more verbose output\n",
                "```\n",
                "\n",
                "## The `__main__` block\n",
                "\n",
                "When writing a script in Python, often there's some code you want to run when the file is executed as a command-line tool -- typically, some sort of `main` function.\n",
                "\n",
                "However, importing a file (`import yourscript` in Python, rather than running `python yourscript.py` in a shell) **also** runs the complete code in it! This is a problem if you want to e.g. try a function from your file interactively, or also if you'd want to write automated tests for your code. You **should always be able** to import your code, without it starting to magically run when you do so.\n",
                "\n",
                "Python automatically defines a special `__name__` variable (with two leading/trailing underscores). If your script is launched from the command-line instead of being imported, that variable is set to the special string `\"__main__\"`. You don't need to understand this in detail, but if you want to see more details about how this works, check [this Stack Overflow answer](https://stackoverflow.com/a/419185/2085149).\n",
                "\n",
                "Thus, it's considered good practice for scripts to implement a `main` function, and call that at the very bottom in an `if __name__ == \"__main__\":` block, like so:\n",
                "\n",
                "```python\n",
                "import argparse\n",
                "\n",
                "def run(name):\n",
                "    print(f\"Hello, {name}!\")\n",
                "\n",
                "def main():\n",
                "    parser = argparse.ArgumentParser(description='Say hello')\n",
                "    parser.add_argument('name', help='Your name')\n",
                "    args = parser.parse_args()\n",
                "    run(args.name)\n",
                "\n",
                "if __name__ == '__main__':\n",
                "    main()\n",
                "```\n"
            ]
        },
        {
            "cell_type": "markdown",
            "id": "0484b74d",
            "metadata": {
                "editable": false
            },
            "source": [
                "## Exercises"
            ]
        },
        {
            "cell_type": "markdown",
            "id": "9dd942bd",
            "metadata": {
                "editable": false
            },
            "source": [
                "### Exercise 1: Creating a Parser\n",
                "Create a parser with the following properties:\n",
                "* Takes two positional arguments `first_name` and `last_name`.\n",
                "* Optional argument `--title` that defaults to \"Lady\" if not provided.\n",
                "* Optional argument `--underage`, a boolean flag, sets value `True` if set.\n",
                "* **Note:** When trying your code with an invalid argument, you will see \"an exception has occurred\" and an `UserWarning`, because `argparse` is trying to exit on errors (which in this case tries to \"exit\" the notebook). You can ignore the exception and warning."
            ]
        },
        {
            "cell_type": "code",
            "execution_count": 1,
            "id": "deb5b62d",
            "metadata": {
                "deletable": false,
                "tags": [
                    "create-parser"
                ]
            },
            "outputs": [],
            "source": [
                "import argparse\n",
                "\n",
                "def get_parser():\n",
                "    parser = argparse.ArgumentParser()\n",
                "    # todo: add arguments\n",
                "    parser.add_argument('first_name')\n",
                "    parser.add_argument('last_name')\n",
                "    parser.add_argument('--title', default='Lady', required=False)\n",
                "    parser.add_argument('--underage', action='store_true', required=False)\n",
                "    return parser"
            ]
        },
        {
            "cell_type": "markdown",
            "id": "33c960ca",
            "metadata": {
                "editable": false
            },
            "source": [
                "Use this separate cell to try out your code.\n",
                "Your code should work with the example below, but you're free to change it."
            ]
        },
        {
            "cell_type": "code",
            "execution_count": 2,
            "id": "c97c15d1",
            "metadata": {},
            "outputs": [
                {
                    "name": "stdout",
                    "output_type": "stream",
                    "text": [
                        "Lady Margaret Thatcher (underage: False)\n"
                    ]
                }
            ],
            "source": [
                "parser = get_parser()\n",
                "\n",
                "# We can pass a list of strings to parse_args instead of launching this as a\n",
                "# command-line tool.\n",
                "args = parser.parse_args([\"Margaret\", \"Thatcher\"])\n",
                "\n",
                "print(f\"{args.title} {args.first_name} {args.last_name} (underage: {args.underage})\")"
            ]
        },
        {
            "cell_type": "markdown",
            "id": "820ae04c",
            "metadata": {
                "editable": false
            },
            "source": [
                "### Exercise 2: Drink-Generator as CLI-Application\n",
                "\n",
                "Remember the drink generator you wrote in one of the earlier labs? Write a new version of it, but this time as a command-line application! Requirements:\n",
                "\n",
                "* `-l` / `--list` lists all possible drinks that are available, no arguments needed.\n",
                "* `-d` / `--drink` followed by a drink name as argument. Prints all the required ingredients for a drink.\n",
                "* `-i` / `--ingredients` followed by **at least one** ingredient prints the possible drink based on the argument. Every ingredient gets passed as a separate argument.\n",
                "    - **Note:** The older drink generator exercise allowed only three ingredients, and suggested a matching drink even with some ingredients missing. This time, less or more ingredients can be specified, and all ingredients needed for a drink need to be available to make it.\n",
                "    - **Remember:** Arguments containing spaces will need to be quoted to avoid the shell splitting them up, e.g. `-u ice \"gin tonic\" water`. Your code will then get a list of strings: `[\"ice\", \"gin tonic\", \"water\"]`.\n",
                "    - **Hint:** `nargs`\n",
                "* If a wrong number of ingredients is given, an error is shown.\n",
                "* The three \"modes\" (list/drink/ingredients) are mutually exclusive, if you e.g. enter `-l`, it is not allowed to enter `-d` or `-i` or any other combination.\n",
                "    - However, one of those always needs to be given\n",
                "* For most of the requirements above, you shouldn't check for these two things manually, `argparse` provides ways to do this for you. In the examples below, this is specified as \"(output by argparse)\".\n",
                "* **Important:** The cell writes a file and it's very tempting to directly edit it. Please be aware that what is used for submission (and then for grading) is the _content of the cell, not the file that is written_.\n",
                "* To get you started, the core code of the drink generator is provided. Other than the parts with `# todo:` comments, you shouldn't change anything.\n",
                "* If you want to print additional output (e.g. to look at the values in `args`), use the provided `print_debug` function instead of `print`, in order to not affect the tests.\n",
                "\n",
                "Expected output -- **make sure you use the same messages, including trailing periods (`.`)!**:\n",
                "\n",
                "```bash\n",
                "# Getting available drinks\n",
                "$ python drink_generator_cli.py -l\n",
                "These drinks are available:\n",
                "* caipirinha\n",
                "* gin tonic\n",
                "* mojito\n",
                "* vodka martini\n",
                "\n",
                "# Getting ingredients for a drink\n",
                "$ python drink_generator_cli.py -d \"gin tonic\"\n",
                "gin, ice, tonic water\n",
                "\n",
                "# Specifying a drink which doesn't exist\n",
                "$ python drink_generator_cli.py -d nodrink\n",
                "nodrink does not exist.\n",
                "\n",
                "# Getting a drink based on ingredients\n",
                "$ python drink_generator_cli.py -i ice \"tonic water\" gin\n",
                "gin tonic\n",
                "\n",
                "# If no drink can be made with the specified ingredients\n",
                "$ python drink_generator_cli.py -i ice not gin\n",
                "No drink found.\n",
                "\n",
                "# No ingredients given (output by argparse)\n",
                "$ python drink_generator_cli.py -i\n",
                "usage: drink-generator-cli.py ...\n",
                "drink-generator-cli.py: error: argument -i/--ingredients: expected at least one argument\n",
                "\n",
                "# If script is run without any flags (output by argparse)\n",
                "$ python drink_generator_cli.py\n",
                "usage: drink-generator-cli.py ...\n",
                "drink-generator-cli.py: error: one of the arguments -l/--list -d/--drink -i/--ingredients is required\n",
                "\n",
                "# Mutually exclusive arguments (output by argparse)\n",
                "$ python drink_generator_cli.py -l -i \"ice, tonic water, gin\"\n",
                "usage: drink-generator-cli.py ...\n",
                "drink_generator_cli.py: error: argument -i/--ingredients: not allowed with argument -l/--list\n",
                "```"
            ]
        },
        {
            "cell_type": "code",
            "execution_count": 51,
            "id": "d0a9df3a",
            "metadata": {
                "deletable": false,
                "tags": [
                    "drink-generator-cli"
                ]
            },
            "outputs": [
                {
                    "name": "stdout",
                    "output_type": "stream",
                    "text": [
                        "Overwriting drink_generator_cli.py\n"
                    ]
                }
            ],
            "source": [
                "%%writefile drink_generator_cli.py\n",
                "import argparse\n",
                "import sys\n",
                "\n",
                "\n",
                "DRINKS = {\n",
                "    \"caipirinha\": {\"cachaca\", \"sugar\", \"lime\"},\n",
                "    \"mojito\": {\"white rum\", \"sugar cane juice\", \"lime juice\", \"soda water\", \"mint\"},\n",
                "    \"gin tonic\": {\"gin\", \"tonic water\", \"ice\"},\n",
                "    \"vodka martini\": {\"vodka\", \"vermouth\", \"ice\", \"olives\"},\n",
                "}\n",
                "\n",
                "\n",
                "def print_debug(*args):\n",
                "    print(args, file=sys.stderr)\n",
                "\n",
                "\n",
                "def find_drink(ingredients):\n",
                "    for drink, drink_ingredients in DRINKS.items():\n",
                "        if set(ingredients) == drink_ingredients:\n",
                "            return drink\n",
                "    return None\n",
                "\n",
                "\n",
                "def run_list():\n",
                "    print(\"These drinks are available:\")\n",
                "    for drink in sorted(DRINKS):\n",
                "        print(f\"* {drink}\")\n",
                "\n",
                "\n",
                "def run_find_by_name(name):\n",
                "    drink = DRINKS.get(name, None)\n",
                "    if drink:\n",
                "        print(', '.join(sorted(drink)))\n",
                "    else:\n",
                "        print(f\"{name} does not exist.\")\n",
                "\n",
                "\n",
                "def run_find_by_ingredients(ingredients):\n",
                "    drink = find_drink(ingredients)\n",
                "    if drink:\n",
                "        print(drink)\n",
                "    else:\n",
                "        print(\"No drink found.\")\n",
                "\n",
                "\n",
                "def run(args):\n",
                "    # todo:\n",
                "    # - Check which of the flags have been given\n",
                "    # - Do additional manual checking, where needed\n",
                "    # - Call correct run_... function\n",
                "    if args.list:\n",
                "        run_list()\n",
                "    if args.ingredients:\n",
                "        run_find_by_ingredients(args.ingredients)\n",
                "    if args.drink:\n",
                "        run_find_by_name(args.drink)\n",
                "    return\n",
                "\n",
                "\n",
                "def get_parser():\n",
                "    parser = argparse.ArgumentParser()\n",
                "    # todo: Configure parser correctly\n",
                "    group = parser.add_mutually_exclusive_group(required=True)\n",
                "    group.add_argument('-l', '--list', action='store_true')\n",
                "    group.add_argument('-i', '--ingredients', nargs='+')\n",
                "    group.add_argument('-d', '--drink')\n",
                "    return parser\n",
                "\n",
                "\n",
                "def main(args=None):\n",
                "    parsed = get_parser().parse_args(args)\n",
                "    run(parsed)\n",
                "\n",
                "\n",
                "# todo: call main() with no arguments, but only when run as a script"
            ]
        },
        {
            "cell_type": "markdown",
            "id": "7c441d29",
            "metadata": {
                "editable": false
            },
            "source": [
                "Then we use `!python` as an external subprocess to run your CLI application:"
            ]
        },
        {
            "cell_type": "code",
            "execution_count": 49,
            "id": "8f1b2013",
            "metadata": {},
            "outputs": [
                {
                    "name": "stdout",
                    "output_type": "stream",
                    "text": [
                        "3786.52s - pydevd: Sending message related to process being replaced timed-out after 5 seconds\n",
                        "usage: drink_generator_cli.py [-h]\n",
                        "                              (-l | -i INGREDIENTS [INGREDIENTS ...] | -d DRINK)\n",
                        "drink_generator_cli.py: error: one of the arguments -l/--list -i/--ingredients -d/--drink is required\n"
                    ]
                }
            ],
            "source": [
                "!python drink_generator_cli.py"
            ]
        }
    ],
    "nbformat": 4,
    "nbformat_minor": 5
}