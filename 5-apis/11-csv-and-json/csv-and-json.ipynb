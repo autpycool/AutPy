{
    "cells": [
        {
            "cell_type": "markdown",
            "id": "b6c1057d",
            "metadata": {
                "editable": false
            },
            "source": [
                "# Working With CSV Files and JSON Data\n",
                "## Introduction\n",
                "\n",
                "In this lab, you are going to use two common formats for exchanging data between different applications or saving data to files in structured ways.\n",
                "\n",
                "**This notebook covers [chapter 16](https://automatetheboringstuff.com/2e/chapter16/) of the book.** A small part of the chapter (JSON and APIs) isn't part of this lab, but will be useful for the next lab.\n",
                "\n",
                "When exchanging data between different applications or machines in a structured and human-readable way, there are various standardized formats. The most common ones are:\n",
                "\n",
                "- **[CSV](https://en.wikipedia.org/wiki/Comma-separated_values) (Comma-separated values)**, the most simple of them all. Often used for import/export of tabular data from/to spreadsheets like Excel.\n",
                "- **[JSON](https://en.wikipedia.org/wiki/JSON) (JavaScript Object Notation)**, coming from the Javascript programming language as indicated by the name, but widely used outside of Javascript as well. Very often used when talking to services on the web (APIs).\n",
                "- [YAML](https://en.wikipedia.org/wiki/YAML) (YAML Ain't Markup Language), often used as a configuration language. Not used in this course, but something you will undoubtely see again later in your studies.\n",
                "- [TOML](https://toml.io/) (Tom's Obvious Minimal Language), intended as a simpler alternative to JSON/YAML for configuration files. Rather new (originally introduced in 2013), but getting more and more popular, especially for configuring Python tools.\n",
                "- [XML](https://en.wikipedia.org/wiki/Xml) (Extensible Markup Language), originally started in 1996 and the base for HTML, used for authoring websites. Very complex and often replaced by the much simpler JSON nowadays. Not part of this course, and hopefully not part of others either.\n",
                "\n",
                "![XKCD 927: Standards](https://imgs.xkcd.com/comics/standards.png)\n",
                "\n",
                "*([XKCD 927: Standards](https://xkcd.com/927/))*\n",
                "\n",
                "In this lab, you are going to learn how to read/write CSV files to e.g. create a simple spreadsheet from Python. There are more specialized libraries for handling spreadsheets, but the beauty of CSV lies in its simplicity and in how it's more universal. If you want to use more sophisticated spreadsheet features, you would use libraries like [openpyxl](https://openpyxl.readthedocs.io/en/stable/) from [book chapter 13](https://automatetheboringstuff.com/2e/chapter13) (Excel) or [EZSheets](https://ezsheets.readthedocs.io/en/latest/) from [book chapter 14](https://automatetheboringstuff.com/2e/chapter14/) (Google Sheets). \n",
                "\n",
                "You are also going to work with JSON data as preparation for the next lab, where you are going to use various APIs.\n",
                "\n",
                "## Optional resources\n",
                "\n",
                "Python documentation:\n",
                "\n",
                "- [csv — CSV File Reading and Writing](https://docs.python.org/3/library/csv.html)\n",
                "- [json — JSON encoder and decoder](https://docs.python.org/3/library/json.html)\n",
                "\n",
                "PyMOTW:\n",
                "\n",
                "- [csv — Comma-separated Value Files](https://pymotw.com/3/csv/index.html)\n",
                "- [json — JavaScript Object Notation](https://pymotw.com/3/json/index.html)\n",
                "\n",
                "Real Python:\n",
                "\n",
                "- [Reading and Writing CSV Files in Python](https://realpython.com/python-csv/)\n",
                "- [Working With JSON Data in Python](https://realpython.com/python-json/)"
            ]
        },
        {
            "cell_type": "markdown",
            "id": "02a90b07",
            "metadata": {
                "editable": false
            },
            "source": [
                "## Summary\n",
                "### CSV\n",
                "#### Read\n",
                "Use the `csv` module to read CSV data."
            ]
        },
        {
            "cell_type": "code",
            "execution_count": 1,
            "id": "53b0aa8e",
            "metadata": {},
            "outputs": [
                {
                    "name": "stdout",
                    "output_type": "stream",
                    "text": [
                        "[['4/5/2014 13:34', 'Apples', '73'], ['4/5/2014 3:41', 'Cherries', '85'], ['4/6/2014 12:46', 'Pears', '14'], ['4/8/2014 8:59', 'Oranges', '52'], ['4/10/2014 2:07', 'Apples', '152'], ['4/10/2014 18:10', 'Bananas', '23'], ['4/10/2014 2:40', 'Strawberries', '98']]\n"
                    ]
                }
            ],
            "source": [
                "import csv\n",
                "\n",
                "with open(\"example.csv\", newline=\"\") as f:\n",
                "    reader = csv.reader(f)\n",
                "    data = list(reader)\n",
                "\n",
                "print(data)"
            ]
        },
        {
            "cell_type": "markdown",
            "id": "35b571db",
            "metadata": {
                "editable": false
            },
            "source": [
                "As you can see, there are some differences to how you'v read files before:\n",
                "\n",
                "- You should always pass `newline=\"\"` to `open` when using CSVs. Newlines are handled internally by the `csv` module, and this [disables](https://docs.python.org/3/library/csv.html#id3) Python's own newline handling.\n",
                "- Instead of reading the file directly, you pass the file to the reader from the csv module. You can then get a list of lists from that `reader` object, by converting it to a list. Access data with `data[row][column]`.\n",
                "\n",
                "The reader can also be used directly in a for-loop, which is probably a more common case. The current row number can get accessed with the `line_num` property:"
            ]
        },
        {
            "cell_type": "code",
            "execution_count": 2,
            "id": "4d88d908",
            "metadata": {},
            "outputs": [
                {
                    "name": "stdout",
                    "output_type": "stream",
                    "text": [
                        "Line 1: ['4/5/2014 13:34', 'Apples', '73']\n",
                        "Line 2: ['4/5/2014 3:41', 'Cherries', '85']\n",
                        "Line 3: ['4/6/2014 12:46', 'Pears', '14']\n",
                        "Line 4: ['4/8/2014 8:59', 'Oranges', '52']\n",
                        "Line 5: ['4/10/2014 2:07', 'Apples', '152']\n",
                        "Line 6: ['4/10/2014 18:10', 'Bananas', '23']\n",
                        "Line 7: ['4/10/2014 2:40', 'Strawberries', '98']\n"
                    ]
                }
            ],
            "source": [
                "import csv\n",
                "\n",
                "with open(\"example.csv\", newline=\"\") as f:\n",
                "    reader = csv.reader(f)\n",
                "    for row in reader:\n",
                "        print(f\"Line {reader.line_num}: {row}\")"
            ]
        },
        {
            "cell_type": "markdown",
            "id": "91b4cb7c",
            "metadata": {
                "editable": false
            },
            "source": [
                "#### Write\n",
                "To write to a file, you can follow the same procedure as if you would read from a file."
            ]
        },
        {
            "cell_type": "code",
            "execution_count": 4,
            "id": "2946f9ff",
            "metadata": {},
            "outputs": [],
            "source": [
                "import csv\n",
                "\n",
                "with open(\"addresses.csv\", \"w\", newline=\"\") as f:\n",
                "    writer = csv.writer(f)\n",
                "    writer.writerow([\"Harry\", \"Potter\", \"4 Privet Drive\", \"Little Whinging\", \"Surrey\"])\n",
                "    writer.writerow([\"Ronald\", \"Weasley\", \"The Burrow\", \"Ottery St Catchpole\", \"Devon\"])"
            ]
        },
        {
            "cell_type": "markdown",
            "id": "47f88bca",
            "metadata": {
                "editable": false
            },
            "source": [
                "You can pass some more arguments to the writer as well. For example, depending on the dialect, CSVs sometimes use tabs instead of spaces as delimiters (sometimes also called TSV, which is indeed more correct than still calling this \"comma-separated values\"). To write such a file, use `csv.writer(file, delimiter='\\t')`.\n",
                "\n",
                "When you open the file `addresses.csv` via the sidebar (run the code above first), you will see that the first line is interpreted as a column header.\n",
                "\n",
                "This is very common in CSV files, and the `csv` module provides a far more convenient option to work with files, based on those headers: `DictWriter` instead of the normal `writer`. To write rows, you pass a dictionary to the method. This makes your code much more readable."
            ]
        },
        {
            "cell_type": "code",
            "execution_count": 5,
            "id": "c6a1c20f",
            "metadata": {},
            "outputs": [],
            "source": [
                "import csv\n",
                "\n",
                "with open(\"addresses.csv\", \"w\", newline=\"\") as file:\n",
                "    writer = csv.DictWriter(\n",
                "        file, [\"Firstname\", \"Surname\", \"Address\", \"Village\", \"County\"]\n",
                "    )\n",
                "    writer.writeheader()\n",
                "    writer.writerow(\n",
                "        {\n",
                "            \"Firstname\": \"Harry\",\n",
                "            \"Surname\": \"Potter\",\n",
                "            \"Address\": \"4 Privet Drive\",\n",
                "            \"Village\": \"Little Whinging\",\n",
                "            \"County\": \"Surrey\",\n",
                "        }\n",
                "    )\n",
                "    writer.writerow(\n",
                "        {\n",
                "            \"Firstname\": \"Ronald\",\n",
                "            \"Surname\": \"Weasley\",\n",
                "            \"Address\": \"The Burrow\",\n",
                "            \"Village\": \"Ottery St Catchpole\",\n",
                "            \"County\": \"Devon\",\n",
                "        }\n",
                "    )"
            ]
        },
        {
            "cell_type": "markdown",
            "id": "97026335",
            "metadata": {
                "editable": false
            },
            "source": [
                "You also can use a `DictReader` to get more readable code when reading CSV files. Each row is now a dictionary instead of a list."
            ]
        },
        {
            "cell_type": "code",
            "execution_count": 6,
            "id": "966f93d2",
            "metadata": {},
            "outputs": [
                {
                    "name": "stdout",
                    "output_type": "stream",
                    "text": [
                        "Harry Potter\n",
                        "Ronald Weasley\n"
                    ]
                }
            ],
            "source": [
                "import csv\n",
                "\n",
                "with open(\"addresses.csv\") as file:\n",
                "    reader = csv.DictReader(file)\n",
                "    for row in reader:\n",
                "        print(f\"{row['Firstname']} {row['Surname']}\")"
            ]
        },
        {
            "cell_type": "markdown",
            "id": "2eb63a9c",
            "metadata": {
                "editable": false
            },
            "source": [
                "If your CSV file has a header row, this also results in more flexibility: The order of columns in the file doesn't matter anymore, as long as they have the same name in the first line (header row).\n",
                "\n",
                "If there is no such header row in your data, you can still use `DictReader` and assign column names manually:"
            ]
        },
        {
            "cell_type": "code",
            "execution_count": 7,
            "id": "ffb5f2a8",
            "metadata": {},
            "outputs": [
                {
                    "name": "stdout",
                    "output_type": "stream",
                    "text": [
                        "On 4/5/2014 13:34 they ate 73 Apples.\n",
                        "On 4/5/2014 3:41 they ate 85 Cherries.\n",
                        "On 4/6/2014 12:46 they ate 14 Pears.\n",
                        "On 4/8/2014 8:59 they ate 52 Oranges.\n",
                        "On 4/10/2014 2:07 they ate 152 Apples.\n",
                        "On 4/10/2014 18:10 they ate 23 Bananas.\n",
                        "On 4/10/2014 2:40 they ate 98 Strawberries.\n"
                    ]
                }
            ],
            "source": [
                "import csv\n",
                "\n",
                "with open(\"example.csv\") as file:\n",
                "    reader = csv.DictReader(file, [\"date\", \"fruit\", \"amount\"])\n",
                "    for row in reader:\n",
                "        print(f\"On {row['date']} they ate {row['amount']} {row['fruit']}.\")"
            ]
        },
        {
            "cell_type": "markdown",
            "id": "e7d01de5",
            "metadata": {
                "editable": false
            },
            "source": [
                "### JSON\n",
                "Many websites provide data in a machine-readable form via a so-called API. Very often, those APIs provide and accept data in JSON format. There's a lot of cool stuff you can do with such APIs, as you will see in the next lab. For now, let's focus on the JSON file format.\n",
                "\n",
                "The following data types can be represented in JSON, with a very similiar syntax to Python:\n",
                "\n",
                "- strings (with double quotes only)\n",
                "- integers and floats\n",
                "- booleans (but as lower-case `true` and `false`)\n",
                "- lists (called \"arrays\" in JSON/Javascript)\n",
                "- dictionaries (called \"objects\" in JSON/Javascript; only strings permitted as keys)\n",
                "- the special `None` value (but as `null`)\n",
                "\n",
                "Here is an example in JSON format, with a list containing two dictionaries:\n",
                "\n",
                "```json\n",
                "[\n",
                "  {\n",
                "    \"firstname\": \"Harry\",\n",
                "    \"surname\": \"Potter\",\n",
                "    \"county\": \"Surrey\"\n",
                "  },\n",
                "  {\n",
                "    \"firstname\": \"Ronald\",\n",
                "    \"surname\": \"Weasley\",\n",
                "    \"county\": \"Devon\"\n",
                "  }\n",
                "]\n",
                "```"
            ]
        },
        {
            "cell_type": "markdown",
            "id": "0ecf53ec",
            "metadata": {
                "editable": false
            },
            "source": [
                "With the `json` module, converting JSON data into Python datatypes is very easy."
            ]
        },
        {
            "cell_type": "code",
            "execution_count": 8,
            "id": "8d7af9ad",
            "metadata": {},
            "outputs": [
                {
                    "name": "stdout",
                    "output_type": "stream",
                    "text": [
                        "[{'firstname': 'Harry', 'surname': 'Potter', 'county': 'Surrey'}, {'firstname': 'Ronald', 'surname': 'Weasley', 'county': 'Devon'}]\n"
                    ]
                }
            ],
            "source": [
                "import json\n",
                "\n",
                "jsonstring = '[{\"firstname\": \"Harry\", \"surname\": \"Potter\", \"county\": \"Surrey\"},{\"firstname\": \"Ronald\", \"surname\": \"Weasley\", \"county\": \"Devon\"}]'\n",
                "data = json.loads(jsonstring)  # load string\n",
                "\n",
                "print(data)"
            ]
        },
        {
            "cell_type": "markdown",
            "id": "0fa2025c",
            "metadata": {
                "editable": false
            },
            "source": [
                "And this is how you write JSON data:"
            ]
        },
        {
            "cell_type": "code",
            "execution_count": 9,
            "id": "c848e245",
            "metadata": {},
            "outputs": [
                {
                    "name": "stdout",
                    "output_type": "stream",
                    "text": [
                        "[{\"firstname\": \"Harry\", \"surname\": \"Potter\", \"county\": \"Surrey\"}, {\"firstname\": \"Ronald\", \"surname\": \"Weasley\", \"county\": \"Devon\"}]\n"
                    ]
                }
            ],
            "source": [
                "import json\n",
                "\n",
                "wizards = [\n",
                "    {\"firstname\": \"Harry\", \"surname\": \"Potter\", \"county\": \"Surrey\"},\n",
                "    {\"firstname\": \"Ronald\", \"surname\": \"Weasley\", \"county\": \"Devon\"},\n",
                "]\n",
                "\n",
                "jsonstring = json.dumps(wizards)  # dump string\n",
                "\n",
                "print(jsonstring)"
            ]
        },
        {
            "cell_type": "markdown",
            "id": "aa6e2c7f",
            "metadata": {
                "editable": false
            },
            "source": [
                "## Exercises"
            ]
        },
        {
            "cell_type": "markdown",
            "id": "e729c839",
            "metadata": {
                "editable": false
            },
            "source": [
                "### Exercise 1: Robert De Niro\n",
                "\n",
                "Implement the `great_movies` function, which reads the CSV from the given `Path`, and returns all \n",
                "movies with a rating equal or higher than the given `min_rating` as a (title, year, score) tuple each, with **suitable data types**:\n",
                "\n",
                "```\n",
                ">>> great_movies(Path(\"movies.csv\"), min_rating=47)\n",
                "[\n",
                "    ...\n",
                "    ('1900', 1977, 47),\n",
                "    ('New York,New York', 1977, 67),\n",
                "    ('The Deer Hunter', 1978, 93),\n",
                "    ('Raging Bull', 1980, 97),\n",
                "    ('True Confessions', 1981, 75),\n",
                "    ('The King of Comedy', 1983, 90),\n",
                "    ...\n",
                "]\n",
                "```\n",
                "\n",
                "(pretty-printed for readability, your function should return a list of tuples)\n",
                "\n",
                "To see how the input data could look like, check the supplied `deniro.csv`. The file contains the [Rotten Tomato](https://www.rottentomatoes.com/about) ratings of Robert De Niro's movies along with the year the movie came out.\n",
                "\n",
                "Additional requirements:\n",
                "\n",
                "- You can assume that the column headers of the relevant columns stay the same. There might be additional columns, however.\n",
                "- You don't need to take care of exceptions for this excercise - i.e. you can assume that the file exists and that the type conversions succeed.\n",
                "- The order of the tuples should be as they appear in the file, i.e. don't reorder/sort anything."
            ]
        },
        {
            "cell_type": "code",
            "execution_count": null,
            "id": "4d60145a",
            "metadata": {
                "deletable": false,
                "tags": [
                    "robert-de-niro"
                ]
            },
            "outputs": [],
            "source": [
                "import csv\n",
                "\n",
                "def great_movies(csv_path, min_rating):\n",
                "    # todo: implement"
            ]
        },
        {
            "cell_type": "markdown",
            "id": "2f648a8e",
            "metadata": {
                "editable": false
            },
            "source": [
                "Use this separate cell to try out your code.\n",
                "Your code should work with the example below, but you're free to change it."
            ]
        },
        {
            "cell_type": "code",
            "execution_count": null,
            "id": "4e4168e3",
            "metadata": {},
            "outputs": [],
            "source": [
                "from pathlib import Path\n",
                "\n",
                "print(great_movies(Path(\"deniro.csv\"), 97))"
            ]
        },
        {
            "cell_type": "markdown",
            "id": "92050c3a",
            "metadata": {
                "editable": false
            },
            "source": [
                "### Exercise 2: Train Data\n",
                "\n",
                "Write a tool that prints out the next five trains leaving a given train station in the following way:\n",
                "\n",
                "```\n",
                "IR13 3288 to Zürich HB at 15:37 on platform 3\n",
                "S4 11459 to Uznach at 15:39 on platform 5\n",
                "S5 11556 to Weinfelden at 15:40 on platform 7\n",
                "RE 5230 to Herisau at 15:45 on platform 5\n",
                "S1 11156 to Wil SG at 15:46 on platform 2\n",
                "```\n",
                "\n",
                "We've implemented the printing for you - all you need to complete is the `get_train_info` function, which returns a list of tuples containing the train, destination, time (in the same format as in the JSON file, see below) and platform.\n",
                "\n",
                "Use the given `trains.json`, which contains the trains leaving St. Gallen at the time this lab was created. The data is coming from the [Opendata.ch Public Transport API](https://transport.opendata.ch/). Here, you will work with a \"snapshot\" of the data from the given file path. In the next lab, you will learn how to get \"fresh\" data over the internet, which would allow you to implement things like [a command-line SBB timetable tool](https://github.com/dbrgn/fahrplan) (as done by [Danilo Bargen](https://twitter.com/dbrgn), a former HSR/OST student).\n",
                "\n",
                "To get the desired output, you have to analyze the JSON data. Open the file in Jupyter via the sidebar and find out which fields you have to print to the screen. Then implement `get_train_info` to return the correct data.\n",
                "\n",
                "**Hint:** Combine the \"category\", \"number\" and \"name\" to get the train. Treat the name as a string, but remove leading zeroes.\n",
                "\n",
                "**Hint 2:** You don't need to understand the date/time handling in the `print_connection` function in detail. You can pass a string like `2021-11-15T15:09:00+0100` from the JSON file as `isotime` and it will print hours/minutes based on that. Time strings like this are a common way to represent date/time in JSON, based on one of the formats standardized in [ISO 8601](https://en.wikipedia.org/wiki/ISO_8601).\n",
                "\n",
                "![XKCD 1179: ISO 8601](https://imgs.xkcd.com/comics/iso_8601.png)\n",
                "\n",
                "*([XKCD 1179: ISO 8601](https://xkcd.com/1179/))*"
            ]
        },
        {
            "cell_type": "code",
            "execution_count": 11,
            "id": "b80dca49",
            "metadata": {
                "deletable": false,
                "tags": [
                    "train-data"
                ]
            },
            "outputs": [],
            "source": [
                "import json\n",
                "\n",
                "def get_train_info(json_path):\n",
                "    # todo: implement here"
            ]
        },
        {
            "cell_type": "markdown",
            "id": "9102f872",
            "metadata": {
                "editable": false
            },
            "source": [
                "Use this separate cell to try out your code.\n",
                "Your code should work with the example below, no changes should be needed."
            ]
        },
        {
            "cell_type": "code",
            "execution_count": null,
            "id": "65fc6be0",
            "metadata": {},
            "outputs": [],
            "source": [
                "from datetime import datetime\n",
                "from pathlib import Path\n",
                "\n",
                "\n",
                "def print_connection(name, destination, isotime, platform):\n",
                "    dt = datetime.fromisoformat(isotime.replace(\"+0100\", \"+01:00\"))\n",
                "    time = dt.strftime(\"%H:%M\")\n",
                "    print(f\"{name} to {destination} at {time} on platform {platform}\")\n",
                "\n",
                "\n",
                "def show_train_info(json_path):\n",
                "    for name, destination, isotime, platform in get_train_info(json_path):\n",
                "        print_connection(name, destination, isotime, platform)\n",
                "\n",
                "\n",
                "show_train_info(Path(\"trains.json\"))"
            ]
        },
        {
            "cell_type": "markdown",
            "id": "fb1aac0a",
            "metadata": {
                "editable": false
            },
            "source": [
                "### Exercise 3: Trains to CSV\n",
                "Export the train data to a CSV file with the columns `name`, `destination`, `isotime` and `platform`, in that order. Use the given in- and output paths (both `Path` objects).\n",
                "\n",
                "Do **not** reuse your `get_train_info` from above, as the format has a few small differences:\n",
                "\n",
                "- The time should be inserted into the CSV in full ISO format (i.e. no need for you to change anything about the time/date).\n",
                "- The `name` should be the full, \"raw\" train number.\n",
                "\n",
                "Thus, when visualized as a table, the output could look like this:\n",
                "\n",
                "| **name** | **destination** | **isotime**              | **platform** |\n",
                "|----------|-----------------|--------------------------|--------------|\n",
                "| 002096   | Trogen          | 2021-11-16T10:26:00+0100 | 12           |\n",
                "| 002099   | Appenzell       | 2021-11-16T10:26:00+0100 | 11           |\n",
                "| 011438   | Sargans         | 2021-11-16T10:27:00+0100 | 5            |\n",
                "| 003264   | Luzern          | 2021-11-16T10:37:00+0100 | 3            |\n",
                "| 011439   | Uznach          | 2021-11-16T10:39:00+0100 | 5            |"
            ]
        },
        {
            "cell_type": "code",
            "execution_count": null,
            "id": "636e0fca",
            "metadata": {
                "deletable": false,
                "tags": [
                    "train-to-csv"
                ]
            },
            "outputs": [],
            "source": [
                "import json\n",
                "import csv\n",
                "from pathlib import Path\n",
                "\n",
                "def trains_to_csv(json_path, csv_path):\n",
                "    # todo: implement here"
            ]
        },
        {
            "cell_type": "markdown",
            "id": "6e4a0a5e",
            "metadata": {
                "editable": false
            },
            "source": [
                "Use this separate cell to try out your code.\n",
                "Your code should work with the example below, no changes should be needed."
            ]
        },
        {
            "cell_type": "code",
            "execution_count": null,
            "id": "b8c2487c",
            "metadata": {},
            "outputs": [],
            "source": [
                "trains_to_csv(Path(\"trains.json\"), Path(\"trains.csv\"))"
            ]
        },
        {
            "cell_type": "markdown",
            "id": "92af451f",
            "metadata": {
                "editable": false
            },
            "source": [
                "A new `trains.csv` should appear in the lab folder after running your code, which you can open in Jupyter to inspect it."
            ]
        }
    ],
    "nbformat": 4,
    "nbformat_minor": 5
}