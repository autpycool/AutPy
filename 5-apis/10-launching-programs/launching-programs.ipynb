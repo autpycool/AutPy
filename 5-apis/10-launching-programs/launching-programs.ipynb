{
    "cells": [
        {
            "cell_type": "markdown",
            "id": "9b9727b9",
            "metadata": {
                "editable": false,
                "tags": []
            },
            "source": [
                "# Launching Programs\n",
                "## Introduction\n",
                "\n",
                "In the previous labs, you did learn how to interact with your system by using modules from the Python standard library like `os` or `shutil`. But sometimes there is no library for the system operation you need, or it is too complicated to use. This notebook will show you how to launch system commands or programs directly from Python.\n",
                "\n",
                "*We now arrived in the second half of the book ([chapters 11-20](https://automatetheboringstuff.com/#toc)), where we've learned all the Python knowledge we need and now move to more specialized topics for solving specific tasks. As we won't have the time to look at everything, we are skipping most of the rest of the book - but remember that those book chapters exist, you might want to look at them if you ever need to do one of those things.*\n",
                "\n",
                "*The topic of this lab (launching external programs) is covered in book [chapter 17](https://automatetheboringstuff.com/2e/chapter17/), but that chapter teaches an older way of spawning subprocesses, as well as containing various other topics which won't be part of this course (dealing with times/dates and multithreading).* \n",
                "\n",
                "**Thus, we recommend that you skip the book chapter, and instead read an excellent [Tutorial by Digital Ocean](https://www.digitalocean.com/community/tutorials/how-to-use-subprocess-to-run-external-programs-in-python-3)** on this topic.\n",
                "\n",
                "If you have not worked in a shell / commandline environment before, it's also recommended to read [the \"The Shell\" chapter](https://missing.csail.mit.edu/2020/course-shell/) of [\"The Missing Semester of Your CS Education\"](https://missing.csail.mit.edu/), an excellent resource by the \"Computer Science and Artificial Intelligence Laboratory\" at the MIT. While various parts aren't required for this lab (only \"What is the shell?\" and \"Using the shell\" will be relevant), the knowledge in there will most likely be useful in your further studies and/or work career.\n",
                "\n",
                "### Optional resources\n",
                "\n",
                "- [Python docs: subprocess — Subprocess management](https://docs.python.org/3/library/subprocess.html)\n",
                "- [PyMOTW: subprocess — Spawning Additional Processes](https://pymotw.com/3/subprocess/index.html)\n",
                "\n",
                "## Summary\n",
                "\n",
                "### Basic Usage"
            ]
        },
        {
            "cell_type": "code",
            "execution_count": null,
            "id": "c6221e0f",
            "metadata": {},
            "outputs": [],
            "source": [
                "import subprocess\n",
                "subprocess.run([\"uname\", \"-a\"])"
            ]
        },
        {
            "cell_type": "markdown",
            "id": "13286934",
            "metadata": {
                "editable": false
            },
            "source": [
                "After importing the subprocess module, the `subprocess.run` method can be used. It takes a list of strings as its argument, each of which is an argument of the system command to run, just like in a shell. The first argument is always the name of the command. The `uname` command used here, for example, will output system information like the kernel version and CPU architecture (you can try to run it!).\n",
                "\n",
                "**Note:** You should only need to use `subprocess.run` and perhaps `subprocess.Popen`.\n",
                "\n",
                "Functions such as `subprocess.call`, `subprocess.check_call`, `subprocess.check_output`, `subprocess.getoutput`, `os.system`, `os.popen*`, `os.spawn` have all been replaced by `subprocess.run`. **Some of them are insecure**, so be wary of resources recommending them. For the exercises below, **use `subprocess.run` only**.\n",
                "\n",
                "### Handling of arguments\n",
                "\n",
                "When using a shell to call tools, arguments are split by spaces. Thus, running `uname -a` gets split into:\n",
                "\n",
                "- `uname`\n",
                "- `-a`\n",
                "\n",
                "When an argument itself contains a space, quotes can be used (`'` or `\"` depending on the shell and desired outcome). For example, `rm file1.txt file2.txt` is used to remove two files, but `rm \"file with spaces.txt\"` gets split into:\n",
                "\n",
                "- `rm`\n",
                "- `file with spaces.txt`\n",
                "\n",
                "and would be used to remove a file with spaces in its filename.\n",
                "\n",
                "When calling tools with `subprocess.run`, you instead supply a list of strings, like with `[\"uname\", \"-a\"]` above.  Make sure you know the difference between:\n",
                "\n",
                "- `[\"sometool\", \"-i\", \"filename.txt\"]` (Shell: `sometool -i filename.txt`)\n",
                "- `[\"sometool\", \"-i filename.txt\"]` (Shell: `sometool \"-i filename.txt\"`)\n",
                "\n",
                "The second example will not work properly, as it passes `-i filename.txt` as one argument instead of two arguments.\n",
                "\n",
                "### Library vs. System Command\n",
                "\n",
                "Usually, it is preferrable to use a Python library to accomplish a task, if possible, instead of launching an external program or system command. Libraries allow you to handle input/output data appropriate data types and structures, instead of the \"flat\" unstructured text data returned by executing a system command. It may take more time to get to know the library at first, and to set it up, but it will save you time in handling and parsing data in the long run.\n",
                "\n",
                "#### Security\n",
                "\n",
                "By default, subprocess does not invoke any shell with the command specified, but instead calls the external command directly. This mitigates some security issues, where unrelated commands could be injected if arguments are controlled by (malicious) user input. It also means that you do **not have to worry** about most special characters: While e.g. `'` and `\"` inside a string have a special meaning for a shell, they are not a problem when using `subprocess` with the default setting.\n",
                "\n",
                "You should **avoid using `shell=True`** when using subprocess. As soon as a shell is involved between Python and the command being executed, you will have to **deal with special characters**, will potentially have **security issues** when not doing so, and you will need to **take care of platform differences** between different shells/operating systems.\n",
                "\n",
                "Even with `shell=False` (the default), calling an extermal command with user controlled arguments might still bear more risk than using a purpose-built, well-designed library, so consider your options carefully.\n",
                "\n",
                "#### Example: File listing\n",
                "\n",
                "If you need the file listing of a directory, you might be tempted to call the `ls` system command from your Python script like this:"
            ]
        },
        {
            "cell_type": "code",
            "execution_count": null,
            "id": "ba88a8a8",
            "metadata": {},
            "outputs": [],
            "source": [
                "import subprocess\n",
                "subprocess.run([\"ls\"])"
            ]
        },
        {
            "cell_type": "markdown",
            "id": "a3718088",
            "metadata": {
                "editable": false
            },
            "source": [
                "This seems to be working fine, however, this approach comes with some pitfalls. Your system may not know the `ls` command if your're running Windows. And even on minimal Linux systems, some fairly common system commands may not be available.  \n",
                "\n",
                "Also, there are potential issues with parsing the unstructured output in your code. You may assume that every output line is another file, but what if a filename were to contain a newline character? In the previous labs, you saw how to solve common file management tasks in Python directly - for example, instead of using `ls`, something like:"
            ]
        },
        {
            "cell_type": "code",
            "execution_count": null,
            "id": "797c7dc7",
            "metadata": {},
            "outputs": [],
            "source": [
                "import pathlib\n",
                "\n",
                "for path in pathlib.Path.cwd().iterdir():\n",
                "    print(path)"
            ]
        },
        {
            "cell_type": "markdown",
            "id": "c3c116ff",
            "metadata": {
                "editable": false
            },
            "source": [
                "If you wanted to process the outputs further, which approach would seem more convenient to work with to you? Using the `ls` command or the os/pathlib library?"
            ]
        },
        {
            "cell_type": "markdown",
            "id": "ae156804",
            "metadata": {
                "editable": false
            },
            "source": [
                "### Capturing Output\n",
                "\n",
                "Often, you'd want to not only print the subprocess output on the terminal, but parse and process it further. To achieve this, the standard output (stdout) can be captured like this:"
            ]
        },
        {
            "cell_type": "code",
            "execution_count": 24,
            "id": "c8ffb3aa",
            "metadata": {},
            "outputs": [
                {
                    "name": "stdout",
                    "output_type": "stream",
                    "text": [
                        "very quiet output: psssst!\n",
                        "\n"
                    ]
                }
            ],
            "source": [
                "import subprocess\n",
                "\n",
                "result = subprocess.run([\"echo\", \"psssst!\"], capture_output=True, text=True)\n",
                "print(f\"very quiet output: {result.stdout}\")"
            ]
        },
        {
            "cell_type": "markdown",
            "id": "2d05b990",
            "metadata": {
                "editable": false
            },
            "source": [
                "As you can see, the command output is contained in the `stdout` property, instead of being printed to the standard output directly. There is also the `stderr` property, capturing the standard error stream (typically used by tools to display error messages, rather than \"normal\" output). To receive the outputs as text strings, specify the `text=True` argument. Otherwise you will get a bytes output."
            ]
        },
        {
            "cell_type": "markdown",
            "id": "975fb8ab",
            "metadata": {
                "editable": false
            },
            "source": [
                "### Errors and Exceptions\n",
                "\n",
                "Running programs or subprocesses may result in them terminating with an error. This is indicated through the exit code of the program, which is **zero on successful termination**. Any exit code **other than zero indicates an error**, which you might want to know about in order to handle the situation.  \n",
                "If given the `check=True` argument, subprocess will raise an exception if the program terminated unsuccessfully. Alternatively, you can check the exit code through the `returncode` attribute after execution.\n",
                "\n",
                "**Note:** When using `capture_output=True`, this will also capture the error message printed by the external process, thus potentially hiding the underlying issue of the `CalledProcessError`. For debugging purposes, it's recommended to temporarily use `capture_output=False`."
            ]
        },
        {
            "cell_type": "code",
            "execution_count": 25,
            "id": "92132895",
            "metadata": {},
            "outputs": [
                {
                    "name": "stderr",
                    "output_type": "stream",
                    "text": [
                        "uname: unrecognized option '--unknown'\n",
                        "Try 'uname --help' for more information.\n"
                    ]
                },
                {
                    "ename": "CalledProcessError",
                    "evalue": "Command '['uname', '--unknown']' returned non-zero exit status 1.",
                    "output_type": "error",
                    "traceback": [
                        "\u001b[0;31m---------------------------------------------------------------------------\u001b[0m",
                        "\u001b[0;31mCalledProcessError\u001b[0m                        Traceback (most recent call last)",
                        "\u001b[0;32m/tmp/ipykernel_261307/757847500.py\u001b[0m in \u001b[0;36m<module>\u001b[0;34m\u001b[0m\n\u001b[1;32m      1\u001b[0m \u001b[0;32mimport\u001b[0m \u001b[0msubprocess\u001b[0m\u001b[0;34m\u001b[0m\u001b[0;34m\u001b[0m\u001b[0m\n\u001b[1;32m      2\u001b[0m \u001b[0;34m\u001b[0m\u001b[0m\n\u001b[0;32m----> 3\u001b[0;31m \u001b[0mresult\u001b[0m \u001b[0;34m=\u001b[0m \u001b[0msubprocess\u001b[0m\u001b[0;34m.\u001b[0m\u001b[0mrun\u001b[0m\u001b[0;34m(\u001b[0m\u001b[0;34m[\u001b[0m\u001b[0;34m\"uname\"\u001b[0m\u001b[0;34m,\u001b[0m \u001b[0;34m\"--unknown\"\u001b[0m\u001b[0;34m]\u001b[0m\u001b[0;34m,\u001b[0m \u001b[0mcheck\u001b[0m\u001b[0;34m=\u001b[0m\u001b[0;32mTrue\u001b[0m\u001b[0;34m)\u001b[0m\u001b[0;34m\u001b[0m\u001b[0;34m\u001b[0m\u001b[0m\n\u001b[0m",
                        "\u001b[0;32m/usr/lib/python3.9/subprocess.py\u001b[0m in \u001b[0;36mrun\u001b[0;34m(input, capture_output, timeout, check, *popenargs, **kwargs)\u001b[0m\n\u001b[1;32m    526\u001b[0m         \u001b[0mretcode\u001b[0m \u001b[0;34m=\u001b[0m \u001b[0mprocess\u001b[0m\u001b[0;34m.\u001b[0m\u001b[0mpoll\u001b[0m\u001b[0;34m(\u001b[0m\u001b[0;34m)\u001b[0m\u001b[0;34m\u001b[0m\u001b[0;34m\u001b[0m\u001b[0m\n\u001b[1;32m    527\u001b[0m         \u001b[0;32mif\u001b[0m \u001b[0mcheck\u001b[0m \u001b[0;32mand\u001b[0m \u001b[0mretcode\u001b[0m\u001b[0;34m:\u001b[0m\u001b[0;34m\u001b[0m\u001b[0;34m\u001b[0m\u001b[0m\n\u001b[0;32m--> 528\u001b[0;31m             raise CalledProcessError(retcode, process.args,\n\u001b[0m\u001b[1;32m    529\u001b[0m                                      output=stdout, stderr=stderr)\n\u001b[1;32m    530\u001b[0m     \u001b[0;32mreturn\u001b[0m \u001b[0mCompletedProcess\u001b[0m\u001b[0;34m(\u001b[0m\u001b[0mprocess\u001b[0m\u001b[0;34m.\u001b[0m\u001b[0margs\u001b[0m\u001b[0;34m,\u001b[0m \u001b[0mretcode\u001b[0m\u001b[0;34m,\u001b[0m \u001b[0mstdout\u001b[0m\u001b[0;34m,\u001b[0m \u001b[0mstderr\u001b[0m\u001b[0;34m)\u001b[0m\u001b[0;34m\u001b[0m\u001b[0;34m\u001b[0m\u001b[0m\n",
                        "\u001b[0;31mCalledProcessError\u001b[0m: Command '['uname', '--unknown']' returned non-zero exit status 1."
                    ]
                }
            ],
            "source": [
                "import subprocess\n",
                "\n",
                "result = subprocess.run([\"uname\", \"--unknown\"], check=True)"
            ]
        },
        {
            "cell_type": "markdown",
            "id": "30e682a0",
            "metadata": {
                "editable": false
            },
            "source": [
                "## Exercises"
            ]
        },
        {
            "cell_type": "markdown",
            "id": "30eaef04",
            "metadata": {
                "editable": false
            },
            "source": [
                "### Exercise 1: QR Code as string\n",
                "\n",
                "Surely you're familiar with [QR Codes](https://en.wikipedia.org/wiki/QR_code):\n",
                "\n",
                "![XKCD 1237: QR Code](https://imgs.xkcd.com/comics/qr_code.png)\n",
                "\n",
                "*([XKCD 1237: QR Code](https://xkcd.com/1237/))*\n",
                "\n",
                "[libqrencode](https://fukuchi.org/works/qrencode/) is a library, implemented in C, which can generate such codes. While there are Python packages exposing this functionality to Python, they are either archived ([pyqrencode](https://github.com/bitly/pyqrencode)) or very limited in functionality ([python-libqrencode](http://mubeta06.github.io/python/libqrencode/qrencode.html)). They both also haven't been updated since 2012/2013 and don't seem to be very popular.\n",
                "\n",
                "To avoid locking us into outdated/archived external dependencies which could pose a problem in the future, we want to use the `qrencode` shell command from Python instead. You can find more information about how to use it [in the ubuntuusers.de wiki](https://wiki.ubuntuusers.de/qrencode/) or [in its manpage](https://manpages.ubuntu.com/manpages/jammy/en/man1/qrencode.1.html).\n",
                "\n",
                "The `qrencode` command has a way to print a QR code \"drawn\" with ASCII characters, such as this:\n",
                "\n",
                "```\n",
                "##############    ##            ##  ##############\n",
                "##          ##  ####  ######  ####  ##          ##\n",
                "##  ######  ##    ######    ##      ##  ######  ##\n",
                "##  ######  ##  ####  ##  ########  ##  ######  ##\n",
                "##  ######  ##      ##  ##      ##  ##  ######  ##\n",
                "##          ##  ##  ##        ##    ##          ##\n",
                "##############  ##  ##  ##  ##  ##  ##############\n",
                "                        ##  ####                  \n",
                "##########  ##########  ########  ##  ##  ##  ##  \n",
                "  ######      ######      ##                ##    \n",
                "  ##  ########    ##  ##########    ####    ######\n",
                "##########    ##  ######      ####  ####        ##\n",
                "  ####    ######  ##  ######  ##  ############    \n",
                "######  ##      ######  ##      ##    ##  ##      \n",
                "##  ##      ##  ####          ##    ######    ####\n",
                "##    ######  ##  ##  ##      ######  ######  ##  \n",
                "##          ##    ##  ##  ####  ##################\n",
                "                ##  ######  ######      ##  ####  \n",
                "##############  ######      ##  ##  ##  ####  ####\n",
                "##          ##        ####      ##      ####      \n",
                "##  ######  ##  ######    ####################    \n",
                "##  ######  ##  ########  ##      ####  ####  ####\n",
                "##  ######  ##  ##  ##                ##  ##    ##\n",
                "##          ##  ##      ##      ####  ##        ##\n",
                "##############  ##############    ##    ##  ######\n",
                "```\n",
                "\n",
                "Write a function `qrcode_ascii(data)`, which takes a string `data` to store in the QR code. It should then use `subprocess` to run `qrencode` as follows:\n",
                "\n",
                "- `qrencode` needs to get the proper arguments to output the code in `ASCII` format, rather than a PNG file.\n",
                "- `qrencode` will print a margin (blank space) around the QR code. Don't change anything about that (and also don't change any other `qrencode` settings).\n",
                "- If `qrencode` produces an error, a `subprocess.CalledProcessError` exception should be raised. To try this, you can pass a string with 3000 characters to your function, which will be too large to represent in a QR code.\n",
                "- The function should **capture and return** the output as a string (**Hint:** if you see `b\"...\"`, that's a [bytes object](https://docs.python.org/3/library/stdtypes.html#bytes-objects)).\n",
                "- Make sure you use **appropriate arguments** to your `subprocess` invocation for the requirements above, don't do things by hand which `subprocess` can do for you.\n",
                "- Use modern ways of running `subprocess` (Python 3.7+)."
            ]
        },
        {
            "cell_type": "code",
            "execution_count": 1,
            "id": "a7b6dfcb",
            "metadata": {
                "deletable": false,
                "editable": true,
                "slideshow": {
                    "slide_type": ""
                },
                "tags": [
                    "qr-code-ascii"
                ]
            },
            "outputs": [],
            "source": [
                "import subprocess\n",
                "\n",
                "def qrcode_ascii(data):\n",
                "    try:\n",
                "        result = subprocess.run(\n",
                "            [\"qrencode\", \"-t\", \"ASCII\"],\n",
                "            input=data,\n",
                "            text=True,\n",
                "            check=True,\n",
                "            capture_output=True,\n",
                "        )\n",
                "        return result.stdout\n",
                "    except subprocess.CalledProcessError as Error:\n",
                "        raise Error"
            ]
        },
        {
            "cell_type": "markdown",
            "id": "40495bc2",
            "metadata": {
                "editable": false
            },
            "source": [
                "Use this separate cell to try out your code.\n",
                "Your code should work with the example below, but you're free to change it."
            ]
        },
        {
            "cell_type": "code",
            "execution_count": 3,
            "id": "7d4dd097",
            "metadata": {},
            "outputs": [
                {
                    "ename": "FileNotFoundError",
                    "evalue": "[WinError 2] The system cannot find the file specified",
                    "output_type": "error",
                    "traceback": [
                        "\u001b[1;31m---------------------------------------------------------------------------\u001b[0m",
                        "\u001b[1;31mFileNotFoundError\u001b[0m                         Traceback (most recent call last)",
                        "\u001b[1;32mc:\\Schuel\\AutPy\\publish\\AutPy\\5-apis\\10-launching-programs\\launching-programs.ipynb Cell 17\u001b[0m line \u001b[0;36m1\n\u001b[1;32m----> <a href='vscode-notebook-cell:/c%3A/Schuel/AutPy/publish/AutPy/5-apis/10-launching-programs/launching-programs.ipynb#X22sZmlsZQ%3D%3D?line=0'>1</a>\u001b[0m \u001b[39mprint\u001b[39m(qrcode_ascii(\u001b[39m\"\u001b[39;49m\u001b[39mtest\u001b[39;49m\u001b[39m\"\u001b[39;49m))\n",
                        "\u001b[1;32mc:\\Schuel\\AutPy\\publish\\AutPy\\5-apis\\10-launching-programs\\launching-programs.ipynb Cell 17\u001b[0m line \u001b[0;36m5\n\u001b[0;32m      <a href='vscode-notebook-cell:/c%3A/Schuel/AutPy/publish/AutPy/5-apis/10-launching-programs/launching-programs.ipynb#X22sZmlsZQ%3D%3D?line=2'>3</a>\u001b[0m \u001b[39mdef\u001b[39;00m \u001b[39mqrcode_ascii\u001b[39m(data):\n\u001b[0;32m      <a href='vscode-notebook-cell:/c%3A/Schuel/AutPy/publish/AutPy/5-apis/10-launching-programs/launching-programs.ipynb#X22sZmlsZQ%3D%3D?line=3'>4</a>\u001b[0m     \u001b[39mtry\u001b[39;00m:\n\u001b[1;32m----> <a href='vscode-notebook-cell:/c%3A/Schuel/AutPy/publish/AutPy/5-apis/10-launching-programs/launching-programs.ipynb#X22sZmlsZQ%3D%3D?line=4'>5</a>\u001b[0m         result \u001b[39m=\u001b[39m subprocess\u001b[39m.\u001b[39;49mrun(\n\u001b[0;32m      <a href='vscode-notebook-cell:/c%3A/Schuel/AutPy/publish/AutPy/5-apis/10-launching-programs/launching-programs.ipynb#X22sZmlsZQ%3D%3D?line=5'>6</a>\u001b[0m             [\u001b[39m\"\u001b[39;49m\u001b[39mqrencode\u001b[39;49m\u001b[39m\"\u001b[39;49m, \u001b[39m\"\u001b[39;49m\u001b[39m-t\u001b[39;49m\u001b[39m\"\u001b[39;49m, \u001b[39m\"\u001b[39;49m\u001b[39mASCII\u001b[39;49m\u001b[39m\"\u001b[39;49m],\n\u001b[0;32m      <a href='vscode-notebook-cell:/c%3A/Schuel/AutPy/publish/AutPy/5-apis/10-launching-programs/launching-programs.ipynb#X22sZmlsZQ%3D%3D?line=6'>7</a>\u001b[0m             \u001b[39minput\u001b[39;49m\u001b[39m=\u001b[39;49mdata,\n\u001b[0;32m      <a href='vscode-notebook-cell:/c%3A/Schuel/AutPy/publish/AutPy/5-apis/10-launching-programs/launching-programs.ipynb#X22sZmlsZQ%3D%3D?line=7'>8</a>\u001b[0m             text\u001b[39m=\u001b[39;49m\u001b[39mTrue\u001b[39;49;00m,\n\u001b[0;32m      <a href='vscode-notebook-cell:/c%3A/Schuel/AutPy/publish/AutPy/5-apis/10-launching-programs/launching-programs.ipynb#X22sZmlsZQ%3D%3D?line=8'>9</a>\u001b[0m             check\u001b[39m=\u001b[39;49m\u001b[39mTrue\u001b[39;49;00m,\n\u001b[0;32m     <a href='vscode-notebook-cell:/c%3A/Schuel/AutPy/publish/AutPy/5-apis/10-launching-programs/launching-programs.ipynb#X22sZmlsZQ%3D%3D?line=9'>10</a>\u001b[0m             capture_output\u001b[39m=\u001b[39;49m\u001b[39mTrue\u001b[39;49;00m,\n\u001b[0;32m     <a href='vscode-notebook-cell:/c%3A/Schuel/AutPy/publish/AutPy/5-apis/10-launching-programs/launching-programs.ipynb#X22sZmlsZQ%3D%3D?line=10'>11</a>\u001b[0m         )\n\u001b[0;32m     <a href='vscode-notebook-cell:/c%3A/Schuel/AutPy/publish/AutPy/5-apis/10-launching-programs/launching-programs.ipynb#X22sZmlsZQ%3D%3D?line=11'>12</a>\u001b[0m         \u001b[39mreturn\u001b[39;00m result\u001b[39m.\u001b[39mstdout\n\u001b[0;32m     <a href='vscode-notebook-cell:/c%3A/Schuel/AutPy/publish/AutPy/5-apis/10-launching-programs/launching-programs.ipynb#X22sZmlsZQ%3D%3D?line=12'>13</a>\u001b[0m     \u001b[39mexcept\u001b[39;00m subprocess\u001b[39m.\u001b[39mCalledProcessError \u001b[39mas\u001b[39;00m Error:\n",
                        "File \u001b[1;32mC:\\Program Files\\WindowsApps\\PythonSoftwareFoundation.Python.3.11_3.11.1776.0_x64__qbz5n2kfra8p0\\Lib\\subprocess.py:548\u001b[0m, in \u001b[0;36mrun\u001b[1;34m(input, capture_output, timeout, check, *popenargs, **kwargs)\u001b[0m\n\u001b[0;32m    545\u001b[0m     kwargs[\u001b[39m'\u001b[39m\u001b[39mstdout\u001b[39m\u001b[39m'\u001b[39m] \u001b[39m=\u001b[39m PIPE\n\u001b[0;32m    546\u001b[0m     kwargs[\u001b[39m'\u001b[39m\u001b[39mstderr\u001b[39m\u001b[39m'\u001b[39m] \u001b[39m=\u001b[39m PIPE\n\u001b[1;32m--> 548\u001b[0m \u001b[39mwith\u001b[39;00m Popen(\u001b[39m*\u001b[39;49mpopenargs, \u001b[39m*\u001b[39;49m\u001b[39m*\u001b[39;49mkwargs) \u001b[39mas\u001b[39;00m process:\n\u001b[0;32m    549\u001b[0m     \u001b[39mtry\u001b[39;00m:\n\u001b[0;32m    550\u001b[0m         stdout, stderr \u001b[39m=\u001b[39m process\u001b[39m.\u001b[39mcommunicate(\u001b[39minput\u001b[39m, timeout\u001b[39m=\u001b[39mtimeout)\n",
                        "File \u001b[1;32mC:\\Program Files\\WindowsApps\\PythonSoftwareFoundation.Python.3.11_3.11.1776.0_x64__qbz5n2kfra8p0\\Lib\\subprocess.py:1026\u001b[0m, in \u001b[0;36mPopen.__init__\u001b[1;34m(self, args, bufsize, executable, stdin, stdout, stderr, preexec_fn, close_fds, shell, cwd, env, universal_newlines, startupinfo, creationflags, restore_signals, start_new_session, pass_fds, user, group, extra_groups, encoding, errors, text, umask, pipesize, process_group)\u001b[0m\n\u001b[0;32m   1022\u001b[0m         \u001b[39mif\u001b[39;00m \u001b[39mself\u001b[39m\u001b[39m.\u001b[39mtext_mode:\n\u001b[0;32m   1023\u001b[0m             \u001b[39mself\u001b[39m\u001b[39m.\u001b[39mstderr \u001b[39m=\u001b[39m io\u001b[39m.\u001b[39mTextIOWrapper(\u001b[39mself\u001b[39m\u001b[39m.\u001b[39mstderr,\n\u001b[0;32m   1024\u001b[0m                     encoding\u001b[39m=\u001b[39mencoding, errors\u001b[39m=\u001b[39merrors)\n\u001b[1;32m-> 1026\u001b[0m     \u001b[39mself\u001b[39;49m\u001b[39m.\u001b[39;49m_execute_child(args, executable, preexec_fn, close_fds,\n\u001b[0;32m   1027\u001b[0m                         pass_fds, cwd, env,\n\u001b[0;32m   1028\u001b[0m                         startupinfo, creationflags, shell,\n\u001b[0;32m   1029\u001b[0m                         p2cread, p2cwrite,\n\u001b[0;32m   1030\u001b[0m                         c2pread, c2pwrite,\n\u001b[0;32m   1031\u001b[0m                         errread, errwrite,\n\u001b[0;32m   1032\u001b[0m                         restore_signals,\n\u001b[0;32m   1033\u001b[0m                         gid, gids, uid, umask,\n\u001b[0;32m   1034\u001b[0m                         start_new_session, process_group)\n\u001b[0;32m   1035\u001b[0m \u001b[39mexcept\u001b[39;00m:\n\u001b[0;32m   1036\u001b[0m     \u001b[39m# Cleanup if the child failed starting.\u001b[39;00m\n\u001b[0;32m   1037\u001b[0m     \u001b[39mfor\u001b[39;00m f \u001b[39min\u001b[39;00m \u001b[39mfilter\u001b[39m(\u001b[39mNone\u001b[39;00m, (\u001b[39mself\u001b[39m\u001b[39m.\u001b[39mstdin, \u001b[39mself\u001b[39m\u001b[39m.\u001b[39mstdout, \u001b[39mself\u001b[39m\u001b[39m.\u001b[39mstderr)):\n",
                        "File \u001b[1;32mC:\\Program Files\\WindowsApps\\PythonSoftwareFoundation.Python.3.11_3.11.1776.0_x64__qbz5n2kfra8p0\\Lib\\subprocess.py:1538\u001b[0m, in \u001b[0;36mPopen._execute_child\u001b[1;34m(self, args, executable, preexec_fn, close_fds, pass_fds, cwd, env, startupinfo, creationflags, shell, p2cread, p2cwrite, c2pread, c2pwrite, errread, errwrite, unused_restore_signals, unused_gid, unused_gids, unused_uid, unused_umask, unused_start_new_session, unused_process_group)\u001b[0m\n\u001b[0;32m   1536\u001b[0m \u001b[39m# Start the process\u001b[39;00m\n\u001b[0;32m   1537\u001b[0m \u001b[39mtry\u001b[39;00m:\n\u001b[1;32m-> 1538\u001b[0m     hp, ht, pid, tid \u001b[39m=\u001b[39m _winapi\u001b[39m.\u001b[39;49mCreateProcess(executable, args,\n\u001b[0;32m   1539\u001b[0m                              \u001b[39m# no special security\u001b[39;49;00m\n\u001b[0;32m   1540\u001b[0m                              \u001b[39mNone\u001b[39;49;00m, \u001b[39mNone\u001b[39;49;00m,\n\u001b[0;32m   1541\u001b[0m                              \u001b[39mint\u001b[39;49m(\u001b[39mnot\u001b[39;49;00m close_fds),\n\u001b[0;32m   1542\u001b[0m                              creationflags,\n\u001b[0;32m   1543\u001b[0m                              env,\n\u001b[0;32m   1544\u001b[0m                              cwd,\n\u001b[0;32m   1545\u001b[0m                              startupinfo)\n\u001b[0;32m   1546\u001b[0m \u001b[39mfinally\u001b[39;00m:\n\u001b[0;32m   1547\u001b[0m     \u001b[39m# Child is launched. Close the parent's copy of those pipe\u001b[39;00m\n\u001b[0;32m   1548\u001b[0m     \u001b[39m# handles that only the child should have open.  You need\u001b[39;00m\n\u001b[1;32m   (...)\u001b[0m\n\u001b[0;32m   1551\u001b[0m     \u001b[39m# pipe will not close when the child process exits and the\u001b[39;00m\n\u001b[0;32m   1552\u001b[0m     \u001b[39m# ReadFile will hang.\u001b[39;00m\n\u001b[0;32m   1553\u001b[0m     \u001b[39mself\u001b[39m\u001b[39m.\u001b[39m_close_pipe_fds(p2cread, p2cwrite,\n\u001b[0;32m   1554\u001b[0m                          c2pread, c2pwrite,\n\u001b[0;32m   1555\u001b[0m                          errread, errwrite)\n",
                        "\u001b[1;31mFileNotFoundError\u001b[0m: [WinError 2] The system cannot find the file specified"
                    ]
                }
            ],
            "source": [
                "print(qrcode_ascii(\"test\"))"
            ]
        },
        {
            "cell_type": "markdown",
            "id": "0147a78a",
            "metadata": {
                "editable": false
            },
            "source": [
                "### Exercise 2: QR Code as image\n",
                "\n",
                "While the output format of the previous exercise is a nice gimmick, it's rather impractical - most likely, you weren't able to scan the QR code above. We now want to generate a PNG image instead, to get a code you can actually scan (e.g. using your phone).\n",
                "\n",
                "For this exercise, implement a `qrcode_png(path, data, margin)` function. It should call the `qrencode` tool so that a PNG file is created at the given `path`, with a QR code containing the `data` passed into it.\n",
                "\n",
                "Further requirements:\n",
                "\n",
                "- `path` is a `Path` object, pointing to a path where the PNG file should be written to (the desired output file, not a folder).\n",
                "- `data` is a string with the data which should end up in the QR code.\n",
                "- `margin` is the width of the margin around the QR code, given **as an integer**.\n",
                "    - It should be an [**optional argument**](https://realpython.com/python-optional-arguments/#using-python-optional-arguments-with-default-values), that is, it should be possible to call `qrcode_png(path, data)` as well.\n",
                "    - If `margin` is not given, default to the value mentioned as default in the [manpage of qrencode](https://manpages.ubuntu.com/manpages/jammy/en/man1/qrencode.1.html).\n",
                "- **Don't do any manual error handling in Python.** Instead, use the error handling as done by `qrencode` already, and invoke it in a way that a `subprocess.CalledProcessError` exception is raised if the tool fails.\n",
                "- The function doesn't need to return anything."
            ]
        },
        {
            "cell_type": "code",
            "execution_count": 37,
            "id": "7f9595c4",
            "metadata": {
                "deletable": false,
                "editable": true,
                "slideshow": {
                    "slide_type": ""
                },
                "tags": [
                    "qr-code-png"
                ]
            },
            "outputs": [],
            "source": [
                "import subprocess\n",
                "\n",
                "def qrcode_png(path, data, margin=4):  # TODO: ensure that margin is optional\n",
                "    command = [\"qrencode\", \"-t\", \"PNG\"]\n",
                "    command.extend([\"-m\", str(margin)])\n",
                "    command.extend([\"-o\", str(path), data])\n",
                "    subprocess.run(\n",
                "        command,\n",
                "        check=True,\n",
                "    )"
            ]
        },
        {
            "cell_type": "markdown",
            "id": "25512f10",
            "metadata": {
                "editable": false
            },
            "source": [
                "Use this separate cell to try out your code.\n",
                "Your code should work with the example below, but you're free to change it."
            ]
        },
        {
            "cell_type": "code",
            "execution_count": 38,
            "id": "c8fab1cc",
            "metadata": {
                "editable": true,
                "slideshow": {
                    "slide_type": ""
                },
                "tags": []
            },
            "outputs": [
                {
                    "name": "stdout",
                    "output_type": "stream",
                    "text": [
                        "qrcode.png\n",
                        "https://yewtu.be/watch?v=dQw4w9WgXcQ\n",
                        "4\n"
                    ]
                }
            ],
            "source": [
                "import codecs\n",
                "from pathlib import Path\n",
                "\n",
                "data = codecs.encode(\"uggcf://lrjgh.or/jngpu?i=qDj4j9JtKpD\", \"rot13\")  # ;)\n",
                "qrcode_png(Path(\"qrcode.png\"), data)"
            ]
        },
        {
            "cell_type": "markdown",
            "id": "18408b1d",
            "metadata": {
                "deletable": false,
                "tags": [
                    "qr-code-png-output"
                ]
            },
            "source": [
                "After running your code, a `qrcode.png` file should appear in the file browser sidebar. Double click it to open the file and ensure it looks correct."
            ]
        },
        {
            "cell_type": "markdown",
            "id": "8d9b2b7a",
            "metadata": {
                "editable": false,
                "tags": []
            },
            "source": [
                "### Exercise 3: Where's Waldo?\n",
                "\n",
                "Implement a function `search(directory, pattern)` that takes a directory and a search term as arguments (both strings). The function should return a **list of text files** in the given directory where the search string is contained in. Consider only **text files** (`.txt` extension) in your search. If there is no text file which contains the search string, you should return an empty list.\n",
                "\n",
                "Contrary to the previous lab, launch an external process to do the work, instead of implementing this \"manually\" in Python. The [grep command](https://www.digitalocean.com/community/tutorials/grep-command-in-linux-unix) is a very versatile command line tool which will help you.\n",
                "\n",
                "- Command to run: `grep -rlw testpath -e waldo --include \"*.txt\" --exclude-dir .ipynb_checkpoints`\n",
                "- Reference: [grep manpage](https://manpages.ubuntu.com/manpages/jammy/en/man1/grep.1.html)\n",
                "\n",
                "Use the following external commands to create two test files:"
            ]
        },
        {
            "cell_type": "code",
            "execution_count": 27,
            "id": "91d22bcf",
            "metadata": {
                "tags": []
            },
            "outputs": [],
            "source": [
                "!echo \"waldo\" > plain_sight.txt\n",
                "!echo \"waldo\" > crowd.txt"
            ]
        },
        {
            "cell_type": "markdown",
            "id": "45b5b3d4",
            "metadata": {
                "editable": false
            },
            "source": [
                "Expected output:\n",
                "\n",
                "```python\n",
                ">>> search(\".\", \"waldo\")\n",
                "['./crowd.txt', './plain_sight.txt']\n",
                "```"
            ]
        },
        {
            "cell_type": "code",
            "execution_count": 63,
            "id": "4b8fd8d0",
            "metadata": {
                "deletable": false,
                "tags": [
                    "where-is-waldo"
                ]
            },
            "outputs": [],
            "source": [
                "import subprocess\n",
                " \n",
                "def search(directory, pattern):\n",
                "    try:    \n",
                "        command = [\n",
                "            \"grep\",\n",
                "            \"-rlw\",\n",
                "            str(directory),\n",
                "            \"-e\",\n",
                "            pattern,\n",
                "            \"--include\",\n",
                "            \"*.txt\",\n",
                "            \"--exclude-dir\",\n",
                "            \".ipynb_checkpoints\",\n",
                "        ]\n",
                "        result = subprocess.run(\n",
                "            command,\n",
                "            capture_output=True,\n",
                "            text=True,\n",
                "            check=True,\n",
                "        )\n",
                "        return result.stdout.strip().split(\"\\n\")  \n",
                "    except subprocess.CalledProcessError as e:\n",
                "        return []"
            ]
        },
        {
            "cell_type": "markdown",
            "id": "a0f78062",
            "metadata": {
                "editable": false
            },
            "source": [
                "Use this separate cell to try out your code.\n",
                "Your code should work with the example below, but you're free to change it."
            ]
        },
        {
            "cell_type": "code",
            "execution_count": 64,
            "id": "68688e3c",
            "metadata": {},
            "outputs": [
                {
                    "data": {
                        "text/plain": [
                            "['./plain_sight.txt', './crowd.txt']"
                        ]
                    },
                    "execution_count": 64,
                    "metadata": {},
                    "output_type": "execute_result"
                }
            ],
            "source": [
                "search(\".\", \"waldo\")"
            ]
        }
    ],
    "metadata": {
        "kernelspec": {
            "display_name": "Python 3",
            "language": "python",
            "name": "python3"
        },
        "language_info": {
            "codemirror_mode": {
                "name": "ipython",
                "version": 3
            },
            "file_extension": ".py",
            "mimetype": "text/x-python",
            "name": "python",
            "nbconvert_exporter": "python",
            "pygments_lexer": "ipython3",
            "version": "3.11.6"
        }
    },
    "nbformat": 4,
    "nbformat_minor": 5
}
