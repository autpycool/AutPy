{
    "cells": [
        {
            "cell_type": "markdown",
            "id": "9b9727b9",
            "metadata": {
                "editable": false,
                "tags": []
            },
            "source": [
                "# Launching Programs\n",
                "## Introduction\n",
                "\n",
                "In the previous labs, you did learn how to interact with your system by using modules from the Python standard library like `os` or `shutil`. But sometimes there is no library for the system operation you need, or it is too complicated to use. This notebook will show you how to launch system commands or programs directly from Python.\n",
                "\n",
                "*We now arrived in the second half of the book ([chapters 11-20](https://automatetheboringstuff.com/#toc)), where we've learned all the Python knowledge we need and now move to more specialized topics for solving specific tasks. As we won't have the time to look at everything, we are skipping most of the rest of the book - but remember that those book chapters exist, you might want to look at them if you ever need to do one of those things.*\n",
                "\n",
                "*The topic of this lab (launching external programs) is covered in book [chapter 17](https://automatetheboringstuff.com/2e/chapter17/), but that chapter teaches an older way of spawning subprocesses, as well as containing various other topics which won't be part of this course (dealing with times/dates and multithreading).* \n",
                "\n",
                "**Thus, we recommend that you skip the book chapter, and instead read an excellent [Tutorial by Digital Ocean](https://www.digitalocean.com/community/tutorials/how-to-use-subprocess-to-run-external-programs-in-python-3)** on this topic.\n",
                "\n",
                "If you have not worked in a shell / commandline environment before, it's also recommended to read [the \"The Shell\" chapter](https://missing.csail.mit.edu/2020/course-shell/) of [\"The Missing Semester of Your CS Education\"](https://missing.csail.mit.edu/), an excellent resource by the \"Computer Science and Artificial Intelligence Laboratory\" at the MIT. While various parts aren't required for this lab (only \"What is the shell?\" and \"Using the shell\" will be relevant), the knowledge in there will most likely be useful in your further studies and/or work career.\n",
                "\n",
                "### Optional resources\n",
                "\n",
                "- [Python docs: subprocess — Subprocess management](https://docs.python.org/3/library/subprocess.html)\n",
                "- [PyMOTW: subprocess — Spawning Additional Processes](https://pymotw.com/3/subprocess/index.html)\n",
                "\n",
                "## Summary\n",
                "\n",
                "### Basic Usage"
            ]
        },
        {
            "cell_type": "code",
            "execution_count": null,
            "id": "c6221e0f",
            "metadata": {},
            "outputs": [],
            "source": [
                "import subprocess\n",
                "subprocess.run([\"uname\", \"-a\"])"
            ]
        },
        {
            "cell_type": "markdown",
            "id": "13286934",
            "metadata": {
                "editable": false
            },
            "source": [
                "After importing the subprocess module, the `subprocess.run` method can be used. It takes a list of strings as its argument, each of which is an argument of the system command to run, just like in a shell. The first argument is always the name of the command. The `uname` command used here, for example, will output system information like the kernel version and CPU architecture (you can try to run it!).\n",
                "\n",
                "**Note:** You should only need to use `subprocess.run` and perhaps `subprocess.Popen`.\n",
                "\n",
                "Functions such as `subprocess.call`, `subprocess.check_call`, `subprocess.check_output`, `subprocess.getoutput`, `os.system`, `os.popen*`, `os.spawn` have all been replaced by `subprocess.run`. **Some of them are insecure**, so be wary of resources recommending them. For the exercises below, **use `subprocess.run` only**.\n",
                "\n",
                "### Handling of arguments\n",
                "\n",
                "When using a shell to call tools, arguments are split by spaces. Thus, running `uname -a` gets split into:\n",
                "\n",
                "- `uname`\n",
                "- `-a`\n",
                "\n",
                "When an argument itself contains a space, quotes can be used (`'` or `\"` depending on the shell and desired outcome). For example, `rm file1.txt file2.txt` is used to remove two files, but `rm \"file with spaces.txt\"` gets split into:\n",
                "\n",
                "- `rm`\n",
                "- `file with spaces.txt`\n",
                "\n",
                "and would be used to remove a file with spaces in its filename.\n",
                "\n",
                "When calling tools with `subprocess.run`, you instead supply a list of strings, like with `[\"uname\", \"-a\"]` above.  Make sure you know the difference between:\n",
                "\n",
                "- `[\"sometool\", \"-i\", \"filename.txt\"]` (Shell: `sometool -i filename.txt`)\n",
                "- `[\"sometool\", \"-i filename.txt\"]` (Shell: `sometool \"-i filename.txt\"`)\n",
                "\n",
                "The second example will not work properly, as it passes `-i filename.txt` as one argument instead of two arguments.\n",
                "\n",
                "### Library vs. System Command\n",
                "\n",
                "Usually, it is preferrable to use a Python library to accomplish a task, if possible, instead of launching an external program or system command. Libraries allow you to handle input/output data appropriate data types and structures, instead of the \"flat\" unstructured text data returned by executing a system command. It may take more time to get to know the library at first, and to set it up, but it will save you time in handling and parsing data in the long run.\n",
                "\n",
                "#### Security\n",
                "\n",
                "By default, subprocess does not invoke any shell with the command specified, but instead calls the external command directly. This mitigates some security issues, where unrelated commands could be injected if arguments are controlled by (malicious) user input. It also means that you do **not have to worry** about most special characters: While e.g. `'` and `\"` inside a string have a special meaning for a shell, they are not a problem when using `subprocess` with the default setting.\n",
                "\n",
                "You should **avoid using `shell=True`** when using subprocess. As soon as a shell is involved between Python and the command being executed, you will have to **deal with special characters**, will potentially have **security issues** when not doing so, and you will need to **take care of platform differences** between different shells/operating systems.\n",
                "\n",
                "Even with `shell=False` (the default), calling an extermal command with user controlled arguments might still bear more risk than using a purpose-built, well-designed library, so consider your options carefully.\n",
                "\n",
                "#### Example: File listing\n",
                "\n",
                "If you need the file listing of a directory, you might be tempted to call the `ls` system command from your Python script like this:"
            ]
        },
        {
            "cell_type": "code",
            "execution_count": null,
            "id": "ba88a8a8",
            "metadata": {},
            "outputs": [],
            "source": [
                "import subprocess\n",
                "subprocess.run([\"ls\"])"
            ]
        },
        {
            "cell_type": "markdown",
            "id": "a3718088",
            "metadata": {
                "editable": false
            },
            "source": [
                "This seems to be working fine, however, this approach comes with some pitfalls. Your system may not know the `ls` command if your're running Windows. And even on minimal Linux systems, some fairly common system commands may not be available.  \n",
                "\n",
                "Also, there are potential issues with parsing the unstructured output in your code. You may assume that every output line is another file, but what if a filename were to contain a newline character? In the previous labs, you saw how to solve common file management tasks in Python directly - for example, instead of using `ls`, something like:"
            ]
        },
        {
            "cell_type": "code",
            "execution_count": null,
            "id": "797c7dc7",
            "metadata": {},
            "outputs": [],
            "source": [
                "import pathlib\n",
                "\n",
                "for path in pathlib.Path.cwd().iterdir():\n",
                "    print(path)"
            ]
        },
        {
            "cell_type": "markdown",
            "id": "c3c116ff",
            "metadata": {
                "editable": false
            },
            "source": [
                "If you wanted to process the outputs further, which approach would seem more convenient to work with to you? Using the `ls` command or the os/pathlib library?"
            ]
        },
        {
            "cell_type": "markdown",
            "id": "ae156804",
            "metadata": {
                "editable": false
            },
            "source": [
                "### Capturing Output\n",
                "\n",
                "Often, you'd want to not only print the subprocess output on the terminal, but parse and process it further. To achieve this, the standard output (stdout) can be captured like this:"
            ]
        },
        {
            "cell_type": "code",
            "execution_count": 24,
            "id": "c8ffb3aa",
            "metadata": {},
            "outputs": [
                {
                    "name": "stdout",
                    "output_type": "stream",
                    "text": [
                        "very quiet output: psssst!\n",
                        "\n"
                    ]
                }
            ],
            "source": [
                "import subprocess\n",
                "\n",
                "result = subprocess.run([\"echo\", \"psssst!\"], capture_output=True, text=True)\n",
                "print(f\"very quiet output: {result.stdout}\")"
            ]
        },
        {
            "cell_type": "markdown",
            "id": "2d05b990",
            "metadata": {
                "editable": false
            },
            "source": [
                "As you can see, the command output is contained in the `stdout` property, instead of being printed to the standard output directly. There is also the `stderr` property, capturing the standard error stream (typically used by tools to display error messages, rather than \"normal\" output). To receive the outputs as text strings, specify the `text=True` argument. Otherwise you will get a bytes output."
            ]
        },
        {
            "cell_type": "markdown",
            "id": "975fb8ab",
            "metadata": {
                "editable": false
            },
            "source": [
                "### Errors and Exceptions\n",
                "\n",
                "Running programs or subprocesses may result in them terminating with an error. This is indicated through the exit code of the program, which is **zero on successful termination**. Any exit code **other than zero indicates an error**, which you might want to know about in order to handle the situation.  \n",
                "If given the `check=True` argument, subprocess will raise an exception if the program terminated unsuccessfully. Alternatively, you can check the exit code through the `returncode` attribute after execution.\n",
                "\n",
                "**Note:** When using `capture_output=True`, this will also capture the error message printed by the external process, thus potentially hiding the underlying issue of the `CalledProcessError`. For debugging purposes, it's recommended to temporarily use `capture_output=False`."
            ]
        },
        {
            "cell_type": "code",
            "execution_count": 25,
            "id": "92132895",
            "metadata": {},
            "outputs": [
                {
                    "name": "stderr",
                    "output_type": "stream",
                    "text": [
                        "uname: unrecognized option '--unknown'\n",
                        "Try 'uname --help' for more information.\n"
                    ]
                },
                {
                    "ename": "CalledProcessError",
                    "evalue": "Command '['uname', '--unknown']' returned non-zero exit status 1.",
                    "output_type": "error",
                    "traceback": [
                        "\u001b[0;31m---------------------------------------------------------------------------\u001b[0m",
                        "\u001b[0;31mCalledProcessError\u001b[0m                        Traceback (most recent call last)",
                        "\u001b[0;32m/tmp/ipykernel_261307/757847500.py\u001b[0m in \u001b[0;36m<module>\u001b[0;34m\u001b[0m\n\u001b[1;32m      1\u001b[0m \u001b[0;32mimport\u001b[0m \u001b[0msubprocess\u001b[0m\u001b[0;34m\u001b[0m\u001b[0;34m\u001b[0m\u001b[0m\n\u001b[1;32m      2\u001b[0m \u001b[0;34m\u001b[0m\u001b[0m\n\u001b[0;32m----> 3\u001b[0;31m \u001b[0mresult\u001b[0m \u001b[0;34m=\u001b[0m \u001b[0msubprocess\u001b[0m\u001b[0;34m.\u001b[0m\u001b[0mrun\u001b[0m\u001b[0;34m(\u001b[0m\u001b[0;34m[\u001b[0m\u001b[0;34m\"uname\"\u001b[0m\u001b[0;34m,\u001b[0m \u001b[0;34m\"--unknown\"\u001b[0m\u001b[0;34m]\u001b[0m\u001b[0;34m,\u001b[0m \u001b[0mcheck\u001b[0m\u001b[0;34m=\u001b[0m\u001b[0;32mTrue\u001b[0m\u001b[0;34m)\u001b[0m\u001b[0;34m\u001b[0m\u001b[0;34m\u001b[0m\u001b[0m\n\u001b[0m",
                        "\u001b[0;32m/usr/lib/python3.9/subprocess.py\u001b[0m in \u001b[0;36mrun\u001b[0;34m(input, capture_output, timeout, check, *popenargs, **kwargs)\u001b[0m\n\u001b[1;32m    526\u001b[0m         \u001b[0mretcode\u001b[0m \u001b[0;34m=\u001b[0m \u001b[0mprocess\u001b[0m\u001b[0;34m.\u001b[0m\u001b[0mpoll\u001b[0m\u001b[0;34m(\u001b[0m\u001b[0;34m)\u001b[0m\u001b[0;34m\u001b[0m\u001b[0;34m\u001b[0m\u001b[0m\n\u001b[1;32m    527\u001b[0m         \u001b[0;32mif\u001b[0m \u001b[0mcheck\u001b[0m \u001b[0;32mand\u001b[0m \u001b[0mretcode\u001b[0m\u001b[0;34m:\u001b[0m\u001b[0;34m\u001b[0m\u001b[0;34m\u001b[0m\u001b[0m\n\u001b[0;32m--> 528\u001b[0;31m             raise CalledProcessError(retcode, process.args,\n\u001b[0m\u001b[1;32m    529\u001b[0m                                      output=stdout, stderr=stderr)\n\u001b[1;32m    530\u001b[0m     \u001b[0;32mreturn\u001b[0m \u001b[0mCompletedProcess\u001b[0m\u001b[0;34m(\u001b[0m\u001b[0mprocess\u001b[0m\u001b[0;34m.\u001b[0m\u001b[0margs\u001b[0m\u001b[0;34m,\u001b[0m \u001b[0mretcode\u001b[0m\u001b[0;34m,\u001b[0m \u001b[0mstdout\u001b[0m\u001b[0;34m,\u001b[0m \u001b[0mstderr\u001b[0m\u001b[0;34m)\u001b[0m\u001b[0;34m\u001b[0m\u001b[0;34m\u001b[0m\u001b[0m\n",
                        "\u001b[0;31mCalledProcessError\u001b[0m: Command '['uname', '--unknown']' returned non-zero exit status 1."
                    ]
                }
            ],
            "source": [
                "import subprocess\n",
                "\n",
                "result = subprocess.run([\"uname\", \"--unknown\"], check=True)"
            ]
        },
        {
            "cell_type": "markdown",
            "id": "30e682a0",
            "metadata": {
                "editable": false
            },
            "source": [
                "## Exercises"
            ]
        },
        {
            "cell_type": "markdown",
            "id": "30eaef04",
            "metadata": {
                "editable": false
            },
            "source": [
                "### Exercise 1: QR Code as string\n",
                "\n",
                "Surely you're familiar with [QR Codes](https://en.wikipedia.org/wiki/QR_code):\n",
                "\n",
                "![XKCD 1237: QR Code](https://imgs.xkcd.com/comics/qr_code.png)\n",
                "\n",
                "*([XKCD 1237: QR Code](https://xkcd.com/1237/))*\n",
                "\n",
                "[libqrencode](https://fukuchi.org/works/qrencode/) is a library, implemented in C, which can generate such codes. While there are Python packages exposing this functionality to Python, they are either archived ([pyqrencode](https://github.com/bitly/pyqrencode)) or very limited in functionality ([python-libqrencode](http://mubeta06.github.io/python/libqrencode/qrencode.html)). They both also haven't been updated since 2012/2013 and don't seem to be very popular.\n",
                "\n",
                "To avoid locking us into outdated/archived external dependencies which could pose a problem in the future, we want to use the `qrencode` shell command from Python instead. You can find more information about how to use it [in the ubuntuusers.de wiki](https://wiki.ubuntuusers.de/qrencode/) or [in its manpage](https://manpages.ubuntu.com/manpages/jammy/en/man1/qrencode.1.html).\n",
                "\n",
                "The `qrencode` command has a way to print a QR code \"drawn\" with ASCII characters, such as this:\n",
                "\n",
                "```\n",
                "##############    ##            ##  ##############\n",
                "##          ##  ####  ######  ####  ##          ##\n",
                "##  ######  ##    ######    ##      ##  ######  ##\n",
                "##  ######  ##  ####  ##  ########  ##  ######  ##\n",
                "##  ######  ##      ##  ##      ##  ##  ######  ##\n",
                "##          ##  ##  ##        ##    ##          ##\n",
                "##############  ##  ##  ##  ##  ##  ##############\n",
                "                        ##  ####                  \n",
                "##########  ##########  ########  ##  ##  ##  ##  \n",
                "  ######      ######      ##                ##    \n",
                "  ##  ########    ##  ##########    ####    ######\n",
                "##########    ##  ######      ####  ####        ##\n",
                "  ####    ######  ##  ######  ##  ############    \n",
                "######  ##      ######  ##      ##    ##  ##      \n",
                "##  ##      ##  ####          ##    ######    ####\n",
                "##    ######  ##  ##  ##      ######  ######  ##  \n",
                "##          ##    ##  ##  ####  ##################\n",
                "                ##  ######  ######      ##  ####  \n",
                "##############  ######      ##  ##  ##  ####  ####\n",
                "##          ##        ####      ##      ####      \n",
                "##  ######  ##  ######    ####################    \n",
                "##  ######  ##  ########  ##      ####  ####  ####\n",
                "##  ######  ##  ##  ##                ##  ##    ##\n",
                "##          ##  ##      ##      ####  ##        ##\n",
                "##############  ##############    ##    ##  ######\n",
                "```\n",
                "\n",
                "Write a function `qrcode_ascii(data)`, which takes a string `data` to store in the QR code. It should then use `subprocess` to run `qrencode` as follows:\n",
                "\n",
                "- `qrencode` needs to get the proper arguments to output the code in `ASCII` format, rather than a PNG file.\n",
                "- `qrencode` will print a margin (blank space) around the QR code. Don't change anything about that (and also don't change any other `qrencode` settings).\n",
                "- If `qrencode` produces an error, a `subprocess.CalledProcessError` exception should be raised. To try this, you can pass a string with 3000 characters to your function, which will be too large to represent in a QR code.\n",
                "- The function should **capture and return** the output as a string (**Hint:** if you see `b\"...\"`, that's a [bytes object](https://docs.python.org/3/library/stdtypes.html#bytes-objects)).\n",
                "- Make sure you use **appropriate arguments** to your `subprocess` invocation for the requirements above, don't do things by hand which `subprocess` can do for you.\n",
                "- Use modern ways of running `subprocess` (Python 3.7+)."
            ]
        },
        {
            "cell_type": "code",
            "execution_count": 19,
            "id": "a7b6dfcb",
            "metadata": {
                "deletable": false,
                "editable": true,
                "slideshow": {
                    "slide_type": ""
                },
                "tags": [
                    "qr-code-ascii"
                ]
            },
            "outputs": [],
            "source": [
                "import subprocess\n",
                "\n",
                "def qrcode_ascii(data):\n",
                "    result = subprocess.run([\"qrencode\", \"-t\", \"ASCII\", data], text=True, check=True, capture_output=True)\n",
                "    return result"
            ]
        },
        {
            "cell_type": "markdown",
            "id": "40495bc2",
            "metadata": {
                "editable": false
            },
            "source": [
                "Use this separate cell to try out your code.\n",
                "Your code should work with the example below, but you're free to change it."
            ]
        },
        {
            "cell_type": "code",
            "execution_count": 20,
            "id": "7d4dd097",
            "metadata": {},
            "outputs": [
                {
                    "name": "stdout",
                    "output_type": "stream",
                    "text": [
                        "CompletedProcess(args=['qrencode', '-t', 'ASCII', 'test'], returncode=0, stdout='                                                          \\n                                                          \\n                                                          \\n                                                          \\n        ##############      ##  ##  ##############        \\n        ##          ##          ##  ##          ##        \\n        ##  ######  ##  ##  ##      ##  ######  ##        \\n        ##  ######  ##          ##  ##  ######  ##        \\n        ##  ######  ##    ##  ####  ##  ######  ##        \\n        ##          ##    ######    ##          ##        \\n        ##############  ##  ##  ##  ##############        \\n                        ##  ##                            \\n        ######  ##########  ##  ######      ##            \\n          ##  ####          ####  ##  ##      ####        \\n            ##      ##        ##  ######  ########        \\n        ##  ##  ####  ######  ######  ####    ##          \\n          ##  ##    ##  ##    ##  ######  ##  ####        \\n                        ######      ##    ##    ##        \\n        ##############  ##  ##  ##      ####  ####        \\n        ##          ##  ####        ##        ##          \\n        ##  ######  ##  ####    ##  ##  ####  ####        \\n        ##  ######  ##      ####  ##  ##      ##          \\n        ##  ######  ##  ####  ##  ######    ##  ##        \\n        ##          ##  ##  ########  ######  ##          \\n        ##############  ####  ##  ######    ######        \\n                                                          \\n                                                          \\n                                                          \\n                                                          \\n', stderr='')\n"
                    ]
                }
            ],
            "source": [
                "print(qrcode_ascii(\"test\"))"
            ]
        },
        {
            "cell_type": "markdown",
            "id": "0147a78a",
            "metadata": {
                "editable": false
            },
            "source": [
                "### Exercise 2: QR Code as image\n",
                "\n",
                "While the output format of the previous exercise is a nice gimmick, it's rather impractical - most likely, you weren't able to scan the QR code above. We now want to generate a PNG image instead, to get a code you can actually scan (e.g. using your phone).\n",
                "\n",
                "For this exercise, implement a `qrcode_png(path, data, margin)` function. It should call the `qrencode` tool so that a PNG file is created at the given `path`, with a QR code containing the `data` passed into it.\n",
                "\n",
                "Further requirements:\n",
                "\n",
                "- `path` is a `Path` object, pointing to a path where the PNG file should be written to (the desired output file, not a folder).\n",
                "- `data` is a string with the data which should end up in the QR code.\n",
                "- `margin` is the width of the margin around the QR code, given **as an integer**.\n",
                "    - It should be an [**optional argument**](https://realpython.com/python-optional-arguments/#using-python-optional-arguments-with-default-values), that is, it should be possible to call `qrcode_png(path, data)` as well.\n",
                "    - If `margin` is not given, default to the value mentioned as default in the [manpage of qrencode](https://manpages.ubuntu.com/manpages/jammy/en/man1/qrencode.1.html).\n",
                "- **Don't do any manual error handling in Python.** Instead, use the error handling as done by `qrencode` already, and invoke it in a way that a `subprocess.CalledProcessError` exception is raised if the tool fails.\n",
                "- The function doesn't need to return anything."
            ]
        },
        {
            "cell_type": "code",
            "execution_count": 37,
            "id": "7f9595c4",
            "metadata": {
                "deletable": false,
                "editable": true,
                "slideshow": {
                    "slide_type": ""
                },
                "tags": [
                    "qr-code-png"
                ]
            },
            "outputs": [],
            "source": [
                "import subprocess\n",
                "\n",
                "def qrcode_png(path, data, margin=4):  # TODO: ensure that margin is optional\n",
                "    print(path)\n",
                "    print(data)\n",
                "    print(margin)\n",
                "    subprocess.run([\"qrencode\", \"-o {}\".format(path), \"-m {}\".format(margin), data,], check=True)"
            ]
        },
        {
            "cell_type": "markdown",
            "id": "25512f10",
            "metadata": {
                "editable": false
            },
            "source": [
                "Use this separate cell to try out your code.\n",
                "Your code should work with the example below, but you're free to change it."
            ]
        },
        {
            "cell_type": "code",
            "execution_count": 38,
            "id": "c8fab1cc",
            "metadata": {
                "editable": true,
                "slideshow": {
                    "slide_type": ""
                },
                "tags": []
            },
            "outputs": [
                {
                    "name": "stdout",
                    "output_type": "stream",
                    "text": [
                        "qrcode.png\n",
                        "https://yewtu.be/watch?v=dQw4w9WgXcQ\n",
                        "4\n"
                    ]
                }
            ],
            "source": [
                "import codecs\n",
                "from pathlib import Path\n",
                "\n",
                "data = codecs.encode(\"uggcf://lrjgh.or/jngpu?i=qDj4j9JtKpD\", \"rot13\")  # ;)\n",
                "qrcode_png(Path(\"qrcode.png\"), data)"
            ]
        },
        {
            "cell_type": "markdown",
            "id": "18408b1d",
            "metadata": {
                "deletable": false,
                "tags": [
                    "qr-code-png-output"
                ]
            },
            "source": [
                "After running your code, a `qrcode.png` file should appear in the file browser sidebar. Double click it to open the file and ensure it looks correct."
            ]
        },
        {
            "cell_type": "markdown",
            "id": "8d9b2b7a",
            "metadata": {
                "editable": false,
                "tags": []
            },
            "source": [
                "### Exercise 3: Where's Waldo?\n",
                "\n",
                "Implement a function `search(directory, pattern)` that takes a directory and a search term as arguments (both strings). The function should return a **list of text files** in the given directory where the search string is contained in. Consider only **text files** (`.txt` extension) in your search. If there is no text file which contains the search string, you should return an empty list.\n",
                "\n",
                "Contrary to the previous lab, launch an external process to do the work, instead of implementing this \"manually\" in Python. The [grep command](https://www.digitalocean.com/community/tutorials/grep-command-in-linux-unix) is a very versatile command line tool which will help you.\n",
                "\n",
                "- Command to run: `grep -rlw testpath -e waldo --include \"*.txt\" --exclude-dir .ipynb_checkpoints`\n",
                "- Reference: [grep manpage](https://manpages.ubuntu.com/manpages/jammy/en/man1/grep.1.html)\n",
                "\n",
                "Use the following external commands to create two test files:"
            ]
        },
        {
            "cell_type": "code",
            "execution_count": 27,
            "id": "91d22bcf",
            "metadata": {
                "tags": []
            },
            "outputs": [],
            "source": [
                "!echo \"waldo\" > plain_sight.txt\n",
                "!echo \"waldo\" > crowd.txt"
            ]
        },
        {
            "cell_type": "markdown",
            "id": "45b5b3d4",
            "metadata": {
                "editable": false
            },
            "source": [
                "Expected output:\n",
                "\n",
                "```python\n",
                ">>> search(\".\", \"waldo\")\n",
                "['./crowd.txt', './plain_sight.txt']\n",
                "```"
            ]
        },
        {
            "cell_type": "code",
            "execution_count": 63,
            "id": "4b8fd8d0",
            "metadata": {
                "deletable": false,
                "tags": [
                    "where-is-waldo"
                ]
            },
            "outputs": [],
            "source": [
                "import subprocess\n",
                " \n",
                "def search(directory, pattern):\n",
                "    try:    \n",
                "        command = [\n",
                "            \"grep\",\n",
                "            \"-rlw\",\n",
                "            str(directory),\n",
                "            \"-e\",\n",
                "            pattern,\n",
                "            \"--include\",\n",
                "            \"*.txt\",\n",
                "            \"--exclude-dir\",\n",
                "            \".ipynb_checkpoints\",\n",
                "        ]\n",
                "        result = subprocess.run(\n",
                "            command,\n",
                "            capture_output=True,\n",
                "            text=True,\n",
                "            check=True,\n",
                "        )\n",
                "        return result.stdout.strip().split(\"\\n\")  \n",
                "    except subprocess.CalledProcessError as e:\n",
                "        return []"
            ]
        },
        {
            "cell_type": "markdown",
            "id": "a0f78062",
            "metadata": {
                "editable": false
            },
            "source": [
                "Use this separate cell to try out your code.\n",
                "Your code should work with the example below, but you're free to change it."
            ]
        },
        {
            "cell_type": "code",
            "execution_count": 64,
            "id": "68688e3c",
            "metadata": {},
            "outputs": [
                {
                    "data": {
                        "text/plain": [
                            "['./plain_sight.txt', './crowd.txt']"
                        ]
                    },
                    "execution_count": 64,
                    "metadata": {},
                    "output_type": "execute_result"
                }
            ],
            "source": [
                "search(\".\", \"waldo\")"
            ]
        }
    ],
    "nbformat": 4,
    "nbformat_minor": 5
}