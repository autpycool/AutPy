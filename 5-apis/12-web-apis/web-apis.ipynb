{
 "cells": [
  {
   "cell_type": "markdown",
   "id": "93236804",
   "metadata": {
    "editable": false
   },
   "source": [
    "# Web APIs\n",
    "## Introduction\n",
    "\n",
    "*[Chapter 12](https://automatetheboringstuff.com/2e/chapter12) in the book is about web scraping, but focuses mostly on controlling a browser or reading/parsing HTML web pages. These are the options we only resort to, if there is no API (application programming interface) available. APIs allow machines, programs or web services to communicate with each other through well-defined interfaces using structured data. This notebook will concentrate on this most straightforward way of communication, and will only in small parts be based on book chapter 12.*\n",
    "\n",
    "Computers are arguably the most interesting if they can be connected to and communicate with each other over a network. In this notebook, we'll have a look at how to use APIs to request data we want from a web service. As a test web service to answer our requests, we'll be using [reqres.in](reqres.in) and their API. To generate the HTTP requests and receive the server responses, the [Requests](https://requests.readthedocs.io) library is excellent.\n",
    "\n",
    "**For an introduction to REST APIs, this article is a great first read: [Python and REST APIs: Interacting With Web Services](https://realpython.com/api-integration-in-python/).** It is a bit extensive, you might want to focus yourself on the chapters: [REST APIs and Web Services](https://realpython.com/api-integration-in-python/#rest-apis-and-web-services) and [REST and Python: Consuming APIs](https://realpython.com/api-integration-in-python/#rest-and-python-consuming-apis) (GET only).\n",
    "\n",
    "**There is a quickstart guide on how to use the Requests library here: [Requests Library Quickstart](https://requests.readthedocs.io/en/latest/user/quickstart).** Especially these chapters will be relevant: [Make a Request](https://requests.readthedocs.io/en/latest/user/quickstart/#make-a-request), [Passing Parameters In URLs](https://requests.readthedocs.io/en/latest/user/quickstart/#passing-parameters-in-urls), [JSON Response Content](https://requests.readthedocs.io/en/latest/user/quickstart/#json-response-content), [Response Status Codes](https://requests.readthedocs.io/en/latest/user/quickstart/#response-status-codes), [Timeouts](https://requests.readthedocs.io/en/latest/user/quickstart/#timeouts) and [Errors and Exceptions](https://requests.readthedocs.io/en/latest/user/quickstart/#errors-and-exceptions). If you don't want to read everything at once, just keep in mind to have a look here if a new topic comes up in the notebook.\n",
    "\n",
    "### Optional resources\n",
    "\n",
    "- [httpbin: Testing HTTP Requests](https://httpbin.org)\n",
    "- [HTTP Status Codes Explained](https://httpstatuses.com/)\n",
    "- [HTTP Cats](https://http.cat/)\n",
    "- [opendata.swiss: Swiss Open Government Data](https://opendata.swiss)\n",
    "- The omitted chapters of the resources mentioned above\n",
    "\n",
    "## Summary\n",
    "\n",
    "### Basic Usage\n",
    "\n",
    "To ask a server with a REST API for a particular piece of data, we can query the corresponding *resource*. The `requests` module can be used to send a HTTP GET request to the path of the resource, which is called an *endpoint*.\n",
    "\n",
    "In the following example, the selected resource is the user `1`, and the corresponding API endpoint is therefore `https://reqres.in/api/users/1`.\n",
    "\n",
    "After sending out the request, the `get` method will wait for a response from the server. If all goes well and no errors occured, the selected resource (our piece of data) will be contained in the `response` object. The response can then be decoded with the expected encoding of the data. For example, the response might contain plaintext data, but for APIs (mostly machine-to-machine communication) JSON encoding is more common. The response object returned from functions like `requests.get` contain a [`.json()` method](https://requests.readthedocs.io/en/latest/user/quickstart/#json-response-content) which decodes the data as JSON automatically.\n",
    "\n",
    "In our example, the data encoding is JSON as well. We can use the structured nature of JSON to our advantage and directly select the specific data field we are interested in, `data` in this case."
   ]
  },
  {
   "cell_type": "code",
   "execution_count": null,
   "id": "3ef2243c",
   "metadata": {},
   "outputs": [
    {
     "data": {
      "text/html": [
       "<pre style=\"white-space:pre;overflow-x:auto;line-height:normal;font-family:Menlo,'DejaVu Sans Mono',consolas,'Courier New',monospace\">\n",
       "<span style=\"font-weight: bold\">{</span>\n",
       "    <span style=\"color: #008000; text-decoration-color: #008000\">'id'</span>: <span style=\"color: #008080; text-decoration-color: #008080; font-weight: bold\">1</span>,\n",
       "    <span style=\"color: #008000; text-decoration-color: #008000\">'email'</span>: <span style=\"color: #008000; text-decoration-color: #008000\">'george.bluth@reqres.in'</span>,\n",
       "    <span style=\"color: #008000; text-decoration-color: #008000\">'first_name'</span>: <span style=\"color: #008000; text-decoration-color: #008000\">'George'</span>,\n",
       "    <span style=\"color: #008000; text-decoration-color: #008000\">'last_name'</span>: <span style=\"color: #008000; text-decoration-color: #008000\">'Bluth'</span>,\n",
       "    <span style=\"color: #008000; text-decoration-color: #008000\">'avatar'</span>: <span style=\"color: #008000; text-decoration-color: #008000\">'https://reqres.in/img/faces/1-image.jpg'</span>\n",
       "<span style=\"font-weight: bold\">}</span>\n",
       "</pre>\n"
      ],
      "text/plain": [
       "\n",
       "\u001b[1m{\u001b[0m\n",
       "    \u001b[32m'id'\u001b[0m: \u001b[1;36m1\u001b[0m,\n",
       "    \u001b[32m'email'\u001b[0m: \u001b[32m'george.bluth@reqres.in'\u001b[0m,\n",
       "    \u001b[32m'first_name'\u001b[0m: \u001b[32m'George'\u001b[0m,\n",
       "    \u001b[32m'last_name'\u001b[0m: \u001b[32m'Bluth'\u001b[0m,\n",
       "    \u001b[32m'avatar'\u001b[0m: \u001b[32m'https://reqres.in/img/faces/1-image.jpg'\u001b[0m\n",
       "\u001b[1m}\u001b[0m\n"
      ]
     },
     "metadata": {},
     "output_type": "display_data"
    }
   ],
   "source": [
    "import requests\n",
    "\n",
    "response = requests.get(\"https://reqres.in/api/users/1\")\n",
    "response.json()[\"data\"]"
   ]
  },
  {
   "cell_type": "markdown",
   "id": "5b410aac",
   "metadata": {
    "editable": false
   },
   "source": [
    "Usually it is also possible to get a list of resources, by going up a level in the API hierarchy. This request will return a number of users as a list of user objects."
   ]
  },
  {
   "cell_type": "code",
   "execution_count": 100,
   "id": "2154a0f6",
   "metadata": {},
   "outputs": [
    {
     "data": {
      "text/plain": [
       "[{'id': 1,\n",
       "  'email': 'george.bluth@reqres.in',\n",
       "  'first_name': 'George',\n",
       "  'last_name': 'Bluth',\n",
       "  'avatar': 'https://reqres.in/img/faces/1-image.jpg'},\n",
       " {'id': 2,\n",
       "  'email': 'janet.weaver@reqres.in',\n",
       "  'first_name': 'Janet',\n",
       "  'last_name': 'Weaver',\n",
       "  'avatar': 'https://reqres.in/img/faces/2-image.jpg'},\n",
       " {'id': 3,\n",
       "  'email': 'emma.wong@reqres.in',\n",
       "  'first_name': 'Emma',\n",
       "  'last_name': 'Wong',\n",
       "  'avatar': 'https://reqres.in/img/faces/3-image.jpg'},\n",
       " {'id': 4,\n",
       "  'email': 'eve.holt@reqres.in',\n",
       "  'first_name': 'Eve',\n",
       "  'last_name': 'Holt',\n",
       "  'avatar': 'https://reqres.in/img/faces/4-image.jpg'},\n",
       " {'id': 5,\n",
       "  'email': 'charles.morris@reqres.in',\n",
       "  'first_name': 'Charles',\n",
       "  'last_name': 'Morris',\n",
       "  'avatar': 'https://reqres.in/img/faces/5-image.jpg'},\n",
       " {'id': 6,\n",
       "  'email': 'tracey.ramos@reqres.in',\n",
       "  'first_name': 'Tracey',\n",
       "  'last_name': 'Ramos',\n",
       "  'avatar': 'https://reqres.in/img/faces/6-image.jpg'}]"
      ]
     },
     "execution_count": 100,
     "metadata": {},
     "output_type": "execute_result"
    }
   ],
   "source": [
    "response = requests.get(\"https://reqres.in/api/users\")\n",
    "response.json()[\"data\"]"
   ]
  },
  {
   "cell_type": "markdown",
   "id": "2a90cbe8",
   "metadata": {
    "editable": false
   },
   "source": [
    "If there is a large number of resources to be returned in such a list, the server might divide them into pages, and each page needs to be requested seperately. This is also the case for this test API, as can be seen in the examples on the page. The server response will include additional attributes: `page`, `per_page`, `total` and `total_pages`."
   ]
  },
  {
   "cell_type": "code",
   "execution_count": 5,
   "id": "ffd84f69",
   "metadata": {},
   "outputs": [
    {
     "name": "stdout",
     "output_type": "stream",
     "text": [
      "We got page 1 of 2 pages\n",
      "We got 6 of total 12 users\n"
     ]
    }
   ],
   "source": [
    "res = requests.get(\"https://reqres.in/api/users\").json()\n",
    "print(f\"We got page {res['page']} of {res['total_pages']} pages\")\n",
    "print(f\"We got {res['per_page']} of total {res['total']} users\")"
   ]
  },
  {
   "cell_type": "markdown",
   "id": "60c32df2",
   "metadata": {
    "editable": false
   },
   "source": [
    "### Parameters\n",
    "\n",
    "But now, how can we request the second page? We need to supply an additional *parameter* with our request: `page=2`. Parameters can be passed to the request method as a dictionary with a key/value pair representing the parameter and its value."
   ]
  },
  {
   "cell_type": "code",
   "execution_count": 7,
   "id": "2c9403db",
   "metadata": {},
   "outputs": [
    {
     "name": "stdout",
     "output_type": "stream",
     "text": [
      "We got page 2 of 2 pages\n",
      "We got 6 of total 12 users\n"
     ]
    },
    {
     "data": {
      "text/html": [
       "<pre style=\"white-space:pre;overflow-x:auto;line-height:normal;font-family:Menlo,'DejaVu Sans Mono',consolas,'Courier New',monospace\">\n",
       "<span style=\"font-weight: bold\">[</span>\n",
       "    <span style=\"font-weight: bold\">{</span>\n",
       "        <span style=\"color: #008000; text-decoration-color: #008000\">'id'</span>: <span style=\"color: #008080; text-decoration-color: #008080; font-weight: bold\">7</span>,\n",
       "        <span style=\"color: #008000; text-decoration-color: #008000\">'email'</span>: <span style=\"color: #008000; text-decoration-color: #008000\">'michael.lawson@reqres.in'</span>,\n",
       "        <span style=\"color: #008000; text-decoration-color: #008000\">'first_name'</span>: <span style=\"color: #008000; text-decoration-color: #008000\">'Michael'</span>,\n",
       "        <span style=\"color: #008000; text-decoration-color: #008000\">'last_name'</span>: <span style=\"color: #008000; text-decoration-color: #008000\">'Lawson'</span>,\n",
       "        <span style=\"color: #008000; text-decoration-color: #008000\">'avatar'</span>: <span style=\"color: #008000; text-decoration-color: #008000\">'https://reqres.in/img/faces/7-image.jpg'</span>\n",
       "    <span style=\"font-weight: bold\">}</span>,\n",
       "    <span style=\"font-weight: bold\">{</span>\n",
       "        <span style=\"color: #008000; text-decoration-color: #008000\">'id'</span>: <span style=\"color: #008080; text-decoration-color: #008080; font-weight: bold\">8</span>,\n",
       "        <span style=\"color: #008000; text-decoration-color: #008000\">'email'</span>: <span style=\"color: #008000; text-decoration-color: #008000\">'lindsay.ferguson@reqres.in'</span>,\n",
       "        <span style=\"color: #008000; text-decoration-color: #008000\">'first_name'</span>: <span style=\"color: #008000; text-decoration-color: #008000\">'Lindsay'</span>,\n",
       "        <span style=\"color: #008000; text-decoration-color: #008000\">'last_name'</span>: <span style=\"color: #008000; text-decoration-color: #008000\">'Ferguson'</span>,\n",
       "        <span style=\"color: #008000; text-decoration-color: #008000\">'avatar'</span>: <span style=\"color: #008000; text-decoration-color: #008000\">'https://reqres.in/img/faces/8-image.jpg'</span>\n",
       "    <span style=\"font-weight: bold\">}</span>,\n",
       "    <span style=\"font-weight: bold\">{</span>\n",
       "        <span style=\"color: #008000; text-decoration-color: #008000\">'id'</span>: <span style=\"color: #008080; text-decoration-color: #008080; font-weight: bold\">9</span>,\n",
       "        <span style=\"color: #008000; text-decoration-color: #008000\">'email'</span>: <span style=\"color: #008000; text-decoration-color: #008000\">'tobias.funke@reqres.in'</span>,\n",
       "        <span style=\"color: #008000; text-decoration-color: #008000\">'first_name'</span>: <span style=\"color: #008000; text-decoration-color: #008000\">'Tobias'</span>,\n",
       "        <span style=\"color: #008000; text-decoration-color: #008000\">'last_name'</span>: <span style=\"color: #008000; text-decoration-color: #008000\">'Funke'</span>,\n",
       "        <span style=\"color: #008000; text-decoration-color: #008000\">'avatar'</span>: <span style=\"color: #008000; text-decoration-color: #008000\">'https://reqres.in/img/faces/9-image.jpg'</span>\n",
       "    <span style=\"font-weight: bold\">}</span>,\n",
       "    <span style=\"font-weight: bold\">{</span>\n",
       "        <span style=\"color: #008000; text-decoration-color: #008000\">'id'</span>: <span style=\"color: #008080; text-decoration-color: #008080; font-weight: bold\">10</span>,\n",
       "        <span style=\"color: #008000; text-decoration-color: #008000\">'email'</span>: <span style=\"color: #008000; text-decoration-color: #008000\">'byron.fields@reqres.in'</span>,\n",
       "        <span style=\"color: #008000; text-decoration-color: #008000\">'first_name'</span>: <span style=\"color: #008000; text-decoration-color: #008000\">'Byron'</span>,\n",
       "        <span style=\"color: #008000; text-decoration-color: #008000\">'last_name'</span>: <span style=\"color: #008000; text-decoration-color: #008000\">'Fields'</span>,\n",
       "        <span style=\"color: #008000; text-decoration-color: #008000\">'avatar'</span>: <span style=\"color: #008000; text-decoration-color: #008000\">'https://reqres.in/img/faces/10-image.jpg'</span>\n",
       "    <span style=\"font-weight: bold\">}</span>,\n",
       "    <span style=\"font-weight: bold\">{</span>\n",
       "        <span style=\"color: #008000; text-decoration-color: #008000\">'id'</span>: <span style=\"color: #008080; text-decoration-color: #008080; font-weight: bold\">11</span>,\n",
       "        <span style=\"color: #008000; text-decoration-color: #008000\">'email'</span>: <span style=\"color: #008000; text-decoration-color: #008000\">'george.edwards@reqres.in'</span>,\n",
       "        <span style=\"color: #008000; text-decoration-color: #008000\">'first_name'</span>: <span style=\"color: #008000; text-decoration-color: #008000\">'George'</span>,\n",
       "        <span style=\"color: #008000; text-decoration-color: #008000\">'last_name'</span>: <span style=\"color: #008000; text-decoration-color: #008000\">'Edwards'</span>,\n",
       "        <span style=\"color: #008000; text-decoration-color: #008000\">'avatar'</span>: <span style=\"color: #008000; text-decoration-color: #008000\">'https://reqres.in/img/faces/11-image.jpg'</span>\n",
       "    <span style=\"font-weight: bold\">}</span>,\n",
       "    <span style=\"font-weight: bold\">{</span>\n",
       "        <span style=\"color: #008000; text-decoration-color: #008000\">'id'</span>: <span style=\"color: #008080; text-decoration-color: #008080; font-weight: bold\">12</span>,\n",
       "        <span style=\"color: #008000; text-decoration-color: #008000\">'email'</span>: <span style=\"color: #008000; text-decoration-color: #008000\">'rachel.howell@reqres.in'</span>,\n",
       "        <span style=\"color: #008000; text-decoration-color: #008000\">'first_name'</span>: <span style=\"color: #008000; text-decoration-color: #008000\">'Rachel'</span>,\n",
       "        <span style=\"color: #008000; text-decoration-color: #008000\">'last_name'</span>: <span style=\"color: #008000; text-decoration-color: #008000\">'Howell'</span>,\n",
       "        <span style=\"color: #008000; text-decoration-color: #008000\">'avatar'</span>: <span style=\"color: #008000; text-decoration-color: #008000\">'https://reqres.in/img/faces/12-image.jpg'</span>\n",
       "    <span style=\"font-weight: bold\">}</span>\n",
       "<span style=\"font-weight: bold\">]</span>\n",
       "</pre>\n"
      ],
      "text/plain": [
       "\n",
       "\u001b[1m[\u001b[0m\n",
       "    \u001b[1m{\u001b[0m\n",
       "        \u001b[32m'id'\u001b[0m: \u001b[1;36m7\u001b[0m,\n",
       "        \u001b[32m'email'\u001b[0m: \u001b[32m'michael.lawson@reqres.in'\u001b[0m,\n",
       "        \u001b[32m'first_name'\u001b[0m: \u001b[32m'Michael'\u001b[0m,\n",
       "        \u001b[32m'last_name'\u001b[0m: \u001b[32m'Lawson'\u001b[0m,\n",
       "        \u001b[32m'avatar'\u001b[0m: \u001b[32m'https://reqres.in/img/faces/7-image.jpg'\u001b[0m\n",
       "    \u001b[1m}\u001b[0m,\n",
       "    \u001b[1m{\u001b[0m\n",
       "        \u001b[32m'id'\u001b[0m: \u001b[1;36m8\u001b[0m,\n",
       "        \u001b[32m'email'\u001b[0m: \u001b[32m'lindsay.ferguson@reqres.in'\u001b[0m,\n",
       "        \u001b[32m'first_name'\u001b[0m: \u001b[32m'Lindsay'\u001b[0m,\n",
       "        \u001b[32m'last_name'\u001b[0m: \u001b[32m'Ferguson'\u001b[0m,\n",
       "        \u001b[32m'avatar'\u001b[0m: \u001b[32m'https://reqres.in/img/faces/8-image.jpg'\u001b[0m\n",
       "    \u001b[1m}\u001b[0m,\n",
       "    \u001b[1m{\u001b[0m\n",
       "        \u001b[32m'id'\u001b[0m: \u001b[1;36m9\u001b[0m,\n",
       "        \u001b[32m'email'\u001b[0m: \u001b[32m'tobias.funke@reqres.in'\u001b[0m,\n",
       "        \u001b[32m'first_name'\u001b[0m: \u001b[32m'Tobias'\u001b[0m,\n",
       "        \u001b[32m'last_name'\u001b[0m: \u001b[32m'Funke'\u001b[0m,\n",
       "        \u001b[32m'avatar'\u001b[0m: \u001b[32m'https://reqres.in/img/faces/9-image.jpg'\u001b[0m\n",
       "    \u001b[1m}\u001b[0m,\n",
       "    \u001b[1m{\u001b[0m\n",
       "        \u001b[32m'id'\u001b[0m: \u001b[1;36m10\u001b[0m,\n",
       "        \u001b[32m'email'\u001b[0m: \u001b[32m'byron.fields@reqres.in'\u001b[0m,\n",
       "        \u001b[32m'first_name'\u001b[0m: \u001b[32m'Byron'\u001b[0m,\n",
       "        \u001b[32m'last_name'\u001b[0m: \u001b[32m'Fields'\u001b[0m,\n",
       "        \u001b[32m'avatar'\u001b[0m: \u001b[32m'https://reqres.in/img/faces/10-image.jpg'\u001b[0m\n",
       "    \u001b[1m}\u001b[0m,\n",
       "    \u001b[1m{\u001b[0m\n",
       "        \u001b[32m'id'\u001b[0m: \u001b[1;36m11\u001b[0m,\n",
       "        \u001b[32m'email'\u001b[0m: \u001b[32m'george.edwards@reqres.in'\u001b[0m,\n",
       "        \u001b[32m'first_name'\u001b[0m: \u001b[32m'George'\u001b[0m,\n",
       "        \u001b[32m'last_name'\u001b[0m: \u001b[32m'Edwards'\u001b[0m,\n",
       "        \u001b[32m'avatar'\u001b[0m: \u001b[32m'https://reqres.in/img/faces/11-image.jpg'\u001b[0m\n",
       "    \u001b[1m}\u001b[0m,\n",
       "    \u001b[1m{\u001b[0m\n",
       "        \u001b[32m'id'\u001b[0m: \u001b[1;36m12\u001b[0m,\n",
       "        \u001b[32m'email'\u001b[0m: \u001b[32m'rachel.howell@reqres.in'\u001b[0m,\n",
       "        \u001b[32m'first_name'\u001b[0m: \u001b[32m'Rachel'\u001b[0m,\n",
       "        \u001b[32m'last_name'\u001b[0m: \u001b[32m'Howell'\u001b[0m,\n",
       "        \u001b[32m'avatar'\u001b[0m: \u001b[32m'https://reqres.in/img/faces/12-image.jpg'\u001b[0m\n",
       "    \u001b[1m}\u001b[0m\n",
       "\u001b[1m]\u001b[0m\n"
      ]
     },
     "metadata": {},
     "output_type": "display_data"
    }
   ],
   "source": [
    "import requests\n",
    "\n",
    "parameters = {\"page\": 2}\n",
    "res = requests.get(\"https://reqres.in/api/users\", params=parameters).json()\n",
    "print(f\"We got page {res['page']} of {res['total_pages']} pages\")\n",
    "print(f\"We got {res['per_page']} of total {res['total']} users\")\n",
    "res[\"data\"]"
   ]
  },
  {
   "cell_type": "markdown",
   "id": "ac642700",
   "metadata": {
    "editable": false
   },
   "source": [
    "We could also change other parameters, such as the number of users per page, which caused us this headache in the first place: `per_page=12`."
   ]
  },
  {
   "cell_type": "code",
   "execution_count": 8,
   "id": "b08fda77",
   "metadata": {},
   "outputs": [
    {
     "name": "stdout",
     "output_type": "stream",
     "text": [
      "We got page 1 of 1 pages\n",
      "We got 12 of total 12 users\n"
     ]
    }
   ],
   "source": [
    "parameters = {\"per_page\": 12}\n",
    "res = requests.get(\"https://reqres.in/api/users\", params=parameters).json()\n",
    "print(f\"We got page {res['page']} of {res['total_pages']} pages\")\n",
    "print(f\"We got {res['per_page']} of total {res['total']} users\")"
   ]
  },
  {
   "cell_type": "markdown",
   "id": "cb26ebf0",
   "metadata": {
    "editable": false
   },
   "source": [
    "However, for larger data sets dividing the results into pages is useful, because otherwise the server responses might get too large, so we should choose a sane compromise."
   ]
  },
  {
   "cell_type": "markdown",
   "id": "a1f69cd9",
   "metadata": {
    "editable": false
   },
   "source": [
    "### Connection Errors\n",
    "\n",
    "If Requests is not able to complete the request successfully, it will throw an exception. This might happen, if the domain the request was sent to is unavailable or there is a problem with name resolution (DNS). In these cases, the exception will be of the type `requests.ConnectionError`.\n",
    "\n",
    "The exception can be caught and the program could exit gracefully, try again later or with a different request, depending on the situation."
   ]
  },
  {
   "cell_type": "code",
   "execution_count": 61,
   "id": "16cc46de",
   "metadata": {},
   "outputs": [
    {
     "name": "stdout",
     "output_type": "stream",
     "text": [
      "HTTPConnectionPool(host='invalid.', port=80): Max retries exceeded with url: / (Caused by NewConnectionError('<urllib3.connection.HTTPConnection object at 0x7fc2483ff3d0>: Failed to establish a new connection: [Errno -2] Name or service not known'))\n"
     ]
    }
   ],
   "source": [
    "import requests\n",
    "\n",
    "try:\n",
    "    requests.get(\"http://invalid.\")\n",
    "except requests.ConnectionError as e:\n",
    "    print(e)"
   ]
  },
  {
   "cell_type": "markdown",
   "id": "04a8472e",
   "metadata": {
    "editable": false
   },
   "source": [
    "Another reason a request might fail is the host server itself being unavailable. In this case the program will hang, because the `get` method is blocking and there is no connection timeout by default. If this is not the desired behavior, a timeout can be set and a `requests.Timeout` exception will be thrown if the request times out.\n",
    "\n",
    "For the test server we are using, a `delay` parameter can be given, which will delay the server response for the specified number of seconds. If this parameter is set to a higher value than the timeout parameter in the `get` method, the request will time out."
   ]
  },
  {
   "cell_type": "code",
   "execution_count": 135,
   "id": "32af86d4",
   "metadata": {},
   "outputs": [
    {
     "name": "stdout",
     "output_type": "stream",
     "text": [
      "HTTPSConnectionPool(host='reqres.in', port=443): Read timed out. (read timeout=3)\n"
     ]
    }
   ],
   "source": [
    "parameters = {\"delay\": 5}\n",
    "try:\n",
    "    requests.get(\"http://reqres.in/api/users/1\", params=parameters, timeout=3)\n",
    "except requests.Timeout as e:\n",
    "    print(e)"
   ]
  },
  {
   "cell_type": "markdown",
   "id": "4777fecd",
   "metadata": {
    "editable": false
   },
   "source": [
    "### HTTP Status Codes\n",
    "\n",
    "Even if the request reached its destination and we received a response back from the server, the response might still contain an error. The connection works fine, but the server might not be able or willing to handle our request. This is indicated with the *HTTP status code* of the response. A successful response to a GET request will come with a status code 200, for example. If a requested resource could not be found, the status code will be 404.\n",
    "\n",
    "Explanations of different HTTP status codes can be found here: [HTTP Status Codes](https://httpstatuses.com/)"
   ]
  },
  {
   "cell_type": "code",
   "execution_count": 72,
   "id": "88e79785",
   "metadata": {},
   "outputs": [
    {
     "data": {
      "text/plain": [
       "200"
      ]
     },
     "execution_count": 72,
     "metadata": {},
     "output_type": "execute_result"
    }
   ],
   "source": [
    "import requests\n",
    "\n",
    "response = requests.get(\"http://reqres.in/api/users/1\")\n",
    "response.status_code"
   ]
  },
  {
   "cell_type": "code",
   "execution_count": 82,
   "id": "a85f215c",
   "metadata": {},
   "outputs": [
    {
     "data": {
      "text/plain": [
       "404"
      ]
     },
     "execution_count": 82,
     "metadata": {},
     "output_type": "execute_result"
    }
   ],
   "source": [
    "response = requests.get(\"http://reqres.in/api/users/42\")\n",
    "response.status_code"
   ]
  },
  {
   "cell_type": "markdown",
   "id": "04445555",
   "metadata": {
    "editable": false
   },
   "source": [
    "While it is possible to check the HTTP status code of the response like this, often we just want to know if it was successful or not. In this case it might be more convenient to raise an exception if the server responded with an error. This can be done by calling the `raise_for_status()` method on the response, which will raise an `HTTPError` if the status code indicates an error. This exception could be caught again or propagated for a higher-level module to handle."
   ]
  },
  {
   "cell_type": "code",
   "execution_count": 76,
   "id": "815f099d",
   "metadata": {},
   "outputs": [
    {
     "ename": "HTTPError",
     "evalue": "404 Client Error: Not Found for url: https://reqres.in/api/users/42",
     "output_type": "error",
     "traceback": [
      "\u001b[0;31m---------------------------------------------------------------------------\u001b[0m",
      "\u001b[0;31mHTTPError\u001b[0m                                 Traceback (most recent call last)",
      "\u001b[0;32m/tmp/ipykernel_68141/2313720705.py\u001b[0m in \u001b[0;36m<module>\u001b[0;34m\u001b[0m\n\u001b[1;32m      2\u001b[0m \u001b[0;34m\u001b[0m\u001b[0m\n\u001b[1;32m      3\u001b[0m \u001b[0mresponse\u001b[0m \u001b[0;34m=\u001b[0m \u001b[0mrequests\u001b[0m\u001b[0;34m.\u001b[0m\u001b[0mget\u001b[0m\u001b[0;34m(\u001b[0m\u001b[0;34m'http://reqres.in/api/users/42'\u001b[0m\u001b[0;34m)\u001b[0m\u001b[0;34m\u001b[0m\u001b[0;34m\u001b[0m\u001b[0m\n\u001b[0;32m----> 4\u001b[0;31m \u001b[0mresponse\u001b[0m\u001b[0;34m.\u001b[0m\u001b[0mraise_for_status\u001b[0m\u001b[0;34m(\u001b[0m\u001b[0;34m)\u001b[0m\u001b[0;34m\u001b[0m\u001b[0;34m\u001b[0m\u001b[0m\n\u001b[0m",
      "\u001b[0;32m~/.local/lib/python3.9/site-packages/requests/models.py\u001b[0m in \u001b[0;36mraise_for_status\u001b[0;34m(self)\u001b[0m\n\u001b[1;32m    951\u001b[0m \u001b[0;34m\u001b[0m\u001b[0m\n\u001b[1;32m    952\u001b[0m         \u001b[0;32mif\u001b[0m \u001b[0mhttp_error_msg\u001b[0m\u001b[0;34m:\u001b[0m\u001b[0;34m\u001b[0m\u001b[0;34m\u001b[0m\u001b[0m\n\u001b[0;32m--> 953\u001b[0;31m             \u001b[0;32mraise\u001b[0m \u001b[0mHTTPError\u001b[0m\u001b[0;34m(\u001b[0m\u001b[0mhttp_error_msg\u001b[0m\u001b[0;34m,\u001b[0m \u001b[0mresponse\u001b[0m\u001b[0;34m=\u001b[0m\u001b[0mself\u001b[0m\u001b[0;34m)\u001b[0m\u001b[0;34m\u001b[0m\u001b[0;34m\u001b[0m\u001b[0m\n\u001b[0m\u001b[1;32m    954\u001b[0m \u001b[0;34m\u001b[0m\u001b[0m\n\u001b[1;32m    955\u001b[0m     \u001b[0;32mdef\u001b[0m \u001b[0mclose\u001b[0m\u001b[0;34m(\u001b[0m\u001b[0mself\u001b[0m\u001b[0;34m)\u001b[0m\u001b[0;34m:\u001b[0m\u001b[0;34m\u001b[0m\u001b[0;34m\u001b[0m\u001b[0m\n",
      "\u001b[0;31mHTTPError\u001b[0m: 404 Client Error: Not Found for url: https://reqres.in/api/users/42"
     ]
    }
   ],
   "source": [
    "response = requests.get(\"http://reqres.in/api/users/42\")\n",
    "response.raise_for_status()"
   ]
  },
  {
   "cell_type": "markdown",
   "id": "b540c995",
   "metadata": {
    "editable": false
   },
   "source": [
    "## Exercises\n",
    "\n",
    "### Exercise 1: Where's George?\n",
    "\n",
    "In one of the earlier exercise sessions, you had to find Waldo. Now we need your help again, this time to find George. We don't even have his last name, but luckily we know what he looks like.\n",
    "\n",
    "Write a function `find_user()` that takes as an argument a first name (like George) and searches for everyone with that first name in the [reqres.in](https://reqres.in/) user database. Return a Python dictionary with all the results, where the last name is the key and the link to the avatar picture is the value. You can assume that no two people have the same first and last names.\n",
    "\n",
    "Use the [reqres.in API documentation](https://reqres.in/api-docs/) to make yourself familiar with how the API works.\n",
    "\n",
    "Expected output (pretty-printed for readability, your function should return a dict):\n",
    "\n",
    "```python\n",
    ">>> find_user(\"George\")\n",
    "{\n",
    "    \"Bluth\": \"https://reqres.in/img/faces/1-image.jpg\",\n",
    "    \"Edwards\": \"https://reqres.in/img/faces/11-image.jpg\",\n",
    "}\n",
    "```\n",
    "\n",
    "For this exercise, you can assume that the HTTP request will always succeed."
   ]
  },
  {
   "cell_type": "code",
   "execution_count": null,
   "id": "77afeee8",
   "metadata": {
    "deletable": false,
    "tags": [
     "where-is-george"
    ]
   },
   "outputs": [],
   "source": [
    "import requests\n",
    "\n",
    "def find_user(first_name):\n",
    "    # TODO: Connect to API and find matching people"
   ]
  },
  {
   "cell_type": "markdown",
   "id": "8fd9d20f",
   "metadata": {
    "editable": false
   },
   "source": [
    "Use this separate cell to try out your code.\n",
    "Your code should work with the example below, but you're free to change it."
   ]
  },
  {
   "cell_type": "code",
   "execution_count": null,
   "id": "23a2d417",
   "metadata": {},
   "outputs": [],
   "source": [
    "find_user(\"George\")"
   ]
  },
  {
   "cell_type": "markdown",
   "id": "67594d29",
   "metadata": {
    "deletable": false,
    "tags": [
     "where-is-george"
    ]
   },
   "source": [
    "### Exercise 2: Save the Lawn\n",
    "\n",
    "You're soon leaving for your vacation, but you worry about your beloved award-winning English lawn. If it doesn't rain enough while you're away, it will dry out and there will be ugly brown patches. To save your precious lawn, you bought a computer-controlled sprinkler system. Sadly, the system is not very smart and can not detect by itself if watering is necessary. You will have to control it yourself with some intelligent code.\n",
    "\n",
    "But you're lucky, because the Swiss meteorological service (MeteoSchweiz) offers an open data API from where you can get information about the amount of precipitation (rain) in your area! You can use the following API endpoint \n",
    "to get this data for the last 72 hours for a number of weather stations, updated hourly:\n",
    "\n",
    "https://data.geo.admin.ch/ch.meteoschweiz.messwerte-niederschlag-72h/ch.meteoschweiz.messwerte-niederschlag-72h_en.json\n",
    "\n",
    "Implement a function `check_precipitation()` that takes a weather station name as a string argument. The function shall return the precipitation value of the station in the last 72 hours as a float, the measurement unit shall be *mm* (millimeters of rain), the same as in the meteo data:\n",
    "\n",
    "```python\n",
    ">>> check_precipitation(\"Jona\")  # actual return value will differ, depending on the current weather\n",
    "6.7\n",
    "```\n",
    "\n",
    "If the HTTP request fails, make sure that an **appropriate `HTTPError` exception is raised** (**Hint:** You don't need to raise the exception manually).\n",
    "\n",
    "It can be helpful to gain an initial understanding of a more complex data set like this one by exploring a sample with a suitable viewer. There is a sample JSON file of this data set already downloaded for you to inspect in the same folder as this notebook. You can open and explore the sample with JupyterLab or Firefox, both will present the data as a hierarchical structure with elements that can be expanded and collapsed to focus on specific parts."
   ]
  },
  {
   "cell_type": "code",
   "execution_count": null,
   "id": "8e3cd187",
   "metadata": {
    "deletable": false,
    "tags": [
     "save-the-lawn"
    ]
   },
   "outputs": [],
   "source": [
    "import requests\n",
    "\n",
    "def check_precipitation(station_name):\n",
    "    # TODO: Connect to API and return result"
   ]
  },
  {
   "cell_type": "markdown",
   "id": "e53702da",
   "metadata": {
    "editable": false
   },
   "source": [
    "Use this separate cell to try out your code.\n",
    "Your code should work with the example below, but you're free to change it."
   ]
  },
  {
   "cell_type": "code",
   "execution_count": null,
   "id": "540fbe3a",
   "metadata": {},
   "outputs": [],
   "source": [
    "check_precipitation('Jona')"
   ]
  },
  {
   "cell_type": "markdown",
   "id": "315cc8a4",
   "metadata": {
    "editable": false
   },
   "source": [
    "# Feedback form\n",
    "\n",
    "We'd like to get some feedback for this lab! To give us feedback, double-click the cells below and edit it in the appropriate places:\n",
    "\n",
    "- Replace `[ ]` by `[x]` to cross checkboxes, they should look like this once you finish editing:\n",
    "  * [ ] uncrossed\n",
    "  * [x] crossed\n",
    "- Add additional text where indicated (optional)"
   ]
  },
  {
   "cell_type": "markdown",
   "id": "388ae89c",
   "metadata": {
    "deletable": false,
    "tags": [
     "feedback-difficulty"
    ]
   },
   "source": [
    "**Difficulty:**\n",
    "\n",
    "The difficulty of the materials in this lab was:\n",
    "\n",
    "- [ ] Much too difficult\n",
    "- [ ] A little too difficult\n",
    "- [ ] Just right\n",
    "- [ ] A little too easy\n",
    "- [ ] Much too easy"
   ]
  },
  {
   "cell_type": "markdown",
   "id": "bc7d4cbf",
   "metadata": {
    "deletable": false,
    "tags": [
     "feedback-time"
    ]
   },
   "source": [
    "**Time:**\n",
    "\n",
    "For one block (usually multiple labs), you should spend around 4h at home and 4h in the course. There are four labs in this block, so we'd expect you to spend a total of **around 2h on this one (both reading and solving)**.\n",
    "\n",
    "For the materials in *this lab*, do you think you spent:\n",
    "\n",
    "- [ ] Much more time\n",
    "- [ ] A little more time\n",
    "- [ ] About the scheduled amount of time\n",
    "- [ ] A little less time\n",
    "- [ ] Much less time"
   ]
  },
  {
   "cell_type": "markdown",
   "id": "1c44917e",
   "metadata": {
    "deletable": false,
    "tags": [
     "feedback-text-topics"
    ]
   },
   "source": [
    "**Any topics you found especially enjoyable or difficult in this lab?**\n",
    "\n",
    "<!-- Write below this line -->"
   ]
  },
  {
   "cell_type": "markdown",
   "id": "0158e591",
   "metadata": {
    "deletable": false,
    "tags": [
     "feedback-text-free"
    ]
   },
   "source": [
    "**Anything else you'd like to tell us?**\n",
    "\n",
    "<!-- Write below this line -->"
   ]
  },
  {
   "cell_type": "markdown",
   "id": "e0295e80",
   "metadata": {
    "editable": false
   },
   "source": [
    "# Submit\n",
    "\n",
    "First, **save this file** (no grey dot should be visible in the tab above). Then, run the cell below to submit your work and see the results. You can submit as often as you like.\n",
    "\n",
    "In case of problems:\n",
    "- *Don't panic!*\n",
    "- If you're in a course, show the error to your instructor.\n",
    "- If the **tests failed** and you suspect an issue in the tests:\n",
    "    * Mail your instructor, Cc `florian.bruhin@ost.ch` (if instructor != florian)\n",
    "    * **No attachments** necessary.\n",
    "- If the **submission failed** (error message, etc.):\n",
    "    * Mail your instructor, Cc `florian.bruhin@ost.ch` (if instructor != florian)\n",
    "    * Attach a screenshot of the issue\n",
    "    * Attach the notebook (File > Download)."
   ]
  },
  {
   "cell_type": "code",
   "execution_count": null,
   "id": "8b5ec230",
   "metadata": {},
   "outputs": [],
   "source": [
    "!submit web-apis.ipynb"
   ]
  }
 ],
 "metadata": {
  "kernelspec": {
   "display_name": "Python 3 (ipykernel)",
   "language": "python",
   "name": "python3"
  },
  "language_info": {
   "codemirror_mode": {
    "name": "ipython",
    "version": 3
   },
   "file_extension": ".py",
   "mimetype": "text/x-python",
   "name": "python",
   "nbconvert_exporter": "python",
   "pygments_lexer": "ipython3",
   "version": "3.11.6"
  },
  "vscode": {
   "interpreter": {
    "hash": "0651c627c3b64d1ada904a564819abcba4b8231b6784e7fb386e86e8dc20be09"
   }
  }
 },
 "nbformat": 4,
 "nbformat_minor": 5
}
